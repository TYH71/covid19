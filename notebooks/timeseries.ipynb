{
 "metadata": {
  "language_info": {
   "codemirror_mode": {
    "name": "ipython",
    "version": 3
   },
   "file_extension": ".py",
   "mimetype": "text/x-python",
   "name": "python",
   "nbconvert_exporter": "python",
   "pygments_lexer": "ipython3",
   "version": "3.8.3"
  },
  "orig_nbformat": 2,
  "kernelspec": {
   "name": "python3",
   "display_name": "Python 3.8.3 64-bit ('base': conda)",
   "metadata": {
    "interpreter": {
     "hash": "7b4b4feff2f24a0f0a34464dbe537a36fda679851528fb8735cb41fa49dffb2d"
    }
   }
  }
 },
 "nbformat": 4,
 "nbformat_minor": 2,
 "cells": [
  {
   "source": [
    "## Import Libraries"
   ],
   "cell_type": "markdown",
   "metadata": {}
  },
  {
   "cell_type": "code",
   "execution_count": 70,
   "metadata": {},
   "outputs": [],
   "source": [
    "import requests as req\n",
    "import pandas as pd\n",
    "import plotly.express as px"
   ]
  },
  {
   "source": [
    "## GET Request for all Available Countries through API\n",
    "API : https://api.covid19api.com/countries <br>\n",
    "Documentation : https://documenter.getpostman.com/view/10808728/SzS8rjbc#704f6cc8-780a-4819-8c66-5e03750cb406 <br>"
   ],
   "cell_type": "markdown",
   "metadata": {}
  },
  {
   "cell_type": "code",
   "execution_count": 71,
   "metadata": {},
   "outputs": [
    {
     "output_type": "display_data",
     "data": {
      "text/plain": "                          Country           Slug ISO2\n0                    South Africa   south-africa   ZA\n1                     South Sudan    south-sudan   SS\n2       Iran, Islamic Republic of           iran   IR\n3                         Réunion        réunion   RE\n4                          Serbia         serbia   RS\n..                            ...            ...  ...\n243                       Morocco        morocco   MA\n244                   Switzerland    switzerland   CH\n245  Syrian Arab Republic (Syria)          syria   SY\n246                 Guinea-Bissau  guinea-bissau   GW\n247                          Peru           peru   PE\n\n[248 rows x 3 columns]",
      "text/html": "<div>\n<style scoped>\n    .dataframe tbody tr th:only-of-type {\n        vertical-align: middle;\n    }\n\n    .dataframe tbody tr th {\n        vertical-align: top;\n    }\n\n    .dataframe thead th {\n        text-align: right;\n    }\n</style>\n<table border=\"1\" class=\"dataframe\">\n  <thead>\n    <tr style=\"text-align: right;\">\n      <th></th>\n      <th>Country</th>\n      <th>Slug</th>\n      <th>ISO2</th>\n    </tr>\n  </thead>\n  <tbody>\n    <tr>\n      <th>0</th>\n      <td>South Africa</td>\n      <td>south-africa</td>\n      <td>ZA</td>\n    </tr>\n    <tr>\n      <th>1</th>\n      <td>South Sudan</td>\n      <td>south-sudan</td>\n      <td>SS</td>\n    </tr>\n    <tr>\n      <th>2</th>\n      <td>Iran, Islamic Republic of</td>\n      <td>iran</td>\n      <td>IR</td>\n    </tr>\n    <tr>\n      <th>3</th>\n      <td>Réunion</td>\n      <td>réunion</td>\n      <td>RE</td>\n    </tr>\n    <tr>\n      <th>4</th>\n      <td>Serbia</td>\n      <td>serbia</td>\n      <td>RS</td>\n    </tr>\n    <tr>\n      <th>...</th>\n      <td>...</td>\n      <td>...</td>\n      <td>...</td>\n    </tr>\n    <tr>\n      <th>243</th>\n      <td>Morocco</td>\n      <td>morocco</td>\n      <td>MA</td>\n    </tr>\n    <tr>\n      <th>244</th>\n      <td>Switzerland</td>\n      <td>switzerland</td>\n      <td>CH</td>\n    </tr>\n    <tr>\n      <th>245</th>\n      <td>Syrian Arab Republic (Syria)</td>\n      <td>syria</td>\n      <td>SY</td>\n    </tr>\n    <tr>\n      <th>246</th>\n      <td>Guinea-Bissau</td>\n      <td>guinea-bissau</td>\n      <td>GW</td>\n    </tr>\n    <tr>\n      <th>247</th>\n      <td>Peru</td>\n      <td>peru</td>\n      <td>PE</td>\n    </tr>\n  </tbody>\n</table>\n<p>248 rows × 3 columns</p>\n</div>"
     },
     "metadata": {}
    }
   ],
   "source": [
    "countries_raw = req.get('https://api.covid19api.com/countries').json()\n",
    "countries = pd.DataFrame.from_dict(countries_raw)\n",
    "display(countries)"
   ]
  },
  {
   "source": [
    "## GET Request for Country's historical COVID-19 Confirmed Data through API (Time-Series)\n",
    "API : https://api.covid19api.com/total/country/{Country}/status/confirmed <br>\n",
    "Documentation : https://documenter.getpostman.com/view/10808728/SzS8rjbc#704f6cc8-780a-4819-8c66-5e03750cb406 <br>"
   ],
   "cell_type": "markdown",
   "metadata": {}
  },
  {
   "cell_type": "code",
   "execution_count": 72,
   "metadata": {},
   "outputs": [
    {
     "output_type": "display_data",
     "data": {
      "text/plain": "                                      ID    Country CountryCode Province City  \\\n0   ccb15af6-b910-42f2-840b-25ea1c7cb3d9  Singapore          SG                 \n1   b6e1b312-0804-4930-a047-98c845eab06c  Singapore          SG                 \n2   deac7196-d08c-4246-b2f3-d47552a2f325  Singapore          SG                 \n3   59c79549-d0d0-4406-9f14-58c75551e29e  Singapore          SG                 \n4   9a1fd074-6f79-4034-a12f-c0a2e43a6e0b  Singapore          SG                 \n..                                   ...        ...         ...      ...  ...   \n62  0665cbfa-2024-4472-855d-bf27d7d98641  Singapore          SG                 \n63  c5dbeea3-63e5-412a-b21a-bda3805bc3b4  Singapore          SG                 \n64  4b45ee2b-c304-4eba-a262-0ed304053682  Singapore          SG                 \n65  7765aa29-fbbc-4750-8c5c-3984d4fcca1f  Singapore          SG                 \n66  f9ae58a9-3e29-408e-a412-b6769869a101  Singapore          SG                 \n\n   CityCode   Lat     Lon  Confirmed  Deaths  Recovered  Active  \\\n0            1.35  103.82      59029      29      58757     243   \n1            1.35  103.82      59029      29      58757     243   \n2            1.35  103.82      59059      29      58771     259   \n3            1.35  103.82      59083      29      58784     270   \n4            1.35  103.82      59113      29      58846     238   \n..      ...   ...     ...        ...     ...        ...     ...   \n62           1.35  103.82      60128      30      59984     114   \n63           1.35  103.82      60137      30      60001     106   \n64           1.35  103.82      60152      30      60014     108   \n65           1.35  103.82      60167      30      60019     118   \n66           1.35  103.82      60184      30      60022     132   \n\n                        Date  \n0  2021-01-14 00:00:00+00:00  \n1  2021-01-15 00:00:00+00:00  \n2  2021-01-16 00:00:00+00:00  \n3  2021-01-17 00:00:00+00:00  \n4  2021-01-18 00:00:00+00:00  \n..                       ...  \n62 2021-03-17 00:00:00+00:00  \n63 2021-03-18 00:00:00+00:00  \n64 2021-03-19 00:00:00+00:00  \n65 2021-03-20 00:00:00+00:00  \n66 2021-03-21 00:00:00+00:00  \n\n[67 rows x 13 columns]",
      "text/html": "<div>\n<style scoped>\n    .dataframe tbody tr th:only-of-type {\n        vertical-align: middle;\n    }\n\n    .dataframe tbody tr th {\n        vertical-align: top;\n    }\n\n    .dataframe thead th {\n        text-align: right;\n    }\n</style>\n<table border=\"1\" class=\"dataframe\">\n  <thead>\n    <tr style=\"text-align: right;\">\n      <th></th>\n      <th>ID</th>\n      <th>Country</th>\n      <th>CountryCode</th>\n      <th>Province</th>\n      <th>City</th>\n      <th>CityCode</th>\n      <th>Lat</th>\n      <th>Lon</th>\n      <th>Confirmed</th>\n      <th>Deaths</th>\n      <th>Recovered</th>\n      <th>Active</th>\n      <th>Date</th>\n    </tr>\n  </thead>\n  <tbody>\n    <tr>\n      <th>0</th>\n      <td>ccb15af6-b910-42f2-840b-25ea1c7cb3d9</td>\n      <td>Singapore</td>\n      <td>SG</td>\n      <td></td>\n      <td></td>\n      <td></td>\n      <td>1.35</td>\n      <td>103.82</td>\n      <td>59029</td>\n      <td>29</td>\n      <td>58757</td>\n      <td>243</td>\n      <td>2021-01-14 00:00:00+00:00</td>\n    </tr>\n    <tr>\n      <th>1</th>\n      <td>b6e1b312-0804-4930-a047-98c845eab06c</td>\n      <td>Singapore</td>\n      <td>SG</td>\n      <td></td>\n      <td></td>\n      <td></td>\n      <td>1.35</td>\n      <td>103.82</td>\n      <td>59029</td>\n      <td>29</td>\n      <td>58757</td>\n      <td>243</td>\n      <td>2021-01-15 00:00:00+00:00</td>\n    </tr>\n    <tr>\n      <th>2</th>\n      <td>deac7196-d08c-4246-b2f3-d47552a2f325</td>\n      <td>Singapore</td>\n      <td>SG</td>\n      <td></td>\n      <td></td>\n      <td></td>\n      <td>1.35</td>\n      <td>103.82</td>\n      <td>59059</td>\n      <td>29</td>\n      <td>58771</td>\n      <td>259</td>\n      <td>2021-01-16 00:00:00+00:00</td>\n    </tr>\n    <tr>\n      <th>3</th>\n      <td>59c79549-d0d0-4406-9f14-58c75551e29e</td>\n      <td>Singapore</td>\n      <td>SG</td>\n      <td></td>\n      <td></td>\n      <td></td>\n      <td>1.35</td>\n      <td>103.82</td>\n      <td>59083</td>\n      <td>29</td>\n      <td>58784</td>\n      <td>270</td>\n      <td>2021-01-17 00:00:00+00:00</td>\n    </tr>\n    <tr>\n      <th>4</th>\n      <td>9a1fd074-6f79-4034-a12f-c0a2e43a6e0b</td>\n      <td>Singapore</td>\n      <td>SG</td>\n      <td></td>\n      <td></td>\n      <td></td>\n      <td>1.35</td>\n      <td>103.82</td>\n      <td>59113</td>\n      <td>29</td>\n      <td>58846</td>\n      <td>238</td>\n      <td>2021-01-18 00:00:00+00:00</td>\n    </tr>\n    <tr>\n      <th>...</th>\n      <td>...</td>\n      <td>...</td>\n      <td>...</td>\n      <td>...</td>\n      <td>...</td>\n      <td>...</td>\n      <td>...</td>\n      <td>...</td>\n      <td>...</td>\n      <td>...</td>\n      <td>...</td>\n      <td>...</td>\n      <td>...</td>\n    </tr>\n    <tr>\n      <th>62</th>\n      <td>0665cbfa-2024-4472-855d-bf27d7d98641</td>\n      <td>Singapore</td>\n      <td>SG</td>\n      <td></td>\n      <td></td>\n      <td></td>\n      <td>1.35</td>\n      <td>103.82</td>\n      <td>60128</td>\n      <td>30</td>\n      <td>59984</td>\n      <td>114</td>\n      <td>2021-03-17 00:00:00+00:00</td>\n    </tr>\n    <tr>\n      <th>63</th>\n      <td>c5dbeea3-63e5-412a-b21a-bda3805bc3b4</td>\n      <td>Singapore</td>\n      <td>SG</td>\n      <td></td>\n      <td></td>\n      <td></td>\n      <td>1.35</td>\n      <td>103.82</td>\n      <td>60137</td>\n      <td>30</td>\n      <td>60001</td>\n      <td>106</td>\n      <td>2021-03-18 00:00:00+00:00</td>\n    </tr>\n    <tr>\n      <th>64</th>\n      <td>4b45ee2b-c304-4eba-a262-0ed304053682</td>\n      <td>Singapore</td>\n      <td>SG</td>\n      <td></td>\n      <td></td>\n      <td></td>\n      <td>1.35</td>\n      <td>103.82</td>\n      <td>60152</td>\n      <td>30</td>\n      <td>60014</td>\n      <td>108</td>\n      <td>2021-03-19 00:00:00+00:00</td>\n    </tr>\n    <tr>\n      <th>65</th>\n      <td>7765aa29-fbbc-4750-8c5c-3984d4fcca1f</td>\n      <td>Singapore</td>\n      <td>SG</td>\n      <td></td>\n      <td></td>\n      <td></td>\n      <td>1.35</td>\n      <td>103.82</td>\n      <td>60167</td>\n      <td>30</td>\n      <td>60019</td>\n      <td>118</td>\n      <td>2021-03-20 00:00:00+00:00</td>\n    </tr>\n    <tr>\n      <th>66</th>\n      <td>f9ae58a9-3e29-408e-a412-b6769869a101</td>\n      <td>Singapore</td>\n      <td>SG</td>\n      <td></td>\n      <td></td>\n      <td></td>\n      <td>1.35</td>\n      <td>103.82</td>\n      <td>60184</td>\n      <td>30</td>\n      <td>60022</td>\n      <td>132</td>\n      <td>2021-03-21 00:00:00+00:00</td>\n    </tr>\n  </tbody>\n</table>\n<p>67 rows × 13 columns</p>\n</div>"
     },
     "metadata": {}
    }
   ],
   "source": [
    "select_country = countries['Slug'][49]\n",
    "time_series_raw = req.get(f\"https://api.covid19api.com/live/country/{select_country}\").json()\n",
    "df = pd.DataFrame.from_dict(time_series_raw)\n",
    "df['Date'] = pd.to_datetime(df['Date'])\n",
    "display(df)"
   ]
  },
  {
   "cell_type": "code",
   "execution_count": 73,
   "metadata": {},
   "outputs": [
    {
     "output_type": "stream",
     "name": "stdout",
     "text": [
      "<class 'pandas.core.frame.DataFrame'>\nRangeIndex: 67 entries, 0 to 66\nData columns (total 13 columns):\n #   Column       Non-Null Count  Dtype              \n---  ------       --------------  -----              \n 0   ID           67 non-null     object             \n 1   Country      67 non-null     object             \n 2   CountryCode  67 non-null     object             \n 3   Province     67 non-null     object             \n 4   City         67 non-null     object             \n 5   CityCode     67 non-null     object             \n 6   Lat          67 non-null     object             \n 7   Lon          67 non-null     object             \n 8   Confirmed    67 non-null     int64              \n 9   Deaths       67 non-null     int64              \n 10  Recovered    67 non-null     int64              \n 11  Active       67 non-null     int64              \n 12  Date         67 non-null     datetime64[ns, UTC]\ndtypes: datetime64[ns, UTC](1), int64(4), object(8)\nmemory usage: 6.9+ KB\n"
     ]
    }
   ],
   "source": [
    "df.info()"
   ]
  },
  {
   "source": [
    "## Visualisation"
   ],
   "cell_type": "markdown",
   "metadata": {}
  },
  {
   "cell_type": "code",
   "execution_count": 78,
   "metadata": {},
   "outputs": [
    {
     "output_type": "display_data",
     "data": {
      "application/vnd.plotly.v1+json": {
       "config": {
        "plotlyServerURL": "https://plot.ly"
       },
       "data": [
        {
         "customdata": [
          [
           "Singapore"
          ],
          [
           "Singapore"
          ],
          [
           "Singapore"
          ],
          [
           "Singapore"
          ],
          [
           "Singapore"
          ],
          [
           "Singapore"
          ],
          [
           "Singapore"
          ],
          [
           "Singapore"
          ],
          [
           "Singapore"
          ],
          [
           "Singapore"
          ],
          [
           "Singapore"
          ],
          [
           "Singapore"
          ],
          [
           "Singapore"
          ],
          [
           "Singapore"
          ],
          [
           "Singapore"
          ],
          [
           "Singapore"
          ],
          [
           "Singapore"
          ],
          [
           "Singapore"
          ],
          [
           "Singapore"
          ],
          [
           "Singapore"
          ],
          [
           "Singapore"
          ],
          [
           "Singapore"
          ],
          [
           "Singapore"
          ],
          [
           "Singapore"
          ],
          [
           "Singapore"
          ],
          [
           "Singapore"
          ],
          [
           "Singapore"
          ],
          [
           "Singapore"
          ],
          [
           "Singapore"
          ],
          [
           "Singapore"
          ],
          [
           "Singapore"
          ],
          [
           "Singapore"
          ],
          [
           "Singapore"
          ],
          [
           "Singapore"
          ],
          [
           "Singapore"
          ],
          [
           "Singapore"
          ],
          [
           "Singapore"
          ],
          [
           "Singapore"
          ],
          [
           "Singapore"
          ],
          [
           "Singapore"
          ],
          [
           "Singapore"
          ],
          [
           "Singapore"
          ],
          [
           "Singapore"
          ],
          [
           "Singapore"
          ],
          [
           "Singapore"
          ],
          [
           "Singapore"
          ],
          [
           "Singapore"
          ],
          [
           "Singapore"
          ],
          [
           "Singapore"
          ],
          [
           "Singapore"
          ],
          [
           "Singapore"
          ],
          [
           "Singapore"
          ],
          [
           "Singapore"
          ],
          [
           "Singapore"
          ],
          [
           "Singapore"
          ],
          [
           "Singapore"
          ],
          [
           "Singapore"
          ],
          [
           "Singapore"
          ],
          [
           "Singapore"
          ],
          [
           "Singapore"
          ],
          [
           "Singapore"
          ],
          [
           "Singapore"
          ],
          [
           "Singapore"
          ],
          [
           "Singapore"
          ],
          [
           "Singapore"
          ],
          [
           "Singapore"
          ],
          [
           "Singapore"
          ]
         ],
         "hovertemplate": "Date=%{x}<br>Active=%{y}<br>Country=%{customdata[0]}<extra></extra>",
         "legendgroup": "",
         "line": {
          "color": "#636efa",
          "dash": "solid"
         },
         "mode": "lines",
         "name": "",
         "orientation": "v",
         "showlegend": false,
         "type": "scatter",
         "x": [
          "2021-01-14T00:00:00+00:00",
          "2021-01-15T00:00:00+00:00",
          "2021-01-16T00:00:00+00:00",
          "2021-01-17T00:00:00+00:00",
          "2021-01-18T00:00:00+00:00",
          "2021-01-19T00:00:00+00:00",
          "2021-01-20T00:00:00+00:00",
          "2021-01-21T00:00:00+00:00",
          "2021-01-22T00:00:00+00:00",
          "2021-01-23T00:00:00+00:00",
          "2021-01-24T00:00:00+00:00",
          "2021-01-25T00:00:00+00:00",
          "2021-01-26T00:00:00+00:00",
          "2021-01-27T00:00:00+00:00",
          "2021-01-28T00:00:00+00:00",
          "2021-01-29T00:00:00+00:00",
          "2021-01-30T00:00:00+00:00",
          "2021-01-31T00:00:00+00:00",
          "2021-02-01T00:00:00+00:00",
          "2021-02-02T00:00:00+00:00",
          "2021-02-03T00:00:00+00:00",
          "2021-02-04T00:00:00+00:00",
          "2021-02-05T00:00:00+00:00",
          "2021-02-06T00:00:00+00:00",
          "2021-02-07T00:00:00+00:00",
          "2021-02-08T00:00:00+00:00",
          "2021-02-09T00:00:00+00:00",
          "2021-02-10T00:00:00+00:00",
          "2021-02-11T00:00:00+00:00",
          "2021-02-12T00:00:00+00:00",
          "2021-02-13T00:00:00+00:00",
          "2021-02-14T00:00:00+00:00",
          "2021-02-15T00:00:00+00:00",
          "2021-02-16T00:00:00+00:00",
          "2021-02-17T00:00:00+00:00",
          "2021-02-18T00:00:00+00:00",
          "2021-02-19T00:00:00+00:00",
          "2021-02-20T00:00:00+00:00",
          "2021-02-21T00:00:00+00:00",
          "2021-02-22T00:00:00+00:00",
          "2021-02-23T00:00:00+00:00",
          "2021-02-24T00:00:00+00:00",
          "2021-02-25T00:00:00+00:00",
          "2021-02-26T00:00:00+00:00",
          "2021-02-27T00:00:00+00:00",
          "2021-02-28T00:00:00+00:00",
          "2021-03-01T00:00:00+00:00",
          "2021-03-02T00:00:00+00:00",
          "2021-03-03T00:00:00+00:00",
          "2021-03-04T00:00:00+00:00",
          "2021-03-05T00:00:00+00:00",
          "2021-03-06T00:00:00+00:00",
          "2021-03-07T00:00:00+00:00",
          "2021-03-08T00:00:00+00:00",
          "2021-03-09T00:00:00+00:00",
          "2021-03-10T00:00:00+00:00",
          "2021-03-11T00:00:00+00:00",
          "2021-03-12T00:00:00+00:00",
          "2021-03-13T00:00:00+00:00",
          "2021-03-14T00:00:00+00:00",
          "2021-03-15T00:00:00+00:00",
          "2021-03-16T00:00:00+00:00",
          "2021-03-17T00:00:00+00:00",
          "2021-03-18T00:00:00+00:00",
          "2021-03-19T00:00:00+00:00",
          "2021-03-20T00:00:00+00:00",
          "2021-03-21T00:00:00+00:00"
         ],
         "xaxis": "x",
         "y": [
          243,
          243,
          259,
          270,
          238,
          230,
          234,
          242,
          247,
          238,
          216,
          238,
          257,
          251,
          258,
          248,
          239,
          282,
          279,
          265,
          254,
          253,
          247,
          247,
          241,
          237,
          208,
          197,
          192,
          172,
          179,
          153,
          150,
          139,
          120,
          116,
          124,
          120,
          110,
          109,
          104,
          101,
          100,
          86,
          81,
          80,
          84,
          89,
          85,
          101,
          112,
          108,
          112,
          110,
          117,
          118,
          122,
          102,
          101,
          97,
          107,
          113,
          114,
          106,
          108,
          118,
          132
         ],
         "yaxis": "y"
        }
       ],
       "layout": {
        "height": 450,
        "legend": {
         "tracegroupgap": 0
        },
        "margin": {
         "b": 50,
         "l": 5,
         "r": 5,
         "t": 50
        },
        "paper_bgcolor": "white",
        "template": {
         "data": {
          "bar": [
           {
            "error_x": {
             "color": "#2a3f5f"
            },
            "error_y": {
             "color": "#2a3f5f"
            },
            "marker": {
             "line": {
              "color": "#E5ECF6",
              "width": 0.5
             }
            },
            "type": "bar"
           }
          ],
          "barpolar": [
           {
            "marker": {
             "line": {
              "color": "#E5ECF6",
              "width": 0.5
             }
            },
            "type": "barpolar"
           }
          ],
          "carpet": [
           {
            "aaxis": {
             "endlinecolor": "#2a3f5f",
             "gridcolor": "white",
             "linecolor": "white",
             "minorgridcolor": "white",
             "startlinecolor": "#2a3f5f"
            },
            "baxis": {
             "endlinecolor": "#2a3f5f",
             "gridcolor": "white",
             "linecolor": "white",
             "minorgridcolor": "white",
             "startlinecolor": "#2a3f5f"
            },
            "type": "carpet"
           }
          ],
          "choropleth": [
           {
            "colorbar": {
             "outlinewidth": 0,
             "ticks": ""
            },
            "type": "choropleth"
           }
          ],
          "contour": [
           {
            "colorbar": {
             "outlinewidth": 0,
             "ticks": ""
            },
            "colorscale": [
             [
              0,
              "#0d0887"
             ],
             [
              0.1111111111111111,
              "#46039f"
             ],
             [
              0.2222222222222222,
              "#7201a8"
             ],
             [
              0.3333333333333333,
              "#9c179e"
             ],
             [
              0.4444444444444444,
              "#bd3786"
             ],
             [
              0.5555555555555556,
              "#d8576b"
             ],
             [
              0.6666666666666666,
              "#ed7953"
             ],
             [
              0.7777777777777778,
              "#fb9f3a"
             ],
             [
              0.8888888888888888,
              "#fdca26"
             ],
             [
              1,
              "#f0f921"
             ]
            ],
            "type": "contour"
           }
          ],
          "contourcarpet": [
           {
            "colorbar": {
             "outlinewidth": 0,
             "ticks": ""
            },
            "type": "contourcarpet"
           }
          ],
          "heatmap": [
           {
            "colorbar": {
             "outlinewidth": 0,
             "ticks": ""
            },
            "colorscale": [
             [
              0,
              "#0d0887"
             ],
             [
              0.1111111111111111,
              "#46039f"
             ],
             [
              0.2222222222222222,
              "#7201a8"
             ],
             [
              0.3333333333333333,
              "#9c179e"
             ],
             [
              0.4444444444444444,
              "#bd3786"
             ],
             [
              0.5555555555555556,
              "#d8576b"
             ],
             [
              0.6666666666666666,
              "#ed7953"
             ],
             [
              0.7777777777777778,
              "#fb9f3a"
             ],
             [
              0.8888888888888888,
              "#fdca26"
             ],
             [
              1,
              "#f0f921"
             ]
            ],
            "type": "heatmap"
           }
          ],
          "heatmapgl": [
           {
            "colorbar": {
             "outlinewidth": 0,
             "ticks": ""
            },
            "colorscale": [
             [
              0,
              "#0d0887"
             ],
             [
              0.1111111111111111,
              "#46039f"
             ],
             [
              0.2222222222222222,
              "#7201a8"
             ],
             [
              0.3333333333333333,
              "#9c179e"
             ],
             [
              0.4444444444444444,
              "#bd3786"
             ],
             [
              0.5555555555555556,
              "#d8576b"
             ],
             [
              0.6666666666666666,
              "#ed7953"
             ],
             [
              0.7777777777777778,
              "#fb9f3a"
             ],
             [
              0.8888888888888888,
              "#fdca26"
             ],
             [
              1,
              "#f0f921"
             ]
            ],
            "type": "heatmapgl"
           }
          ],
          "histogram": [
           {
            "marker": {
             "colorbar": {
              "outlinewidth": 0,
              "ticks": ""
             }
            },
            "type": "histogram"
           }
          ],
          "histogram2d": [
           {
            "colorbar": {
             "outlinewidth": 0,
             "ticks": ""
            },
            "colorscale": [
             [
              0,
              "#0d0887"
             ],
             [
              0.1111111111111111,
              "#46039f"
             ],
             [
              0.2222222222222222,
              "#7201a8"
             ],
             [
              0.3333333333333333,
              "#9c179e"
             ],
             [
              0.4444444444444444,
              "#bd3786"
             ],
             [
              0.5555555555555556,
              "#d8576b"
             ],
             [
              0.6666666666666666,
              "#ed7953"
             ],
             [
              0.7777777777777778,
              "#fb9f3a"
             ],
             [
              0.8888888888888888,
              "#fdca26"
             ],
             [
              1,
              "#f0f921"
             ]
            ],
            "type": "histogram2d"
           }
          ],
          "histogram2dcontour": [
           {
            "colorbar": {
             "outlinewidth": 0,
             "ticks": ""
            },
            "colorscale": [
             [
              0,
              "#0d0887"
             ],
             [
              0.1111111111111111,
              "#46039f"
             ],
             [
              0.2222222222222222,
              "#7201a8"
             ],
             [
              0.3333333333333333,
              "#9c179e"
             ],
             [
              0.4444444444444444,
              "#bd3786"
             ],
             [
              0.5555555555555556,
              "#d8576b"
             ],
             [
              0.6666666666666666,
              "#ed7953"
             ],
             [
              0.7777777777777778,
              "#fb9f3a"
             ],
             [
              0.8888888888888888,
              "#fdca26"
             ],
             [
              1,
              "#f0f921"
             ]
            ],
            "type": "histogram2dcontour"
           }
          ],
          "mesh3d": [
           {
            "colorbar": {
             "outlinewidth": 0,
             "ticks": ""
            },
            "type": "mesh3d"
           }
          ],
          "parcoords": [
           {
            "line": {
             "colorbar": {
              "outlinewidth": 0,
              "ticks": ""
             }
            },
            "type": "parcoords"
           }
          ],
          "pie": [
           {
            "automargin": true,
            "type": "pie"
           }
          ],
          "scatter": [
           {
            "marker": {
             "colorbar": {
              "outlinewidth": 0,
              "ticks": ""
             }
            },
            "type": "scatter"
           }
          ],
          "scatter3d": [
           {
            "line": {
             "colorbar": {
              "outlinewidth": 0,
              "ticks": ""
             }
            },
            "marker": {
             "colorbar": {
              "outlinewidth": 0,
              "ticks": ""
             }
            },
            "type": "scatter3d"
           }
          ],
          "scattercarpet": [
           {
            "marker": {
             "colorbar": {
              "outlinewidth": 0,
              "ticks": ""
             }
            },
            "type": "scattercarpet"
           }
          ],
          "scattergeo": [
           {
            "marker": {
             "colorbar": {
              "outlinewidth": 0,
              "ticks": ""
             }
            },
            "type": "scattergeo"
           }
          ],
          "scattergl": [
           {
            "marker": {
             "colorbar": {
              "outlinewidth": 0,
              "ticks": ""
             }
            },
            "type": "scattergl"
           }
          ],
          "scattermapbox": [
           {
            "marker": {
             "colorbar": {
              "outlinewidth": 0,
              "ticks": ""
             }
            },
            "type": "scattermapbox"
           }
          ],
          "scatterpolar": [
           {
            "marker": {
             "colorbar": {
              "outlinewidth": 0,
              "ticks": ""
             }
            },
            "type": "scatterpolar"
           }
          ],
          "scatterpolargl": [
           {
            "marker": {
             "colorbar": {
              "outlinewidth": 0,
              "ticks": ""
             }
            },
            "type": "scatterpolargl"
           }
          ],
          "scatterternary": [
           {
            "marker": {
             "colorbar": {
              "outlinewidth": 0,
              "ticks": ""
             }
            },
            "type": "scatterternary"
           }
          ],
          "surface": [
           {
            "colorbar": {
             "outlinewidth": 0,
             "ticks": ""
            },
            "colorscale": [
             [
              0,
              "#0d0887"
             ],
             [
              0.1111111111111111,
              "#46039f"
             ],
             [
              0.2222222222222222,
              "#7201a8"
             ],
             [
              0.3333333333333333,
              "#9c179e"
             ],
             [
              0.4444444444444444,
              "#bd3786"
             ],
             [
              0.5555555555555556,
              "#d8576b"
             ],
             [
              0.6666666666666666,
              "#ed7953"
             ],
             [
              0.7777777777777778,
              "#fb9f3a"
             ],
             [
              0.8888888888888888,
              "#fdca26"
             ],
             [
              1,
              "#f0f921"
             ]
            ],
            "type": "surface"
           }
          ],
          "table": [
           {
            "cells": {
             "fill": {
              "color": "#EBF0F8"
             },
             "line": {
              "color": "white"
             }
            },
            "header": {
             "fill": {
              "color": "#C8D4E3"
             },
             "line": {
              "color": "white"
             }
            },
            "type": "table"
           }
          ]
         },
         "layout": {
          "annotationdefaults": {
           "arrowcolor": "#2a3f5f",
           "arrowhead": 0,
           "arrowwidth": 1
          },
          "autotypenumbers": "strict",
          "coloraxis": {
           "colorbar": {
            "outlinewidth": 0,
            "ticks": ""
           }
          },
          "colorscale": {
           "diverging": [
            [
             0,
             "#8e0152"
            ],
            [
             0.1,
             "#c51b7d"
            ],
            [
             0.2,
             "#de77ae"
            ],
            [
             0.3,
             "#f1b6da"
            ],
            [
             0.4,
             "#fde0ef"
            ],
            [
             0.5,
             "#f7f7f7"
            ],
            [
             0.6,
             "#e6f5d0"
            ],
            [
             0.7,
             "#b8e186"
            ],
            [
             0.8,
             "#7fbc41"
            ],
            [
             0.9,
             "#4d9221"
            ],
            [
             1,
             "#276419"
            ]
           ],
           "sequential": [
            [
             0,
             "#0d0887"
            ],
            [
             0.1111111111111111,
             "#46039f"
            ],
            [
             0.2222222222222222,
             "#7201a8"
            ],
            [
             0.3333333333333333,
             "#9c179e"
            ],
            [
             0.4444444444444444,
             "#bd3786"
            ],
            [
             0.5555555555555556,
             "#d8576b"
            ],
            [
             0.6666666666666666,
             "#ed7953"
            ],
            [
             0.7777777777777778,
             "#fb9f3a"
            ],
            [
             0.8888888888888888,
             "#fdca26"
            ],
            [
             1,
             "#f0f921"
            ]
           ],
           "sequentialminus": [
            [
             0,
             "#0d0887"
            ],
            [
             0.1111111111111111,
             "#46039f"
            ],
            [
             0.2222222222222222,
             "#7201a8"
            ],
            [
             0.3333333333333333,
             "#9c179e"
            ],
            [
             0.4444444444444444,
             "#bd3786"
            ],
            [
             0.5555555555555556,
             "#d8576b"
            ],
            [
             0.6666666666666666,
             "#ed7953"
            ],
            [
             0.7777777777777778,
             "#fb9f3a"
            ],
            [
             0.8888888888888888,
             "#fdca26"
            ],
            [
             1,
             "#f0f921"
            ]
           ]
          },
          "colorway": [
           "#636efa",
           "#EF553B",
           "#00cc96",
           "#ab63fa",
           "#FFA15A",
           "#19d3f3",
           "#FF6692",
           "#B6E880",
           "#FF97FF",
           "#FECB52"
          ],
          "font": {
           "color": "#2a3f5f"
          },
          "geo": {
           "bgcolor": "white",
           "lakecolor": "white",
           "landcolor": "#E5ECF6",
           "showlakes": true,
           "showland": true,
           "subunitcolor": "white"
          },
          "hoverlabel": {
           "align": "left"
          },
          "hovermode": "closest",
          "mapbox": {
           "style": "light"
          },
          "paper_bgcolor": "white",
          "plot_bgcolor": "#E5ECF6",
          "polar": {
           "angularaxis": {
            "gridcolor": "white",
            "linecolor": "white",
            "ticks": ""
           },
           "bgcolor": "#E5ECF6",
           "radialaxis": {
            "gridcolor": "white",
            "linecolor": "white",
            "ticks": ""
           }
          },
          "scene": {
           "xaxis": {
            "backgroundcolor": "#E5ECF6",
            "gridcolor": "white",
            "gridwidth": 2,
            "linecolor": "white",
            "showbackground": true,
            "ticks": "",
            "zerolinecolor": "white"
           },
           "yaxis": {
            "backgroundcolor": "#E5ECF6",
            "gridcolor": "white",
            "gridwidth": 2,
            "linecolor": "white",
            "showbackground": true,
            "ticks": "",
            "zerolinecolor": "white"
           },
           "zaxis": {
            "backgroundcolor": "#E5ECF6",
            "gridcolor": "white",
            "gridwidth": 2,
            "linecolor": "white",
            "showbackground": true,
            "ticks": "",
            "zerolinecolor": "white"
           }
          },
          "shapedefaults": {
           "line": {
            "color": "#2a3f5f"
           }
          },
          "ternary": {
           "aaxis": {
            "gridcolor": "white",
            "linecolor": "white",
            "ticks": ""
           },
           "baxis": {
            "gridcolor": "white",
            "linecolor": "white",
            "ticks": ""
           },
           "bgcolor": "#E5ECF6",
           "caxis": {
            "gridcolor": "white",
            "linecolor": "white",
            "ticks": ""
           }
          },
          "title": {
           "x": 0.05
          },
          "xaxis": {
           "automargin": true,
           "gridcolor": "white",
           "linecolor": "white",
           "ticks": "",
           "title": {
            "standoff": 15
           },
           "zerolinecolor": "white",
           "zerolinewidth": 2
          },
          "yaxis": {
           "automargin": true,
           "gridcolor": "white",
           "linecolor": "white",
           "ticks": "",
           "title": {
            "standoff": 15
           },
           "zerolinecolor": "white",
           "zerolinewidth": 2
          }
         }
        },
        "title": {
         "text": "Singapore",
         "x": 0.5,
         "xanchor": "center"
        },
        "xaxis": {
         "anchor": "y",
         "domain": [
          0,
          1
         ],
         "rangeselector": {
          "buttons": [
           {
            "count": 14,
            "label": "2W",
            "step": "day",
            "stepmode": "backward"
           },
           {
            "count": 1,
            "label": "1M",
            "step": "month",
            "stepmode": "backward"
           },
           {
            "label": "All",
            "step": "all"
           }
          ]
         },
         "rangeslider": {
          "visible": true
         },
         "title": {
          "text": "Date"
         },
         "type": "date"
        },
        "yaxis": {
         "anchor": "x",
         "domain": [
          0,
          1
         ],
         "title": {
          "text": "Active"
         }
        }
       }
      }
     },
     "metadata": {}
    }
   ],
   "source": [
    "select_slug='singapore'\n",
    "select_country='Singapore'\n",
    "sidebar='Active'\n",
    "# Request Time Series\n",
    "time_series_raw = req.get(f\"https://api.covid19api.com/live/country/{select_slug}\").json()\n",
    "time_df = pd.DataFrame.from_dict(time_series_raw)\n",
    "if (time_df.empty):\n",
    "    raise Exception \n",
    "time_df['Date'] = pd.to_datetime(time_df['Date'])\n",
    "# Visualisation\n",
    "time_series_chart = px.line(\n",
    "    time_df,\n",
    "    x='Date', \n",
    "    y=sidebar,\n",
    "    hover_data=['Country'],\n",
    "    title=select_country\n",
    ")\n",
    "time_series_chart.update_layout(\n",
    "    height=450, \n",
    "    margin={\"r\":5,\"t\":50,\"l\":5,\"b\":50},\n",
    "    paper_bgcolor='white',\n",
    "    xaxis=dict(\n",
    "        rangeselector=dict(\n",
    "            buttons=list([\n",
    "                dict(count=14,\n",
    "                    label=\"2W\",\n",
    "                    step=\"day\",\n",
    "                    stepmode=\"backward\"),\n",
    "                dict(count=1,\n",
    "                    label=\"1M\",\n",
    "                    step=\"month\",\n",
    "                    stepmode=\"backward\"),\n",
    "                dict(label='All',\n",
    "                    step=\"all\")\n",
    "            ])\n",
    "        ),\n",
    "        rangeslider=dict(\n",
    "            visible=True\n",
    "        ),\n",
    "        type=\"date\"\n",
    "    ),\n",
    "    title={\n",
    "        'x':0.5,\n",
    "        'xanchor': 'center'\n",
    "    }\n",
    ")"
   ]
  },
  {
   "cell_type": "code",
   "execution_count": null,
   "metadata": {},
   "outputs": [],
   "source": []
  }
 ]
}