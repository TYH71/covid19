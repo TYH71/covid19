{
 "metadata": {
  "language_info": {
   "codemirror_mode": {
    "name": "ipython",
    "version": 3
   },
   "file_extension": ".py",
   "mimetype": "text/x-python",
   "name": "python",
   "nbconvert_exporter": "python",
   "pygments_lexer": "ipython3",
   "version": "3.8.3"
  },
  "orig_nbformat": 2,
  "kernelspec": {
   "name": "python3",
   "display_name": "Python 3.8.3 64-bit ('base': conda)",
   "metadata": {
    "interpreter": {
     "hash": "7b4b4feff2f24a0f0a34464dbe537a36fda679851528fb8735cb41fa49dffb2d"
    }
   }
  }
 },
 "nbformat": 4,
 "nbformat_minor": 2,
 "cells": [
  {
   "source": [
    "# COVID-19 Dashboard\n",
    "\n",
    "Data Exploring Notebook"
   ],
   "cell_type": "markdown",
   "metadata": {}
  },
  {
   "source": [
    "## Import Libraries/Functions"
   ],
   "cell_type": "markdown",
   "metadata": {}
  },
  {
   "cell_type": "code",
   "execution_count": 2,
   "metadata": {},
   "outputs": [],
   "source": [
    "import pandas as pd\n",
    "import plotly.express as px\n",
    "import ipywidgets as widgets"
   ]
  },
  {
   "source": [
    "## Import Data"
   ],
   "cell_type": "markdown",
   "metadata": {}
  },
  {
   "cell_type": "code",
   "execution_count": 3,
   "metadata": {},
   "outputs": [
    {
     "output_type": "display_data",
     "data": {
      "text/plain": "                Country          Last_Update        Lat        Long  \\\n0           Afghanistan  2021-03-22 15:26:49  33.939110   67.709953   \n1               Albania  2021-03-22 15:26:49  41.153300   20.168300   \n2               Algeria  2021-03-22 15:26:49  28.033900    1.659600   \n3               Andorra  2021-03-22 15:26:49  42.506300    1.521800   \n4                Angola  2021-03-22 15:26:49 -11.202700   17.873900   \n..                  ...                  ...        ...         ...   \n187             Vietnam  2021-03-22 15:26:49  14.058324  108.277199   \n188  West Bank and Gaza  2021-03-22 15:26:49  31.952200   35.233200   \n189               Yemen  2021-03-22 15:26:49  15.552727   48.516388   \n190              Zambia  2021-03-22 15:26:49 -13.133897   27.849332   \n191            Zimbabwe  2021-03-22 15:26:49 -19.015438   29.154857   \n\n     Confirmed  Deaths  Recovered   Active  Incident_Rate  People_Tested  \\\n0      56153.0  2464.0    49743.0   3946.0     144.247092            NaN   \n1     121200.0  2137.0    85147.0  33916.0    4211.550490            NaN   \n2     116157.0  3057.0    80659.0  32441.0     264.889937            NaN   \n3      11517.0   113.0    10973.0    431.0   14905.843526            NaN   \n4      21733.0   527.0    20073.0   1133.0      66.125549            NaN   \n..         ...     ...        ...      ...            ...            ...   \n187     2575.0    35.0     2233.0    307.0       2.645405            NaN   \n188   225976.0  2458.0   199965.0  23553.0    4429.672075            NaN   \n189     3418.0   751.0     1534.0   1133.0      11.459812            NaN   \n190    86535.0  1182.0    83319.0   2034.0     470.709351            NaN   \n191    36665.0  1512.0    34269.0    884.0     246.687614            NaN   \n\n     People_Hospitalized  Mortality_Rate  UID ISO3  \n0                    NaN        4.388011    4  AFG  \n1                    NaN        1.763201    8  ALB  \n2                    NaN        2.631783   12  DZA  \n3                    NaN        0.981158   20  AND  \n4                    NaN        2.424884   24  AGO  \n..                   ...             ...  ...  ...  \n187                  NaN        1.359223  704  VNM  \n188                  NaN        1.087726  275  PSE  \n189                  NaN       21.971913  887  YEM  \n190                  NaN        1.365921  894  ZMB  \n191                  NaN        4.123824  716  ZWE  \n\n[192 rows x 14 columns]",
      "text/html": "<div>\n<style scoped>\n    .dataframe tbody tr th:only-of-type {\n        vertical-align: middle;\n    }\n\n    .dataframe tbody tr th {\n        vertical-align: top;\n    }\n\n    .dataframe thead th {\n        text-align: right;\n    }\n</style>\n<table border=\"1\" class=\"dataframe\">\n  <thead>\n    <tr style=\"text-align: right;\">\n      <th></th>\n      <th>Country</th>\n      <th>Last_Update</th>\n      <th>Lat</th>\n      <th>Long</th>\n      <th>Confirmed</th>\n      <th>Deaths</th>\n      <th>Recovered</th>\n      <th>Active</th>\n      <th>Incident_Rate</th>\n      <th>People_Tested</th>\n      <th>People_Hospitalized</th>\n      <th>Mortality_Rate</th>\n      <th>UID</th>\n      <th>ISO3</th>\n    </tr>\n  </thead>\n  <tbody>\n    <tr>\n      <th>0</th>\n      <td>Afghanistan</td>\n      <td>2021-03-22 15:26:49</td>\n      <td>33.939110</td>\n      <td>67.709953</td>\n      <td>56153.0</td>\n      <td>2464.0</td>\n      <td>49743.0</td>\n      <td>3946.0</td>\n      <td>144.247092</td>\n      <td>NaN</td>\n      <td>NaN</td>\n      <td>4.388011</td>\n      <td>4</td>\n      <td>AFG</td>\n    </tr>\n    <tr>\n      <th>1</th>\n      <td>Albania</td>\n      <td>2021-03-22 15:26:49</td>\n      <td>41.153300</td>\n      <td>20.168300</td>\n      <td>121200.0</td>\n      <td>2137.0</td>\n      <td>85147.0</td>\n      <td>33916.0</td>\n      <td>4211.550490</td>\n      <td>NaN</td>\n      <td>NaN</td>\n      <td>1.763201</td>\n      <td>8</td>\n      <td>ALB</td>\n    </tr>\n    <tr>\n      <th>2</th>\n      <td>Algeria</td>\n      <td>2021-03-22 15:26:49</td>\n      <td>28.033900</td>\n      <td>1.659600</td>\n      <td>116157.0</td>\n      <td>3057.0</td>\n      <td>80659.0</td>\n      <td>32441.0</td>\n      <td>264.889937</td>\n      <td>NaN</td>\n      <td>NaN</td>\n      <td>2.631783</td>\n      <td>12</td>\n      <td>DZA</td>\n    </tr>\n    <tr>\n      <th>3</th>\n      <td>Andorra</td>\n      <td>2021-03-22 15:26:49</td>\n      <td>42.506300</td>\n      <td>1.521800</td>\n      <td>11517.0</td>\n      <td>113.0</td>\n      <td>10973.0</td>\n      <td>431.0</td>\n      <td>14905.843526</td>\n      <td>NaN</td>\n      <td>NaN</td>\n      <td>0.981158</td>\n      <td>20</td>\n      <td>AND</td>\n    </tr>\n    <tr>\n      <th>4</th>\n      <td>Angola</td>\n      <td>2021-03-22 15:26:49</td>\n      <td>-11.202700</td>\n      <td>17.873900</td>\n      <td>21733.0</td>\n      <td>527.0</td>\n      <td>20073.0</td>\n      <td>1133.0</td>\n      <td>66.125549</td>\n      <td>NaN</td>\n      <td>NaN</td>\n      <td>2.424884</td>\n      <td>24</td>\n      <td>AGO</td>\n    </tr>\n    <tr>\n      <th>...</th>\n      <td>...</td>\n      <td>...</td>\n      <td>...</td>\n      <td>...</td>\n      <td>...</td>\n      <td>...</td>\n      <td>...</td>\n      <td>...</td>\n      <td>...</td>\n      <td>...</td>\n      <td>...</td>\n      <td>...</td>\n      <td>...</td>\n      <td>...</td>\n    </tr>\n    <tr>\n      <th>187</th>\n      <td>Vietnam</td>\n      <td>2021-03-22 15:26:49</td>\n      <td>14.058324</td>\n      <td>108.277199</td>\n      <td>2575.0</td>\n      <td>35.0</td>\n      <td>2233.0</td>\n      <td>307.0</td>\n      <td>2.645405</td>\n      <td>NaN</td>\n      <td>NaN</td>\n      <td>1.359223</td>\n      <td>704</td>\n      <td>VNM</td>\n    </tr>\n    <tr>\n      <th>188</th>\n      <td>West Bank and Gaza</td>\n      <td>2021-03-22 15:26:49</td>\n      <td>31.952200</td>\n      <td>35.233200</td>\n      <td>225976.0</td>\n      <td>2458.0</td>\n      <td>199965.0</td>\n      <td>23553.0</td>\n      <td>4429.672075</td>\n      <td>NaN</td>\n      <td>NaN</td>\n      <td>1.087726</td>\n      <td>275</td>\n      <td>PSE</td>\n    </tr>\n    <tr>\n      <th>189</th>\n      <td>Yemen</td>\n      <td>2021-03-22 15:26:49</td>\n      <td>15.552727</td>\n      <td>48.516388</td>\n      <td>3418.0</td>\n      <td>751.0</td>\n      <td>1534.0</td>\n      <td>1133.0</td>\n      <td>11.459812</td>\n      <td>NaN</td>\n      <td>NaN</td>\n      <td>21.971913</td>\n      <td>887</td>\n      <td>YEM</td>\n    </tr>\n    <tr>\n      <th>190</th>\n      <td>Zambia</td>\n      <td>2021-03-22 15:26:49</td>\n      <td>-13.133897</td>\n      <td>27.849332</td>\n      <td>86535.0</td>\n      <td>1182.0</td>\n      <td>83319.0</td>\n      <td>2034.0</td>\n      <td>470.709351</td>\n      <td>NaN</td>\n      <td>NaN</td>\n      <td>1.365921</td>\n      <td>894</td>\n      <td>ZMB</td>\n    </tr>\n    <tr>\n      <th>191</th>\n      <td>Zimbabwe</td>\n      <td>2021-03-22 15:26:49</td>\n      <td>-19.015438</td>\n      <td>29.154857</td>\n      <td>36665.0</td>\n      <td>1512.0</td>\n      <td>34269.0</td>\n      <td>884.0</td>\n      <td>246.687614</td>\n      <td>NaN</td>\n      <td>NaN</td>\n      <td>4.123824</td>\n      <td>716</td>\n      <td>ZWE</td>\n    </tr>\n  </tbody>\n</table>\n<p>192 rows × 14 columns</p>\n</div>"
     },
     "metadata": {}
    }
   ],
   "source": [
    "# Live COVID-19 Data by John Hopkins University, Center for Systems Science and Engineering\n",
    "covid_df = pd.read_csv('https://raw.githubusercontent.com/CSSEGISandData/COVID-19/web-data/data/cases_country.csv')\n",
    "covid_df = covid_df.rename(columns={\n",
    "    'Country_Region': 'Country',\n",
    "    'Long_': 'Long'\n",
    "})\n",
    "display(covid_df)"
   ]
  },
  {
   "source": [
    "## Feature Description\n",
    "- Country : Country Namesb  bbnbnbnbnbn\n",
    "- Last Update : MM/DD/YYYY HH:mm:ss (24 hour format, in UTC).\n",
    "- Lat and Long : Dot locations on the dashboard. All points (except for Australia) shown on the map are based on geographic centroids, and are not representative of a specific address, building or any location at a spatial scale finer than a province/state. Australian dots are located at the centroid of the largest city in each state.\n",
    "- Confirmed : Counts include confirmed and probable (where reported).\n",
    "- Deaths : Counts include confirmed and probable (where reported).\n",
    "- Recovered : Recovered cases are estimates based on local media reports, and state and local reporting when available, and therefore may be substantially lower than the true number. US state-level recovered cases are from COVID Tracking Project.\n",
    "- Incident_Rate : Incidence Rate = cases per 100,000 persons.\n",
    "- Case_Fatality_Ratio (%) : Case-Fatality Ratio (%) = Number recorded deaths / Number cases."
   ],
   "cell_type": "markdown",
   "metadata": {}
  },
  {
   "cell_type": "code",
   "execution_count": 4,
   "metadata": {},
   "outputs": [
    {
     "output_type": "stream",
     "name": "stdout",
     "text": [
      "<class 'pandas.core.frame.DataFrame'>\nRangeIndex: 192 entries, 0 to 191\nData columns (total 12 columns):\n #   Column          Non-Null Count  Dtype  \n---  ------          --------------  -----  \n 0   Country         192 non-null    object \n 1   Last_Update     192 non-null    object \n 2   Lat             190 non-null    float64\n 3   Long            190 non-null    float64\n 4   Confirmed       192 non-null    float64\n 5   Deaths          192 non-null    float64\n 6   Recovered       188 non-null    float64\n 7   Active          191 non-null    float64\n 8   Incident_Rate   190 non-null    float64\n 9   Mortality_Rate  192 non-null    float64\n 10  UID             192 non-null    int64  \n 11  ISO3            190 non-null    object \ndtypes: float64(8), int64(1), object(3)\nmemory usage: 18.1+ KB\n"
     ]
    }
   ],
   "source": [
    "covid_df = covid_df.drop(columns=['People_Tested', 'People_Hospitalized'])\n",
    "covid_df.info()"
   ]
  },
  {
   "source": [
    "## Data Visualisation"
   ],
   "cell_type": "markdown",
   "metadata": {}
  },
  {
   "cell_type": "code",
   "execution_count": 7,
   "metadata": {},
   "outputs": [
    {
     "output_type": "display_data",
     "data": {
      "application/vnd.plotly.v1+json": {
       "config": {
        "plotlyServerURL": "https://plot.ly"
       },
       "data": [
        {
         "geo": "geo",
         "hovertemplate": "<b>%{hovertext}</b><br><br>Confirmed=%{marker.color}<br>Lat=%{lat}<br>Long=%{lon}<extra></extra>",
         "hovertext": [
          "Afghanistan",
          "Albania",
          "Algeria",
          "Andorra",
          "Angola",
          "Antigua and Barbuda",
          "Argentina",
          "Armenia",
          "Australia",
          "Austria",
          "Azerbaijan",
          "Bahamas",
          "Bahrain",
          "Bangladesh",
          "Barbados",
          "Belarus",
          "Belgium",
          "Belize",
          "Benin",
          "Bhutan",
          "Bolivia",
          "Bosnia and Herzegovina",
          "Botswana",
          "Brazil",
          "Brunei",
          "Bulgaria",
          "Burkina Faso",
          "Burma",
          "Burundi",
          "Cabo Verde",
          "Cambodia",
          "Cameroon",
          "Canada",
          "Central African Republic",
          "Chad",
          "Chile",
          "China",
          "Colombia",
          "Comoros",
          "Congo (Brazzaville)",
          "Congo (Kinshasa)",
          "Costa Rica",
          "Cote d'Ivoire",
          "Croatia",
          "Cuba",
          "Cyprus",
          "Czechia",
          "Denmark",
          "Djibouti",
          "Dominica",
          "Dominican Republic",
          "Ecuador",
          "Egypt",
          "El Salvador",
          "Equatorial Guinea",
          "Eritrea",
          "Estonia",
          "Eswatini",
          "Ethiopia",
          "Fiji",
          "Finland",
          "France",
          "Gabon",
          "Gambia",
          "Georgia",
          "Germany",
          "Ghana",
          "Greece",
          "Grenada",
          "Guatemala",
          "Guinea",
          "Guinea-Bissau",
          "Guyana",
          "Haiti",
          "Holy See",
          "Honduras",
          "Hungary",
          "Iceland",
          "India",
          "Indonesia",
          "Iran",
          "Iraq",
          "Ireland",
          "Israel",
          "Italy",
          "Jamaica",
          "Japan",
          "Jordan",
          "Kazakhstan",
          "Kenya",
          "Korea, South",
          "Kosovo",
          "Kuwait",
          "Kyrgyzstan",
          "Laos",
          "Latvia",
          "Lebanon",
          "Lesotho",
          "Liberia",
          "Libya",
          "Liechtenstein",
          "Lithuania",
          "Luxembourg",
          "Madagascar",
          "Malawi",
          "Malaysia",
          "Maldives",
          "Mali",
          "Malta",
          "Marshall Islands",
          "Mauritania",
          "Mauritius",
          "Mexico",
          "Micronesia",
          "Moldova",
          "Monaco",
          "Mongolia",
          "Montenegro",
          "Morocco",
          "Mozambique",
          "Namibia",
          "Nepal",
          "Netherlands",
          "New Zealand",
          "Nicaragua",
          "Niger",
          "Nigeria",
          "North Macedonia",
          "Norway",
          "Oman",
          "Pakistan",
          "Panama",
          "Papua New Guinea",
          "Paraguay",
          "Peru",
          "Philippines",
          "Poland",
          "Portugal",
          "Qatar",
          "Romania",
          "Russia",
          "Rwanda",
          "Saint Kitts and Nevis",
          "Saint Lucia",
          "Saint Vincent and the Grenadines",
          "Samoa",
          "San Marino",
          "Sao Tome and Principe",
          "Saudi Arabia",
          "Senegal",
          "Serbia",
          "Seychelles",
          "Sierra Leone",
          "Singapore",
          "Slovakia",
          "Slovenia",
          "Solomon Islands",
          "Somalia",
          "South Africa",
          "South Sudan",
          "Spain",
          "Sri Lanka",
          "Sudan",
          "Suriname",
          "Sweden",
          "Switzerland",
          "Syria",
          "Taiwan*",
          "Tajikistan",
          "Tanzania",
          "Thailand",
          "Timor-Leste",
          "Togo",
          "Trinidad and Tobago",
          "Tunisia",
          "Turkey",
          "US",
          "Uganda",
          "Ukraine",
          "United Arab Emirates",
          "United Kingdom",
          "Uruguay",
          "Uzbekistan",
          "Vanuatu",
          "Venezuela",
          "Vietnam",
          "West Bank and Gaza",
          "Yemen",
          "Zambia",
          "Zimbabwe"
         ],
         "lat": [
          33.93911,
          41.1533,
          28.0339,
          42.5063,
          -11.2027,
          17.0608,
          -38.4161,
          40.0691,
          -25,
          47.5162,
          40.1431,
          25.025885,
          26.0275,
          23.685,
          13.1939,
          53.7098,
          50.8333,
          17.1899,
          9.3077,
          27.5142,
          -16.2902,
          43.9159,
          -22.3285,
          -14.235,
          4.5353,
          42.7339,
          12.2383,
          21.9162,
          -3.3731,
          16.5388,
          11.55,
          3.848,
          60.001000000000005,
          6.6111,
          15.4542,
          -35.6751,
          30.5928,
          4.5709,
          -11.6455,
          -0.228,
          -4.0383,
          9.7489,
          7.54,
          45.1,
          21.521757,
          35.1264,
          49.8175,
          56.2639,
          11.8251,
          15.415,
          18.7357,
          -1.8312,
          26.820553000000004,
          13.7942,
          1.6508,
          15.1794,
          58.5953,
          -26.5225,
          9.145,
          -17.7134,
          61.9241,
          46.2276,
          -0.8037,
          13.4432,
          42.3154,
          51.165691,
          7.9465,
          39.0742,
          12.1165,
          15.7835,
          9.9456,
          11.8037,
          4.860416000000001,
          18.9712,
          41.9029,
          15.2,
          47.1625,
          64.9631,
          20.593684,
          -0.7893,
          32.427908,
          33.223191,
          53.1424,
          31.046051,
          41.8719,
          18.1096,
          36.204824,
          31.24,
          48.0196,
          -0.0236,
          35.907757000000004,
          42.602636,
          29.31166,
          41.20438,
          19.85627,
          56.8796,
          33.8547,
          -29.61,
          6.4280550000000005,
          26.3351,
          47.14,
          55.1694,
          49.8153,
          -18.766947,
          -13.2543,
          4.210483999999999,
          3.2028,
          17.570692,
          35.9375,
          7.1315,
          21.0079,
          -20.348404,
          23.6345,
          7.4256,
          47.4116,
          43.7333,
          46.8625,
          42.708678000000006,
          31.7917,
          -18.665695,
          -22.9576,
          28.1667,
          52.3167,
          -40.9006,
          12.865416,
          17.607789,
          9.082,
          41.6086,
          60.472,
          21.512583,
          30.3753,
          8.538,
          -6.314993,
          -23.4425,
          -9.19,
          12.879721,
          51.9194,
          39.3999,
          25.3548,
          45.9432,
          61.524,
          -1.9403,
          17.357822,
          13.9094,
          12.9843,
          -13.759,
          43.9424,
          0.1864,
          23.885942,
          14.4974,
          44.0165,
          -4.6796,
          8.460555000000001,
          1.2833,
          48.669,
          46.1512,
          -9.6457,
          5.152149,
          -30.5595,
          6.877000000000001,
          40.463667,
          7.873054,
          12.8628,
          3.9193,
          60.1282,
          46.8182,
          34.802075,
          23.7,
          38.861,
          -6.369028,
          15.870032,
          -8.874217,
          8.6195,
          10.6918,
          33.886917,
          38.9637,
          40,
          1.373333,
          48.3794,
          23.424076,
          55,
          -32.5228,
          41.377491,
          -15.3767,
          6.4238,
          14.058324,
          31.9522,
          15.552727,
          -13.133897,
          -19.015438
         ],
         "legendgroup": "",
         "lon": [
          67.709953,
          20.1683,
          1.6596,
          1.5218,
          17.8739,
          -61.7964,
          -63.6167,
          45.0382,
          133,
          14.5501,
          47.5769,
          -78.035889,
          50.55,
          90.3563,
          -59.5432,
          27.9534,
          4.469936,
          -88.4976,
          2.3158,
          90.4336,
          -63.5887,
          17.6791,
          24.6849,
          -51.9253,
          114.7277,
          25.4858,
          -1.5616,
          95.956,
          29.9189,
          -23.0418,
          104.9167,
          11.5021,
          -95.001,
          20.9394,
          18.7322,
          -71.543,
          114.3055,
          -74.2973,
          43.3333,
          15.8277,
          21.7587,
          -83.7534,
          -5.5471,
          15.2,
          -77.78116700000001,
          33.4299,
          15.473,
          9.5018,
          42.5903,
          -61.371,
          -70.1627,
          -78.1834,
          30.802498,
          -88.8965,
          10.2679,
          39.7823,
          25.0136,
          31.4659,
          40.4897,
          178.065,
          25.7482,
          2.2137,
          11.6094,
          -15.3101,
          43.3569,
          10.451526,
          -1.0232,
          21.8243,
          -61.679,
          -90.2308,
          -9.6966,
          -15.1804,
          -58.93018000000001,
          -72.2852,
          12.4534,
          -86.2419,
          19.5033,
          -19.0208,
          78.96288,
          113.9213,
          53.68804599999999,
          43.679291,
          -7.6921,
          34.851612,
          12.5674,
          -77.2975,
          138.252924,
          36.51,
          66.9237,
          37.9062,
          127.766922,
          20.902977,
          47.481766,
          74.766098,
          102.495496,
          24.6032,
          35.8623,
          28.2336,
          -9.429499,
          17.228331,
          9.55,
          23.8813,
          6.1296,
          46.869107,
          34.3015,
          101.975766,
          73.2207,
          -3.996166000000001,
          14.3754,
          171.1845,
          -10.9408,
          57.552152,
          -102.5528,
          150.5508,
          28.3699,
          7.4167,
          103.8467,
          19.37439,
          -7.0926,
          35.529562,
          18.4904,
          84.25,
          5.55,
          174.886,
          -85.207229,
          8.081666,
          8.6753,
          21.7453,
          8.4689,
          55.923255000000005,
          69.3451,
          -80.7821,
          143.95555,
          -58.4438,
          -75.0152,
          121.774017,
          19.1451,
          -8.2245,
          51.1839,
          24.9668,
          105.3188,
          29.8739,
          -62.782998,
          -60.9789,
          -61.2872,
          -172.1046,
          12.4578,
          6.6131,
          45.079162,
          -14.4524,
          21.0059,
          55.492,
          -11.779889,
          103.8333,
          19.699,
          14.9955,
          160.1562,
          46.199616,
          22.9375,
          31.307,
          -3.74922,
          80.77179699999999,
          30.2176,
          -56.0278,
          18.6435,
          8.2275,
          38.996815000000005,
          121,
          71.2761,
          34.888822,
          100.992541,
          125.727539,
          0.8248,
          -61.2225,
          9.537499,
          35.2433,
          -100,
          32.290275,
          31.1656,
          53.847818,
          -3,
          -55.7658,
          64.585262,
          166.9592,
          -66.5897,
          108.277199,
          35.2332,
          48.516388,
          27.849332,
          29.154857
         ],
         "marker": {
          "color": [
           56153,
           121200,
           116157,
           11517,
           21733,
           1033,
           2245771,
           184219,
           29206,
           516565,
           246304,
           8800,
           135982,
           573687,
           3551,
           311428,
           837006,
           12400,
           6818,
           869,
           264634,
           151337,
           35493,
           11998233,
           206,
           303423,
           12535,
           142246,
           2613,
           16491,
           1753,
           40622,
           939589,
           5087,
           4420,
           931939,
           101551,
           2337230,
           3666,
           9564,
           27553,
           211903,
           40310,
           257789,
           66758,
           42218,
           1469547,
           227469,
           6588,
           156,
           249463,
           312598,
           195418,
           63344,
           6780,
           3118,
           96394,
           17286,
           187365,
           67,
           72073,
           4277796,
           17711,
           5255,
           277650,
           2675114,
           89682,
           237125,
           154,
           187911,
           18877,
           3568,
           9649,
           12714,
           27,
           182409,
           580642,
           6119,
           11646081,
           1465928,
           1808422,
           798547,
           230599,
           828239,
           3376376,
           35338,
           457069,
           535455,
           283027,
           120910,
           99075,
           80295,
           219125,
           87462,
           49,
           97586,
           439568,
           10535,
           2042,
           152510,
           2632,
           209340,
           58955,
           22484,
           33237,
           334156,
           22513,
           9330,
           28319,
           4,
           17601,
           805,
           2195772,
           1,
           215034,
           2173,
           5186,
           87212,
           491709,
           66212,
           42477,
           276056,
           1224871,
           2462,
           6582,
           4918,
           161737,
           119378,
           86939,
           151528,
           630471,
           350991,
           3085,
           194122,
           1466326,
           671792,
           2073129,
           817778,
           173709,
           900858,
           4416226,
           20828,
           44,
           4132,
           1696,
           3,
           4388,
           2145,
           385424,
           37920,
           555897,
           3798,
           3948,
           60208,
           349270,
           206317,
           18,
           10085,
           1537852,
           9879,
           3212332,
           90200,
           31147,
           9066,
           744272,
           584252,
           17411,
           1006,
           13308,
           509,
           27594,
           335,
           8918,
           7855,
           245706,
           3013122,
           29821403,
           40671,
           1604183,
           442226,
           4310195,
           81537,
           81446,
           3,
           151123,
           2575,
           225976,
           3418,
           86535,
           36665
          ],
          "coloraxis": "coloraxis",
          "size": [
           56153,
           121200,
           116157,
           11517,
           21733,
           1033,
           2245771,
           184219,
           29206,
           516565,
           246304,
           8800,
           135982,
           573687,
           3551,
           311428,
           837006,
           12400,
           6818,
           869,
           264634,
           151337,
           35493,
           11998233,
           206,
           303423,
           12535,
           142246,
           2613,
           16491,
           1753,
           40622,
           939589,
           5087,
           4420,
           931939,
           101551,
           2337230,
           3666,
           9564,
           27553,
           211903,
           40310,
           257789,
           66758,
           42218,
           1469547,
           227469,
           6588,
           156,
           249463,
           312598,
           195418,
           63344,
           6780,
           3118,
           96394,
           17286,
           187365,
           67,
           72073,
           4277796,
           17711,
           5255,
           277650,
           2675114,
           89682,
           237125,
           154,
           187911,
           18877,
           3568,
           9649,
           12714,
           27,
           182409,
           580642,
           6119,
           11646081,
           1465928,
           1808422,
           798547,
           230599,
           828239,
           3376376,
           35338,
           457069,
           535455,
           283027,
           120910,
           99075,
           80295,
           219125,
           87462,
           49,
           97586,
           439568,
           10535,
           2042,
           152510,
           2632,
           209340,
           58955,
           22484,
           33237,
           334156,
           22513,
           9330,
           28319,
           4,
           17601,
           805,
           2195772,
           1,
           215034,
           2173,
           5186,
           87212,
           491709,
           66212,
           42477,
           276056,
           1224871,
           2462,
           6582,
           4918,
           161737,
           119378,
           86939,
           151528,
           630471,
           350991,
           3085,
           194122,
           1466326,
           671792,
           2073129,
           817778,
           173709,
           900858,
           4416226,
           20828,
           44,
           4132,
           1696,
           3,
           4388,
           2145,
           385424,
           37920,
           555897,
           3798,
           3948,
           60208,
           349270,
           206317,
           18,
           10085,
           1537852,
           9879,
           3212332,
           90200,
           31147,
           9066,
           744272,
           584252,
           17411,
           1006,
           13308,
           509,
           27594,
           335,
           8918,
           7855,
           245706,
           3013122,
           29821403,
           40671,
           1604183,
           442226,
           4310195,
           81537,
           81446,
           3,
           151123,
           2575,
           225976,
           3418,
           86535,
           36665
          ],
          "sizemode": "area",
          "sizeref": 11928.5612,
          "symbol": "circle"
         },
         "mode": "markers",
         "name": "",
         "showlegend": false,
         "type": "scattergeo"
        }
       ],
       "layout": {
        "coloraxis": {
         "colorbar": {
          "title": {
           "text": "Confirmed"
          }
         },
         "colorscale": [
          [
           0,
           "deepskyblue"
          ],
          [
           1,
           "red"
          ]
         ]
        },
        "geo": {
         "center": {},
         "coastlinecolor": "RebeccaPurple",
         "domain": {
          "x": [
           0,
           1
          ],
          "y": [
           0,
           1
          ]
         },
         "lakecolor": "Blue",
         "landcolor": "LightGreen",
         "oceancolor": "LightBlue",
         "projection": {
          "type": "robinson"
         },
         "resolution": 110,
         "rivercolor": "Blue",
         "showcoastlines": true,
         "showlakes": true,
         "showland": true,
         "showocean": true,
         "showrivers": true
        },
        "height": 350,
        "legend": {
         "itemsizing": "constant",
         "tracegroupgap": 0
        },
        "margin": {
         "b": 15,
         "l": 15,
         "r": 15,
         "t": 15
        },
        "paper_bgcolor": "white",
        "template": {
         "data": {
          "bar": [
           {
            "error_x": {
             "color": "#2a3f5f"
            },
            "error_y": {
             "color": "#2a3f5f"
            },
            "marker": {
             "line": {
              "color": "#E5ECF6",
              "width": 0.5
             }
            },
            "type": "bar"
           }
          ],
          "barpolar": [
           {
            "marker": {
             "line": {
              "color": "#E5ECF6",
              "width": 0.5
             }
            },
            "type": "barpolar"
           }
          ],
          "carpet": [
           {
            "aaxis": {
             "endlinecolor": "#2a3f5f",
             "gridcolor": "white",
             "linecolor": "white",
             "minorgridcolor": "white",
             "startlinecolor": "#2a3f5f"
            },
            "baxis": {
             "endlinecolor": "#2a3f5f",
             "gridcolor": "white",
             "linecolor": "white",
             "minorgridcolor": "white",
             "startlinecolor": "#2a3f5f"
            },
            "type": "carpet"
           }
          ],
          "choropleth": [
           {
            "colorbar": {
             "outlinewidth": 0,
             "ticks": ""
            },
            "type": "choropleth"
           }
          ],
          "contour": [
           {
            "colorbar": {
             "outlinewidth": 0,
             "ticks": ""
            },
            "colorscale": [
             [
              0,
              "#0d0887"
             ],
             [
              0.1111111111111111,
              "#46039f"
             ],
             [
              0.2222222222222222,
              "#7201a8"
             ],
             [
              0.3333333333333333,
              "#9c179e"
             ],
             [
              0.4444444444444444,
              "#bd3786"
             ],
             [
              0.5555555555555556,
              "#d8576b"
             ],
             [
              0.6666666666666666,
              "#ed7953"
             ],
             [
              0.7777777777777778,
              "#fb9f3a"
             ],
             [
              0.8888888888888888,
              "#fdca26"
             ],
             [
              1,
              "#f0f921"
             ]
            ],
            "type": "contour"
           }
          ],
          "contourcarpet": [
           {
            "colorbar": {
             "outlinewidth": 0,
             "ticks": ""
            },
            "type": "contourcarpet"
           }
          ],
          "heatmap": [
           {
            "colorbar": {
             "outlinewidth": 0,
             "ticks": ""
            },
            "colorscale": [
             [
              0,
              "#0d0887"
             ],
             [
              0.1111111111111111,
              "#46039f"
             ],
             [
              0.2222222222222222,
              "#7201a8"
             ],
             [
              0.3333333333333333,
              "#9c179e"
             ],
             [
              0.4444444444444444,
              "#bd3786"
             ],
             [
              0.5555555555555556,
              "#d8576b"
             ],
             [
              0.6666666666666666,
              "#ed7953"
             ],
             [
              0.7777777777777778,
              "#fb9f3a"
             ],
             [
              0.8888888888888888,
              "#fdca26"
             ],
             [
              1,
              "#f0f921"
             ]
            ],
            "type": "heatmap"
           }
          ],
          "heatmapgl": [
           {
            "colorbar": {
             "outlinewidth": 0,
             "ticks": ""
            },
            "colorscale": [
             [
              0,
              "#0d0887"
             ],
             [
              0.1111111111111111,
              "#46039f"
             ],
             [
              0.2222222222222222,
              "#7201a8"
             ],
             [
              0.3333333333333333,
              "#9c179e"
             ],
             [
              0.4444444444444444,
              "#bd3786"
             ],
             [
              0.5555555555555556,
              "#d8576b"
             ],
             [
              0.6666666666666666,
              "#ed7953"
             ],
             [
              0.7777777777777778,
              "#fb9f3a"
             ],
             [
              0.8888888888888888,
              "#fdca26"
             ],
             [
              1,
              "#f0f921"
             ]
            ],
            "type": "heatmapgl"
           }
          ],
          "histogram": [
           {
            "marker": {
             "colorbar": {
              "outlinewidth": 0,
              "ticks": ""
             }
            },
            "type": "histogram"
           }
          ],
          "histogram2d": [
           {
            "colorbar": {
             "outlinewidth": 0,
             "ticks": ""
            },
            "colorscale": [
             [
              0,
              "#0d0887"
             ],
             [
              0.1111111111111111,
              "#46039f"
             ],
             [
              0.2222222222222222,
              "#7201a8"
             ],
             [
              0.3333333333333333,
              "#9c179e"
             ],
             [
              0.4444444444444444,
              "#bd3786"
             ],
             [
              0.5555555555555556,
              "#d8576b"
             ],
             [
              0.6666666666666666,
              "#ed7953"
             ],
             [
              0.7777777777777778,
              "#fb9f3a"
             ],
             [
              0.8888888888888888,
              "#fdca26"
             ],
             [
              1,
              "#f0f921"
             ]
            ],
            "type": "histogram2d"
           }
          ],
          "histogram2dcontour": [
           {
            "colorbar": {
             "outlinewidth": 0,
             "ticks": ""
            },
            "colorscale": [
             [
              0,
              "#0d0887"
             ],
             [
              0.1111111111111111,
              "#46039f"
             ],
             [
              0.2222222222222222,
              "#7201a8"
             ],
             [
              0.3333333333333333,
              "#9c179e"
             ],
             [
              0.4444444444444444,
              "#bd3786"
             ],
             [
              0.5555555555555556,
              "#d8576b"
             ],
             [
              0.6666666666666666,
              "#ed7953"
             ],
             [
              0.7777777777777778,
              "#fb9f3a"
             ],
             [
              0.8888888888888888,
              "#fdca26"
             ],
             [
              1,
              "#f0f921"
             ]
            ],
            "type": "histogram2dcontour"
           }
          ],
          "mesh3d": [
           {
            "colorbar": {
             "outlinewidth": 0,
             "ticks": ""
            },
            "type": "mesh3d"
           }
          ],
          "parcoords": [
           {
            "line": {
             "colorbar": {
              "outlinewidth": 0,
              "ticks": ""
             }
            },
            "type": "parcoords"
           }
          ],
          "pie": [
           {
            "automargin": true,
            "type": "pie"
           }
          ],
          "scatter": [
           {
            "marker": {
             "colorbar": {
              "outlinewidth": 0,
              "ticks": ""
             }
            },
            "type": "scatter"
           }
          ],
          "scatter3d": [
           {
            "line": {
             "colorbar": {
              "outlinewidth": 0,
              "ticks": ""
             }
            },
            "marker": {
             "colorbar": {
              "outlinewidth": 0,
              "ticks": ""
             }
            },
            "type": "scatter3d"
           }
          ],
          "scattercarpet": [
           {
            "marker": {
             "colorbar": {
              "outlinewidth": 0,
              "ticks": ""
             }
            },
            "type": "scattercarpet"
           }
          ],
          "scattergeo": [
           {
            "marker": {
             "colorbar": {
              "outlinewidth": 0,
              "ticks": ""
             }
            },
            "type": "scattergeo"
           }
          ],
          "scattergl": [
           {
            "marker": {
             "colorbar": {
              "outlinewidth": 0,
              "ticks": ""
             }
            },
            "type": "scattergl"
           }
          ],
          "scattermapbox": [
           {
            "marker": {
             "colorbar": {
              "outlinewidth": 0,
              "ticks": ""
             }
            },
            "type": "scattermapbox"
           }
          ],
          "scatterpolar": [
           {
            "marker": {
             "colorbar": {
              "outlinewidth": 0,
              "ticks": ""
             }
            },
            "type": "scatterpolar"
           }
          ],
          "scatterpolargl": [
           {
            "marker": {
             "colorbar": {
              "outlinewidth": 0,
              "ticks": ""
             }
            },
            "type": "scatterpolargl"
           }
          ],
          "scatterternary": [
           {
            "marker": {
             "colorbar": {
              "outlinewidth": 0,
              "ticks": ""
             }
            },
            "type": "scatterternary"
           }
          ],
          "surface": [
           {
            "colorbar": {
             "outlinewidth": 0,
             "ticks": ""
            },
            "colorscale": [
             [
              0,
              "#0d0887"
             ],
             [
              0.1111111111111111,
              "#46039f"
             ],
             [
              0.2222222222222222,
              "#7201a8"
             ],
             [
              0.3333333333333333,
              "#9c179e"
             ],
             [
              0.4444444444444444,
              "#bd3786"
             ],
             [
              0.5555555555555556,
              "#d8576b"
             ],
             [
              0.6666666666666666,
              "#ed7953"
             ],
             [
              0.7777777777777778,
              "#fb9f3a"
             ],
             [
              0.8888888888888888,
              "#fdca26"
             ],
             [
              1,
              "#f0f921"
             ]
            ],
            "type": "surface"
           }
          ],
          "table": [
           {
            "cells": {
             "fill": {
              "color": "#EBF0F8"
             },
             "line": {
              "color": "white"
             }
            },
            "header": {
             "fill": {
              "color": "#C8D4E3"
             },
             "line": {
              "color": "white"
             }
            },
            "type": "table"
           }
          ]
         },
         "layout": {
          "annotationdefaults": {
           "arrowcolor": "#2a3f5f",
           "arrowhead": 0,
           "arrowwidth": 1
          },
          "autotypenumbers": "strict",
          "coloraxis": {
           "colorbar": {
            "outlinewidth": 0,
            "ticks": ""
           }
          },
          "colorscale": {
           "diverging": [
            [
             0,
             "#8e0152"
            ],
            [
             0.1,
             "#c51b7d"
            ],
            [
             0.2,
             "#de77ae"
            ],
            [
             0.3,
             "#f1b6da"
            ],
            [
             0.4,
             "#fde0ef"
            ],
            [
             0.5,
             "#f7f7f7"
            ],
            [
             0.6,
             "#e6f5d0"
            ],
            [
             0.7,
             "#b8e186"
            ],
            [
             0.8,
             "#7fbc41"
            ],
            [
             0.9,
             "#4d9221"
            ],
            [
             1,
             "#276419"
            ]
           ],
           "sequential": [
            [
             0,
             "#0d0887"
            ],
            [
             0.1111111111111111,
             "#46039f"
            ],
            [
             0.2222222222222222,
             "#7201a8"
            ],
            [
             0.3333333333333333,
             "#9c179e"
            ],
            [
             0.4444444444444444,
             "#bd3786"
            ],
            [
             0.5555555555555556,
             "#d8576b"
            ],
            [
             0.6666666666666666,
             "#ed7953"
            ],
            [
             0.7777777777777778,
             "#fb9f3a"
            ],
            [
             0.8888888888888888,
             "#fdca26"
            ],
            [
             1,
             "#f0f921"
            ]
           ],
           "sequentialminus": [
            [
             0,
             "#0d0887"
            ],
            [
             0.1111111111111111,
             "#46039f"
            ],
            [
             0.2222222222222222,
             "#7201a8"
            ],
            [
             0.3333333333333333,
             "#9c179e"
            ],
            [
             0.4444444444444444,
             "#bd3786"
            ],
            [
             0.5555555555555556,
             "#d8576b"
            ],
            [
             0.6666666666666666,
             "#ed7953"
            ],
            [
             0.7777777777777778,
             "#fb9f3a"
            ],
            [
             0.8888888888888888,
             "#fdca26"
            ],
            [
             1,
             "#f0f921"
            ]
           ]
          },
          "colorway": [
           "#636efa",
           "#EF553B",
           "#00cc96",
           "#ab63fa",
           "#FFA15A",
           "#19d3f3",
           "#FF6692",
           "#B6E880",
           "#FF97FF",
           "#FECB52"
          ],
          "font": {
           "color": "#2a3f5f"
          },
          "geo": {
           "bgcolor": "white",
           "lakecolor": "white",
           "landcolor": "#E5ECF6",
           "showlakes": true,
           "showland": true,
           "subunitcolor": "white"
          },
          "hoverlabel": {
           "align": "left"
          },
          "hovermode": "closest",
          "mapbox": {
           "style": "light"
          },
          "paper_bgcolor": "white",
          "plot_bgcolor": "#E5ECF6",
          "polar": {
           "angularaxis": {
            "gridcolor": "white",
            "linecolor": "white",
            "ticks": ""
           },
           "bgcolor": "#E5ECF6",
           "radialaxis": {
            "gridcolor": "white",
            "linecolor": "white",
            "ticks": ""
           }
          },
          "scene": {
           "xaxis": {
            "backgroundcolor": "#E5ECF6",
            "gridcolor": "white",
            "gridwidth": 2,
            "linecolor": "white",
            "showbackground": true,
            "ticks": "",
            "zerolinecolor": "white"
           },
           "yaxis": {
            "backgroundcolor": "#E5ECF6",
            "gridcolor": "white",
            "gridwidth": 2,
            "linecolor": "white",
            "showbackground": true,
            "ticks": "",
            "zerolinecolor": "white"
           },
           "zaxis": {
            "backgroundcolor": "#E5ECF6",
            "gridcolor": "white",
            "gridwidth": 2,
            "linecolor": "white",
            "showbackground": true,
            "ticks": "",
            "zerolinecolor": "white"
           }
          },
          "shapedefaults": {
           "line": {
            "color": "#2a3f5f"
           }
          },
          "ternary": {
           "aaxis": {
            "gridcolor": "white",
            "linecolor": "white",
            "ticks": ""
           },
           "baxis": {
            "gridcolor": "white",
            "linecolor": "white",
            "ticks": ""
           },
           "bgcolor": "#E5ECF6",
           "caxis": {
            "gridcolor": "white",
            "linecolor": "white",
            "ticks": ""
           }
          },
          "title": {
           "x": 0.05
          },
          "xaxis": {
           "automargin": true,
           "gridcolor": "white",
           "linecolor": "white",
           "ticks": "",
           "title": {
            "standoff": 15
           },
           "zerolinecolor": "white",
           "zerolinewidth": 2
          },
          "yaxis": {
           "automargin": true,
           "gridcolor": "white",
           "linecolor": "white",
           "ticks": "",
           "title": {
            "standoff": 15
           },
           "zerolinecolor": "white",
           "zerolinewidth": 2
          }
         }
        }
       }
      }
     },
     "metadata": {}
    }
   ],
   "source": [
    "sidebar='Confirmed'\n",
    "\n",
    "bubble_map = px.scatter_geo(covid_df[['Lat', 'Long', 'Country', sidebar]].dropna(),\n",
    "    lat='Lat',\n",
    "    lon='Long',\n",
    "    hover_name='Country', \n",
    "    size=sidebar, \n",
    "    projection='robinson',\n",
    "    color=sidebar,\n",
    "    size_max=50,\n",
    "    color_continuous_scale = ['deepskyblue','red']\n",
    ")\n",
    "bubble_map.update_geos(\n",
    "    resolution=110,\n",
    "    showcoastlines=True, coastlinecolor=\"RebeccaPurple\",\n",
    "    showland=True, landcolor=\"LightGreen\",\n",
    "    showocean=True, oceancolor=\"LightBlue\",\n",
    "    showlakes=True, lakecolor=\"Blue\",\n",
    "    showrivers=True, rivercolor=\"Blue\"\n",
    ")\n",
    "bubble_map.update_layout(\n",
    "    height=350, \n",
    "    margin={\"r\":15,\"t\":15,\"l\":15,\"b\":15}, \n",
    "    paper_bgcolor='white'\n",
    ")\n",
    "\n",
    "bubble_map.show()"
   ]
  },
  {
   "cell_type": "code",
   "execution_count": 31,
   "metadata": {},
   "outputs": [
    {
     "output_type": "display_data",
     "data": {
      "application/vnd.plotly.v1+json": {
       "config": {
        "plotlyServerURL": "https://plot.ly"
       },
       "data": [
        {
         "alignmentgroup": "True",
         "hovertemplate": "Country=%{x}<br>Confirmed=%{marker.color}<extra></extra>",
         "legendgroup": "",
         "marker": {
          "color": [
           29818528,
           11998233,
           11646081,
           4407031,
           4310195,
           4277786,
           3376376,
           3212332,
           3013122,
           2670001
          ],
          "coloraxis": "coloraxis"
         },
         "name": "",
         "offsetgroup": "",
         "orientation": "v",
         "showlegend": false,
         "textposition": "auto",
         "type": "bar",
         "x": [
          "US",
          "Brazil",
          "India",
          "Russia",
          "United Kingdom",
          "France",
          "Italy",
          "Spain",
          "Turkey",
          "Germany"
         ],
         "xaxis": "x",
         "y": [
          29818528,
          11998233,
          11646081,
          4407031,
          4310195,
          4277786,
          3376376,
          3212332,
          3013122,
          2670001
         ],
         "yaxis": "y"
        }
       ],
       "layout": {
        "barmode": "relative",
        "coloraxis": {
         "colorbar": {
          "title": {
           "text": "Confirmed"
          }
         },
         "colorscale": [
          [
           0,
           "#440154"
          ],
          [
           0.1111111111111111,
           "#482878"
          ],
          [
           0.2222222222222222,
           "#3e4989"
          ],
          [
           0.3333333333333333,
           "#31688e"
          ],
          [
           0.4444444444444444,
           "#26828e"
          ],
          [
           0.5555555555555556,
           "#1f9e89"
          ],
          [
           0.6666666666666666,
           "#35b779"
          ],
          [
           0.7777777777777778,
           "#6ece58"
          ],
          [
           0.8888888888888888,
           "#b5de2b"
          ],
          [
           1,
           "#fde725"
          ]
         ]
        },
        "height": 400,
        "legend": {
         "tracegroupgap": 0
        },
        "margin": {
         "b": 15,
         "l": 15,
         "r": 15,
         "t": 15
        },
        "paper_bgcolor": "white",
        "template": {
         "data": {
          "bar": [
           {
            "error_x": {
             "color": "#2a3f5f"
            },
            "error_y": {
             "color": "#2a3f5f"
            },
            "marker": {
             "line": {
              "color": "#E5ECF6",
              "width": 0.5
             }
            },
            "type": "bar"
           }
          ],
          "barpolar": [
           {
            "marker": {
             "line": {
              "color": "#E5ECF6",
              "width": 0.5
             }
            },
            "type": "barpolar"
           }
          ],
          "carpet": [
           {
            "aaxis": {
             "endlinecolor": "#2a3f5f",
             "gridcolor": "white",
             "linecolor": "white",
             "minorgridcolor": "white",
             "startlinecolor": "#2a3f5f"
            },
            "baxis": {
             "endlinecolor": "#2a3f5f",
             "gridcolor": "white",
             "linecolor": "white",
             "minorgridcolor": "white",
             "startlinecolor": "#2a3f5f"
            },
            "type": "carpet"
           }
          ],
          "choropleth": [
           {
            "colorbar": {
             "outlinewidth": 0,
             "ticks": ""
            },
            "type": "choropleth"
           }
          ],
          "contour": [
           {
            "colorbar": {
             "outlinewidth": 0,
             "ticks": ""
            },
            "colorscale": [
             [
              0,
              "#0d0887"
             ],
             [
              0.1111111111111111,
              "#46039f"
             ],
             [
              0.2222222222222222,
              "#7201a8"
             ],
             [
              0.3333333333333333,
              "#9c179e"
             ],
             [
              0.4444444444444444,
              "#bd3786"
             ],
             [
              0.5555555555555556,
              "#d8576b"
             ],
             [
              0.6666666666666666,
              "#ed7953"
             ],
             [
              0.7777777777777778,
              "#fb9f3a"
             ],
             [
              0.8888888888888888,
              "#fdca26"
             ],
             [
              1,
              "#f0f921"
             ]
            ],
            "type": "contour"
           }
          ],
          "contourcarpet": [
           {
            "colorbar": {
             "outlinewidth": 0,
             "ticks": ""
            },
            "type": "contourcarpet"
           }
          ],
          "heatmap": [
           {
            "colorbar": {
             "outlinewidth": 0,
             "ticks": ""
            },
            "colorscale": [
             [
              0,
              "#0d0887"
             ],
             [
              0.1111111111111111,
              "#46039f"
             ],
             [
              0.2222222222222222,
              "#7201a8"
             ],
             [
              0.3333333333333333,
              "#9c179e"
             ],
             [
              0.4444444444444444,
              "#bd3786"
             ],
             [
              0.5555555555555556,
              "#d8576b"
             ],
             [
              0.6666666666666666,
              "#ed7953"
             ],
             [
              0.7777777777777778,
              "#fb9f3a"
             ],
             [
              0.8888888888888888,
              "#fdca26"
             ],
             [
              1,
              "#f0f921"
             ]
            ],
            "type": "heatmap"
           }
          ],
          "heatmapgl": [
           {
            "colorbar": {
             "outlinewidth": 0,
             "ticks": ""
            },
            "colorscale": [
             [
              0,
              "#0d0887"
             ],
             [
              0.1111111111111111,
              "#46039f"
             ],
             [
              0.2222222222222222,
              "#7201a8"
             ],
             [
              0.3333333333333333,
              "#9c179e"
             ],
             [
              0.4444444444444444,
              "#bd3786"
             ],
             [
              0.5555555555555556,
              "#d8576b"
             ],
             [
              0.6666666666666666,
              "#ed7953"
             ],
             [
              0.7777777777777778,
              "#fb9f3a"
             ],
             [
              0.8888888888888888,
              "#fdca26"
             ],
             [
              1,
              "#f0f921"
             ]
            ],
            "type": "heatmapgl"
           }
          ],
          "histogram": [
           {
            "marker": {
             "colorbar": {
              "outlinewidth": 0,
              "ticks": ""
             }
            },
            "type": "histogram"
           }
          ],
          "histogram2d": [
           {
            "colorbar": {
             "outlinewidth": 0,
             "ticks": ""
            },
            "colorscale": [
             [
              0,
              "#0d0887"
             ],
             [
              0.1111111111111111,
              "#46039f"
             ],
             [
              0.2222222222222222,
              "#7201a8"
             ],
             [
              0.3333333333333333,
              "#9c179e"
             ],
             [
              0.4444444444444444,
              "#bd3786"
             ],
             [
              0.5555555555555556,
              "#d8576b"
             ],
             [
              0.6666666666666666,
              "#ed7953"
             ],
             [
              0.7777777777777778,
              "#fb9f3a"
             ],
             [
              0.8888888888888888,
              "#fdca26"
             ],
             [
              1,
              "#f0f921"
             ]
            ],
            "type": "histogram2d"
           }
          ],
          "histogram2dcontour": [
           {
            "colorbar": {
             "outlinewidth": 0,
             "ticks": ""
            },
            "colorscale": [
             [
              0,
              "#0d0887"
             ],
             [
              0.1111111111111111,
              "#46039f"
             ],
             [
              0.2222222222222222,
              "#7201a8"
             ],
             [
              0.3333333333333333,
              "#9c179e"
             ],
             [
              0.4444444444444444,
              "#bd3786"
             ],
             [
              0.5555555555555556,
              "#d8576b"
             ],
             [
              0.6666666666666666,
              "#ed7953"
             ],
             [
              0.7777777777777778,
              "#fb9f3a"
             ],
             [
              0.8888888888888888,
              "#fdca26"
             ],
             [
              1,
              "#f0f921"
             ]
            ],
            "type": "histogram2dcontour"
           }
          ],
          "mesh3d": [
           {
            "colorbar": {
             "outlinewidth": 0,
             "ticks": ""
            },
            "type": "mesh3d"
           }
          ],
          "parcoords": [
           {
            "line": {
             "colorbar": {
              "outlinewidth": 0,
              "ticks": ""
             }
            },
            "type": "parcoords"
           }
          ],
          "pie": [
           {
            "automargin": true,
            "type": "pie"
           }
          ],
          "scatter": [
           {
            "marker": {
             "colorbar": {
              "outlinewidth": 0,
              "ticks": ""
             }
            },
            "type": "scatter"
           }
          ],
          "scatter3d": [
           {
            "line": {
             "colorbar": {
              "outlinewidth": 0,
              "ticks": ""
             }
            },
            "marker": {
             "colorbar": {
              "outlinewidth": 0,
              "ticks": ""
             }
            },
            "type": "scatter3d"
           }
          ],
          "scattercarpet": [
           {
            "marker": {
             "colorbar": {
              "outlinewidth": 0,
              "ticks": ""
             }
            },
            "type": "scattercarpet"
           }
          ],
          "scattergeo": [
           {
            "marker": {
             "colorbar": {
              "outlinewidth": 0,
              "ticks": ""
             }
            },
            "type": "scattergeo"
           }
          ],
          "scattergl": [
           {
            "marker": {
             "colorbar": {
              "outlinewidth": 0,
              "ticks": ""
             }
            },
            "type": "scattergl"
           }
          ],
          "scattermapbox": [
           {
            "marker": {
             "colorbar": {
              "outlinewidth": 0,
              "ticks": ""
             }
            },
            "type": "scattermapbox"
           }
          ],
          "scatterpolar": [
           {
            "marker": {
             "colorbar": {
              "outlinewidth": 0,
              "ticks": ""
             }
            },
            "type": "scatterpolar"
           }
          ],
          "scatterpolargl": [
           {
            "marker": {
             "colorbar": {
              "outlinewidth": 0,
              "ticks": ""
             }
            },
            "type": "scatterpolargl"
           }
          ],
          "scatterternary": [
           {
            "marker": {
             "colorbar": {
              "outlinewidth": 0,
              "ticks": ""
             }
            },
            "type": "scatterternary"
           }
          ],
          "surface": [
           {
            "colorbar": {
             "outlinewidth": 0,
             "ticks": ""
            },
            "colorscale": [
             [
              0,
              "#0d0887"
             ],
             [
              0.1111111111111111,
              "#46039f"
             ],
             [
              0.2222222222222222,
              "#7201a8"
             ],
             [
              0.3333333333333333,
              "#9c179e"
             ],
             [
              0.4444444444444444,
              "#bd3786"
             ],
             [
              0.5555555555555556,
              "#d8576b"
             ],
             [
              0.6666666666666666,
              "#ed7953"
             ],
             [
              0.7777777777777778,
              "#fb9f3a"
             ],
             [
              0.8888888888888888,
              "#fdca26"
             ],
             [
              1,
              "#f0f921"
             ]
            ],
            "type": "surface"
           }
          ],
          "table": [
           {
            "cells": {
             "fill": {
              "color": "#EBF0F8"
             },
             "line": {
              "color": "white"
             }
            },
            "header": {
             "fill": {
              "color": "#C8D4E3"
             },
             "line": {
              "color": "white"
             }
            },
            "type": "table"
           }
          ]
         },
         "layout": {
          "annotationdefaults": {
           "arrowcolor": "#2a3f5f",
           "arrowhead": 0,
           "arrowwidth": 1
          },
          "autotypenumbers": "strict",
          "coloraxis": {
           "colorbar": {
            "outlinewidth": 0,
            "ticks": ""
           }
          },
          "colorscale": {
           "diverging": [
            [
             0,
             "#8e0152"
            ],
            [
             0.1,
             "#c51b7d"
            ],
            [
             0.2,
             "#de77ae"
            ],
            [
             0.3,
             "#f1b6da"
            ],
            [
             0.4,
             "#fde0ef"
            ],
            [
             0.5,
             "#f7f7f7"
            ],
            [
             0.6,
             "#e6f5d0"
            ],
            [
             0.7,
             "#b8e186"
            ],
            [
             0.8,
             "#7fbc41"
            ],
            [
             0.9,
             "#4d9221"
            ],
            [
             1,
             "#276419"
            ]
           ],
           "sequential": [
            [
             0,
             "#0d0887"
            ],
            [
             0.1111111111111111,
             "#46039f"
            ],
            [
             0.2222222222222222,
             "#7201a8"
            ],
            [
             0.3333333333333333,
             "#9c179e"
            ],
            [
             0.4444444444444444,
             "#bd3786"
            ],
            [
             0.5555555555555556,
             "#d8576b"
            ],
            [
             0.6666666666666666,
             "#ed7953"
            ],
            [
             0.7777777777777778,
             "#fb9f3a"
            ],
            [
             0.8888888888888888,
             "#fdca26"
            ],
            [
             1,
             "#f0f921"
            ]
           ],
           "sequentialminus": [
            [
             0,
             "#0d0887"
            ],
            [
             0.1111111111111111,
             "#46039f"
            ],
            [
             0.2222222222222222,
             "#7201a8"
            ],
            [
             0.3333333333333333,
             "#9c179e"
            ],
            [
             0.4444444444444444,
             "#bd3786"
            ],
            [
             0.5555555555555556,
             "#d8576b"
            ],
            [
             0.6666666666666666,
             "#ed7953"
            ],
            [
             0.7777777777777778,
             "#fb9f3a"
            ],
            [
             0.8888888888888888,
             "#fdca26"
            ],
            [
             1,
             "#f0f921"
            ]
           ]
          },
          "colorway": [
           "#636efa",
           "#EF553B",
           "#00cc96",
           "#ab63fa",
           "#FFA15A",
           "#19d3f3",
           "#FF6692",
           "#B6E880",
           "#FF97FF",
           "#FECB52"
          ],
          "font": {
           "color": "#2a3f5f"
          },
          "geo": {
           "bgcolor": "white",
           "lakecolor": "white",
           "landcolor": "#E5ECF6",
           "showlakes": true,
           "showland": true,
           "subunitcolor": "white"
          },
          "hoverlabel": {
           "align": "left"
          },
          "hovermode": "closest",
          "mapbox": {
           "style": "light"
          },
          "paper_bgcolor": "white",
          "plot_bgcolor": "#E5ECF6",
          "polar": {
           "angularaxis": {
            "gridcolor": "white",
            "linecolor": "white",
            "ticks": ""
           },
           "bgcolor": "#E5ECF6",
           "radialaxis": {
            "gridcolor": "white",
            "linecolor": "white",
            "ticks": ""
           }
          },
          "scene": {
           "xaxis": {
            "backgroundcolor": "#E5ECF6",
            "gridcolor": "white",
            "gridwidth": 2,
            "linecolor": "white",
            "showbackground": true,
            "ticks": "",
            "zerolinecolor": "white"
           },
           "yaxis": {
            "backgroundcolor": "#E5ECF6",
            "gridcolor": "white",
            "gridwidth": 2,
            "linecolor": "white",
            "showbackground": true,
            "ticks": "",
            "zerolinecolor": "white"
           },
           "zaxis": {
            "backgroundcolor": "#E5ECF6",
            "gridcolor": "white",
            "gridwidth": 2,
            "linecolor": "white",
            "showbackground": true,
            "ticks": "",
            "zerolinecolor": "white"
           }
          },
          "shapedefaults": {
           "line": {
            "color": "#2a3f5f"
           }
          },
          "ternary": {
           "aaxis": {
            "gridcolor": "white",
            "linecolor": "white",
            "ticks": ""
           },
           "baxis": {
            "gridcolor": "white",
            "linecolor": "white",
            "ticks": ""
           },
           "bgcolor": "#E5ECF6",
           "caxis": {
            "gridcolor": "white",
            "linecolor": "white",
            "ticks": ""
           }
          },
          "title": {
           "x": 0.05
          },
          "xaxis": {
           "automargin": true,
           "gridcolor": "white",
           "linecolor": "white",
           "ticks": "",
           "title": {
            "standoff": 15
           },
           "zerolinecolor": "white",
           "zerolinewidth": 2
          },
          "yaxis": {
           "automargin": true,
           "gridcolor": "white",
           "linecolor": "white",
           "ticks": "",
           "title": {
            "standoff": 15
           },
           "zerolinecolor": "white",
           "zerolinewidth": 2
          }
         }
        },
        "xaxis": {
         "anchor": "y",
         "domain": [
          0,
          1
         ],
         "title": {
          "text": "Country"
         }
        },
        "yaxis": {
         "anchor": "x",
         "domain": [
          0,
          1
         ],
         "title": {
          "text": "Confirmed"
         }
        }
       }
      }
     },
     "metadata": {}
    }
   ],
   "source": [
    "threshold = 10\n",
    "bar = px.bar(covid_df[['Country', sidebar]].dropna().sort_values(sidebar, ascending=False)[:threshold], \n",
    "    y=sidebar,\n",
    "    x='Country', \n",
    "    color=sidebar,\n",
    "    color_continuous_scale=px.colors.sequential.Viridis\n",
    ")\n",
    "bar.update_layout(\n",
    "    height=400, \n",
    "    margin={\"r\":15,\"t\":15,\"l\":15,\"b\":15},\n",
    "    paper_bgcolor='white'\n",
    ")\n",
    "bar.show()"
   ]
  },
  {
   "cell_type": "code",
   "execution_count": 33,
   "metadata": {},
   "outputs": [
    {
     "output_type": "execute_result",
     "data": {
      "text/plain": [
       "<AxesSubplot:xlabel='Country'>"
      ]
     },
     "metadata": {},
     "execution_count": 33
    },
    {
     "output_type": "display_data",
     "data": {
      "text/plain": "<Figure size 432x288 with 1 Axes>",
      "image/svg+xml": "<?xml version=\"1.0\" encoding=\"utf-8\" standalone=\"no\"?>\r\n<!DOCTYPE svg PUBLIC \"-//W3C//DTD SVG 1.1//EN\"\r\n  \"http://www.w3.org/Graphics/SVG/1.1/DTD/svg11.dtd\">\r\n<!-- Created with matplotlib (https://matplotlib.org/) -->\r\n<svg height=\"420.688437pt\" version=\"1.1\" viewBox=\"0 0 381.65 420.688437\" width=\"381.65pt\" xmlns=\"http://www.w3.org/2000/svg\" xmlns:xlink=\"http://www.w3.org/1999/xlink\">\r\n <metadata>\r\n  <rdf:RDF xmlns:cc=\"http://creativecommons.org/ns#\" xmlns:dc=\"http://purl.org/dc/elements/1.1/\" xmlns:rdf=\"http://www.w3.org/1999/02/22-rdf-syntax-ns#\">\r\n   <cc:Work>\r\n    <dc:type rdf:resource=\"http://purl.org/dc/dcmitype/StillImage\"/>\r\n    <dc:date>2021-03-22T13:46:09.440453</dc:date>\r\n    <dc:format>image/svg+xml</dc:format>\r\n    <dc:creator>\r\n     <cc:Agent>\r\n      <dc:title>Matplotlib v3.3.3, https://matplotlib.org/</dc:title>\r\n     </cc:Agent>\r\n    </dc:creator>\r\n   </cc:Work>\r\n  </rdf:RDF>\r\n </metadata>\r\n <defs>\r\n  <style type=\"text/css\">*{stroke-linecap:butt;stroke-linejoin:round;}</style>\r\n </defs>\r\n <g id=\"figure_1\">\r\n  <g id=\"patch_1\">\r\n   <path d=\"M -0 420.688437 \r\nL 381.65 420.688437 \r\nL 381.65 0 \r\nL -0 0 \r\nz\r\n\" style=\"fill:none;\"/>\r\n  </g>\r\n  <g id=\"axes_1\">\r\n   <g id=\"patch_2\">\r\n    <path d=\"M 39.65 224.64 \r\nL 374.45 224.64 \r\nL 374.45 7.2 \r\nL 39.65 7.2 \r\nz\r\n\" style=\"fill:#ffffff;\"/>\r\n   </g>\r\n   <g id=\"patch_3\">\r\n    <path clip-path=\"url(#pde5374ca2f)\" d=\"M 42.998 224.64 \r\nL 49.694 224.64 \r\nL 49.694 224.544701 \r\nL 42.998 224.544701 \r\nz\r\n\" style=\"fill:#1f77b4;\"/>\r\n   </g>\r\n   <g id=\"patch_4\">\r\n    <path clip-path=\"url(#pde5374ca2f)\" d=\"M 56.39 224.64 \r\nL 63.086 224.64 \r\nL 63.086 224.354102 \r\nL 56.39 224.354102 \r\nz\r\n\" style=\"fill:#1f77b4;\"/>\r\n   </g>\r\n   <g id=\"patch_5\">\r\n    <path clip-path=\"url(#pde5374ca2f)\" d=\"M 69.782 224.64 \r\nL 76.478 224.64 \r\nL 76.478 224.354102 \r\nL 69.782 224.354102 \r\nz\r\n\" style=\"fill:#1f77b4;\"/>\r\n   </g>\r\n   <g id=\"patch_6\">\r\n    <path clip-path=\"url(#pde5374ca2f)\" d=\"M 83.174 224.64 \r\nL 89.87 224.64 \r\nL 89.87 224.258802 \r\nL 83.174 224.258802 \r\nz\r\n\" style=\"fill:#1f77b4;\"/>\r\n   </g>\r\n   <g id=\"patch_7\">\r\n    <path clip-path=\"url(#pde5374ca2f)\" d=\"M 96.566 224.64 \r\nL 103.262 224.64 \r\nL 103.262 223.782305 \r\nL 96.566 223.782305 \r\nz\r\n\" style=\"fill:#1f77b4;\"/>\r\n   </g>\r\n   <g id=\"patch_8\">\r\n    <path clip-path=\"url(#pde5374ca2f)\" d=\"M 109.958 224.64 \r\nL 116.654 224.64 \r\nL 116.654 222.92461 \r\nL 109.958 222.92461 \r\nz\r\n\" style=\"fill:#1f77b4;\"/>\r\n   </g>\r\n   <g id=\"patch_9\">\r\n    <path clip-path=\"url(#pde5374ca2f)\" d=\"M 123.35 224.64 \r\nL 130.046 224.64 \r\nL 130.046 222.066915 \r\nL 123.35 222.066915 \r\nz\r\n\" style=\"fill:#1f77b4;\"/>\r\n   </g>\r\n   <g id=\"patch_10\">\r\n    <path clip-path=\"url(#pde5374ca2f)\" d=\"M 136.742 224.64 \r\nL 143.438 224.64 \r\nL 143.438 220.446824 \r\nL 136.742 220.446824 \r\nz\r\n\" style=\"fill:#1f77b4;\"/>\r\n   </g>\r\n   <g id=\"patch_11\">\r\n    <path clip-path=\"url(#pde5374ca2f)\" d=\"M 150.134 224.64 \r\nL 156.83 224.64 \r\nL 156.83 219.970327 \r\nL 150.134 219.970327 \r\nz\r\n\" style=\"fill:#1f77b4;\"/>\r\n   </g>\r\n   <g id=\"patch_12\">\r\n    <path clip-path=\"url(#pde5374ca2f)\" d=\"M 163.526 224.64 \r\nL 170.222 224.64 \r\nL 170.222 218.254937 \r\nL 163.526 218.254937 \r\nz\r\n\" style=\"fill:#1f77b4;\"/>\r\n   </g>\r\n   <g id=\"patch_13\">\r\n    <path clip-path=\"url(#pde5374ca2f)\" d=\"M 176.918 224.64 \r\nL 183.614 224.64 \r\nL 183.614 209.963884 \r\nL 176.918 209.963884 \r\nz\r\n\" style=\"fill:#1f77b4;\"/>\r\n   </g>\r\n   <g id=\"patch_14\">\r\n    <path clip-path=\"url(#pde5374ca2f)\" d=\"M 190.31 224.64 \r\nL 197.006 224.64 \r\nL 197.006 209.773285 \r\nL 190.31 209.773285 \r\nz\r\n\" style=\"fill:#1f77b4;\"/>\r\n   </g>\r\n   <g id=\"patch_15\">\r\n    <path clip-path=\"url(#pde5374ca2f)\" d=\"M 203.702 224.64 \r\nL 210.398 224.64 \r\nL 210.398 205.008312 \r\nL 203.702 205.008312 \r\nz\r\n\" style=\"fill:#1f77b4;\"/>\r\n   </g>\r\n   <g id=\"patch_16\">\r\n    <path clip-path=\"url(#pde5374ca2f)\" d=\"M 217.094 224.64 \r\nL 223.79 224.64 \r\nL 223.79 193.572378 \r\nL 217.094 193.572378 \r\nz\r\n\" style=\"fill:#1f77b4;\"/>\r\n   </g>\r\n   <g id=\"patch_17\">\r\n    <path clip-path=\"url(#pde5374ca2f)\" d=\"M 230.486 224.64 \r\nL 237.182 224.64 \r\nL 237.182 176.132578 \r\nL 230.486 176.132578 \r\nz\r\n\" style=\"fill:#1f77b4;\"/>\r\n   </g>\r\n   <g id=\"patch_18\">\r\n    <path clip-path=\"url(#pde5374ca2f)\" d=\"M 243.878 224.64 \r\nL 250.574 224.64 \r\nL 250.574 156.786789 \r\nL 243.878 156.786789 \r\nz\r\n\" style=\"fill:#1f77b4;\"/>\r\n   </g>\r\n   <g id=\"patch_19\">\r\n    <path clip-path=\"url(#pde5374ca2f)\" d=\"M 257.27 224.64 \r\nL 263.966 224.64 \r\nL 263.966 147.923939 \r\nL 257.27 147.923939 \r\nz\r\n\" style=\"fill:#1f77b4;\"/>\r\n   </g>\r\n   <g id=\"patch_20\">\r\n    <path clip-path=\"url(#pde5374ca2f)\" d=\"M 270.662 224.64 \r\nL 277.358 224.64 \r\nL 277.358 141.824774 \r\nL 270.662 141.824774 \r\nz\r\n\" style=\"fill:#1f77b4;\"/>\r\n   </g>\r\n   <g id=\"patch_21\">\r\n    <path clip-path=\"url(#pde5374ca2f)\" d=\"M 284.054 224.64 \r\nL 290.75 224.64 \r\nL 290.75 128.768749 \r\nL 284.054 128.768749 \r\nz\r\n\" style=\"fill:#1f77b4;\"/>\r\n   </g>\r\n   <g id=\"patch_22\">\r\n    <path clip-path=\"url(#pde5374ca2f)\" d=\"M 297.446 224.64 \r\nL 304.142 224.64 \r\nL 304.142 126.195664 \r\nL 297.446 126.195664 \r\nz\r\n\" style=\"fill:#1f77b4;\"/>\r\n   </g>\r\n   <g id=\"patch_23\">\r\n    <path clip-path=\"url(#pde5374ca2f)\" d=\"M 310.838 224.64 \r\nL 317.534 224.64 \r\nL 317.534 63.012125 \r\nL 310.838 63.012125 \r\nz\r\n\" style=\"fill:#1f77b4;\"/>\r\n   </g>\r\n   <g id=\"patch_24\">\r\n    <path clip-path=\"url(#pde5374ca2f)\" d=\"M 324.23 224.64 \r\nL 330.926 224.64 \r\nL 330.926 57.580057 \r\nL 324.23 57.580057 \r\nz\r\n\" style=\"fill:#1f77b4;\"/>\r\n   </g>\r\n   <g id=\"patch_25\">\r\n    <path clip-path=\"url(#pde5374ca2f)\" d=\"M 337.622 224.64 \r\nL 344.318 224.64 \r\nL 344.318 30.038514 \r\nL 337.622 30.038514 \r\nz\r\n\" style=\"fill:#1f77b4;\"/>\r\n   </g>\r\n   <g id=\"patch_26\">\r\n    <path clip-path=\"url(#pde5374ca2f)\" d=\"M 351.014 224.64 \r\nL 357.71 224.64 \r\nL 357.71 20.22267 \r\nL 351.014 20.22267 \r\nz\r\n\" style=\"fill:#1f77b4;\"/>\r\n   </g>\r\n   <g id=\"patch_27\">\r\n    <path clip-path=\"url(#pde5374ca2f)\" d=\"M 364.406 224.64 \r\nL 371.102 224.64 \r\nL 371.102 17.554286 \r\nL 364.406 17.554286 \r\nz\r\n\" style=\"fill:#1f77b4;\"/>\r\n   </g>\r\n   <g id=\"matplotlib.axis_1\">\r\n    <g id=\"xtick_1\">\r\n     <g id=\"line2d_1\">\r\n      <defs>\r\n       <path d=\"M 0 0 \r\nL 0 3.5 \r\n\" id=\"m68adf667bf\" style=\"stroke:#000000;stroke-width:0.8;\"/>\r\n      </defs>\r\n      <g>\r\n       <use style=\"stroke:#000000;stroke-width:0.8;\" x=\"46.346\" xlink:href=\"#m68adf667bf\" y=\"224.64\"/>\r\n      </g>\r\n     </g>\r\n     <g id=\"text_1\">\r\n      <!-- Micronesia -->\r\n      <g transform=\"translate(49.105375 285.155625)rotate(-90)scale(0.1 -0.1)\">\r\n       <defs>\r\n        <path d=\"M 9.8125 72.90625 \r\nL 24.515625 72.90625 \r\nL 43.109375 23.296875 \r\nL 61.8125 72.90625 \r\nL 76.515625 72.90625 \r\nL 76.515625 0 \r\nL 66.890625 0 \r\nL 66.890625 64.015625 \r\nL 48.09375 14.015625 \r\nL 38.1875 14.015625 \r\nL 19.390625 64.015625 \r\nL 19.390625 0 \r\nL 9.8125 0 \r\nz\r\n\" id=\"DejaVuSans-77\"/>\r\n        <path d=\"M 9.421875 54.6875 \r\nL 18.40625 54.6875 \r\nL 18.40625 0 \r\nL 9.421875 0 \r\nz\r\nM 9.421875 75.984375 \r\nL 18.40625 75.984375 \r\nL 18.40625 64.59375 \r\nL 9.421875 64.59375 \r\nz\r\n\" id=\"DejaVuSans-105\"/>\r\n        <path d=\"M 48.78125 52.59375 \r\nL 48.78125 44.1875 \r\nQ 44.96875 46.296875 41.140625 47.34375 \r\nQ 37.3125 48.390625 33.40625 48.390625 \r\nQ 24.65625 48.390625 19.8125 42.84375 \r\nQ 14.984375 37.3125 14.984375 27.296875 \r\nQ 14.984375 17.28125 19.8125 11.734375 \r\nQ 24.65625 6.203125 33.40625 6.203125 \r\nQ 37.3125 6.203125 41.140625 7.25 \r\nQ 44.96875 8.296875 48.78125 10.40625 \r\nL 48.78125 2.09375 \r\nQ 45.015625 0.34375 40.984375 -0.53125 \r\nQ 36.96875 -1.421875 32.421875 -1.421875 \r\nQ 20.0625 -1.421875 12.78125 6.34375 \r\nQ 5.515625 14.109375 5.515625 27.296875 \r\nQ 5.515625 40.671875 12.859375 48.328125 \r\nQ 20.21875 56 33.015625 56 \r\nQ 37.15625 56 41.109375 55.140625 \r\nQ 45.0625 54.296875 48.78125 52.59375 \r\nz\r\n\" id=\"DejaVuSans-99\"/>\r\n        <path d=\"M 41.109375 46.296875 \r\nQ 39.59375 47.171875 37.8125 47.578125 \r\nQ 36.03125 48 33.890625 48 \r\nQ 26.265625 48 22.1875 43.046875 \r\nQ 18.109375 38.09375 18.109375 28.8125 \r\nL 18.109375 0 \r\nL 9.078125 0 \r\nL 9.078125 54.6875 \r\nL 18.109375 54.6875 \r\nL 18.109375 46.1875 \r\nQ 20.953125 51.171875 25.484375 53.578125 \r\nQ 30.03125 56 36.53125 56 \r\nQ 37.453125 56 38.578125 55.875 \r\nQ 39.703125 55.765625 41.0625 55.515625 \r\nz\r\n\" id=\"DejaVuSans-114\"/>\r\n        <path d=\"M 30.609375 48.390625 \r\nQ 23.390625 48.390625 19.1875 42.75 \r\nQ 14.984375 37.109375 14.984375 27.296875 \r\nQ 14.984375 17.484375 19.15625 11.84375 \r\nQ 23.34375 6.203125 30.609375 6.203125 \r\nQ 37.796875 6.203125 41.984375 11.859375 \r\nQ 46.1875 17.53125 46.1875 27.296875 \r\nQ 46.1875 37.015625 41.984375 42.703125 \r\nQ 37.796875 48.390625 30.609375 48.390625 \r\nz\r\nM 30.609375 56 \r\nQ 42.328125 56 49.015625 48.375 \r\nQ 55.71875 40.765625 55.71875 27.296875 \r\nQ 55.71875 13.875 49.015625 6.21875 \r\nQ 42.328125 -1.421875 30.609375 -1.421875 \r\nQ 18.84375 -1.421875 12.171875 6.21875 \r\nQ 5.515625 13.875 5.515625 27.296875 \r\nQ 5.515625 40.765625 12.171875 48.375 \r\nQ 18.84375 56 30.609375 56 \r\nz\r\n\" id=\"DejaVuSans-111\"/>\r\n        <path d=\"M 54.890625 33.015625 \r\nL 54.890625 0 \r\nL 45.90625 0 \r\nL 45.90625 32.71875 \r\nQ 45.90625 40.484375 42.875 44.328125 \r\nQ 39.84375 48.1875 33.796875 48.1875 \r\nQ 26.515625 48.1875 22.3125 43.546875 \r\nQ 18.109375 38.921875 18.109375 30.90625 \r\nL 18.109375 0 \r\nL 9.078125 0 \r\nL 9.078125 54.6875 \r\nL 18.109375 54.6875 \r\nL 18.109375 46.1875 \r\nQ 21.34375 51.125 25.703125 53.5625 \r\nQ 30.078125 56 35.796875 56 \r\nQ 45.21875 56 50.046875 50.171875 \r\nQ 54.890625 44.34375 54.890625 33.015625 \r\nz\r\n\" id=\"DejaVuSans-110\"/>\r\n        <path d=\"M 56.203125 29.59375 \r\nL 56.203125 25.203125 \r\nL 14.890625 25.203125 \r\nQ 15.484375 15.921875 20.484375 11.0625 \r\nQ 25.484375 6.203125 34.421875 6.203125 \r\nQ 39.59375 6.203125 44.453125 7.46875 \r\nQ 49.3125 8.734375 54.109375 11.28125 \r\nL 54.109375 2.78125 \r\nQ 49.265625 0.734375 44.1875 -0.34375 \r\nQ 39.109375 -1.421875 33.890625 -1.421875 \r\nQ 20.796875 -1.421875 13.15625 6.1875 \r\nQ 5.515625 13.8125 5.515625 26.8125 \r\nQ 5.515625 40.234375 12.765625 48.109375 \r\nQ 20.015625 56 32.328125 56 \r\nQ 43.359375 56 49.78125 48.890625 \r\nQ 56.203125 41.796875 56.203125 29.59375 \r\nz\r\nM 47.21875 32.234375 \r\nQ 47.125 39.59375 43.09375 43.984375 \r\nQ 39.0625 48.390625 32.421875 48.390625 \r\nQ 24.90625 48.390625 20.390625 44.140625 \r\nQ 15.875 39.890625 15.1875 32.171875 \r\nz\r\n\" id=\"DejaVuSans-101\"/>\r\n        <path d=\"M 44.28125 53.078125 \r\nL 44.28125 44.578125 \r\nQ 40.484375 46.53125 36.375 47.5 \r\nQ 32.28125 48.484375 27.875 48.484375 \r\nQ 21.1875 48.484375 17.84375 46.4375 \r\nQ 14.5 44.390625 14.5 40.28125 \r\nQ 14.5 37.15625 16.890625 35.375 \r\nQ 19.28125 33.59375 26.515625 31.984375 \r\nL 29.59375 31.296875 \r\nQ 39.15625 29.25 43.1875 25.515625 \r\nQ 47.21875 21.78125 47.21875 15.09375 \r\nQ 47.21875 7.46875 41.1875 3.015625 \r\nQ 35.15625 -1.421875 24.609375 -1.421875 \r\nQ 20.21875 -1.421875 15.453125 -0.5625 \r\nQ 10.6875 0.296875 5.421875 2 \r\nL 5.421875 11.28125 \r\nQ 10.40625 8.6875 15.234375 7.390625 \r\nQ 20.0625 6.109375 24.8125 6.109375 \r\nQ 31.15625 6.109375 34.5625 8.28125 \r\nQ 37.984375 10.453125 37.984375 14.40625 \r\nQ 37.984375 18.0625 35.515625 20.015625 \r\nQ 33.0625 21.96875 24.703125 23.78125 \r\nL 21.578125 24.515625 \r\nQ 13.234375 26.265625 9.515625 29.90625 \r\nQ 5.8125 33.546875 5.8125 39.890625 \r\nQ 5.8125 47.609375 11.28125 51.796875 \r\nQ 16.75 56 26.8125 56 \r\nQ 31.78125 56 36.171875 55.265625 \r\nQ 40.578125 54.546875 44.28125 53.078125 \r\nz\r\n\" id=\"DejaVuSans-115\"/>\r\n        <path d=\"M 34.28125 27.484375 \r\nQ 23.390625 27.484375 19.1875 25 \r\nQ 14.984375 22.515625 14.984375 16.5 \r\nQ 14.984375 11.71875 18.140625 8.90625 \r\nQ 21.296875 6.109375 26.703125 6.109375 \r\nQ 34.1875 6.109375 38.703125 11.40625 \r\nQ 43.21875 16.703125 43.21875 25.484375 \r\nL 43.21875 27.484375 \r\nz\r\nM 52.203125 31.203125 \r\nL 52.203125 0 \r\nL 43.21875 0 \r\nL 43.21875 8.296875 \r\nQ 40.140625 3.328125 35.546875 0.953125 \r\nQ 30.953125 -1.421875 24.3125 -1.421875 \r\nQ 15.921875 -1.421875 10.953125 3.296875 \r\nQ 6 8.015625 6 15.921875 \r\nQ 6 25.140625 12.171875 29.828125 \r\nQ 18.359375 34.515625 30.609375 34.515625 \r\nL 43.21875 34.515625 \r\nL 43.21875 35.40625 \r\nQ 43.21875 41.609375 39.140625 45 \r\nQ 35.0625 48.390625 27.6875 48.390625 \r\nQ 23 48.390625 18.546875 47.265625 \r\nQ 14.109375 46.140625 10.015625 43.890625 \r\nL 10.015625 52.203125 \r\nQ 14.9375 54.109375 19.578125 55.046875 \r\nQ 24.21875 56 28.609375 56 \r\nQ 40.484375 56 46.34375 49.84375 \r\nQ 52.203125 43.703125 52.203125 31.203125 \r\nz\r\n\" id=\"DejaVuSans-97\"/>\r\n       </defs>\r\n       <use xlink:href=\"#DejaVuSans-77\"/>\r\n       <use x=\"86.279297\" xlink:href=\"#DejaVuSans-105\"/>\r\n       <use x=\"114.0625\" xlink:href=\"#DejaVuSans-99\"/>\r\n       <use x=\"169.042969\" xlink:href=\"#DejaVuSans-114\"/>\r\n       <use x=\"207.90625\" xlink:href=\"#DejaVuSans-111\"/>\r\n       <use x=\"269.087891\" xlink:href=\"#DejaVuSans-110\"/>\r\n       <use x=\"332.466797\" xlink:href=\"#DejaVuSans-101\"/>\r\n       <use x=\"393.990234\" xlink:href=\"#DejaVuSans-115\"/>\r\n       <use x=\"446.089844\" xlink:href=\"#DejaVuSans-105\"/>\r\n       <use x=\"473.873047\" xlink:href=\"#DejaVuSans-97\"/>\r\n      </g>\r\n     </g>\r\n    </g>\r\n    <g id=\"xtick_2\">\r\n     <g id=\"line2d_2\">\r\n      <g>\r\n       <use style=\"stroke:#000000;stroke-width:0.8;\" x=\"59.738\" xlink:href=\"#m68adf667bf\" y=\"224.64\"/>\r\n      </g>\r\n     </g>\r\n     <g id=\"text_2\">\r\n      <!-- Samoa -->\r\n      <g transform=\"translate(62.497375 266.104062)rotate(-90)scale(0.1 -0.1)\">\r\n       <defs>\r\n        <path d=\"M 53.515625 70.515625 \r\nL 53.515625 60.890625 \r\nQ 47.90625 63.578125 42.921875 64.890625 \r\nQ 37.9375 66.21875 33.296875 66.21875 \r\nQ 25.25 66.21875 20.875 63.09375 \r\nQ 16.5 59.96875 16.5 54.203125 \r\nQ 16.5 49.359375 19.40625 46.890625 \r\nQ 22.3125 44.4375 30.421875 42.921875 \r\nL 36.375 41.703125 \r\nQ 47.40625 39.59375 52.65625 34.296875 \r\nQ 57.90625 29 57.90625 20.125 \r\nQ 57.90625 9.515625 50.796875 4.046875 \r\nQ 43.703125 -1.421875 29.984375 -1.421875 \r\nQ 24.8125 -1.421875 18.96875 -0.25 \r\nQ 13.140625 0.921875 6.890625 3.21875 \r\nL 6.890625 13.375 \r\nQ 12.890625 10.015625 18.65625 8.296875 \r\nQ 24.421875 6.59375 29.984375 6.59375 \r\nQ 38.421875 6.59375 43.015625 9.90625 \r\nQ 47.609375 13.234375 47.609375 19.390625 \r\nQ 47.609375 24.75 44.3125 27.78125 \r\nQ 41.015625 30.8125 33.5 32.328125 \r\nL 27.484375 33.5 \r\nQ 16.453125 35.6875 11.515625 40.375 \r\nQ 6.59375 45.0625 6.59375 53.421875 \r\nQ 6.59375 63.09375 13.40625 68.65625 \r\nQ 20.21875 74.21875 32.171875 74.21875 \r\nQ 37.3125 74.21875 42.625 73.28125 \r\nQ 47.953125 72.359375 53.515625 70.515625 \r\nz\r\n\" id=\"DejaVuSans-83\"/>\r\n        <path d=\"M 52 44.1875 \r\nQ 55.375 50.25 60.0625 53.125 \r\nQ 64.75 56 71.09375 56 \r\nQ 79.640625 56 84.28125 50.015625 \r\nQ 88.921875 44.046875 88.921875 33.015625 \r\nL 88.921875 0 \r\nL 79.890625 0 \r\nL 79.890625 32.71875 \r\nQ 79.890625 40.578125 77.09375 44.375 \r\nQ 74.3125 48.1875 68.609375 48.1875 \r\nQ 61.625 48.1875 57.5625 43.546875 \r\nQ 53.515625 38.921875 53.515625 30.90625 \r\nL 53.515625 0 \r\nL 44.484375 0 \r\nL 44.484375 32.71875 \r\nQ 44.484375 40.625 41.703125 44.40625 \r\nQ 38.921875 48.1875 33.109375 48.1875 \r\nQ 26.21875 48.1875 22.15625 43.53125 \r\nQ 18.109375 38.875 18.109375 30.90625 \r\nL 18.109375 0 \r\nL 9.078125 0 \r\nL 9.078125 54.6875 \r\nL 18.109375 54.6875 \r\nL 18.109375 46.1875 \r\nQ 21.1875 51.21875 25.484375 53.609375 \r\nQ 29.78125 56 35.6875 56 \r\nQ 41.65625 56 45.828125 52.96875 \r\nQ 50 49.953125 52 44.1875 \r\nz\r\n\" id=\"DejaVuSans-109\"/>\r\n       </defs>\r\n       <use xlink:href=\"#DejaVuSans-83\"/>\r\n       <use x=\"63.476562\" xlink:href=\"#DejaVuSans-97\"/>\r\n       <use x=\"124.755859\" xlink:href=\"#DejaVuSans-109\"/>\r\n       <use x=\"222.167969\" xlink:href=\"#DejaVuSans-111\"/>\r\n       <use x=\"283.349609\" xlink:href=\"#DejaVuSans-97\"/>\r\n      </g>\r\n     </g>\r\n    </g>\r\n    <g id=\"xtick_3\">\r\n     <g id=\"line2d_3\">\r\n      <g>\r\n       <use style=\"stroke:#000000;stroke-width:0.8;\" x=\"73.13\" xlink:href=\"#m68adf667bf\" y=\"224.64\"/>\r\n      </g>\r\n     </g>\r\n     <g id=\"text_3\">\r\n      <!-- Vanuatu -->\r\n      <g transform=\"translate(75.889375 272.894687)rotate(-90)scale(0.1 -0.1)\">\r\n       <defs>\r\n        <path d=\"M 28.609375 0 \r\nL 0.78125 72.90625 \r\nL 11.078125 72.90625 \r\nL 34.1875 11.53125 \r\nL 57.328125 72.90625 \r\nL 67.578125 72.90625 \r\nL 39.796875 0 \r\nz\r\n\" id=\"DejaVuSans-86\"/>\r\n        <path d=\"M 8.5 21.578125 \r\nL 8.5 54.6875 \r\nL 17.484375 54.6875 \r\nL 17.484375 21.921875 \r\nQ 17.484375 14.15625 20.5 10.265625 \r\nQ 23.53125 6.390625 29.59375 6.390625 \r\nQ 36.859375 6.390625 41.078125 11.03125 \r\nQ 45.3125 15.671875 45.3125 23.6875 \r\nL 45.3125 54.6875 \r\nL 54.296875 54.6875 \r\nL 54.296875 0 \r\nL 45.3125 0 \r\nL 45.3125 8.40625 \r\nQ 42.046875 3.421875 37.71875 1 \r\nQ 33.40625 -1.421875 27.6875 -1.421875 \r\nQ 18.265625 -1.421875 13.375 4.4375 \r\nQ 8.5 10.296875 8.5 21.578125 \r\nz\r\nM 31.109375 56 \r\nz\r\n\" id=\"DejaVuSans-117\"/>\r\n        <path d=\"M 18.3125 70.21875 \r\nL 18.3125 54.6875 \r\nL 36.8125 54.6875 \r\nL 36.8125 47.703125 \r\nL 18.3125 47.703125 \r\nL 18.3125 18.015625 \r\nQ 18.3125 11.328125 20.140625 9.421875 \r\nQ 21.96875 7.515625 27.59375 7.515625 \r\nL 36.8125 7.515625 \r\nL 36.8125 0 \r\nL 27.59375 0 \r\nQ 17.1875 0 13.234375 3.875 \r\nQ 9.28125 7.765625 9.28125 18.015625 \r\nL 9.28125 47.703125 \r\nL 2.6875 47.703125 \r\nL 2.6875 54.6875 \r\nL 9.28125 54.6875 \r\nL 9.28125 70.21875 \r\nz\r\n\" id=\"DejaVuSans-116\"/>\r\n       </defs>\r\n       <use xlink:href=\"#DejaVuSans-86\"/>\r\n       <use x=\"60.658203\" xlink:href=\"#DejaVuSans-97\"/>\r\n       <use x=\"121.9375\" xlink:href=\"#DejaVuSans-110\"/>\r\n       <use x=\"185.316406\" xlink:href=\"#DejaVuSans-117\"/>\r\n       <use x=\"248.695312\" xlink:href=\"#DejaVuSans-97\"/>\r\n       <use x=\"309.974609\" xlink:href=\"#DejaVuSans-116\"/>\r\n       <use x=\"349.183594\" xlink:href=\"#DejaVuSans-117\"/>\r\n      </g>\r\n     </g>\r\n    </g>\r\n    <g id=\"xtick_4\">\r\n     <g id=\"line2d_4\">\r\n      <g>\r\n       <use style=\"stroke:#000000;stroke-width:0.8;\" x=\"86.522\" xlink:href=\"#m68adf667bf\" y=\"224.64\"/>\r\n      </g>\r\n     </g>\r\n     <g id=\"text_4\">\r\n      <!-- Marshall Islands -->\r\n      <g transform=\"translate(89.281375 311.8775)rotate(-90)scale(0.1 -0.1)\">\r\n       <defs>\r\n        <path d=\"M 54.890625 33.015625 \r\nL 54.890625 0 \r\nL 45.90625 0 \r\nL 45.90625 32.71875 \r\nQ 45.90625 40.484375 42.875 44.328125 \r\nQ 39.84375 48.1875 33.796875 48.1875 \r\nQ 26.515625 48.1875 22.3125 43.546875 \r\nQ 18.109375 38.921875 18.109375 30.90625 \r\nL 18.109375 0 \r\nL 9.078125 0 \r\nL 9.078125 75.984375 \r\nL 18.109375 75.984375 \r\nL 18.109375 46.1875 \r\nQ 21.34375 51.125 25.703125 53.5625 \r\nQ 30.078125 56 35.796875 56 \r\nQ 45.21875 56 50.046875 50.171875 \r\nQ 54.890625 44.34375 54.890625 33.015625 \r\nz\r\n\" id=\"DejaVuSans-104\"/>\r\n        <path d=\"M 9.421875 75.984375 \r\nL 18.40625 75.984375 \r\nL 18.40625 0 \r\nL 9.421875 0 \r\nz\r\n\" id=\"DejaVuSans-108\"/>\r\n        <path id=\"DejaVuSans-32\"/>\r\n        <path d=\"M 9.8125 72.90625 \r\nL 19.671875 72.90625 \r\nL 19.671875 0 \r\nL 9.8125 0 \r\nz\r\n\" id=\"DejaVuSans-73\"/>\r\n        <path d=\"M 45.40625 46.390625 \r\nL 45.40625 75.984375 \r\nL 54.390625 75.984375 \r\nL 54.390625 0 \r\nL 45.40625 0 \r\nL 45.40625 8.203125 \r\nQ 42.578125 3.328125 38.25 0.953125 \r\nQ 33.9375 -1.421875 27.875 -1.421875 \r\nQ 17.96875 -1.421875 11.734375 6.484375 \r\nQ 5.515625 14.40625 5.515625 27.296875 \r\nQ 5.515625 40.1875 11.734375 48.09375 \r\nQ 17.96875 56 27.875 56 \r\nQ 33.9375 56 38.25 53.625 \r\nQ 42.578125 51.265625 45.40625 46.390625 \r\nz\r\nM 14.796875 27.296875 \r\nQ 14.796875 17.390625 18.875 11.75 \r\nQ 22.953125 6.109375 30.078125 6.109375 \r\nQ 37.203125 6.109375 41.296875 11.75 \r\nQ 45.40625 17.390625 45.40625 27.296875 \r\nQ 45.40625 37.203125 41.296875 42.84375 \r\nQ 37.203125 48.484375 30.078125 48.484375 \r\nQ 22.953125 48.484375 18.875 42.84375 \r\nQ 14.796875 37.203125 14.796875 27.296875 \r\nz\r\n\" id=\"DejaVuSans-100\"/>\r\n       </defs>\r\n       <use xlink:href=\"#DejaVuSans-77\"/>\r\n       <use x=\"86.279297\" xlink:href=\"#DejaVuSans-97\"/>\r\n       <use x=\"147.558594\" xlink:href=\"#DejaVuSans-114\"/>\r\n       <use x=\"188.671875\" xlink:href=\"#DejaVuSans-115\"/>\r\n       <use x=\"240.771484\" xlink:href=\"#DejaVuSans-104\"/>\r\n       <use x=\"304.150391\" xlink:href=\"#DejaVuSans-97\"/>\r\n       <use x=\"365.429688\" xlink:href=\"#DejaVuSans-108\"/>\r\n       <use x=\"393.212891\" xlink:href=\"#DejaVuSans-108\"/>\r\n       <use x=\"420.996094\" xlink:href=\"#DejaVuSans-32\"/>\r\n       <use x=\"452.783203\" xlink:href=\"#DejaVuSans-73\"/>\r\n       <use x=\"482.275391\" xlink:href=\"#DejaVuSans-115\"/>\r\n       <use x=\"534.375\" xlink:href=\"#DejaVuSans-108\"/>\r\n       <use x=\"562.158203\" xlink:href=\"#DejaVuSans-97\"/>\r\n       <use x=\"623.4375\" xlink:href=\"#DejaVuSans-110\"/>\r\n       <use x=\"686.816406\" xlink:href=\"#DejaVuSans-100\"/>\r\n       <use x=\"750.292969\" xlink:href=\"#DejaVuSans-115\"/>\r\n      </g>\r\n     </g>\r\n    </g>\r\n    <g id=\"xtick_5\">\r\n     <g id=\"line2d_5\">\r\n      <g>\r\n       <use style=\"stroke:#000000;stroke-width:0.8;\" x=\"99.914\" xlink:href=\"#m68adf667bf\" y=\"224.64\"/>\r\n      </g>\r\n     </g>\r\n     <g id=\"text_5\">\r\n      <!-- MS Zaandam -->\r\n      <g transform=\"translate(102.673375 297.455625)rotate(-90)scale(0.1 -0.1)\">\r\n       <defs>\r\n        <path d=\"M 5.609375 72.90625 \r\nL 62.890625 72.90625 \r\nL 62.890625 65.375 \r\nL 16.796875 8.296875 \r\nL 64.015625 8.296875 \r\nL 64.015625 0 \r\nL 4.5 0 \r\nL 4.5 7.515625 \r\nL 50.59375 64.59375 \r\nL 5.609375 64.59375 \r\nz\r\n\" id=\"DejaVuSans-90\"/>\r\n       </defs>\r\n       <use xlink:href=\"#DejaVuSans-77\"/>\r\n       <use x=\"86.279297\" xlink:href=\"#DejaVuSans-83\"/>\r\n       <use x=\"149.755859\" xlink:href=\"#DejaVuSans-32\"/>\r\n       <use x=\"181.542969\" xlink:href=\"#DejaVuSans-90\"/>\r\n       <use x=\"250.048828\" xlink:href=\"#DejaVuSans-97\"/>\r\n       <use x=\"311.328125\" xlink:href=\"#DejaVuSans-97\"/>\r\n       <use x=\"372.607422\" xlink:href=\"#DejaVuSans-110\"/>\r\n       <use x=\"435.986328\" xlink:href=\"#DejaVuSans-100\"/>\r\n       <use x=\"499.462891\" xlink:href=\"#DejaVuSans-97\"/>\r\n       <use x=\"560.742188\" xlink:href=\"#DejaVuSans-109\"/>\r\n      </g>\r\n     </g>\r\n    </g>\r\n    <g id=\"xtick_6\">\r\n     <g id=\"line2d_6\">\r\n      <g>\r\n       <use style=\"stroke:#000000;stroke-width:0.8;\" x=\"113.306\" xlink:href=\"#m68adf667bf\" y=\"224.64\"/>\r\n      </g>\r\n     </g>\r\n     <g id=\"text_6\">\r\n      <!-- Solomon Islands -->\r\n      <g transform=\"translate(116.065375 313.34)rotate(-90)scale(0.1 -0.1)\">\r\n       <use xlink:href=\"#DejaVuSans-83\"/>\r\n       <use x=\"63.476562\" xlink:href=\"#DejaVuSans-111\"/>\r\n       <use x=\"124.658203\" xlink:href=\"#DejaVuSans-108\"/>\r\n       <use x=\"152.441406\" xlink:href=\"#DejaVuSans-111\"/>\r\n       <use x=\"213.623047\" xlink:href=\"#DejaVuSans-109\"/>\r\n       <use x=\"311.035156\" xlink:href=\"#DejaVuSans-111\"/>\r\n       <use x=\"372.216797\" xlink:href=\"#DejaVuSans-110\"/>\r\n       <use x=\"435.595703\" xlink:href=\"#DejaVuSans-32\"/>\r\n       <use x=\"467.382812\" xlink:href=\"#DejaVuSans-73\"/>\r\n       <use x=\"496.875\" xlink:href=\"#DejaVuSans-115\"/>\r\n       <use x=\"548.974609\" xlink:href=\"#DejaVuSans-108\"/>\r\n       <use x=\"576.757812\" xlink:href=\"#DejaVuSans-97\"/>\r\n       <use x=\"638.037109\" xlink:href=\"#DejaVuSans-110\"/>\r\n       <use x=\"701.416016\" xlink:href=\"#DejaVuSans-100\"/>\r\n       <use x=\"764.892578\" xlink:href=\"#DejaVuSans-115\"/>\r\n      </g>\r\n     </g>\r\n    </g>\r\n    <g id=\"xtick_7\">\r\n     <g id=\"line2d_7\">\r\n      <g>\r\n       <use style=\"stroke:#000000;stroke-width:0.8;\" x=\"126.698\" xlink:href=\"#m68adf667bf\" y=\"224.64\"/>\r\n      </g>\r\n     </g>\r\n     <g id=\"text_7\">\r\n      <!-- Holy See -->\r\n      <g transform=\"translate(129.457375 275.80875)rotate(-90)scale(0.1 -0.1)\">\r\n       <defs>\r\n        <path d=\"M 9.8125 72.90625 \r\nL 19.671875 72.90625 \r\nL 19.671875 43.015625 \r\nL 55.515625 43.015625 \r\nL 55.515625 72.90625 \r\nL 65.375 72.90625 \r\nL 65.375 0 \r\nL 55.515625 0 \r\nL 55.515625 34.71875 \r\nL 19.671875 34.71875 \r\nL 19.671875 0 \r\nL 9.8125 0 \r\nz\r\n\" id=\"DejaVuSans-72\"/>\r\n        <path d=\"M 32.171875 -5.078125 \r\nQ 28.375 -14.84375 24.75 -17.8125 \r\nQ 21.140625 -20.796875 15.09375 -20.796875 \r\nL 7.90625 -20.796875 \r\nL 7.90625 -13.28125 \r\nL 13.1875 -13.28125 \r\nQ 16.890625 -13.28125 18.9375 -11.515625 \r\nQ 21 -9.765625 23.484375 -3.21875 \r\nL 25.09375 0.875 \r\nL 2.984375 54.6875 \r\nL 12.5 54.6875 \r\nL 29.59375 11.921875 \r\nL 46.6875 54.6875 \r\nL 56.203125 54.6875 \r\nz\r\n\" id=\"DejaVuSans-121\"/>\r\n       </defs>\r\n       <use xlink:href=\"#DejaVuSans-72\"/>\r\n       <use x=\"75.195312\" xlink:href=\"#DejaVuSans-111\"/>\r\n       <use x=\"136.376953\" xlink:href=\"#DejaVuSans-108\"/>\r\n       <use x=\"164.160156\" xlink:href=\"#DejaVuSans-121\"/>\r\n       <use x=\"223.339844\" xlink:href=\"#DejaVuSans-32\"/>\r\n       <use x=\"255.126953\" xlink:href=\"#DejaVuSans-83\"/>\r\n       <use x=\"318.603516\" xlink:href=\"#DejaVuSans-101\"/>\r\n       <use x=\"380.126953\" xlink:href=\"#DejaVuSans-101\"/>\r\n      </g>\r\n     </g>\r\n    </g>\r\n    <g id=\"xtick_8\">\r\n     <g id=\"line2d_8\">\r\n      <g>\r\n       <use style=\"stroke:#000000;stroke-width:0.8;\" x=\"140.09\" xlink:href=\"#m68adf667bf\" y=\"224.64\"/>\r\n      </g>\r\n     </g>\r\n     <g id=\"text_8\">\r\n      <!-- Saint Kitts and Nevis -->\r\n      <g transform=\"translate(142.849375 335.4275)rotate(-90)scale(0.1 -0.1)\">\r\n       <defs>\r\n        <path d=\"M 9.8125 72.90625 \r\nL 19.671875 72.90625 \r\nL 19.671875 42.09375 \r\nL 52.390625 72.90625 \r\nL 65.09375 72.90625 \r\nL 28.90625 38.921875 \r\nL 67.671875 0 \r\nL 54.6875 0 \r\nL 19.671875 35.109375 \r\nL 19.671875 0 \r\nL 9.8125 0 \r\nz\r\n\" id=\"DejaVuSans-75\"/>\r\n        <path d=\"M 9.8125 72.90625 \r\nL 23.09375 72.90625 \r\nL 55.421875 11.921875 \r\nL 55.421875 72.90625 \r\nL 64.984375 72.90625 \r\nL 64.984375 0 \r\nL 51.703125 0 \r\nL 19.390625 60.984375 \r\nL 19.390625 0 \r\nL 9.8125 0 \r\nz\r\n\" id=\"DejaVuSans-78\"/>\r\n        <path d=\"M 2.984375 54.6875 \r\nL 12.5 54.6875 \r\nL 29.59375 8.796875 \r\nL 46.6875 54.6875 \r\nL 56.203125 54.6875 \r\nL 35.6875 0 \r\nL 23.484375 0 \r\nz\r\n\" id=\"DejaVuSans-118\"/>\r\n       </defs>\r\n       <use xlink:href=\"#DejaVuSans-83\"/>\r\n       <use x=\"63.476562\" xlink:href=\"#DejaVuSans-97\"/>\r\n       <use x=\"124.755859\" xlink:href=\"#DejaVuSans-105\"/>\r\n       <use x=\"152.539062\" xlink:href=\"#DejaVuSans-110\"/>\r\n       <use x=\"215.917969\" xlink:href=\"#DejaVuSans-116\"/>\r\n       <use x=\"255.126953\" xlink:href=\"#DejaVuSans-32\"/>\r\n       <use x=\"286.914062\" xlink:href=\"#DejaVuSans-75\"/>\r\n       <use x=\"352.490234\" xlink:href=\"#DejaVuSans-105\"/>\r\n       <use x=\"380.273438\" xlink:href=\"#DejaVuSans-116\"/>\r\n       <use x=\"419.482422\" xlink:href=\"#DejaVuSans-116\"/>\r\n       <use x=\"458.691406\" xlink:href=\"#DejaVuSans-115\"/>\r\n       <use x=\"510.791016\" xlink:href=\"#DejaVuSans-32\"/>\r\n       <use x=\"542.578125\" xlink:href=\"#DejaVuSans-97\"/>\r\n       <use x=\"603.857422\" xlink:href=\"#DejaVuSans-110\"/>\r\n       <use x=\"667.236328\" xlink:href=\"#DejaVuSans-100\"/>\r\n       <use x=\"730.712891\" xlink:href=\"#DejaVuSans-32\"/>\r\n       <use x=\"762.5\" xlink:href=\"#DejaVuSans-78\"/>\r\n       <use x=\"837.304688\" xlink:href=\"#DejaVuSans-101\"/>\r\n       <use x=\"898.828125\" xlink:href=\"#DejaVuSans-118\"/>\r\n       <use x=\"958.007812\" xlink:href=\"#DejaVuSans-105\"/>\r\n       <use x=\"985.791016\" xlink:href=\"#DejaVuSans-115\"/>\r\n      </g>\r\n     </g>\r\n    </g>\r\n    <g id=\"xtick_9\">\r\n     <g id=\"line2d_9\">\r\n      <g>\r\n       <use style=\"stroke:#000000;stroke-width:0.8;\" x=\"153.482\" xlink:href=\"#m68adf667bf\" y=\"224.64\"/>\r\n      </g>\r\n     </g>\r\n     <g id=\"text_9\">\r\n      <!-- Laos -->\r\n      <g transform=\"translate(156.241375 254.668125)rotate(-90)scale(0.1 -0.1)\">\r\n       <defs>\r\n        <path d=\"M 9.8125 72.90625 \r\nL 19.671875 72.90625 \r\nL 19.671875 8.296875 \r\nL 55.171875 8.296875 \r\nL 55.171875 0 \r\nL 9.8125 0 \r\nz\r\n\" id=\"DejaVuSans-76\"/>\r\n       </defs>\r\n       <use xlink:href=\"#DejaVuSans-76\"/>\r\n       <use x=\"55.712891\" xlink:href=\"#DejaVuSans-97\"/>\r\n       <use x=\"116.992188\" xlink:href=\"#DejaVuSans-111\"/>\r\n       <use x=\"178.173828\" xlink:href=\"#DejaVuSans-115\"/>\r\n      </g>\r\n     </g>\r\n    </g>\r\n    <g id=\"xtick_10\">\r\n     <g id=\"line2d_10\">\r\n      <g>\r\n       <use style=\"stroke:#000000;stroke-width:0.8;\" x=\"166.874\" xlink:href=\"#m68adf667bf\" y=\"224.64\"/>\r\n      </g>\r\n     </g>\r\n     <g id=\"text_10\">\r\n      <!-- Fiji -->\r\n      <g transform=\"translate(169.633375 245.000937)rotate(-90)scale(0.1 -0.1)\">\r\n       <defs>\r\n        <path d=\"M 9.8125 72.90625 \r\nL 51.703125 72.90625 \r\nL 51.703125 64.59375 \r\nL 19.671875 64.59375 \r\nL 19.671875 43.109375 \r\nL 48.578125 43.109375 \r\nL 48.578125 34.8125 \r\nL 19.671875 34.8125 \r\nL 19.671875 0 \r\nL 9.8125 0 \r\nz\r\n\" id=\"DejaVuSans-70\"/>\r\n        <path d=\"M 9.421875 54.6875 \r\nL 18.40625 54.6875 \r\nL 18.40625 -0.984375 \r\nQ 18.40625 -11.421875 14.421875 -16.109375 \r\nQ 10.453125 -20.796875 1.609375 -20.796875 \r\nL -1.8125 -20.796875 \r\nL -1.8125 -13.1875 \r\nL 0.59375 -13.1875 \r\nQ 5.71875 -13.1875 7.5625 -10.8125 \r\nQ 9.421875 -8.453125 9.421875 -0.984375 \r\nz\r\nM 9.421875 75.984375 \r\nL 18.40625 75.984375 \r\nL 18.40625 64.59375 \r\nL 9.421875 64.59375 \r\nz\r\n\" id=\"DejaVuSans-106\"/>\r\n       </defs>\r\n       <use xlink:href=\"#DejaVuSans-70\"/>\r\n       <use x=\"50.269531\" xlink:href=\"#DejaVuSans-105\"/>\r\n       <use x=\"78.052734\" xlink:href=\"#DejaVuSans-106\"/>\r\n       <use x=\"105.835938\" xlink:href=\"#DejaVuSans-105\"/>\r\n      </g>\r\n     </g>\r\n    </g>\r\n    <g id=\"xtick_11\">\r\n     <g id=\"line2d_11\">\r\n      <g>\r\n       <use style=\"stroke:#000000;stroke-width:0.8;\" x=\"180.266\" xlink:href=\"#m68adf667bf\" y=\"224.64\"/>\r\n      </g>\r\n     </g>\r\n     <g id=\"text_11\">\r\n      <!-- Grenada -->\r\n      <g transform=\"translate(183.025375 274.369687)rotate(-90)scale(0.1 -0.1)\">\r\n       <defs>\r\n        <path d=\"M 59.515625 10.40625 \r\nL 59.515625 29.984375 \r\nL 43.40625 29.984375 \r\nL 43.40625 38.09375 \r\nL 69.28125 38.09375 \r\nL 69.28125 6.78125 \r\nQ 63.578125 2.734375 56.6875 0.65625 \r\nQ 49.8125 -1.421875 42 -1.421875 \r\nQ 24.90625 -1.421875 15.25 8.5625 \r\nQ 5.609375 18.5625 5.609375 36.375 \r\nQ 5.609375 54.25 15.25 64.234375 \r\nQ 24.90625 74.21875 42 74.21875 \r\nQ 49.125 74.21875 55.546875 72.453125 \r\nQ 61.96875 70.703125 67.390625 67.28125 \r\nL 67.390625 56.78125 \r\nQ 61.921875 61.421875 55.765625 63.765625 \r\nQ 49.609375 66.109375 42.828125 66.109375 \r\nQ 29.4375 66.109375 22.71875 58.640625 \r\nQ 16.015625 51.171875 16.015625 36.375 \r\nQ 16.015625 21.625 22.71875 14.15625 \r\nQ 29.4375 6.6875 42.828125 6.6875 \r\nQ 48.046875 6.6875 52.140625 7.59375 \r\nQ 56.25 8.5 59.515625 10.40625 \r\nz\r\n\" id=\"DejaVuSans-71\"/>\r\n       </defs>\r\n       <use xlink:href=\"#DejaVuSans-71\"/>\r\n       <use x=\"77.490234\" xlink:href=\"#DejaVuSans-114\"/>\r\n       <use x=\"116.353516\" xlink:href=\"#DejaVuSans-101\"/>\r\n       <use x=\"177.876953\" xlink:href=\"#DejaVuSans-110\"/>\r\n       <use x=\"241.255859\" xlink:href=\"#DejaVuSans-97\"/>\r\n       <use x=\"302.535156\" xlink:href=\"#DejaVuSans-100\"/>\r\n       <use x=\"366.011719\" xlink:href=\"#DejaVuSans-97\"/>\r\n      </g>\r\n     </g>\r\n    </g>\r\n    <g id=\"xtick_12\">\r\n     <g id=\"line2d_12\">\r\n      <g>\r\n       <use style=\"stroke:#000000;stroke-width:0.8;\" x=\"193.658\" xlink:href=\"#m68adf667bf\" y=\"224.64\"/>\r\n      </g>\r\n     </g>\r\n     <g id=\"text_12\">\r\n      <!-- Dominica -->\r\n      <g transform=\"translate(196.417375 278.719687)rotate(-90)scale(0.1 -0.1)\">\r\n       <defs>\r\n        <path d=\"M 19.671875 64.796875 \r\nL 19.671875 8.109375 \r\nL 31.59375 8.109375 \r\nQ 46.6875 8.109375 53.6875 14.9375 \r\nQ 60.6875 21.78125 60.6875 36.53125 \r\nQ 60.6875 51.171875 53.6875 57.984375 \r\nQ 46.6875 64.796875 31.59375 64.796875 \r\nz\r\nM 9.8125 72.90625 \r\nL 30.078125 72.90625 \r\nQ 51.265625 72.90625 61.171875 64.09375 \r\nQ 71.09375 55.28125 71.09375 36.53125 \r\nQ 71.09375 17.671875 61.125 8.828125 \r\nQ 51.171875 0 30.078125 0 \r\nL 9.8125 0 \r\nz\r\n\" id=\"DejaVuSans-68\"/>\r\n       </defs>\r\n       <use xlink:href=\"#DejaVuSans-68\"/>\r\n       <use x=\"77.001953\" xlink:href=\"#DejaVuSans-111\"/>\r\n       <use x=\"138.183594\" xlink:href=\"#DejaVuSans-109\"/>\r\n       <use x=\"235.595703\" xlink:href=\"#DejaVuSans-105\"/>\r\n       <use x=\"263.378906\" xlink:href=\"#DejaVuSans-110\"/>\r\n       <use x=\"326.757812\" xlink:href=\"#DejaVuSans-105\"/>\r\n       <use x=\"354.541016\" xlink:href=\"#DejaVuSans-99\"/>\r\n       <use x=\"409.521484\" xlink:href=\"#DejaVuSans-97\"/>\r\n      </g>\r\n     </g>\r\n    </g>\r\n    <g id=\"xtick_13\">\r\n     <g id=\"line2d_13\">\r\n      <g>\r\n       <use style=\"stroke:#000000;stroke-width:0.8;\" x=\"207.05\" xlink:href=\"#m68adf667bf\" y=\"224.64\"/>\r\n      </g>\r\n     </g>\r\n     <g id=\"text_13\">\r\n      <!-- Brunei -->\r\n      <g transform=\"translate(209.809375 264.218125)rotate(-90)scale(0.1 -0.1)\">\r\n       <defs>\r\n        <path d=\"M 19.671875 34.8125 \r\nL 19.671875 8.109375 \r\nL 35.5 8.109375 \r\nQ 43.453125 8.109375 47.28125 11.40625 \r\nQ 51.125 14.703125 51.125 21.484375 \r\nQ 51.125 28.328125 47.28125 31.5625 \r\nQ 43.453125 34.8125 35.5 34.8125 \r\nz\r\nM 19.671875 64.796875 \r\nL 19.671875 42.828125 \r\nL 34.28125 42.828125 \r\nQ 41.5 42.828125 45.03125 45.53125 \r\nQ 48.578125 48.25 48.578125 53.8125 \r\nQ 48.578125 59.328125 45.03125 62.0625 \r\nQ 41.5 64.796875 34.28125 64.796875 \r\nz\r\nM 9.8125 72.90625 \r\nL 35.015625 72.90625 \r\nQ 46.296875 72.90625 52.390625 68.21875 \r\nQ 58.5 63.53125 58.5 54.890625 \r\nQ 58.5 48.1875 55.375 44.234375 \r\nQ 52.25 40.28125 46.1875 39.3125 \r\nQ 53.46875 37.75 57.5 32.78125 \r\nQ 61.53125 27.828125 61.53125 20.40625 \r\nQ 61.53125 10.640625 54.890625 5.3125 \r\nQ 48.25 0 35.984375 0 \r\nL 9.8125 0 \r\nz\r\n\" id=\"DejaVuSans-66\"/>\r\n       </defs>\r\n       <use xlink:href=\"#DejaVuSans-66\"/>\r\n       <use x=\"68.603516\" xlink:href=\"#DejaVuSans-114\"/>\r\n       <use x=\"109.716797\" xlink:href=\"#DejaVuSans-117\"/>\r\n       <use x=\"173.095703\" xlink:href=\"#DejaVuSans-110\"/>\r\n       <use x=\"236.474609\" xlink:href=\"#DejaVuSans-101\"/>\r\n       <use x=\"297.998047\" xlink:href=\"#DejaVuSans-105\"/>\r\n      </g>\r\n     </g>\r\n    </g>\r\n    <g id=\"xtick_14\">\r\n     <g id=\"line2d_14\">\r\n      <g>\r\n       <use style=\"stroke:#000000;stroke-width:0.8;\" x=\"220.442\" xlink:href=\"#m68adf667bf\" y=\"224.64\"/>\r\n      </g>\r\n     </g>\r\n     <g id=\"text_14\">\r\n      <!-- Timor-Leste -->\r\n      <g transform=\"translate(223.201375 289.986875)rotate(-90)scale(0.1 -0.1)\">\r\n       <defs>\r\n        <path d=\"M -0.296875 72.90625 \r\nL 61.375 72.90625 \r\nL 61.375 64.59375 \r\nL 35.5 64.59375 \r\nL 35.5 0 \r\nL 25.59375 0 \r\nL 25.59375 64.59375 \r\nL -0.296875 64.59375 \r\nz\r\n\" id=\"DejaVuSans-84\"/>\r\n        <path d=\"M 4.890625 31.390625 \r\nL 31.203125 31.390625 \r\nL 31.203125 23.390625 \r\nL 4.890625 23.390625 \r\nz\r\n\" id=\"DejaVuSans-45\"/>\r\n       </defs>\r\n       <use xlink:href=\"#DejaVuSans-84\"/>\r\n       <use x=\"57.958984\" xlink:href=\"#DejaVuSans-105\"/>\r\n       <use x=\"85.742188\" xlink:href=\"#DejaVuSans-109\"/>\r\n       <use x=\"183.154297\" xlink:href=\"#DejaVuSans-111\"/>\r\n       <use x=\"244.335938\" xlink:href=\"#DejaVuSans-114\"/>\r\n       <use x=\"279.074219\" xlink:href=\"#DejaVuSans-45\"/>\r\n       <use x=\"315.158203\" xlink:href=\"#DejaVuSans-76\"/>\r\n       <use x=\"369.121094\" xlink:href=\"#DejaVuSans-101\"/>\r\n       <use x=\"430.644531\" xlink:href=\"#DejaVuSans-115\"/>\r\n       <use x=\"482.744141\" xlink:href=\"#DejaVuSans-116\"/>\r\n       <use x=\"521.953125\" xlink:href=\"#DejaVuSans-101\"/>\r\n      </g>\r\n     </g>\r\n    </g>\r\n    <g id=\"xtick_15\">\r\n     <g id=\"line2d_15\">\r\n      <g>\r\n       <use style=\"stroke:#000000;stroke-width:0.8;\" x=\"233.834\" xlink:href=\"#m68adf667bf\" y=\"224.64\"/>\r\n      </g>\r\n     </g>\r\n     <g id=\"text_15\">\r\n      <!-- Tanzania -->\r\n      <g transform=\"translate(236.593375 275.18375)rotate(-90)scale(0.1 -0.1)\">\r\n       <defs>\r\n        <path d=\"M 5.515625 54.6875 \r\nL 48.1875 54.6875 \r\nL 48.1875 46.484375 \r\nL 14.40625 7.171875 \r\nL 48.1875 7.171875 \r\nL 48.1875 0 \r\nL 4.296875 0 \r\nL 4.296875 8.203125 \r\nL 38.09375 47.515625 \r\nL 5.515625 47.515625 \r\nz\r\n\" id=\"DejaVuSans-122\"/>\r\n       </defs>\r\n       <use xlink:href=\"#DejaVuSans-84\"/>\r\n       <use x=\"44.583984\" xlink:href=\"#DejaVuSans-97\"/>\r\n       <use x=\"105.863281\" xlink:href=\"#DejaVuSans-110\"/>\r\n       <use x=\"169.242188\" xlink:href=\"#DejaVuSans-122\"/>\r\n       <use x=\"221.732422\" xlink:href=\"#DejaVuSans-97\"/>\r\n       <use x=\"283.011719\" xlink:href=\"#DejaVuSans-110\"/>\r\n       <use x=\"346.390625\" xlink:href=\"#DejaVuSans-105\"/>\r\n       <use x=\"374.173828\" xlink:href=\"#DejaVuSans-97\"/>\r\n      </g>\r\n     </g>\r\n    </g>\r\n    <g id=\"xtick_16\">\r\n     <g id=\"line2d_16\">\r\n      <g>\r\n       <use style=\"stroke:#000000;stroke-width:0.8;\" x=\"247.226\" xlink:href=\"#m68adf667bf\" y=\"224.64\"/>\r\n      </g>\r\n     </g>\r\n     <g id=\"text_16\">\r\n      <!-- Diamond Princess -->\r\n      <g transform=\"translate(249.985375 321.12125)rotate(-90)scale(0.1 -0.1)\">\r\n       <defs>\r\n        <path d=\"M 19.671875 64.796875 \r\nL 19.671875 37.40625 \r\nL 32.078125 37.40625 \r\nQ 38.96875 37.40625 42.71875 40.96875 \r\nQ 46.484375 44.53125 46.484375 51.125 \r\nQ 46.484375 57.671875 42.71875 61.234375 \r\nQ 38.96875 64.796875 32.078125 64.796875 \r\nz\r\nM 9.8125 72.90625 \r\nL 32.078125 72.90625 \r\nQ 44.34375 72.90625 50.609375 67.359375 \r\nQ 56.890625 61.8125 56.890625 51.125 \r\nQ 56.890625 40.328125 50.609375 34.8125 \r\nQ 44.34375 29.296875 32.078125 29.296875 \r\nL 19.671875 29.296875 \r\nL 19.671875 0 \r\nL 9.8125 0 \r\nz\r\n\" id=\"DejaVuSans-80\"/>\r\n       </defs>\r\n       <use xlink:href=\"#DejaVuSans-68\"/>\r\n       <use x=\"77.001953\" xlink:href=\"#DejaVuSans-105\"/>\r\n       <use x=\"104.785156\" xlink:href=\"#DejaVuSans-97\"/>\r\n       <use x=\"166.064453\" xlink:href=\"#DejaVuSans-109\"/>\r\n       <use x=\"263.476562\" xlink:href=\"#DejaVuSans-111\"/>\r\n       <use x=\"324.658203\" xlink:href=\"#DejaVuSans-110\"/>\r\n       <use x=\"388.037109\" xlink:href=\"#DejaVuSans-100\"/>\r\n       <use x=\"451.513672\" xlink:href=\"#DejaVuSans-32\"/>\r\n       <use x=\"483.300781\" xlink:href=\"#DejaVuSans-80\"/>\r\n       <use x=\"541.853516\" xlink:href=\"#DejaVuSans-114\"/>\r\n       <use x=\"582.966797\" xlink:href=\"#DejaVuSans-105\"/>\r\n       <use x=\"610.75\" xlink:href=\"#DejaVuSans-110\"/>\r\n       <use x=\"674.128906\" xlink:href=\"#DejaVuSans-99\"/>\r\n       <use x=\"729.109375\" xlink:href=\"#DejaVuSans-101\"/>\r\n       <use x=\"790.632812\" xlink:href=\"#DejaVuSans-115\"/>\r\n       <use x=\"842.732422\" xlink:href=\"#DejaVuSans-115\"/>\r\n      </g>\r\n     </g>\r\n    </g>\r\n    <g id=\"xtick_17\">\r\n     <g id=\"line2d_17\">\r\n      <g>\r\n       <use style=\"stroke:#000000;stroke-width:0.8;\" x=\"260.618\" xlink:href=\"#m68adf667bf\" y=\"224.64\"/>\r\n      </g>\r\n     </g>\r\n     <g id=\"text_17\">\r\n      <!-- Mauritius -->\r\n      <g transform=\"translate(263.377375 277.868125)rotate(-90)scale(0.1 -0.1)\">\r\n       <use xlink:href=\"#DejaVuSans-77\"/>\r\n       <use x=\"86.279297\" xlink:href=\"#DejaVuSans-97\"/>\r\n       <use x=\"147.558594\" xlink:href=\"#DejaVuSans-117\"/>\r\n       <use x=\"210.9375\" xlink:href=\"#DejaVuSans-114\"/>\r\n       <use x=\"252.050781\" xlink:href=\"#DejaVuSans-105\"/>\r\n       <use x=\"279.833984\" xlink:href=\"#DejaVuSans-116\"/>\r\n       <use x=\"319.042969\" xlink:href=\"#DejaVuSans-105\"/>\r\n       <use x=\"346.826172\" xlink:href=\"#DejaVuSans-117\"/>\r\n       <use x=\"410.205078\" xlink:href=\"#DejaVuSans-115\"/>\r\n      </g>\r\n     </g>\r\n    </g>\r\n    <g id=\"xtick_18\">\r\n     <g id=\"line2d_18\">\r\n      <g>\r\n       <use style=\"stroke:#000000;stroke-width:0.8;\" x=\"274.01\" xlink:href=\"#m68adf667bf\" y=\"224.64\"/>\r\n      </g>\r\n     </g>\r\n     <g id=\"text_18\">\r\n      <!-- Bhutan -->\r\n      <g transform=\"translate(276.769375 267.561875)rotate(-90)scale(0.1 -0.1)\">\r\n       <use xlink:href=\"#DejaVuSans-66\"/>\r\n       <use x=\"68.603516\" xlink:href=\"#DejaVuSans-104\"/>\r\n       <use x=\"131.982422\" xlink:href=\"#DejaVuSans-117\"/>\r\n       <use x=\"195.361328\" xlink:href=\"#DejaVuSans-116\"/>\r\n       <use x=\"234.570312\" xlink:href=\"#DejaVuSans-97\"/>\r\n       <use x=\"295.849609\" xlink:href=\"#DejaVuSans-110\"/>\r\n      </g>\r\n     </g>\r\n    </g>\r\n    <g id=\"xtick_19\">\r\n     <g id=\"line2d_19\">\r\n      <g>\r\n       <use style=\"stroke:#000000;stroke-width:0.8;\" x=\"287.402\" xlink:href=\"#m68adf667bf\" y=\"224.64\"/>\r\n      </g>\r\n     </g>\r\n     <g id=\"text_19\">\r\n      <!-- Taiwan* -->\r\n      <g transform=\"translate(290.161375 270.647812)rotate(-90)scale(0.1 -0.1)\">\r\n       <defs>\r\n        <path d=\"M 4.203125 54.6875 \r\nL 13.1875 54.6875 \r\nL 24.421875 12.015625 \r\nL 35.59375 54.6875 \r\nL 46.1875 54.6875 \r\nL 57.421875 12.015625 \r\nL 68.609375 54.6875 \r\nL 77.59375 54.6875 \r\nL 63.28125 0 \r\nL 52.6875 0 \r\nL 40.921875 44.828125 \r\nL 29.109375 0 \r\nL 18.5 0 \r\nz\r\n\" id=\"DejaVuSans-119\"/>\r\n        <path d=\"M 47.015625 60.890625 \r\nL 29.5 51.421875 \r\nL 47.015625 41.890625 \r\nL 44.1875 37.109375 \r\nL 27.78125 47.015625 \r\nL 27.78125 28.609375 \r\nL 22.21875 28.609375 \r\nL 22.21875 47.015625 \r\nL 5.8125 37.109375 \r\nL 2.984375 41.890625 \r\nL 20.515625 51.421875 \r\nL 2.984375 60.890625 \r\nL 5.8125 65.71875 \r\nL 22.21875 55.8125 \r\nL 22.21875 74.21875 \r\nL 27.78125 74.21875 \r\nL 27.78125 55.8125 \r\nL 44.1875 65.71875 \r\nz\r\n\" id=\"DejaVuSans-42\"/>\r\n       </defs>\r\n       <use xlink:href=\"#DejaVuSans-84\"/>\r\n       <use x=\"44.583984\" xlink:href=\"#DejaVuSans-97\"/>\r\n       <use x=\"105.863281\" xlink:href=\"#DejaVuSans-105\"/>\r\n       <use x=\"133.646484\" xlink:href=\"#DejaVuSans-119\"/>\r\n       <use x=\"215.433594\" xlink:href=\"#DejaVuSans-97\"/>\r\n       <use x=\"276.712891\" xlink:href=\"#DejaVuSans-110\"/>\r\n       <use x=\"340.091797\" xlink:href=\"#DejaVuSans-42\"/>\r\n      </g>\r\n     </g>\r\n    </g>\r\n    <g id=\"xtick_20\">\r\n     <g id=\"line2d_20\">\r\n      <g>\r\n       <use style=\"stroke:#000000;stroke-width:0.8;\" x=\"300.794\" xlink:href=\"#m68adf667bf\" y=\"224.64\"/>\r\n      </g>\r\n     </g>\r\n     <g id=\"text_20\">\r\n      <!-- Antigua and Barbuda -->\r\n      <g transform=\"translate(303.553375 337.763437)rotate(-90)scale(0.1 -0.1)\">\r\n       <defs>\r\n        <path d=\"M 34.1875 63.1875 \r\nL 20.796875 26.90625 \r\nL 47.609375 26.90625 \r\nz\r\nM 28.609375 72.90625 \r\nL 39.796875 72.90625 \r\nL 67.578125 0 \r\nL 57.328125 0 \r\nL 50.6875 18.703125 \r\nL 17.828125 18.703125 \r\nL 11.1875 0 \r\nL 0.78125 0 \r\nz\r\n\" id=\"DejaVuSans-65\"/>\r\n        <path d=\"M 45.40625 27.984375 \r\nQ 45.40625 37.75 41.375 43.109375 \r\nQ 37.359375 48.484375 30.078125 48.484375 \r\nQ 22.859375 48.484375 18.828125 43.109375 \r\nQ 14.796875 37.75 14.796875 27.984375 \r\nQ 14.796875 18.265625 18.828125 12.890625 \r\nQ 22.859375 7.515625 30.078125 7.515625 \r\nQ 37.359375 7.515625 41.375 12.890625 \r\nQ 45.40625 18.265625 45.40625 27.984375 \r\nz\r\nM 54.390625 6.78125 \r\nQ 54.390625 -7.171875 48.1875 -13.984375 \r\nQ 42 -20.796875 29.203125 -20.796875 \r\nQ 24.46875 -20.796875 20.265625 -20.09375 \r\nQ 16.0625 -19.390625 12.109375 -17.921875 \r\nL 12.109375 -9.1875 \r\nQ 16.0625 -11.328125 19.921875 -12.34375 \r\nQ 23.78125 -13.375 27.78125 -13.375 \r\nQ 36.625 -13.375 41.015625 -8.765625 \r\nQ 45.40625 -4.15625 45.40625 5.171875 \r\nL 45.40625 9.625 \r\nQ 42.625 4.78125 38.28125 2.390625 \r\nQ 33.9375 0 27.875 0 \r\nQ 17.828125 0 11.671875 7.65625 \r\nQ 5.515625 15.328125 5.515625 27.984375 \r\nQ 5.515625 40.671875 11.671875 48.328125 \r\nQ 17.828125 56 27.875 56 \r\nQ 33.9375 56 38.28125 53.609375 \r\nQ 42.625 51.21875 45.40625 46.390625 \r\nL 45.40625 54.6875 \r\nL 54.390625 54.6875 \r\nz\r\n\" id=\"DejaVuSans-103\"/>\r\n        <path d=\"M 48.6875 27.296875 \r\nQ 48.6875 37.203125 44.609375 42.84375 \r\nQ 40.53125 48.484375 33.40625 48.484375 \r\nQ 26.265625 48.484375 22.1875 42.84375 \r\nQ 18.109375 37.203125 18.109375 27.296875 \r\nQ 18.109375 17.390625 22.1875 11.75 \r\nQ 26.265625 6.109375 33.40625 6.109375 \r\nQ 40.53125 6.109375 44.609375 11.75 \r\nQ 48.6875 17.390625 48.6875 27.296875 \r\nz\r\nM 18.109375 46.390625 \r\nQ 20.953125 51.265625 25.265625 53.625 \r\nQ 29.59375 56 35.59375 56 \r\nQ 45.5625 56 51.78125 48.09375 \r\nQ 58.015625 40.1875 58.015625 27.296875 \r\nQ 58.015625 14.40625 51.78125 6.484375 \r\nQ 45.5625 -1.421875 35.59375 -1.421875 \r\nQ 29.59375 -1.421875 25.265625 0.953125 \r\nQ 20.953125 3.328125 18.109375 8.203125 \r\nL 18.109375 0 \r\nL 9.078125 0 \r\nL 9.078125 75.984375 \r\nL 18.109375 75.984375 \r\nz\r\n\" id=\"DejaVuSans-98\"/>\r\n       </defs>\r\n       <use xlink:href=\"#DejaVuSans-65\"/>\r\n       <use x=\"68.408203\" xlink:href=\"#DejaVuSans-110\"/>\r\n       <use x=\"131.787109\" xlink:href=\"#DejaVuSans-116\"/>\r\n       <use x=\"170.996094\" xlink:href=\"#DejaVuSans-105\"/>\r\n       <use x=\"198.779297\" xlink:href=\"#DejaVuSans-103\"/>\r\n       <use x=\"262.255859\" xlink:href=\"#DejaVuSans-117\"/>\r\n       <use x=\"325.634766\" xlink:href=\"#DejaVuSans-97\"/>\r\n       <use x=\"386.914062\" xlink:href=\"#DejaVuSans-32\"/>\r\n       <use x=\"418.701172\" xlink:href=\"#DejaVuSans-97\"/>\r\n       <use x=\"479.980469\" xlink:href=\"#DejaVuSans-110\"/>\r\n       <use x=\"543.359375\" xlink:href=\"#DejaVuSans-100\"/>\r\n       <use x=\"606.835938\" xlink:href=\"#DejaVuSans-32\"/>\r\n       <use x=\"638.623047\" xlink:href=\"#DejaVuSans-66\"/>\r\n       <use x=\"707.226562\" xlink:href=\"#DejaVuSans-97\"/>\r\n       <use x=\"768.505859\" xlink:href=\"#DejaVuSans-114\"/>\r\n       <use x=\"809.619141\" xlink:href=\"#DejaVuSans-98\"/>\r\n       <use x=\"873.095703\" xlink:href=\"#DejaVuSans-117\"/>\r\n       <use x=\"936.474609\" xlink:href=\"#DejaVuSans-100\"/>\r\n       <use x=\"999.951172\" xlink:href=\"#DejaVuSans-97\"/>\r\n      </g>\r\n     </g>\r\n    </g>\r\n    <g id=\"xtick_21\">\r\n     <g id=\"line2d_21\">\r\n      <g>\r\n       <use style=\"stroke:#000000;stroke-width:0.8;\" x=\"314.186\" xlink:href=\"#m68adf667bf\" y=\"224.64\"/>\r\n      </g>\r\n     </g>\r\n     <g id=\"text_21\">\r\n      <!-- Saint Vincent and the Grenadines -->\r\n      <g transform=\"translate(316.945375 399.810313)rotate(-90)scale(0.1 -0.1)\">\r\n       <use xlink:href=\"#DejaVuSans-83\"/>\r\n       <use x=\"63.476562\" xlink:href=\"#DejaVuSans-97\"/>\r\n       <use x=\"124.755859\" xlink:href=\"#DejaVuSans-105\"/>\r\n       <use x=\"152.539062\" xlink:href=\"#DejaVuSans-110\"/>\r\n       <use x=\"215.917969\" xlink:href=\"#DejaVuSans-116\"/>\r\n       <use x=\"255.126953\" xlink:href=\"#DejaVuSans-32\"/>\r\n       <use x=\"286.914062\" xlink:href=\"#DejaVuSans-86\"/>\r\n       <use x=\"353.072266\" xlink:href=\"#DejaVuSans-105\"/>\r\n       <use x=\"380.855469\" xlink:href=\"#DejaVuSans-110\"/>\r\n       <use x=\"444.234375\" xlink:href=\"#DejaVuSans-99\"/>\r\n       <use x=\"499.214844\" xlink:href=\"#DejaVuSans-101\"/>\r\n       <use x=\"560.738281\" xlink:href=\"#DejaVuSans-110\"/>\r\n       <use x=\"624.117188\" xlink:href=\"#DejaVuSans-116\"/>\r\n       <use x=\"663.326172\" xlink:href=\"#DejaVuSans-32\"/>\r\n       <use x=\"695.113281\" xlink:href=\"#DejaVuSans-97\"/>\r\n       <use x=\"756.392578\" xlink:href=\"#DejaVuSans-110\"/>\r\n       <use x=\"819.771484\" xlink:href=\"#DejaVuSans-100\"/>\r\n       <use x=\"883.248047\" xlink:href=\"#DejaVuSans-32\"/>\r\n       <use x=\"915.035156\" xlink:href=\"#DejaVuSans-116\"/>\r\n       <use x=\"954.244141\" xlink:href=\"#DejaVuSans-104\"/>\r\n       <use x=\"1017.623047\" xlink:href=\"#DejaVuSans-101\"/>\r\n       <use x=\"1079.146484\" xlink:href=\"#DejaVuSans-32\"/>\r\n       <use x=\"1110.933594\" xlink:href=\"#DejaVuSans-71\"/>\r\n       <use x=\"1188.423828\" xlink:href=\"#DejaVuSans-114\"/>\r\n       <use x=\"1227.287109\" xlink:href=\"#DejaVuSans-101\"/>\r\n       <use x=\"1288.810547\" xlink:href=\"#DejaVuSans-110\"/>\r\n       <use x=\"1352.189453\" xlink:href=\"#DejaVuSans-97\"/>\r\n       <use x=\"1413.46875\" xlink:href=\"#DejaVuSans-100\"/>\r\n       <use x=\"1476.945312\" xlink:href=\"#DejaVuSans-105\"/>\r\n       <use x=\"1504.728516\" xlink:href=\"#DejaVuSans-110\"/>\r\n       <use x=\"1568.107422\" xlink:href=\"#DejaVuSans-101\"/>\r\n       <use x=\"1629.630859\" xlink:href=\"#DejaVuSans-115\"/>\r\n      </g>\r\n     </g>\r\n    </g>\r\n    <g id=\"xtick_22\">\r\n     <g id=\"line2d_22\">\r\n      <g>\r\n       <use style=\"stroke:#000000;stroke-width:0.8;\" x=\"327.578\" xlink:href=\"#m68adf667bf\" y=\"224.64\"/>\r\n      </g>\r\n     </g>\r\n     <g id=\"text_22\">\r\n      <!-- Cambodia -->\r\n      <g transform=\"translate(330.337375 282.213437)rotate(-90)scale(0.1 -0.1)\">\r\n       <defs>\r\n        <path d=\"M 64.40625 67.28125 \r\nL 64.40625 56.890625 \r\nQ 59.421875 61.53125 53.78125 63.8125 \r\nQ 48.140625 66.109375 41.796875 66.109375 \r\nQ 29.296875 66.109375 22.65625 58.46875 \r\nQ 16.015625 50.828125 16.015625 36.375 \r\nQ 16.015625 21.96875 22.65625 14.328125 \r\nQ 29.296875 6.6875 41.796875 6.6875 \r\nQ 48.140625 6.6875 53.78125 8.984375 \r\nQ 59.421875 11.28125 64.40625 15.921875 \r\nL 64.40625 5.609375 \r\nQ 59.234375 2.09375 53.4375 0.328125 \r\nQ 47.65625 -1.421875 41.21875 -1.421875 \r\nQ 24.65625 -1.421875 15.125 8.703125 \r\nQ 5.609375 18.84375 5.609375 36.375 \r\nQ 5.609375 53.953125 15.125 64.078125 \r\nQ 24.65625 74.21875 41.21875 74.21875 \r\nQ 47.75 74.21875 53.53125 72.484375 \r\nQ 59.328125 70.75 64.40625 67.28125 \r\nz\r\n\" id=\"DejaVuSans-67\"/>\r\n       </defs>\r\n       <use xlink:href=\"#DejaVuSans-67\"/>\r\n       <use x=\"69.824219\" xlink:href=\"#DejaVuSans-97\"/>\r\n       <use x=\"131.103516\" xlink:href=\"#DejaVuSans-109\"/>\r\n       <use x=\"228.515625\" xlink:href=\"#DejaVuSans-98\"/>\r\n       <use x=\"291.992188\" xlink:href=\"#DejaVuSans-111\"/>\r\n       <use x=\"353.173828\" xlink:href=\"#DejaVuSans-100\"/>\r\n       <use x=\"416.650391\" xlink:href=\"#DejaVuSans-105\"/>\r\n       <use x=\"444.433594\" xlink:href=\"#DejaVuSans-97\"/>\r\n      </g>\r\n     </g>\r\n    </g>\r\n    <g id=\"xtick_23\">\r\n     <g id=\"line2d_23\">\r\n      <g>\r\n       <use style=\"stroke:#000000;stroke-width:0.8;\" x=\"340.97\" xlink:href=\"#m68adf667bf\" y=\"224.64\"/>\r\n      </g>\r\n     </g>\r\n     <g id=\"text_23\">\r\n      <!-- Liberia -->\r\n      <g transform=\"translate(343.729375 265.50875)rotate(-90)scale(0.1 -0.1)\">\r\n       <use xlink:href=\"#DejaVuSans-76\"/>\r\n       <use x=\"55.712891\" xlink:href=\"#DejaVuSans-105\"/>\r\n       <use x=\"83.496094\" xlink:href=\"#DejaVuSans-98\"/>\r\n       <use x=\"146.972656\" xlink:href=\"#DejaVuSans-101\"/>\r\n       <use x=\"208.496094\" xlink:href=\"#DejaVuSans-114\"/>\r\n       <use x=\"249.609375\" xlink:href=\"#DejaVuSans-105\"/>\r\n       <use x=\"277.392578\" xlink:href=\"#DejaVuSans-97\"/>\r\n      </g>\r\n     </g>\r\n    </g>\r\n    <g id=\"xtick_24\">\r\n     <g id=\"line2d_24\">\r\n      <g>\r\n       <use style=\"stroke:#000000;stroke-width:0.8;\" x=\"354.362\" xlink:href=\"#m68adf667bf\" y=\"224.64\"/>\r\n      </g>\r\n     </g>\r\n     <g id=\"text_24\">\r\n      <!-- Sao Tome and Principe -->\r\n      <g transform=\"translate(357.121375 344.863437)rotate(-90)scale(0.1 -0.1)\">\r\n       <defs>\r\n        <path d=\"M 18.109375 8.203125 \r\nL 18.109375 -20.796875 \r\nL 9.078125 -20.796875 \r\nL 9.078125 54.6875 \r\nL 18.109375 54.6875 \r\nL 18.109375 46.390625 \r\nQ 20.953125 51.265625 25.265625 53.625 \r\nQ 29.59375 56 35.59375 56 \r\nQ 45.5625 56 51.78125 48.09375 \r\nQ 58.015625 40.1875 58.015625 27.296875 \r\nQ 58.015625 14.40625 51.78125 6.484375 \r\nQ 45.5625 -1.421875 35.59375 -1.421875 \r\nQ 29.59375 -1.421875 25.265625 0.953125 \r\nQ 20.953125 3.328125 18.109375 8.203125 \r\nz\r\nM 48.6875 27.296875 \r\nQ 48.6875 37.203125 44.609375 42.84375 \r\nQ 40.53125 48.484375 33.40625 48.484375 \r\nQ 26.265625 48.484375 22.1875 42.84375 \r\nQ 18.109375 37.203125 18.109375 27.296875 \r\nQ 18.109375 17.390625 22.1875 11.75 \r\nQ 26.265625 6.109375 33.40625 6.109375 \r\nQ 40.53125 6.109375 44.609375 11.75 \r\nQ 48.6875 17.390625 48.6875 27.296875 \r\nz\r\n\" id=\"DejaVuSans-112\"/>\r\n       </defs>\r\n       <use xlink:href=\"#DejaVuSans-83\"/>\r\n       <use x=\"63.476562\" xlink:href=\"#DejaVuSans-97\"/>\r\n       <use x=\"124.755859\" xlink:href=\"#DejaVuSans-111\"/>\r\n       <use x=\"185.9375\" xlink:href=\"#DejaVuSans-32\"/>\r\n       <use x=\"217.724609\" xlink:href=\"#DejaVuSans-84\"/>\r\n       <use x=\"261.808594\" xlink:href=\"#DejaVuSans-111\"/>\r\n       <use x=\"322.990234\" xlink:href=\"#DejaVuSans-109\"/>\r\n       <use x=\"420.402344\" xlink:href=\"#DejaVuSans-101\"/>\r\n       <use x=\"481.925781\" xlink:href=\"#DejaVuSans-32\"/>\r\n       <use x=\"513.712891\" xlink:href=\"#DejaVuSans-97\"/>\r\n       <use x=\"574.992188\" xlink:href=\"#DejaVuSans-110\"/>\r\n       <use x=\"638.371094\" xlink:href=\"#DejaVuSans-100\"/>\r\n       <use x=\"701.847656\" xlink:href=\"#DejaVuSans-32\"/>\r\n       <use x=\"733.634766\" xlink:href=\"#DejaVuSans-80\"/>\r\n       <use x=\"792.1875\" xlink:href=\"#DejaVuSans-114\"/>\r\n       <use x=\"833.300781\" xlink:href=\"#DejaVuSans-105\"/>\r\n       <use x=\"861.083984\" xlink:href=\"#DejaVuSans-110\"/>\r\n       <use x=\"924.462891\" xlink:href=\"#DejaVuSans-99\"/>\r\n       <use x=\"979.443359\" xlink:href=\"#DejaVuSans-105\"/>\r\n       <use x=\"1007.226562\" xlink:href=\"#DejaVuSans-112\"/>\r\n       <use x=\"1070.703125\" xlink:href=\"#DejaVuSans-101\"/>\r\n      </g>\r\n     </g>\r\n    </g>\r\n    <g id=\"xtick_25\">\r\n     <g id=\"line2d_25\">\r\n      <g>\r\n       <use style=\"stroke:#000000;stroke-width:0.8;\" x=\"367.754\" xlink:href=\"#m68adf667bf\" y=\"224.64\"/>\r\n      </g>\r\n     </g>\r\n     <g id=\"text_25\">\r\n      <!-- Monaco -->\r\n      <g transform=\"translate(370.513375 270.469687)rotate(-90)scale(0.1 -0.1)\">\r\n       <use xlink:href=\"#DejaVuSans-77\"/>\r\n       <use x=\"86.279297\" xlink:href=\"#DejaVuSans-111\"/>\r\n       <use x=\"147.460938\" xlink:href=\"#DejaVuSans-110\"/>\r\n       <use x=\"210.839844\" xlink:href=\"#DejaVuSans-97\"/>\r\n       <use x=\"272.119141\" xlink:href=\"#DejaVuSans-99\"/>\r\n       <use x=\"327.099609\" xlink:href=\"#DejaVuSans-111\"/>\r\n      </g>\r\n     </g>\r\n    </g>\r\n    <g id=\"text_26\">\r\n     <!-- Country -->\r\n     <g transform=\"translate(187.186719 411.40875)scale(0.1 -0.1)\">\r\n      <use xlink:href=\"#DejaVuSans-67\"/>\r\n      <use x=\"69.824219\" xlink:href=\"#DejaVuSans-111\"/>\r\n      <use x=\"131.005859\" xlink:href=\"#DejaVuSans-117\"/>\r\n      <use x=\"194.384766\" xlink:href=\"#DejaVuSans-110\"/>\r\n      <use x=\"257.763672\" xlink:href=\"#DejaVuSans-116\"/>\r\n      <use x=\"296.972656\" xlink:href=\"#DejaVuSans-114\"/>\r\n      <use x=\"338.085938\" xlink:href=\"#DejaVuSans-121\"/>\r\n     </g>\r\n    </g>\r\n   </g>\r\n   <g id=\"matplotlib.axis_2\">\r\n    <g id=\"ytick_1\">\r\n     <g id=\"line2d_26\">\r\n      <defs>\r\n       <path d=\"M 0 0 \r\nL -3.5 0 \r\n\" id=\"m4a78ff9ed0\" style=\"stroke:#000000;stroke-width:0.8;\"/>\r\n      </defs>\r\n      <g>\r\n       <use style=\"stroke:#000000;stroke-width:0.8;\" x=\"39.65\" xlink:href=\"#m4a78ff9ed0\" y=\"224.64\"/>\r\n      </g>\r\n     </g>\r\n     <g id=\"text_27\">\r\n      <!-- 0 -->\r\n      <g transform=\"translate(26.2875 228.439219)scale(0.1 -0.1)\">\r\n       <defs>\r\n        <path d=\"M 31.78125 66.40625 \r\nQ 24.171875 66.40625 20.328125 58.90625 \r\nQ 16.5 51.421875 16.5 36.375 \r\nQ 16.5 21.390625 20.328125 13.890625 \r\nQ 24.171875 6.390625 31.78125 6.390625 \r\nQ 39.453125 6.390625 43.28125 13.890625 \r\nQ 47.125 21.390625 47.125 36.375 \r\nQ 47.125 51.421875 43.28125 58.90625 \r\nQ 39.453125 66.40625 31.78125 66.40625 \r\nz\r\nM 31.78125 74.21875 \r\nQ 44.046875 74.21875 50.515625 64.515625 \r\nQ 56.984375 54.828125 56.984375 36.375 \r\nQ 56.984375 17.96875 50.515625 8.265625 \r\nQ 44.046875 -1.421875 31.78125 -1.421875 \r\nQ 19.53125 -1.421875 13.0625 8.265625 \r\nQ 6.59375 17.96875 6.59375 36.375 \r\nQ 6.59375 54.828125 13.0625 64.515625 \r\nQ 19.53125 74.21875 31.78125 74.21875 \r\nz\r\n\" id=\"DejaVuSans-48\"/>\r\n       </defs>\r\n       <use xlink:href=\"#DejaVuSans-48\"/>\r\n      </g>\r\n     </g>\r\n    </g>\r\n    <g id=\"ytick_2\">\r\n     <g id=\"line2d_27\">\r\n      <g>\r\n       <use style=\"stroke:#000000;stroke-width:0.8;\" x=\"39.65\" xlink:href=\"#m4a78ff9ed0\" y=\"176.990273\"/>\r\n      </g>\r\n     </g>\r\n     <g id=\"text_28\">\r\n      <!-- 500 -->\r\n      <g transform=\"translate(13.5625 180.789492)scale(0.1 -0.1)\">\r\n       <defs>\r\n        <path d=\"M 10.796875 72.90625 \r\nL 49.515625 72.90625 \r\nL 49.515625 64.59375 \r\nL 19.828125 64.59375 \r\nL 19.828125 46.734375 \r\nQ 21.96875 47.46875 24.109375 47.828125 \r\nQ 26.265625 48.1875 28.421875 48.1875 \r\nQ 40.625 48.1875 47.75 41.5 \r\nQ 54.890625 34.8125 54.890625 23.390625 \r\nQ 54.890625 11.625 47.5625 5.09375 \r\nQ 40.234375 -1.421875 26.90625 -1.421875 \r\nQ 22.3125 -1.421875 17.546875 -0.640625 \r\nQ 12.796875 0.140625 7.71875 1.703125 \r\nL 7.71875 11.625 \r\nQ 12.109375 9.234375 16.796875 8.0625 \r\nQ 21.484375 6.890625 26.703125 6.890625 \r\nQ 35.15625 6.890625 40.078125 11.328125 \r\nQ 45.015625 15.765625 45.015625 23.390625 \r\nQ 45.015625 31 40.078125 35.4375 \r\nQ 35.15625 39.890625 26.703125 39.890625 \r\nQ 22.75 39.890625 18.8125 39.015625 \r\nQ 14.890625 38.140625 10.796875 36.28125 \r\nz\r\n\" id=\"DejaVuSans-53\"/>\r\n       </defs>\r\n       <use xlink:href=\"#DejaVuSans-53\"/>\r\n       <use x=\"63.623047\" xlink:href=\"#DejaVuSans-48\"/>\r\n       <use x=\"127.246094\" xlink:href=\"#DejaVuSans-48\"/>\r\n      </g>\r\n     </g>\r\n    </g>\r\n    <g id=\"ytick_3\">\r\n     <g id=\"line2d_28\">\r\n      <g>\r\n       <use style=\"stroke:#000000;stroke-width:0.8;\" x=\"39.65\" xlink:href=\"#m4a78ff9ed0\" y=\"129.340546\"/>\r\n      </g>\r\n     </g>\r\n     <g id=\"text_29\">\r\n      <!-- 1000 -->\r\n      <g transform=\"translate(7.2 133.139764)scale(0.1 -0.1)\">\r\n       <defs>\r\n        <path d=\"M 12.40625 8.296875 \r\nL 28.515625 8.296875 \r\nL 28.515625 63.921875 \r\nL 10.984375 60.40625 \r\nL 10.984375 69.390625 \r\nL 28.421875 72.90625 \r\nL 38.28125 72.90625 \r\nL 38.28125 8.296875 \r\nL 54.390625 8.296875 \r\nL 54.390625 0 \r\nL 12.40625 0 \r\nz\r\n\" id=\"DejaVuSans-49\"/>\r\n       </defs>\r\n       <use xlink:href=\"#DejaVuSans-49\"/>\r\n       <use x=\"63.623047\" xlink:href=\"#DejaVuSans-48\"/>\r\n       <use x=\"127.246094\" xlink:href=\"#DejaVuSans-48\"/>\r\n       <use x=\"190.869141\" xlink:href=\"#DejaVuSans-48\"/>\r\n      </g>\r\n     </g>\r\n    </g>\r\n    <g id=\"ytick_4\">\r\n     <g id=\"line2d_29\">\r\n      <g>\r\n       <use style=\"stroke:#000000;stroke-width:0.8;\" x=\"39.65\" xlink:href=\"#m4a78ff9ed0\" y=\"81.690818\"/>\r\n      </g>\r\n     </g>\r\n     <g id=\"text_30\">\r\n      <!-- 1500 -->\r\n      <g transform=\"translate(7.2 85.490037)scale(0.1 -0.1)\">\r\n       <use xlink:href=\"#DejaVuSans-49\"/>\r\n       <use x=\"63.623047\" xlink:href=\"#DejaVuSans-53\"/>\r\n       <use x=\"127.246094\" xlink:href=\"#DejaVuSans-48\"/>\r\n       <use x=\"190.869141\" xlink:href=\"#DejaVuSans-48\"/>\r\n      </g>\r\n     </g>\r\n    </g>\r\n    <g id=\"ytick_5\">\r\n     <g id=\"line2d_30\">\r\n      <g>\r\n       <use style=\"stroke:#000000;stroke-width:0.8;\" x=\"39.65\" xlink:href=\"#m4a78ff9ed0\" y=\"34.041091\"/>\r\n      </g>\r\n     </g>\r\n     <g id=\"text_31\">\r\n      <!-- 2000 -->\r\n      <g transform=\"translate(7.2 37.84031)scale(0.1 -0.1)\">\r\n       <defs>\r\n        <path d=\"M 19.1875 8.296875 \r\nL 53.609375 8.296875 \r\nL 53.609375 0 \r\nL 7.328125 0 \r\nL 7.328125 8.296875 \r\nQ 12.9375 14.109375 22.625 23.890625 \r\nQ 32.328125 33.6875 34.8125 36.53125 \r\nQ 39.546875 41.84375 41.421875 45.53125 \r\nQ 43.3125 49.21875 43.3125 52.78125 \r\nQ 43.3125 58.59375 39.234375 62.25 \r\nQ 35.15625 65.921875 28.609375 65.921875 \r\nQ 23.96875 65.921875 18.8125 64.3125 \r\nQ 13.671875 62.703125 7.8125 59.421875 \r\nL 7.8125 69.390625 \r\nQ 13.765625 71.78125 18.9375 73 \r\nQ 24.125 74.21875 28.421875 74.21875 \r\nQ 39.75 74.21875 46.484375 68.546875 \r\nQ 53.21875 62.890625 53.21875 53.421875 \r\nQ 53.21875 48.921875 51.53125 44.890625 \r\nQ 49.859375 40.875 45.40625 35.40625 \r\nQ 44.1875 33.984375 37.640625 27.21875 \r\nQ 31.109375 20.453125 19.1875 8.296875 \r\nz\r\n\" id=\"DejaVuSans-50\"/>\r\n       </defs>\r\n       <use xlink:href=\"#DejaVuSans-50\"/>\r\n       <use x=\"63.623047\" xlink:href=\"#DejaVuSans-48\"/>\r\n       <use x=\"127.246094\" xlink:href=\"#DejaVuSans-48\"/>\r\n       <use x=\"190.869141\" xlink:href=\"#DejaVuSans-48\"/>\r\n      </g>\r\n     </g>\r\n    </g>\r\n   </g>\r\n   <g id=\"patch_28\">\r\n    <path d=\"M 39.65 224.64 \r\nL 39.65 7.2 \r\n\" style=\"fill:none;stroke:#000000;stroke-linecap:square;stroke-linejoin:miter;stroke-width:0.8;\"/>\r\n   </g>\r\n   <g id=\"patch_29\">\r\n    <path d=\"M 374.45 224.64 \r\nL 374.45 7.2 \r\n\" style=\"fill:none;stroke:#000000;stroke-linecap:square;stroke-linejoin:miter;stroke-width:0.8;\"/>\r\n   </g>\r\n   <g id=\"patch_30\">\r\n    <path d=\"M 39.65 224.64 \r\nL 374.45 224.64 \r\n\" style=\"fill:none;stroke:#000000;stroke-linecap:square;stroke-linejoin:miter;stroke-width:0.8;\"/>\r\n   </g>\r\n   <g id=\"patch_31\">\r\n    <path d=\"M 39.65 7.2 \r\nL 374.45 7.2 \r\n\" style=\"fill:none;stroke:#000000;stroke-linecap:square;stroke-linejoin:miter;stroke-width:0.8;\"/>\r\n   </g>\r\n   <g id=\"legend_1\">\r\n    <g id=\"patch_32\">\r\n     <path d=\"M 46.65 29.878125 \r\nL 130.565625 29.878125 \r\nQ 132.565625 29.878125 132.565625 27.878125 \r\nL 132.565625 14.2 \r\nQ 132.565625 12.2 130.565625 12.2 \r\nL 46.65 12.2 \r\nQ 44.65 12.2 44.65 14.2 \r\nL 44.65 27.878125 \r\nQ 44.65 29.878125 46.65 29.878125 \r\nz\r\n\" style=\"fill:#ffffff;opacity:0.8;stroke:#cccccc;stroke-linejoin:miter;\"/>\r\n    </g>\r\n    <g id=\"patch_33\">\r\n     <path d=\"M 48.65 23.798437 \r\nL 68.65 23.798437 \r\nL 68.65 16.798437 \r\nL 48.65 16.798437 \r\nz\r\n\" style=\"fill:#1f77b4;\"/>\r\n    </g>\r\n    <g id=\"text_32\">\r\n     <!-- Confirmed -->\r\n     <g transform=\"translate(76.65 23.798437)scale(0.1 -0.1)\">\r\n      <defs>\r\n       <path d=\"M 37.109375 75.984375 \r\nL 37.109375 68.5 \r\nL 28.515625 68.5 \r\nQ 23.6875 68.5 21.796875 66.546875 \r\nQ 19.921875 64.59375 19.921875 59.515625 \r\nL 19.921875 54.6875 \r\nL 34.71875 54.6875 \r\nL 34.71875 47.703125 \r\nL 19.921875 47.703125 \r\nL 19.921875 0 \r\nL 10.890625 0 \r\nL 10.890625 47.703125 \r\nL 2.296875 47.703125 \r\nL 2.296875 54.6875 \r\nL 10.890625 54.6875 \r\nL 10.890625 58.5 \r\nQ 10.890625 67.625 15.140625 71.796875 \r\nQ 19.390625 75.984375 28.609375 75.984375 \r\nz\r\n\" id=\"DejaVuSans-102\"/>\r\n      </defs>\r\n      <use xlink:href=\"#DejaVuSans-67\"/>\r\n      <use x=\"69.824219\" xlink:href=\"#DejaVuSans-111\"/>\r\n      <use x=\"131.005859\" xlink:href=\"#DejaVuSans-110\"/>\r\n      <use x=\"194.384766\" xlink:href=\"#DejaVuSans-102\"/>\r\n      <use x=\"229.589844\" xlink:href=\"#DejaVuSans-105\"/>\r\n      <use x=\"257.373047\" xlink:href=\"#DejaVuSans-114\"/>\r\n      <use x=\"296.736328\" xlink:href=\"#DejaVuSans-109\"/>\r\n      <use x=\"394.148438\" xlink:href=\"#DejaVuSans-101\"/>\r\n      <use x=\"455.671875\" xlink:href=\"#DejaVuSans-100\"/>\r\n     </g>\r\n    </g>\r\n   </g>\r\n  </g>\r\n </g>\r\n <defs>\r\n  <clipPath id=\"pde5374ca2f\">\r\n   <rect height=\"217.44\" width=\"334.8\" x=\"39.65\" y=\"7.2\"/>\r\n  </clipPath>\r\n </defs>\r\n</svg>\r\n",
      "image/png": "[encoded data removed]"
     },
     "metadata": {
      "needs_background": "light"
     }
    }
   ],
   "source": [
    "covid_df[['Confirmed', 'Country']].sort_values(by='Confirmed')[:25].plot.bar(x='Country', y='Confirmed')"
   ]
  },
  {
   "cell_type": "code",
   "execution_count": null,
   "metadata": {},
   "outputs": [],
   "source": []
  }
 ]
}