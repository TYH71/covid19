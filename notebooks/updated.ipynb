{
 "metadata": {
  "language_info": {
   "codemirror_mode": {
    "name": "ipython",
    "version": 3
   },
   "file_extension": ".py",
   "mimetype": "text/x-python",
   "name": "python",
   "nbconvert_exporter": "python",
   "pygments_lexer": "ipython3",
   "version": "3.8.5"
  },
  "orig_nbformat": 2,
  "kernelspec": {
   "name": "python3",
   "display_name": "Python 3.8.5 64-bit ('base': conda)"
  },
  "interpreter": {
   "hash": "205bc52965c5bf0335f93bb670a17a73ba44d3e3a8f323815ab692c92d625fe9"
  }
 },
 "nbformat": 4,
 "nbformat_minor": 2,
 "cells": [
  {
   "cell_type": "markdown",
   "source": [
    "# COVID-19 Dashboard\n",
    "\n",
    "Data Exploring Notebook"
   ],
   "metadata": {}
  },
  {
   "cell_type": "markdown",
   "source": [
    "## Import Libraries/Functions"
   ],
   "metadata": {}
  },
  {
   "cell_type": "code",
   "execution_count": 45,
   "source": [
    "import pandas as pd\r\n",
    "import plotly.express as px\r\n",
    "import plotly\r\n",
    "import ipywidgets as widgets"
   ],
   "outputs": [],
   "metadata": {}
  },
  {
   "cell_type": "markdown",
   "source": [
    "## Import Data"
   ],
   "metadata": {}
  },
  {
   "cell_type": "code",
   "execution_count": 15,
   "source": [
    "# Live COVID-19 Data by John Hopkins University, Center for Systems Science and Engineering\r\n",
    "covid_df = pd.read_csv('https://raw.githubusercontent.com/CSSEGISandData/COVID-19/web-data/data/cases_country.csv')\r\n",
    "covid_df = covid_df.rename(columns={\r\n",
    "    'Country_Region': 'Country',\r\n",
    "    'Long_': 'Long'\r\n",
    "})\r\n",
    "display(covid_df)"
   ],
   "outputs": [
    {
     "output_type": "display_data",
     "data": {
      "text/html": [
       "<div>\n",
       "<style scoped>\n",
       "    .dataframe tbody tr th:only-of-type {\n",
       "        vertical-align: middle;\n",
       "    }\n",
       "\n",
       "    .dataframe tbody tr th {\n",
       "        vertical-align: top;\n",
       "    }\n",
       "\n",
       "    .dataframe thead th {\n",
       "        text-align: right;\n",
       "    }\n",
       "</style>\n",
       "<table border=\"1\" class=\"dataframe\">\n",
       "  <thead>\n",
       "    <tr style=\"text-align: right;\">\n",
       "      <th></th>\n",
       "      <th>Country</th>\n",
       "      <th>Last_Update</th>\n",
       "      <th>Lat</th>\n",
       "      <th>Long</th>\n",
       "      <th>Confirmed</th>\n",
       "      <th>Deaths</th>\n",
       "      <th>Recovered</th>\n",
       "      <th>Active</th>\n",
       "      <th>Incident_Rate</th>\n",
       "      <th>People_Tested</th>\n",
       "      <th>People_Hospitalized</th>\n",
       "      <th>Mortality_Rate</th>\n",
       "      <th>UID</th>\n",
       "      <th>ISO3</th>\n",
       "      <th>Cases_28_Days</th>\n",
       "      <th>Deaths_28_Days</th>\n",
       "    </tr>\n",
       "  </thead>\n",
       "  <tbody>\n",
       "    <tr>\n",
       "      <th>0</th>\n",
       "      <td>Afghanistan</td>\n",
       "      <td>2021-09-28 16:21:48</td>\n",
       "      <td>33.939110</td>\n",
       "      <td>67.709953</td>\n",
       "      <td>155093</td>\n",
       "      <td>7201</td>\n",
       "      <td>NaN</td>\n",
       "      <td>NaN</td>\n",
       "      <td>398.406395</td>\n",
       "      <td>NaN</td>\n",
       "      <td>NaN</td>\n",
       "      <td>4.643021</td>\n",
       "      <td>4</td>\n",
       "      <td>AFG</td>\n",
       "      <td>1924</td>\n",
       "      <td>84</td>\n",
       "    </tr>\n",
       "    <tr>\n",
       "      <th>1</th>\n",
       "      <td>Albania</td>\n",
       "      <td>2021-09-28 16:21:48</td>\n",
       "      <td>41.153300</td>\n",
       "      <td>20.168300</td>\n",
       "      <td>168188</td>\n",
       "      <td>2653</td>\n",
       "      <td>NaN</td>\n",
       "      <td>NaN</td>\n",
       "      <td>5844.325526</td>\n",
       "      <td>NaN</td>\n",
       "      <td>NaN</td>\n",
       "      <td>1.577401</td>\n",
       "      <td>8</td>\n",
       "      <td>ALB</td>\n",
       "      <td>22855</td>\n",
       "      <td>158</td>\n",
       "    </tr>\n",
       "    <tr>\n",
       "      <th>2</th>\n",
       "      <td>Algeria</td>\n",
       "      <td>2021-09-28 16:21:48</td>\n",
       "      <td>28.033900</td>\n",
       "      <td>1.659600</td>\n",
       "      <td>202877</td>\n",
       "      <td>5786</td>\n",
       "      <td>NaN</td>\n",
       "      <td>NaN</td>\n",
       "      <td>462.650341</td>\n",
       "      <td>NaN</td>\n",
       "      <td>NaN</td>\n",
       "      <td>2.851974</td>\n",
       "      <td>12</td>\n",
       "      <td>DZA</td>\n",
       "      <td>7303</td>\n",
       "      <td>546</td>\n",
       "    </tr>\n",
       "    <tr>\n",
       "      <th>3</th>\n",
       "      <td>Andorra</td>\n",
       "      <td>2021-09-28 16:21:48</td>\n",
       "      <td>42.506300</td>\n",
       "      <td>1.521800</td>\n",
       "      <td>15189</td>\n",
       "      <td>130</td>\n",
       "      <td>NaN</td>\n",
       "      <td>NaN</td>\n",
       "      <td>19658.318773</td>\n",
       "      <td>NaN</td>\n",
       "      <td>NaN</td>\n",
       "      <td>0.855883</td>\n",
       "      <td>20</td>\n",
       "      <td>AND</td>\n",
       "      <td>157</td>\n",
       "      <td>0</td>\n",
       "    </tr>\n",
       "    <tr>\n",
       "      <th>4</th>\n",
       "      <td>Angola</td>\n",
       "      <td>2021-09-28 16:21:48</td>\n",
       "      <td>-11.202700</td>\n",
       "      <td>17.873900</td>\n",
       "      <td>55583</td>\n",
       "      <td>1513</td>\n",
       "      <td>NaN</td>\n",
       "      <td>NaN</td>\n",
       "      <td>169.118684</td>\n",
       "      <td>NaN</td>\n",
       "      <td>NaN</td>\n",
       "      <td>2.722055</td>\n",
       "      <td>24</td>\n",
       "      <td>AGO</td>\n",
       "      <td>8252</td>\n",
       "      <td>303</td>\n",
       "    </tr>\n",
       "    <tr>\n",
       "      <th>...</th>\n",
       "      <td>...</td>\n",
       "      <td>...</td>\n",
       "      <td>...</td>\n",
       "      <td>...</td>\n",
       "      <td>...</td>\n",
       "      <td>...</td>\n",
       "      <td>...</td>\n",
       "      <td>...</td>\n",
       "      <td>...</td>\n",
       "      <td>...</td>\n",
       "      <td>...</td>\n",
       "      <td>...</td>\n",
       "      <td>...</td>\n",
       "      <td>...</td>\n",
       "      <td>...</td>\n",
       "      <td>...</td>\n",
       "    </tr>\n",
       "    <tr>\n",
       "      <th>190</th>\n",
       "      <td>Vietnam</td>\n",
       "      <td>2021-09-28 16:21:48</td>\n",
       "      <td>14.058324</td>\n",
       "      <td>108.277199</td>\n",
       "      <td>770640</td>\n",
       "      <td>18936</td>\n",
       "      <td>NaN</td>\n",
       "      <td>NaN</td>\n",
       "      <td>791.710724</td>\n",
       "      <td>NaN</td>\n",
       "      <td>NaN</td>\n",
       "      <td>2.457178</td>\n",
       "      <td>704</td>\n",
       "      <td>VNM</td>\n",
       "      <td>316562</td>\n",
       "      <td>7694</td>\n",
       "    </tr>\n",
       "    <tr>\n",
       "      <th>191</th>\n",
       "      <td>West Bank and Gaza</td>\n",
       "      <td>2021-09-28 16:21:48</td>\n",
       "      <td>31.952200</td>\n",
       "      <td>35.233200</td>\n",
       "      <td>398946</td>\n",
       "      <td>4046</td>\n",
       "      <td>NaN</td>\n",
       "      <td>NaN</td>\n",
       "      <td>7820.299305</td>\n",
       "      <td>NaN</td>\n",
       "      <td>NaN</td>\n",
       "      <td>1.014172</td>\n",
       "      <td>275</td>\n",
       "      <td>PSE</td>\n",
       "      <td>59130</td>\n",
       "      <td>371</td>\n",
       "    </tr>\n",
       "    <tr>\n",
       "      <th>192</th>\n",
       "      <td>Yemen</td>\n",
       "      <td>2021-09-28 16:21:48</td>\n",
       "      <td>15.552727</td>\n",
       "      <td>48.516388</td>\n",
       "      <td>8988</td>\n",
       "      <td>1703</td>\n",
       "      <td>NaN</td>\n",
       "      <td>NaN</td>\n",
       "      <td>30.134814</td>\n",
       "      <td>NaN</td>\n",
       "      <td>NaN</td>\n",
       "      <td>18.947486</td>\n",
       "      <td>887</td>\n",
       "      <td>YEM</td>\n",
       "      <td>1159</td>\n",
       "      <td>234</td>\n",
       "    </tr>\n",
       "    <tr>\n",
       "      <th>193</th>\n",
       "      <td>Zambia</td>\n",
       "      <td>2021-09-28 16:21:48</td>\n",
       "      <td>-13.133897</td>\n",
       "      <td>27.849332</td>\n",
       "      <td>208912</td>\n",
       "      <td>3647</td>\n",
       "      <td>NaN</td>\n",
       "      <td>NaN</td>\n",
       "      <td>1136.382180</td>\n",
       "      <td>NaN</td>\n",
       "      <td>NaN</td>\n",
       "      <td>1.745711</td>\n",
       "      <td>894</td>\n",
       "      <td>ZMB</td>\n",
       "      <td>2722</td>\n",
       "      <td>48</td>\n",
       "    </tr>\n",
       "    <tr>\n",
       "      <th>194</th>\n",
       "      <td>Zimbabwe</td>\n",
       "      <td>2021-09-28 16:21:48</td>\n",
       "      <td>-19.015438</td>\n",
       "      <td>29.154857</td>\n",
       "      <td>129919</td>\n",
       "      <td>4607</td>\n",
       "      <td>NaN</td>\n",
       "      <td>NaN</td>\n",
       "      <td>874.114500</td>\n",
       "      <td>NaN</td>\n",
       "      <td>NaN</td>\n",
       "      <td>3.546056</td>\n",
       "      <td>716</td>\n",
       "      <td>ZWE</td>\n",
       "      <td>5338</td>\n",
       "      <td>191</td>\n",
       "    </tr>\n",
       "  </tbody>\n",
       "</table>\n",
       "<p>195 rows × 16 columns</p>\n",
       "</div>"
      ],
      "text/plain": [
       "                Country          Last_Update        Lat        Long  \\\n",
       "0           Afghanistan  2021-09-28 16:21:48  33.939110   67.709953   \n",
       "1               Albania  2021-09-28 16:21:48  41.153300   20.168300   \n",
       "2               Algeria  2021-09-28 16:21:48  28.033900    1.659600   \n",
       "3               Andorra  2021-09-28 16:21:48  42.506300    1.521800   \n",
       "4                Angola  2021-09-28 16:21:48 -11.202700   17.873900   \n",
       "..                  ...                  ...        ...         ...   \n",
       "190             Vietnam  2021-09-28 16:21:48  14.058324  108.277199   \n",
       "191  West Bank and Gaza  2021-09-28 16:21:48  31.952200   35.233200   \n",
       "192               Yemen  2021-09-28 16:21:48  15.552727   48.516388   \n",
       "193              Zambia  2021-09-28 16:21:48 -13.133897   27.849332   \n",
       "194            Zimbabwe  2021-09-28 16:21:48 -19.015438   29.154857   \n",
       "\n",
       "     Confirmed  Deaths  Recovered  Active  Incident_Rate  People_Tested  \\\n",
       "0       155093    7201        NaN     NaN     398.406395            NaN   \n",
       "1       168188    2653        NaN     NaN    5844.325526            NaN   \n",
       "2       202877    5786        NaN     NaN     462.650341            NaN   \n",
       "3        15189     130        NaN     NaN   19658.318773            NaN   \n",
       "4        55583    1513        NaN     NaN     169.118684            NaN   \n",
       "..         ...     ...        ...     ...            ...            ...   \n",
       "190     770640   18936        NaN     NaN     791.710724            NaN   \n",
       "191     398946    4046        NaN     NaN    7820.299305            NaN   \n",
       "192       8988    1703        NaN     NaN      30.134814            NaN   \n",
       "193     208912    3647        NaN     NaN    1136.382180            NaN   \n",
       "194     129919    4607        NaN     NaN     874.114500            NaN   \n",
       "\n",
       "     People_Hospitalized  Mortality_Rate  UID ISO3  Cases_28_Days  \\\n",
       "0                    NaN        4.643021    4  AFG           1924   \n",
       "1                    NaN        1.577401    8  ALB          22855   \n",
       "2                    NaN        2.851974   12  DZA           7303   \n",
       "3                    NaN        0.855883   20  AND            157   \n",
       "4                    NaN        2.722055   24  AGO           8252   \n",
       "..                   ...             ...  ...  ...            ...   \n",
       "190                  NaN        2.457178  704  VNM         316562   \n",
       "191                  NaN        1.014172  275  PSE          59130   \n",
       "192                  NaN       18.947486  887  YEM           1159   \n",
       "193                  NaN        1.745711  894  ZMB           2722   \n",
       "194                  NaN        3.546056  716  ZWE           5338   \n",
       "\n",
       "     Deaths_28_Days  \n",
       "0                84  \n",
       "1               158  \n",
       "2               546  \n",
       "3                 0  \n",
       "4               303  \n",
       "..              ...  \n",
       "190            7694  \n",
       "191             371  \n",
       "192             234  \n",
       "193              48  \n",
       "194             191  \n",
       "\n",
       "[195 rows x 16 columns]"
      ]
     },
     "metadata": {}
    }
   ],
   "metadata": {}
  },
  {
   "cell_type": "markdown",
   "source": [
    "## Feature Description\n",
    "- Country : Country Namesb  bbnbnbnbnbn\n",
    "- Last Update : MM/DD/YYYY HH:mm:ss (24 hour format, in UTC).\n",
    "- Lat and Long : Dot locations on the dashboard. All points (except for Australia) shown on the map are based on geographic centroids, and are not representative of a specific address, building or any location at a spatial scale finer than a province/state. Australian dots are located at the centroid of the largest city in each state.\n",
    "- Confirmed : Counts include confirmed and probable (where reported).\n",
    "- Deaths : Counts include confirmed and probable (where reported).\n",
    "- Recovered : Recovered cases are estimates based on local media reports, and state and local reporting when available, and therefore may be substantially lower than the true number. US state-level recovered cases are from COVID Tracking Project.\n",
    "- Incident_Rate : Incidence Rate = cases per 100,000 persons.\n",
    "- Case_Fatality_Ratio (%) : Case-Fatality Ratio (%) = Number recorded deaths / Number cases."
   ],
   "metadata": {}
  },
  {
   "cell_type": "code",
   "execution_count": 9,
   "source": [
    "covid_df = covid_df.drop(columns=['People_Tested', 'People_Hospitalized'])\r\n",
    "covid_df.info()"
   ],
   "outputs": [
    {
     "output_type": "stream",
     "name": "stdout",
     "text": [
      "<class 'pandas.core.frame.DataFrame'>\n",
      "RangeIndex: 195 entries, 0 to 194\n",
      "Data columns (total 14 columns):\n",
      " #   Column          Non-Null Count  Dtype  \n",
      "---  ------          --------------  -----  \n",
      " 0   Country         195 non-null    object \n",
      " 1   Last_Update     195 non-null    object \n",
      " 2   Lat             193 non-null    float64\n",
      " 3   Long            193 non-null    float64\n",
      " 4   Confirmed       195 non-null    int64  \n",
      " 5   Deaths          195 non-null    int64  \n",
      " 6   Recovered       0 non-null      float64\n",
      " 7   Active          0 non-null      float64\n",
      " 8   Incident_Rate   192 non-null    float64\n",
      " 9   Mortality_Rate  195 non-null    float64\n",
      " 10  UID             195 non-null    int64  \n",
      " 11  ISO3            192 non-null    object \n",
      " 12  Cases_28_Days   195 non-null    int64  \n",
      " 13  Deaths_28_Days  195 non-null    int64  \n",
      "dtypes: float64(6), int64(5), object(3)\n",
      "memory usage: 21.5+ KB\n"
     ]
    }
   ],
   "metadata": {}
  },
  {
   "cell_type": "markdown",
   "source": [
    "## Data Visualisation"
   ],
   "metadata": {}
  },
  {
   "cell_type": "code",
   "execution_count": 29,
   "source": [
    "covid_df[['Lat', 'Long', 'Country', sidebar]].dropna()"
   ],
   "outputs": [
    {
     "output_type": "execute_result",
     "data": {
      "text/html": [
       "<div>\n",
       "<style scoped>\n",
       "    .dataframe tbody tr th:only-of-type {\n",
       "        vertical-align: middle;\n",
       "    }\n",
       "\n",
       "    .dataframe tbody tr th {\n",
       "        vertical-align: top;\n",
       "    }\n",
       "\n",
       "    .dataframe thead th {\n",
       "        text-align: right;\n",
       "    }\n",
       "</style>\n",
       "<table border=\"1\" class=\"dataframe\">\n",
       "  <thead>\n",
       "    <tr style=\"text-align: right;\">\n",
       "      <th></th>\n",
       "      <th>Lat</th>\n",
       "      <th>Long</th>\n",
       "      <th>Country</th>\n",
       "      <th>Confirmed</th>\n",
       "    </tr>\n",
       "  </thead>\n",
       "  <tbody>\n",
       "    <tr>\n",
       "      <th>0</th>\n",
       "      <td>33.939110</td>\n",
       "      <td>67.709953</td>\n",
       "      <td>Afghanistan</td>\n",
       "      <td>155093</td>\n",
       "    </tr>\n",
       "    <tr>\n",
       "      <th>1</th>\n",
       "      <td>41.153300</td>\n",
       "      <td>20.168300</td>\n",
       "      <td>Albania</td>\n",
       "      <td>168188</td>\n",
       "    </tr>\n",
       "    <tr>\n",
       "      <th>2</th>\n",
       "      <td>28.033900</td>\n",
       "      <td>1.659600</td>\n",
       "      <td>Algeria</td>\n",
       "      <td>202877</td>\n",
       "    </tr>\n",
       "    <tr>\n",
       "      <th>3</th>\n",
       "      <td>42.506300</td>\n",
       "      <td>1.521800</td>\n",
       "      <td>Andorra</td>\n",
       "      <td>15189</td>\n",
       "    </tr>\n",
       "    <tr>\n",
       "      <th>4</th>\n",
       "      <td>-11.202700</td>\n",
       "      <td>17.873900</td>\n",
       "      <td>Angola</td>\n",
       "      <td>55583</td>\n",
       "    </tr>\n",
       "    <tr>\n",
       "      <th>...</th>\n",
       "      <td>...</td>\n",
       "      <td>...</td>\n",
       "      <td>...</td>\n",
       "      <td>...</td>\n",
       "    </tr>\n",
       "    <tr>\n",
       "      <th>190</th>\n",
       "      <td>14.058324</td>\n",
       "      <td>108.277199</td>\n",
       "      <td>Vietnam</td>\n",
       "      <td>770640</td>\n",
       "    </tr>\n",
       "    <tr>\n",
       "      <th>191</th>\n",
       "      <td>31.952200</td>\n",
       "      <td>35.233200</td>\n",
       "      <td>West Bank and Gaza</td>\n",
       "      <td>398946</td>\n",
       "    </tr>\n",
       "    <tr>\n",
       "      <th>192</th>\n",
       "      <td>15.552727</td>\n",
       "      <td>48.516388</td>\n",
       "      <td>Yemen</td>\n",
       "      <td>8988</td>\n",
       "    </tr>\n",
       "    <tr>\n",
       "      <th>193</th>\n",
       "      <td>-13.133897</td>\n",
       "      <td>27.849332</td>\n",
       "      <td>Zambia</td>\n",
       "      <td>208912</td>\n",
       "    </tr>\n",
       "    <tr>\n",
       "      <th>194</th>\n",
       "      <td>-19.015438</td>\n",
       "      <td>29.154857</td>\n",
       "      <td>Zimbabwe</td>\n",
       "      <td>129919</td>\n",
       "    </tr>\n",
       "  </tbody>\n",
       "</table>\n",
       "<p>193 rows × 4 columns</p>\n",
       "</div>"
      ],
      "text/plain": [
       "           Lat        Long             Country  Confirmed\n",
       "0    33.939110   67.709953         Afghanistan     155093\n",
       "1    41.153300   20.168300             Albania     168188\n",
       "2    28.033900    1.659600             Algeria     202877\n",
       "3    42.506300    1.521800             Andorra      15189\n",
       "4   -11.202700   17.873900              Angola      55583\n",
       "..         ...         ...                 ...        ...\n",
       "190  14.058324  108.277199             Vietnam     770640\n",
       "191  31.952200   35.233200  West Bank and Gaza     398946\n",
       "192  15.552727   48.516388               Yemen       8988\n",
       "193 -13.133897   27.849332              Zambia     208912\n",
       "194 -19.015438   29.154857            Zimbabwe     129919\n",
       "\n",
       "[193 rows x 4 columns]"
      ]
     },
     "metadata": {},
     "execution_count": 29
    }
   ],
   "metadata": {}
  },
  {
   "cell_type": "code",
   "execution_count": 59,
   "source": [
    "import plotly.graph_objects as go\r\n",
    "go.Scattergeo()\r\n"
   ],
   "outputs": [
    {
     "output_type": "execute_result",
     "data": {
      "text/plain": [
       "Scattergeo()"
      ]
     },
     "metadata": {},
     "execution_count": 59
    }
   ],
   "metadata": {}
  },
  {
   "cell_type": "code",
   "execution_count": 62,
   "source": [
    "df = px.data.gapminder()\r\n",
    "fig = px.choropleth(df, locations=\"iso_alpha\", color=\"lifeExp\", hover_name=\"country\", animation_frame=\"year\", range_color=[20,80])\r\n",
    "fig.show()"
   ],
   "outputs": [
    {
     "output_type": "display_data",
     "data": {
      "application/vnd.plotly.v1+json": {
       "config": {
        "plotlyServerURL": "https://plot.ly"
       },
       "data": [
        {
         "coloraxis": "coloraxis",
         "geo": "geo",
         "hovertemplate": "<b>%{hovertext}</b><br><br>year=1952<br>iso_alpha=%{location}<br>lifeExp=%{z}<extra></extra>",
         "hovertext": [
          "Afghanistan",
          "Albania",
          "Algeria",
          "Angola",
          "Argentina",
          "Australia",
          "Austria",
          "Bahrain",
          "Bangladesh",
          "Belgium",
          "Benin",
          "Bolivia",
          "Bosnia and Herzegovina",
          "Botswana",
          "Brazil",
          "Bulgaria",
          "Burkina Faso",
          "Burundi",
          "Cambodia",
          "Cameroon",
          "Canada",
          "Central African Republic",
          "Chad",
          "Chile",
          "China",
          "Colombia",
          "Comoros",
          "Congo, Dem. Rep.",
          "Congo, Rep.",
          "Costa Rica",
          "Cote d'Ivoire",
          "Croatia",
          "Cuba",
          "Czech Republic",
          "Denmark",
          "Djibouti",
          "Dominican Republic",
          "Ecuador",
          "Egypt",
          "El Salvador",
          "Equatorial Guinea",
          "Eritrea",
          "Ethiopia",
          "Finland",
          "France",
          "Gabon",
          "Gambia",
          "Germany",
          "Ghana",
          "Greece",
          "Guatemala",
          "Guinea",
          "Guinea-Bissau",
          "Haiti",
          "Honduras",
          "Hong Kong, China",
          "Hungary",
          "Iceland",
          "India",
          "Indonesia",
          "Iran",
          "Iraq",
          "Ireland",
          "Israel",
          "Italy",
          "Jamaica",
          "Japan",
          "Jordan",
          "Kenya",
          "Korea, Dem. Rep.",
          "Korea, Rep.",
          "Kuwait",
          "Lebanon",
          "Lesotho",
          "Liberia",
          "Libya",
          "Madagascar",
          "Malawi",
          "Malaysia",
          "Mali",
          "Mauritania",
          "Mauritius",
          "Mexico",
          "Mongolia",
          "Montenegro",
          "Morocco",
          "Mozambique",
          "Myanmar",
          "Namibia",
          "Nepal",
          "Netherlands",
          "New Zealand",
          "Nicaragua",
          "Niger",
          "Nigeria",
          "Norway",
          "Oman",
          "Pakistan",
          "Panama",
          "Paraguay",
          "Peru",
          "Philippines",
          "Poland",
          "Portugal",
          "Puerto Rico",
          "Reunion",
          "Romania",
          "Rwanda",
          "Sao Tome and Principe",
          "Saudi Arabia",
          "Senegal",
          "Serbia",
          "Sierra Leone",
          "Singapore",
          "Slovak Republic",
          "Slovenia",
          "Somalia",
          "South Africa",
          "Spain",
          "Sri Lanka",
          "Sudan",
          "Swaziland",
          "Sweden",
          "Switzerland",
          "Syria",
          "Taiwan",
          "Tanzania",
          "Thailand",
          "Togo",
          "Trinidad and Tobago",
          "Tunisia",
          "Turkey",
          "Uganda",
          "United Kingdom",
          "United States",
          "Uruguay",
          "Venezuela",
          "Vietnam",
          "West Bank and Gaza",
          "Yemen, Rep.",
          "Zambia",
          "Zimbabwe"
         ],
         "locations": [
          "AFG",
          "ALB",
          "DZA",
          "AGO",
          "ARG",
          "AUS",
          "AUT",
          "BHR",
          "BGD",
          "BEL",
          "BEN",
          "BOL",
          "BIH",
          "BWA",
          "BRA",
          "BGR",
          "BFA",
          "BDI",
          "KHM",
          "CMR",
          "CAN",
          "CAF",
          "TCD",
          "CHL",
          "CHN",
          "COL",
          "COM",
          "COD",
          "COG",
          "CRI",
          "CIV",
          "HRV",
          "CUB",
          "CZE",
          "DNK",
          "DJI",
          "DOM",
          "ECU",
          "EGY",
          "SLV",
          "GNQ",
          "ERI",
          "ETH",
          "FIN",
          "FRA",
          "GAB",
          "GMB",
          "DEU",
          "GHA",
          "GRC",
          "GTM",
          "GIN",
          "GNB",
          "HTI",
          "HND",
          "HKG",
          "HUN",
          "ISL",
          "IND",
          "IDN",
          "IRN",
          "IRQ",
          "IRL",
          "ISR",
          "ITA",
          "JAM",
          "JPN",
          "JOR",
          "KEN",
          "KOR",
          "KOR",
          "KWT",
          "LBN",
          "LSO",
          "LBR",
          "LBY",
          "MDG",
          "MWI",
          "MYS",
          "MLI",
          "MRT",
          "MUS",
          "MEX",
          "MNG",
          "MNE",
          "MAR",
          "MOZ",
          "MMR",
          "NAM",
          "NPL",
          "NLD",
          "NZL",
          "NIC",
          "NER",
          "NGA",
          "NOR",
          "OMN",
          "PAK",
          "PAN",
          "PRY",
          "PER",
          "PHL",
          "POL",
          "PRT",
          "PRI",
          "REU",
          "ROU",
          "RWA",
          "STP",
          "SAU",
          "SEN",
          "SRB",
          "SLE",
          "SGP",
          "SVK",
          "SVN",
          "SOM",
          "ZAF",
          "ESP",
          "LKA",
          "SDN",
          "SWZ",
          "SWE",
          "CHE",
          "SYR",
          "TWN",
          "TZA",
          "THA",
          "TGO",
          "TTO",
          "TUN",
          "TUR",
          "UGA",
          "GBR",
          "USA",
          "URY",
          "VEN",
          "VNM",
          "PSE",
          "YEM",
          "ZMB",
          "ZWE"
         ],
         "name": "",
         "type": "choropleth",
         "z": [
          28.801,
          55.23,
          43.077,
          30.015,
          62.485,
          69.12,
          66.8,
          50.93899999999999,
          37.484,
          68,
          38.223,
          40.414,
          53.82,
          47.622,
          50.917,
          59.6,
          31.975,
          39.031,
          39.417,
          38.523,
          68.75,
          35.463,
          38.092,
          54.745,
          44,
          50.643,
          40.715,
          39.143,
          42.111000000000004,
          57.206,
          40.477,
          61.21,
          59.42100000000001,
          66.87,
          70.78,
          34.812,
          45.928000000000004,
          48.357,
          41.893,
          45.262,
          34.482,
          35.928000000000004,
          34.078,
          66.55,
          67.41,
          37.003,
          30,
          67.5,
          43.148999999999994,
          65.86,
          42.023,
          33.609,
          32.5,
          37.579,
          41.912,
          60.96,
          64.03,
          72.49,
          37.373000000000005,
          37.468,
          44.869,
          45.32,
          66.91,
          65.39,
          65.94,
          58.53,
          63.03,
          43.158,
          42.27,
          50.056000000000004,
          47.453,
          55.565,
          55.928000000000004,
          42.138000000000005,
          38.48,
          42.723,
          36.681,
          36.256,
          48.463,
          33.685,
          40.543,
          50.986000000000004,
          50.788999999999994,
          42.244,
          59.163999999999994,
          42.873000000000005,
          31.285999999999998,
          36.319,
          41.725,
          36.157,
          72.13,
          69.39,
          42.31399999999999,
          37.444,
          36.324,
          72.67,
          37.578,
          43.43600000000001,
          55.191,
          62.648999999999994,
          43.902,
          47.751999999999995,
          61.31,
          59.82,
          64.28,
          52.724,
          61.05,
          40,
          46.471000000000004,
          39.875,
          37.278,
          57.996,
          30.331,
          60.396,
          64.36,
          65.57,
          32.978,
          45.00899999999999,
          64.94,
          57.593,
          38.635,
          41.407,
          71.86,
          69.62,
          45.883,
          58.5,
          41.215,
          50.848,
          38.596,
          59.1,
          44.6,
          43.585,
          39.978,
          69.18,
          68.44,
          66.071,
          55.088,
          40.412,
          43.16,
          32.548,
          42.038000000000004,
          48.451
         ]
        }
       ],
       "frames": [
        {
         "data": [
          {
           "coloraxis": "coloraxis",
           "geo": "geo",
           "hovertemplate": "<b>%{hovertext}</b><br><br>year=1952<br>iso_alpha=%{location}<br>lifeExp=%{z}<extra></extra>",
           "hovertext": [
            "Afghanistan",
            "Albania",
            "Algeria",
            "Angola",
            "Argentina",
            "Australia",
            "Austria",
            "Bahrain",
            "Bangladesh",
            "Belgium",
            "Benin",
            "Bolivia",
            "Bosnia and Herzegovina",
            "Botswana",
            "Brazil",
            "Bulgaria",
            "Burkina Faso",
            "Burundi",
            "Cambodia",
            "Cameroon",
            "Canada",
            "Central African Republic",
            "Chad",
            "Chile",
            "China",
            "Colombia",
            "Comoros",
            "Congo, Dem. Rep.",
            "Congo, Rep.",
            "Costa Rica",
            "Cote d'Ivoire",
            "Croatia",
            "Cuba",
            "Czech Republic",
            "Denmark",
            "Djibouti",
            "Dominican Republic",
            "Ecuador",
            "Egypt",
            "El Salvador",
            "Equatorial Guinea",
            "Eritrea",
            "Ethiopia",
            "Finland",
            "France",
            "Gabon",
            "Gambia",
            "Germany",
            "Ghana",
            "Greece",
            "Guatemala",
            "Guinea",
            "Guinea-Bissau",
            "Haiti",
            "Honduras",
            "Hong Kong, China",
            "Hungary",
            "Iceland",
            "India",
            "Indonesia",
            "Iran",
            "Iraq",
            "Ireland",
            "Israel",
            "Italy",
            "Jamaica",
            "Japan",
            "Jordan",
            "Kenya",
            "Korea, Dem. Rep.",
            "Korea, Rep.",
            "Kuwait",
            "Lebanon",
            "Lesotho",
            "Liberia",
            "Libya",
            "Madagascar",
            "Malawi",
            "Malaysia",
            "Mali",
            "Mauritania",
            "Mauritius",
            "Mexico",
            "Mongolia",
            "Montenegro",
            "Morocco",
            "Mozambique",
            "Myanmar",
            "Namibia",
            "Nepal",
            "Netherlands",
            "New Zealand",
            "Nicaragua",
            "Niger",
            "Nigeria",
            "Norway",
            "Oman",
            "Pakistan",
            "Panama",
            "Paraguay",
            "Peru",
            "Philippines",
            "Poland",
            "Portugal",
            "Puerto Rico",
            "Reunion",
            "Romania",
            "Rwanda",
            "Sao Tome and Principe",
            "Saudi Arabia",
            "Senegal",
            "Serbia",
            "Sierra Leone",
            "Singapore",
            "Slovak Republic",
            "Slovenia",
            "Somalia",
            "South Africa",
            "Spain",
            "Sri Lanka",
            "Sudan",
            "Swaziland",
            "Sweden",
            "Switzerland",
            "Syria",
            "Taiwan",
            "Tanzania",
            "Thailand",
            "Togo",
            "Trinidad and Tobago",
            "Tunisia",
            "Turkey",
            "Uganda",
            "United Kingdom",
            "United States",
            "Uruguay",
            "Venezuela",
            "Vietnam",
            "West Bank and Gaza",
            "Yemen, Rep.",
            "Zambia",
            "Zimbabwe"
           ],
           "locations": [
            "AFG",
            "ALB",
            "DZA",
            "AGO",
            "ARG",
            "AUS",
            "AUT",
            "BHR",
            "BGD",
            "BEL",
            "BEN",
            "BOL",
            "BIH",
            "BWA",
            "BRA",
            "BGR",
            "BFA",
            "BDI",
            "KHM",
            "CMR",
            "CAN",
            "CAF",
            "TCD",
            "CHL",
            "CHN",
            "COL",
            "COM",
            "COD",
            "COG",
            "CRI",
            "CIV",
            "HRV",
            "CUB",
            "CZE",
            "DNK",
            "DJI",
            "DOM",
            "ECU",
            "EGY",
            "SLV",
            "GNQ",
            "ERI",
            "ETH",
            "FIN",
            "FRA",
            "GAB",
            "GMB",
            "DEU",
            "GHA",
            "GRC",
            "GTM",
            "GIN",
            "GNB",
            "HTI",
            "HND",
            "HKG",
            "HUN",
            "ISL",
            "IND",
            "IDN",
            "IRN",
            "IRQ",
            "IRL",
            "ISR",
            "ITA",
            "JAM",
            "JPN",
            "JOR",
            "KEN",
            "KOR",
            "KOR",
            "KWT",
            "LBN",
            "LSO",
            "LBR",
            "LBY",
            "MDG",
            "MWI",
            "MYS",
            "MLI",
            "MRT",
            "MUS",
            "MEX",
            "MNG",
            "MNE",
            "MAR",
            "MOZ",
            "MMR",
            "NAM",
            "NPL",
            "NLD",
            "NZL",
            "NIC",
            "NER",
            "NGA",
            "NOR",
            "OMN",
            "PAK",
            "PAN",
            "PRY",
            "PER",
            "PHL",
            "POL",
            "PRT",
            "PRI",
            "REU",
            "ROU",
            "RWA",
            "STP",
            "SAU",
            "SEN",
            "SRB",
            "SLE",
            "SGP",
            "SVK",
            "SVN",
            "SOM",
            "ZAF",
            "ESP",
            "LKA",
            "SDN",
            "SWZ",
            "SWE",
            "CHE",
            "SYR",
            "TWN",
            "TZA",
            "THA",
            "TGO",
            "TTO",
            "TUN",
            "TUR",
            "UGA",
            "GBR",
            "USA",
            "URY",
            "VEN",
            "VNM",
            "PSE",
            "YEM",
            "ZMB",
            "ZWE"
           ],
           "name": "",
           "type": "choropleth",
           "z": [
            28.801,
            55.23,
            43.077,
            30.015,
            62.485,
            69.12,
            66.8,
            50.93899999999999,
            37.484,
            68,
            38.223,
            40.414,
            53.82,
            47.622,
            50.917,
            59.6,
            31.975,
            39.031,
            39.417,
            38.523,
            68.75,
            35.463,
            38.092,
            54.745,
            44,
            50.643,
            40.715,
            39.143,
            42.111000000000004,
            57.206,
            40.477,
            61.21,
            59.42100000000001,
            66.87,
            70.78,
            34.812,
            45.928000000000004,
            48.357,
            41.893,
            45.262,
            34.482,
            35.928000000000004,
            34.078,
            66.55,
            67.41,
            37.003,
            30,
            67.5,
            43.148999999999994,
            65.86,
            42.023,
            33.609,
            32.5,
            37.579,
            41.912,
            60.96,
            64.03,
            72.49,
            37.373000000000005,
            37.468,
            44.869,
            45.32,
            66.91,
            65.39,
            65.94,
            58.53,
            63.03,
            43.158,
            42.27,
            50.056000000000004,
            47.453,
            55.565,
            55.928000000000004,
            42.138000000000005,
            38.48,
            42.723,
            36.681,
            36.256,
            48.463,
            33.685,
            40.543,
            50.986000000000004,
            50.788999999999994,
            42.244,
            59.163999999999994,
            42.873000000000005,
            31.285999999999998,
            36.319,
            41.725,
            36.157,
            72.13,
            69.39,
            42.31399999999999,
            37.444,
            36.324,
            72.67,
            37.578,
            43.43600000000001,
            55.191,
            62.648999999999994,
            43.902,
            47.751999999999995,
            61.31,
            59.82,
            64.28,
            52.724,
            61.05,
            40,
            46.471000000000004,
            39.875,
            37.278,
            57.996,
            30.331,
            60.396,
            64.36,
            65.57,
            32.978,
            45.00899999999999,
            64.94,
            57.593,
            38.635,
            41.407,
            71.86,
            69.62,
            45.883,
            58.5,
            41.215,
            50.848,
            38.596,
            59.1,
            44.6,
            43.585,
            39.978,
            69.18,
            68.44,
            66.071,
            55.088,
            40.412,
            43.16,
            32.548,
            42.038000000000004,
            48.451
           ]
          }
         ],
         "name": "1952"
        },
        {
         "data": [
          {
           "coloraxis": "coloraxis",
           "geo": "geo",
           "hovertemplate": "<b>%{hovertext}</b><br><br>year=1957<br>iso_alpha=%{location}<br>lifeExp=%{z}<extra></extra>",
           "hovertext": [
            "Afghanistan",
            "Albania",
            "Algeria",
            "Angola",
            "Argentina",
            "Australia",
            "Austria",
            "Bahrain",
            "Bangladesh",
            "Belgium",
            "Benin",
            "Bolivia",
            "Bosnia and Herzegovina",
            "Botswana",
            "Brazil",
            "Bulgaria",
            "Burkina Faso",
            "Burundi",
            "Cambodia",
            "Cameroon",
            "Canada",
            "Central African Republic",
            "Chad",
            "Chile",
            "China",
            "Colombia",
            "Comoros",
            "Congo, Dem. Rep.",
            "Congo, Rep.",
            "Costa Rica",
            "Cote d'Ivoire",
            "Croatia",
            "Cuba",
            "Czech Republic",
            "Denmark",
            "Djibouti",
            "Dominican Republic",
            "Ecuador",
            "Egypt",
            "El Salvador",
            "Equatorial Guinea",
            "Eritrea",
            "Ethiopia",
            "Finland",
            "France",
            "Gabon",
            "Gambia",
            "Germany",
            "Ghana",
            "Greece",
            "Guatemala",
            "Guinea",
            "Guinea-Bissau",
            "Haiti",
            "Honduras",
            "Hong Kong, China",
            "Hungary",
            "Iceland",
            "India",
            "Indonesia",
            "Iran",
            "Iraq",
            "Ireland",
            "Israel",
            "Italy",
            "Jamaica",
            "Japan",
            "Jordan",
            "Kenya",
            "Korea, Dem. Rep.",
            "Korea, Rep.",
            "Kuwait",
            "Lebanon",
            "Lesotho",
            "Liberia",
            "Libya",
            "Madagascar",
            "Malawi",
            "Malaysia",
            "Mali",
            "Mauritania",
            "Mauritius",
            "Mexico",
            "Mongolia",
            "Montenegro",
            "Morocco",
            "Mozambique",
            "Myanmar",
            "Namibia",
            "Nepal",
            "Netherlands",
            "New Zealand",
            "Nicaragua",
            "Niger",
            "Nigeria",
            "Norway",
            "Oman",
            "Pakistan",
            "Panama",
            "Paraguay",
            "Peru",
            "Philippines",
            "Poland",
            "Portugal",
            "Puerto Rico",
            "Reunion",
            "Romania",
            "Rwanda",
            "Sao Tome and Principe",
            "Saudi Arabia",
            "Senegal",
            "Serbia",
            "Sierra Leone",
            "Singapore",
            "Slovak Republic",
            "Slovenia",
            "Somalia",
            "South Africa",
            "Spain",
            "Sri Lanka",
            "Sudan",
            "Swaziland",
            "Sweden",
            "Switzerland",
            "Syria",
            "Taiwan",
            "Tanzania",
            "Thailand",
            "Togo",
            "Trinidad and Tobago",
            "Tunisia",
            "Turkey",
            "Uganda",
            "United Kingdom",
            "United States",
            "Uruguay",
            "Venezuela",
            "Vietnam",
            "West Bank and Gaza",
            "Yemen, Rep.",
            "Zambia",
            "Zimbabwe"
           ],
           "locations": [
            "AFG",
            "ALB",
            "DZA",
            "AGO",
            "ARG",
            "AUS",
            "AUT",
            "BHR",
            "BGD",
            "BEL",
            "BEN",
            "BOL",
            "BIH",
            "BWA",
            "BRA",
            "BGR",
            "BFA",
            "BDI",
            "KHM",
            "CMR",
            "CAN",
            "CAF",
            "TCD",
            "CHL",
            "CHN",
            "COL",
            "COM",
            "COD",
            "COG",
            "CRI",
            "CIV",
            "HRV",
            "CUB",
            "CZE",
            "DNK",
            "DJI",
            "DOM",
            "ECU",
            "EGY",
            "SLV",
            "GNQ",
            "ERI",
            "ETH",
            "FIN",
            "FRA",
            "GAB",
            "GMB",
            "DEU",
            "GHA",
            "GRC",
            "GTM",
            "GIN",
            "GNB",
            "HTI",
            "HND",
            "HKG",
            "HUN",
            "ISL",
            "IND",
            "IDN",
            "IRN",
            "IRQ",
            "IRL",
            "ISR",
            "ITA",
            "JAM",
            "JPN",
            "JOR",
            "KEN",
            "KOR",
            "KOR",
            "KWT",
            "LBN",
            "LSO",
            "LBR",
            "LBY",
            "MDG",
            "MWI",
            "MYS",
            "MLI",
            "MRT",
            "MUS",
            "MEX",
            "MNG",
            "MNE",
            "MAR",
            "MOZ",
            "MMR",
            "NAM",
            "NPL",
            "NLD",
            "NZL",
            "NIC",
            "NER",
            "NGA",
            "NOR",
            "OMN",
            "PAK",
            "PAN",
            "PRY",
            "PER",
            "PHL",
            "POL",
            "PRT",
            "PRI",
            "REU",
            "ROU",
            "RWA",
            "STP",
            "SAU",
            "SEN",
            "SRB",
            "SLE",
            "SGP",
            "SVK",
            "SVN",
            "SOM",
            "ZAF",
            "ESP",
            "LKA",
            "SDN",
            "SWZ",
            "SWE",
            "CHE",
            "SYR",
            "TWN",
            "TZA",
            "THA",
            "TGO",
            "TTO",
            "TUN",
            "TUR",
            "UGA",
            "GBR",
            "USA",
            "URY",
            "VEN",
            "VNM",
            "PSE",
            "YEM",
            "ZMB",
            "ZWE"
           ],
           "name": "",
           "type": "choropleth",
           "z": [
            30.331999999999997,
            59.28,
            45.685,
            31.999000000000002,
            64.399,
            70.33,
            67.48,
            53.832,
            39.348,
            69.24,
            40.358000000000004,
            41.89,
            58.45,
            49.618,
            53.285,
            66.61,
            34.906,
            40.533,
            41.36600000000001,
            40.428000000000004,
            69.96,
            37.464,
            39.881,
            56.074,
            50.54896,
            55.118,
            42.46,
            40.652,
            45.053000000000004,
            60.026,
            42.468999999999994,
            64.77,
            62.325,
            69.03,
            71.81,
            37.328,
            49.828,
            51.356,
            44.443999999999996,
            48.57,
            35.983000000000004,
            38.047,
            36.667,
            67.49,
            68.93,
            38.999,
            32.065,
            69.1,
            44.778999999999996,
            67.86,
            44.141999999999996,
            34.558,
            33.489000000000004,
            40.696,
            44.665,
            64.75,
            66.41,
            73.47,
            40.249,
            39.918,
            47.181000000000004,
            48.437,
            68.9,
            67.84,
            67.81,
            62.61,
            65.5,
            45.669,
            44.68600000000001,
            54.081,
            52.681000000000004,
            58.033,
            59.489,
            45.047,
            39.486,
            45.288999999999994,
            38.865,
            37.207,
            52.102,
            35.306999999999995,
            42.338,
            58.089,
            55.19,
            45.248000000000005,
            61.448,
            45.423,
            33.779,
            41.905,
            45.226000000000006,
            37.686,
            72.99,
            70.26,
            45.431999999999995,
            38.598,
            37.802,
            73.44,
            40.08,
            45.556999999999995,
            59.201,
            63.196000000000005,
            46.263000000000005,
            51.333999999999996,
            65.77,
            61.51,
            68.54,
            55.09,
            64.1,
            41.5,
            48.945,
            42.868,
            39.329,
            61.685,
            31.57,
            63.178999999999995,
            67.45,
            67.85,
            34.977,
            47.985,
            66.66,
            61.456,
            39.624,
            43.424,
            72.49,
            70.56,
            48.284,
            62.4,
            42.974,
            53.63,
            41.208,
            61.8,
            47.1,
            48.07899999999999,
            42.571000000000005,
            70.42,
            69.49,
            67.044,
            57.907,
            42.887,
            45.67100000000001,
            33.97,
            44.077,
            50.468999999999994
           ]
          }
         ],
         "name": "1957"
        },
        {
         "data": [
          {
           "coloraxis": "coloraxis",
           "geo": "geo",
           "hovertemplate": "<b>%{hovertext}</b><br><br>year=1962<br>iso_alpha=%{location}<br>lifeExp=%{z}<extra></extra>",
           "hovertext": [
            "Afghanistan",
            "Albania",
            "Algeria",
            "Angola",
            "Argentina",
            "Australia",
            "Austria",
            "Bahrain",
            "Bangladesh",
            "Belgium",
            "Benin",
            "Bolivia",
            "Bosnia and Herzegovina",
            "Botswana",
            "Brazil",
            "Bulgaria",
            "Burkina Faso",
            "Burundi",
            "Cambodia",
            "Cameroon",
            "Canada",
            "Central African Republic",
            "Chad",
            "Chile",
            "China",
            "Colombia",
            "Comoros",
            "Congo, Dem. Rep.",
            "Congo, Rep.",
            "Costa Rica",
            "Cote d'Ivoire",
            "Croatia",
            "Cuba",
            "Czech Republic",
            "Denmark",
            "Djibouti",
            "Dominican Republic",
            "Ecuador",
            "Egypt",
            "El Salvador",
            "Equatorial Guinea",
            "Eritrea",
            "Ethiopia",
            "Finland",
            "France",
            "Gabon",
            "Gambia",
            "Germany",
            "Ghana",
            "Greece",
            "Guatemala",
            "Guinea",
            "Guinea-Bissau",
            "Haiti",
            "Honduras",
            "Hong Kong, China",
            "Hungary",
            "Iceland",
            "India",
            "Indonesia",
            "Iran",
            "Iraq",
            "Ireland",
            "Israel",
            "Italy",
            "Jamaica",
            "Japan",
            "Jordan",
            "Kenya",
            "Korea, Dem. Rep.",
            "Korea, Rep.",
            "Kuwait",
            "Lebanon",
            "Lesotho",
            "Liberia",
            "Libya",
            "Madagascar",
            "Malawi",
            "Malaysia",
            "Mali",
            "Mauritania",
            "Mauritius",
            "Mexico",
            "Mongolia",
            "Montenegro",
            "Morocco",
            "Mozambique",
            "Myanmar",
            "Namibia",
            "Nepal",
            "Netherlands",
            "New Zealand",
            "Nicaragua",
            "Niger",
            "Nigeria",
            "Norway",
            "Oman",
            "Pakistan",
            "Panama",
            "Paraguay",
            "Peru",
            "Philippines",
            "Poland",
            "Portugal",
            "Puerto Rico",
            "Reunion",
            "Romania",
            "Rwanda",
            "Sao Tome and Principe",
            "Saudi Arabia",
            "Senegal",
            "Serbia",
            "Sierra Leone",
            "Singapore",
            "Slovak Republic",
            "Slovenia",
            "Somalia",
            "South Africa",
            "Spain",
            "Sri Lanka",
            "Sudan",
            "Swaziland",
            "Sweden",
            "Switzerland",
            "Syria",
            "Taiwan",
            "Tanzania",
            "Thailand",
            "Togo",
            "Trinidad and Tobago",
            "Tunisia",
            "Turkey",
            "Uganda",
            "United Kingdom",
            "United States",
            "Uruguay",
            "Venezuela",
            "Vietnam",
            "West Bank and Gaza",
            "Yemen, Rep.",
            "Zambia",
            "Zimbabwe"
           ],
           "locations": [
            "AFG",
            "ALB",
            "DZA",
            "AGO",
            "ARG",
            "AUS",
            "AUT",
            "BHR",
            "BGD",
            "BEL",
            "BEN",
            "BOL",
            "BIH",
            "BWA",
            "BRA",
            "BGR",
            "BFA",
            "BDI",
            "KHM",
            "CMR",
            "CAN",
            "CAF",
            "TCD",
            "CHL",
            "CHN",
            "COL",
            "COM",
            "COD",
            "COG",
            "CRI",
            "CIV",
            "HRV",
            "CUB",
            "CZE",
            "DNK",
            "DJI",
            "DOM",
            "ECU",
            "EGY",
            "SLV",
            "GNQ",
            "ERI",
            "ETH",
            "FIN",
            "FRA",
            "GAB",
            "GMB",
            "DEU",
            "GHA",
            "GRC",
            "GTM",
            "GIN",
            "GNB",
            "HTI",
            "HND",
            "HKG",
            "HUN",
            "ISL",
            "IND",
            "IDN",
            "IRN",
            "IRQ",
            "IRL",
            "ISR",
            "ITA",
            "JAM",
            "JPN",
            "JOR",
            "KEN",
            "KOR",
            "KOR",
            "KWT",
            "LBN",
            "LSO",
            "LBR",
            "LBY",
            "MDG",
            "MWI",
            "MYS",
            "MLI",
            "MRT",
            "MUS",
            "MEX",
            "MNG",
            "MNE",
            "MAR",
            "MOZ",
            "MMR",
            "NAM",
            "NPL",
            "NLD",
            "NZL",
            "NIC",
            "NER",
            "NGA",
            "NOR",
            "OMN",
            "PAK",
            "PAN",
            "PRY",
            "PER",
            "PHL",
            "POL",
            "PRT",
            "PRI",
            "REU",
            "ROU",
            "RWA",
            "STP",
            "SAU",
            "SEN",
            "SRB",
            "SLE",
            "SGP",
            "SVK",
            "SVN",
            "SOM",
            "ZAF",
            "ESP",
            "LKA",
            "SDN",
            "SWZ",
            "SWE",
            "CHE",
            "SYR",
            "TWN",
            "TZA",
            "THA",
            "TGO",
            "TTO",
            "TUN",
            "TUR",
            "UGA",
            "GBR",
            "USA",
            "URY",
            "VEN",
            "VNM",
            "PSE",
            "YEM",
            "ZMB",
            "ZWE"
           ],
           "name": "",
           "type": "choropleth",
           "z": [
            31.997,
            64.82,
            48.303000000000004,
            34,
            65.142,
            70.93,
            69.54,
            56.923,
            41.216,
            70.25,
            42.618,
            43.428000000000004,
            61.93,
            51.52,
            55.665,
            69.51,
            37.814,
            42.045,
            43.415,
            42.643,
            71.3,
            39.475,
            41.716,
            57.924,
            44.50136,
            57.863,
            44.467,
            42.122,
            48.435,
            62.842,
            44.93,
            67.13,
            65.24600000000001,
            69.9,
            72.35,
            39.693000000000005,
            53.458999999999996,
            54.64,
            46.992,
            52.306999999999995,
            37.485,
            40.158,
            40.059,
            68.75,
            70.51,
            40.489000000000004,
            33.896,
            70.3,
            46.452,
            69.51,
            46.95399999999999,
            35.753,
            34.488,
            43.59,
            48.041000000000004,
            67.65,
            67.96,
            73.68,
            43.605,
            42.518,
            49.325,
            51.457,
            70.29,
            69.39,
            69.24,
            65.61,
            68.73,
            48.126000000000005,
            47.949,
            56.656000000000006,
            55.292,
            60.47,
            62.093999999999994,
            47.747,
            40.501999999999995,
            47.808,
            40.848,
            38.41,
            55.736999999999995,
            36.936,
            44.248000000000005,
            60.246,
            58.299,
            48.251000000000005,
            63.728,
            47.924,
            36.161,
            45.108000000000004,
            48.386,
            39.393,
            73.23,
            71.24,
            48.632,
            39.486999999999995,
            39.36,
            73.47,
            43.165,
            47.67,
            61.817,
            64.361,
            49.096000000000004,
            54.757,
            67.64,
            64.39,
            69.62,
            57.666000000000004,
            66.8,
            43,
            51.893,
            45.913999999999994,
            41.45399999999999,
            64.531,
            32.766999999999996,
            65.798,
            70.33,
            69.15,
            36.981,
            49.951,
            69.69,
            62.192,
            40.87,
            44.992,
            73.37,
            71.32,
            50.305,
            65.2,
            44.246,
            56.06100000000001,
            43.922,
            64.9,
            49.57899999999999,
            52.098,
            45.343999999999994,
            70.76,
            70.21,
            68.253,
            60.77,
            45.363,
            48.126999999999995,
            35.18,
            46.023,
            52.358000000000004
           ]
          }
         ],
         "name": "1962"
        },
        {
         "data": [
          {
           "coloraxis": "coloraxis",
           "geo": "geo",
           "hovertemplate": "<b>%{hovertext}</b><br><br>year=1967<br>iso_alpha=%{location}<br>lifeExp=%{z}<extra></extra>",
           "hovertext": [
            "Afghanistan",
            "Albania",
            "Algeria",
            "Angola",
            "Argentina",
            "Australia",
            "Austria",
            "Bahrain",
            "Bangladesh",
            "Belgium",
            "Benin",
            "Bolivia",
            "Bosnia and Herzegovina",
            "Botswana",
            "Brazil",
            "Bulgaria",
            "Burkina Faso",
            "Burundi",
            "Cambodia",
            "Cameroon",
            "Canada",
            "Central African Republic",
            "Chad",
            "Chile",
            "China",
            "Colombia",
            "Comoros",
            "Congo, Dem. Rep.",
            "Congo, Rep.",
            "Costa Rica",
            "Cote d'Ivoire",
            "Croatia",
            "Cuba",
            "Czech Republic",
            "Denmark",
            "Djibouti",
            "Dominican Republic",
            "Ecuador",
            "Egypt",
            "El Salvador",
            "Equatorial Guinea",
            "Eritrea",
            "Ethiopia",
            "Finland",
            "France",
            "Gabon",
            "Gambia",
            "Germany",
            "Ghana",
            "Greece",
            "Guatemala",
            "Guinea",
            "Guinea-Bissau",
            "Haiti",
            "Honduras",
            "Hong Kong, China",
            "Hungary",
            "Iceland",
            "India",
            "Indonesia",
            "Iran",
            "Iraq",
            "Ireland",
            "Israel",
            "Italy",
            "Jamaica",
            "Japan",
            "Jordan",
            "Kenya",
            "Korea, Dem. Rep.",
            "Korea, Rep.",
            "Kuwait",
            "Lebanon",
            "Lesotho",
            "Liberia",
            "Libya",
            "Madagascar",
            "Malawi",
            "Malaysia",
            "Mali",
            "Mauritania",
            "Mauritius",
            "Mexico",
            "Mongolia",
            "Montenegro",
            "Morocco",
            "Mozambique",
            "Myanmar",
            "Namibia",
            "Nepal",
            "Netherlands",
            "New Zealand",
            "Nicaragua",
            "Niger",
            "Nigeria",
            "Norway",
            "Oman",
            "Pakistan",
            "Panama",
            "Paraguay",
            "Peru",
            "Philippines",
            "Poland",
            "Portugal",
            "Puerto Rico",
            "Reunion",
            "Romania",
            "Rwanda",
            "Sao Tome and Principe",
            "Saudi Arabia",
            "Senegal",
            "Serbia",
            "Sierra Leone",
            "Singapore",
            "Slovak Republic",
            "Slovenia",
            "Somalia",
            "South Africa",
            "Spain",
            "Sri Lanka",
            "Sudan",
            "Swaziland",
            "Sweden",
            "Switzerland",
            "Syria",
            "Taiwan",
            "Tanzania",
            "Thailand",
            "Togo",
            "Trinidad and Tobago",
            "Tunisia",
            "Turkey",
            "Uganda",
            "United Kingdom",
            "United States",
            "Uruguay",
            "Venezuela",
            "Vietnam",
            "West Bank and Gaza",
            "Yemen, Rep.",
            "Zambia",
            "Zimbabwe"
           ],
           "locations": [
            "AFG",
            "ALB",
            "DZA",
            "AGO",
            "ARG",
            "AUS",
            "AUT",
            "BHR",
            "BGD",
            "BEL",
            "BEN",
            "BOL",
            "BIH",
            "BWA",
            "BRA",
            "BGR",
            "BFA",
            "BDI",
            "KHM",
            "CMR",
            "CAN",
            "CAF",
            "TCD",
            "CHL",
            "CHN",
            "COL",
            "COM",
            "COD",
            "COG",
            "CRI",
            "CIV",
            "HRV",
            "CUB",
            "CZE",
            "DNK",
            "DJI",
            "DOM",
            "ECU",
            "EGY",
            "SLV",
            "GNQ",
            "ERI",
            "ETH",
            "FIN",
            "FRA",
            "GAB",
            "GMB",
            "DEU",
            "GHA",
            "GRC",
            "GTM",
            "GIN",
            "GNB",
            "HTI",
            "HND",
            "HKG",
            "HUN",
            "ISL",
            "IND",
            "IDN",
            "IRN",
            "IRQ",
            "IRL",
            "ISR",
            "ITA",
            "JAM",
            "JPN",
            "JOR",
            "KEN",
            "KOR",
            "KOR",
            "KWT",
            "LBN",
            "LSO",
            "LBR",
            "LBY",
            "MDG",
            "MWI",
            "MYS",
            "MLI",
            "MRT",
            "MUS",
            "MEX",
            "MNG",
            "MNE",
            "MAR",
            "MOZ",
            "MMR",
            "NAM",
            "NPL",
            "NLD",
            "NZL",
            "NIC",
            "NER",
            "NGA",
            "NOR",
            "OMN",
            "PAK",
            "PAN",
            "PRY",
            "PER",
            "PHL",
            "POL",
            "PRT",
            "PRI",
            "REU",
            "ROU",
            "RWA",
            "STP",
            "SAU",
            "SEN",
            "SRB",
            "SLE",
            "SGP",
            "SVK",
            "SVN",
            "SOM",
            "ZAF",
            "ESP",
            "LKA",
            "SDN",
            "SWZ",
            "SWE",
            "CHE",
            "SYR",
            "TWN",
            "TZA",
            "THA",
            "TGO",
            "TTO",
            "TUN",
            "TUR",
            "UGA",
            "GBR",
            "USA",
            "URY",
            "VEN",
            "VNM",
            "PSE",
            "YEM",
            "ZMB",
            "ZWE"
           ],
           "name": "",
           "type": "choropleth",
           "z": [
            34.02,
            66.22,
            51.407,
            35.985,
            65.634,
            71.1,
            70.14,
            59.923,
            43.453,
            70.94,
            44.885,
            45.032,
            64.79,
            53.298,
            57.632,
            70.42,
            40.696999999999996,
            43.548,
            45.415,
            44.799,
            72.13,
            41.478,
            43.601000000000006,
            60.523,
            58.381119999999996,
            59.963,
            46.472,
            44.056000000000004,
            52.04,
            65.42399999999999,
            47.35,
            68.5,
            68.29,
            70.38,
            72.96,
            42.074,
            56.751000000000005,
            56.678000000000004,
            49.293,
            55.855,
            38.986999999999995,
            42.18899999999999,
            42.115,
            69.83,
            71.55,
            44.598,
            35.857,
            70.8,
            48.071999999999996,
            71,
            50.016000000000005,
            37.196999999999996,
            35.492,
            46.243,
            50.924,
            70,
            69.5,
            73.73,
            47.193000000000005,
            45.964,
            52.468999999999994,
            54.458999999999996,
            71.08,
            70.75,
            71.06,
            67.51,
            71.43,
            51.629,
            50.653999999999996,
            59.942,
            57.716,
            64.624,
            63.87,
            48.492,
            41.536,
            50.227,
            42.881,
            39.486999999999995,
            59.371,
            38.486999999999995,
            46.288999999999994,
            61.556999999999995,
            60.11,
            51.253,
            67.178,
            50.335,
            38.113,
            49.379,
            51.159,
            41.472,
            73.82,
            71.52,
            51.88399999999999,
            40.118,
            41.04,
            74.08,
            46.988,
            49.8,
            64.071,
            64.95100000000001,
            51.445,
            56.393,
            69.61,
            66.6,
            71.1,
            60.542,
            66.8,
            44.1,
            54.425,
            49.901,
            43.563,
            66.914,
            34.113,
            67.946,
            70.98,
            69.18,
            38.977,
            51.927,
            71.44,
            64.266,
            42.858000000000004,
            46.633,
            74.16,
            72.77,
            53.655,
            67.5,
            45.757,
            58.285,
            46.769,
            65.4,
            52.053000000000004,
            54.336000000000006,
            48.051,
            71.36,
            70.76,
            68.468,
            63.479,
            47.838,
            51.631,
            36.984,
            47.768,
            53.995
           ]
          }
         ],
         "name": "1967"
        },
        {
         "data": [
          {
           "coloraxis": "coloraxis",
           "geo": "geo",
           "hovertemplate": "<b>%{hovertext}</b><br><br>year=1972<br>iso_alpha=%{location}<br>lifeExp=%{z}<extra></extra>",
           "hovertext": [
            "Afghanistan",
            "Albania",
            "Algeria",
            "Angola",
            "Argentina",
            "Australia",
            "Austria",
            "Bahrain",
            "Bangladesh",
            "Belgium",
            "Benin",
            "Bolivia",
            "Bosnia and Herzegovina",
            "Botswana",
            "Brazil",
            "Bulgaria",
            "Burkina Faso",
            "Burundi",
            "Cambodia",
            "Cameroon",
            "Canada",
            "Central African Republic",
            "Chad",
            "Chile",
            "China",
            "Colombia",
            "Comoros",
            "Congo, Dem. Rep.",
            "Congo, Rep.",
            "Costa Rica",
            "Cote d'Ivoire",
            "Croatia",
            "Cuba",
            "Czech Republic",
            "Denmark",
            "Djibouti",
            "Dominican Republic",
            "Ecuador",
            "Egypt",
            "El Salvador",
            "Equatorial Guinea",
            "Eritrea",
            "Ethiopia",
            "Finland",
            "France",
            "Gabon",
            "Gambia",
            "Germany",
            "Ghana",
            "Greece",
            "Guatemala",
            "Guinea",
            "Guinea-Bissau",
            "Haiti",
            "Honduras",
            "Hong Kong, China",
            "Hungary",
            "Iceland",
            "India",
            "Indonesia",
            "Iran",
            "Iraq",
            "Ireland",
            "Israel",
            "Italy",
            "Jamaica",
            "Japan",
            "Jordan",
            "Kenya",
            "Korea, Dem. Rep.",
            "Korea, Rep.",
            "Kuwait",
            "Lebanon",
            "Lesotho",
            "Liberia",
            "Libya",
            "Madagascar",
            "Malawi",
            "Malaysia",
            "Mali",
            "Mauritania",
            "Mauritius",
            "Mexico",
            "Mongolia",
            "Montenegro",
            "Morocco",
            "Mozambique",
            "Myanmar",
            "Namibia",
            "Nepal",
            "Netherlands",
            "New Zealand",
            "Nicaragua",
            "Niger",
            "Nigeria",
            "Norway",
            "Oman",
            "Pakistan",
            "Panama",
            "Paraguay",
            "Peru",
            "Philippines",
            "Poland",
            "Portugal",
            "Puerto Rico",
            "Reunion",
            "Romania",
            "Rwanda",
            "Sao Tome and Principe",
            "Saudi Arabia",
            "Senegal",
            "Serbia",
            "Sierra Leone",
            "Singapore",
            "Slovak Republic",
            "Slovenia",
            "Somalia",
            "South Africa",
            "Spain",
            "Sri Lanka",
            "Sudan",
            "Swaziland",
            "Sweden",
            "Switzerland",
            "Syria",
            "Taiwan",
            "Tanzania",
            "Thailand",
            "Togo",
            "Trinidad and Tobago",
            "Tunisia",
            "Turkey",
            "Uganda",
            "United Kingdom",
            "United States",
            "Uruguay",
            "Venezuela",
            "Vietnam",
            "West Bank and Gaza",
            "Yemen, Rep.",
            "Zambia",
            "Zimbabwe"
           ],
           "locations": [
            "AFG",
            "ALB",
            "DZA",
            "AGO",
            "ARG",
            "AUS",
            "AUT",
            "BHR",
            "BGD",
            "BEL",
            "BEN",
            "BOL",
            "BIH",
            "BWA",
            "BRA",
            "BGR",
            "BFA",
            "BDI",
            "KHM",
            "CMR",
            "CAN",
            "CAF",
            "TCD",
            "CHL",
            "CHN",
            "COL",
            "COM",
            "COD",
            "COG",
            "CRI",
            "CIV",
            "HRV",
            "CUB",
            "CZE",
            "DNK",
            "DJI",
            "DOM",
            "ECU",
            "EGY",
            "SLV",
            "GNQ",
            "ERI",
            "ETH",
            "FIN",
            "FRA",
            "GAB",
            "GMB",
            "DEU",
            "GHA",
            "GRC",
            "GTM",
            "GIN",
            "GNB",
            "HTI",
            "HND",
            "HKG",
            "HUN",
            "ISL",
            "IND",
            "IDN",
            "IRN",
            "IRQ",
            "IRL",
            "ISR",
            "ITA",
            "JAM",
            "JPN",
            "JOR",
            "KEN",
            "KOR",
            "KOR",
            "KWT",
            "LBN",
            "LSO",
            "LBR",
            "LBY",
            "MDG",
            "MWI",
            "MYS",
            "MLI",
            "MRT",
            "MUS",
            "MEX",
            "MNG",
            "MNE",
            "MAR",
            "MOZ",
            "MMR",
            "NAM",
            "NPL",
            "NLD",
            "NZL",
            "NIC",
            "NER",
            "NGA",
            "NOR",
            "OMN",
            "PAK",
            "PAN",
            "PRY",
            "PER",
            "PHL",
            "POL",
            "PRT",
            "PRI",
            "REU",
            "ROU",
            "RWA",
            "STP",
            "SAU",
            "SEN",
            "SRB",
            "SLE",
            "SGP",
            "SVK",
            "SVN",
            "SOM",
            "ZAF",
            "ESP",
            "LKA",
            "SDN",
            "SWZ",
            "SWE",
            "CHE",
            "SYR",
            "TWN",
            "TZA",
            "THA",
            "TGO",
            "TTO",
            "TUN",
            "TUR",
            "UGA",
            "GBR",
            "USA",
            "URY",
            "VEN",
            "VNM",
            "PSE",
            "YEM",
            "ZMB",
            "ZWE"
           ],
           "name": "",
           "type": "choropleth",
           "z": [
            36.088,
            67.69,
            54.518,
            37.928000000000004,
            67.065,
            71.93,
            70.63,
            63.3,
            45.251999999999995,
            71.44,
            47.013999999999996,
            46.714,
            67.45,
            56.023999999999994,
            59.504,
            70.9,
            43.591,
            44.056999999999995,
            40.317,
            47.049,
            72.88,
            43.457,
            45.568999999999996,
            63.441,
            63.118880000000004,
            61.623000000000005,
            48.943999999999996,
            45.989,
            54.907,
            67.84899999999999,
            49.801,
            69.61,
            70.723,
            70.29,
            73.47,
            44.36600000000001,
            59.631,
            58.79600000000001,
            51.137,
            58.207,
            40.516,
            44.141999999999996,
            43.515,
            70.87,
            72.38,
            48.69,
            38.308,
            71,
            49.875,
            72.34,
            53.738,
            38.842,
            36.486,
            48.042,
            53.88399999999999,
            72,
            69.76,
            74.46,
            50.651,
            49.203,
            55.233999999999995,
            56.95,
            71.28,
            71.63,
            72.19,
            69,
            73.42,
            56.528,
            53.559,
            63.983000000000004,
            62.611999999999995,
            67.712,
            65.421,
            49.766999999999996,
            42.614,
            52.773,
            44.851000000000006,
            41.766000000000005,
            63.01,
            39.977,
            48.437,
            62.943999999999996,
            62.361000000000004,
            53.754,
            70.63600000000001,
            52.861999999999995,
            40.328,
            53.07,
            53.867,
            43.971000000000004,
            73.75,
            71.89,
            55.151,
            40.546,
            42.821000000000005,
            74.34,
            52.143,
            51.928999999999995,
            66.21600000000001,
            65.815,
            55.448,
            58.065,
            70.85,
            69.26,
            72.16,
            64.274,
            69.21,
            44.6,
            56.48,
            53.886,
            45.815,
            68.7,
            35.4,
            69.521,
            70.35,
            69.82,
            40.973,
            53.696000000000005,
            73.06,
            65.042,
            45.083,
            49.552,
            74.72,
            73.78,
            57.29600000000001,
            69.39,
            47.62,
            60.405,
            49.75899999999999,
            65.9,
            55.602,
            57.005,
            51.016000000000005,
            72.01,
            71.34,
            68.673,
            65.712,
            50.254,
            56.532,
            39.848,
            50.107,
            55.635
           ]
          }
         ],
         "name": "1972"
        },
        {
         "data": [
          {
           "coloraxis": "coloraxis",
           "geo": "geo",
           "hovertemplate": "<b>%{hovertext}</b><br><br>year=1977<br>iso_alpha=%{location}<br>lifeExp=%{z}<extra></extra>",
           "hovertext": [
            "Afghanistan",
            "Albania",
            "Algeria",
            "Angola",
            "Argentina",
            "Australia",
            "Austria",
            "Bahrain",
            "Bangladesh",
            "Belgium",
            "Benin",
            "Bolivia",
            "Bosnia and Herzegovina",
            "Botswana",
            "Brazil",
            "Bulgaria",
            "Burkina Faso",
            "Burundi",
            "Cambodia",
            "Cameroon",
            "Canada",
            "Central African Republic",
            "Chad",
            "Chile",
            "China",
            "Colombia",
            "Comoros",
            "Congo, Dem. Rep.",
            "Congo, Rep.",
            "Costa Rica",
            "Cote d'Ivoire",
            "Croatia",
            "Cuba",
            "Czech Republic",
            "Denmark",
            "Djibouti",
            "Dominican Republic",
            "Ecuador",
            "Egypt",
            "El Salvador",
            "Equatorial Guinea",
            "Eritrea",
            "Ethiopia",
            "Finland",
            "France",
            "Gabon",
            "Gambia",
            "Germany",
            "Ghana",
            "Greece",
            "Guatemala",
            "Guinea",
            "Guinea-Bissau",
            "Haiti",
            "Honduras",
            "Hong Kong, China",
            "Hungary",
            "Iceland",
            "India",
            "Indonesia",
            "Iran",
            "Iraq",
            "Ireland",
            "Israel",
            "Italy",
            "Jamaica",
            "Japan",
            "Jordan",
            "Kenya",
            "Korea, Dem. Rep.",
            "Korea, Rep.",
            "Kuwait",
            "Lebanon",
            "Lesotho",
            "Liberia",
            "Libya",
            "Madagascar",
            "Malawi",
            "Malaysia",
            "Mali",
            "Mauritania",
            "Mauritius",
            "Mexico",
            "Mongolia",
            "Montenegro",
            "Morocco",
            "Mozambique",
            "Myanmar",
            "Namibia",
            "Nepal",
            "Netherlands",
            "New Zealand",
            "Nicaragua",
            "Niger",
            "Nigeria",
            "Norway",
            "Oman",
            "Pakistan",
            "Panama",
            "Paraguay",
            "Peru",
            "Philippines",
            "Poland",
            "Portugal",
            "Puerto Rico",
            "Reunion",
            "Romania",
            "Rwanda",
            "Sao Tome and Principe",
            "Saudi Arabia",
            "Senegal",
            "Serbia",
            "Sierra Leone",
            "Singapore",
            "Slovak Republic",
            "Slovenia",
            "Somalia",
            "South Africa",
            "Spain",
            "Sri Lanka",
            "Sudan",
            "Swaziland",
            "Sweden",
            "Switzerland",
            "Syria",
            "Taiwan",
            "Tanzania",
            "Thailand",
            "Togo",
            "Trinidad and Tobago",
            "Tunisia",
            "Turkey",
            "Uganda",
            "United Kingdom",
            "United States",
            "Uruguay",
            "Venezuela",
            "Vietnam",
            "West Bank and Gaza",
            "Yemen, Rep.",
            "Zambia",
            "Zimbabwe"
           ],
           "locations": [
            "AFG",
            "ALB",
            "DZA",
            "AGO",
            "ARG",
            "AUS",
            "AUT",
            "BHR",
            "BGD",
            "BEL",
            "BEN",
            "BOL",
            "BIH",
            "BWA",
            "BRA",
            "BGR",
            "BFA",
            "BDI",
            "KHM",
            "CMR",
            "CAN",
            "CAF",
            "TCD",
            "CHL",
            "CHN",
            "COL",
            "COM",
            "COD",
            "COG",
            "CRI",
            "CIV",
            "HRV",
            "CUB",
            "CZE",
            "DNK",
            "DJI",
            "DOM",
            "ECU",
            "EGY",
            "SLV",
            "GNQ",
            "ERI",
            "ETH",
            "FIN",
            "FRA",
            "GAB",
            "GMB",
            "DEU",
            "GHA",
            "GRC",
            "GTM",
            "GIN",
            "GNB",
            "HTI",
            "HND",
            "HKG",
            "HUN",
            "ISL",
            "IND",
            "IDN",
            "IRN",
            "IRQ",
            "IRL",
            "ISR",
            "ITA",
            "JAM",
            "JPN",
            "JOR",
            "KEN",
            "KOR",
            "KOR",
            "KWT",
            "LBN",
            "LSO",
            "LBR",
            "LBY",
            "MDG",
            "MWI",
            "MYS",
            "MLI",
            "MRT",
            "MUS",
            "MEX",
            "MNG",
            "MNE",
            "MAR",
            "MOZ",
            "MMR",
            "NAM",
            "NPL",
            "NLD",
            "NZL",
            "NIC",
            "NER",
            "NGA",
            "NOR",
            "OMN",
            "PAK",
            "PAN",
            "PRY",
            "PER",
            "PHL",
            "POL",
            "PRT",
            "PRI",
            "REU",
            "ROU",
            "RWA",
            "STP",
            "SAU",
            "SEN",
            "SRB",
            "SLE",
            "SGP",
            "SVK",
            "SVN",
            "SOM",
            "ZAF",
            "ESP",
            "LKA",
            "SDN",
            "SWZ",
            "SWE",
            "CHE",
            "SYR",
            "TWN",
            "TZA",
            "THA",
            "TGO",
            "TTO",
            "TUN",
            "TUR",
            "UGA",
            "GBR",
            "USA",
            "URY",
            "VEN",
            "VNM",
            "PSE",
            "YEM",
            "ZMB",
            "ZWE"
           ],
           "name": "",
           "type": "choropleth",
           "z": [
            38.438,
            68.93,
            58.013999999999996,
            39.483000000000004,
            68.48100000000001,
            73.49,
            72.17,
            65.593,
            46.923,
            72.8,
            49.19,
            50.023,
            69.86,
            59.318999999999996,
            61.489,
            70.81,
            46.137,
            45.91,
            31.22,
            49.355,
            74.21,
            46.775,
            47.383,
            67.05199999999999,
            63.96736,
            63.836999999999996,
            50.93899999999999,
            47.803999999999995,
            55.625,
            70.75,
            52.373999999999995,
            70.64,
            72.649,
            70.71,
            74.69,
            46.519,
            61.788000000000004,
            61.31,
            53.318999999999996,
            56.696000000000005,
            42.023999999999994,
            44.535,
            44.51,
            72.52,
            73.83,
            52.79,
            41.842,
            72.5,
            51.756,
            73.68,
            56.028999999999996,
            40.762,
            37.465,
            49.923,
            57.402,
            73.6,
            69.95,
            76.11,
            54.208,
            52.702,
            57.702,
            60.413000000000004,
            72.03,
            73.06,
            73.48,
            70.11,
            75.38,
            61.13399999999999,
            56.155,
            67.15899999999999,
            64.766,
            69.343,
            66.09899999999999,
            52.208,
            43.763999999999996,
            57.442,
            46.881,
            43.766999999999996,
            65.256,
            41.714,
            50.852,
            64.93,
            65.032,
            55.49100000000001,
            73.066,
            55.73,
            42.495,
            56.059,
            56.437,
            46.748000000000005,
            75.24,
            72.22,
            57.47,
            41.291000000000004,
            44.513999999999996,
            75.37,
            57.367,
            54.043,
            68.681,
            66.35300000000001,
            58.446999999999996,
            60.06,
            70.67,
            70.41,
            73.44,
            67.064,
            69.46,
            45,
            58.55,
            58.69,
            48.879,
            70.3,
            36.788000000000004,
            70.795,
            70.45,
            70.97,
            41.974,
            55.527,
            74.39,
            65.949,
            47.8,
            52.537,
            75.44,
            75.39,
            61.195,
            70.59,
            49.919,
            62.494,
            52.887,
            68.3,
            59.836999999999996,
            59.507,
            50.35,
            72.76,
            73.38,
            69.48100000000001,
            67.456,
            55.763999999999996,
            60.765,
            44.175,
            51.386,
            57.674
           ]
          }
         ],
         "name": "1977"
        },
        {
         "data": [
          {
           "coloraxis": "coloraxis",
           "geo": "geo",
           "hovertemplate": "<b>%{hovertext}</b><br><br>year=1982<br>iso_alpha=%{location}<br>lifeExp=%{z}<extra></extra>",
           "hovertext": [
            "Afghanistan",
            "Albania",
            "Algeria",
            "Angola",
            "Argentina",
            "Australia",
            "Austria",
            "Bahrain",
            "Bangladesh",
            "Belgium",
            "Benin",
            "Bolivia",
            "Bosnia and Herzegovina",
            "Botswana",
            "Brazil",
            "Bulgaria",
            "Burkina Faso",
            "Burundi",
            "Cambodia",
            "Cameroon",
            "Canada",
            "Central African Republic",
            "Chad",
            "Chile",
            "China",
            "Colombia",
            "Comoros",
            "Congo, Dem. Rep.",
            "Congo, Rep.",
            "Costa Rica",
            "Cote d'Ivoire",
            "Croatia",
            "Cuba",
            "Czech Republic",
            "Denmark",
            "Djibouti",
            "Dominican Republic",
            "Ecuador",
            "Egypt",
            "El Salvador",
            "Equatorial Guinea",
            "Eritrea",
            "Ethiopia",
            "Finland",
            "France",
            "Gabon",
            "Gambia",
            "Germany",
            "Ghana",
            "Greece",
            "Guatemala",
            "Guinea",
            "Guinea-Bissau",
            "Haiti",
            "Honduras",
            "Hong Kong, China",
            "Hungary",
            "Iceland",
            "India",
            "Indonesia",
            "Iran",
            "Iraq",
            "Ireland",
            "Israel",
            "Italy",
            "Jamaica",
            "Japan",
            "Jordan",
            "Kenya",
            "Korea, Dem. Rep.",
            "Korea, Rep.",
            "Kuwait",
            "Lebanon",
            "Lesotho",
            "Liberia",
            "Libya",
            "Madagascar",
            "Malawi",
            "Malaysia",
            "Mali",
            "Mauritania",
            "Mauritius",
            "Mexico",
            "Mongolia",
            "Montenegro",
            "Morocco",
            "Mozambique",
            "Myanmar",
            "Namibia",
            "Nepal",
            "Netherlands",
            "New Zealand",
            "Nicaragua",
            "Niger",
            "Nigeria",
            "Norway",
            "Oman",
            "Pakistan",
            "Panama",
            "Paraguay",
            "Peru",
            "Philippines",
            "Poland",
            "Portugal",
            "Puerto Rico",
            "Reunion",
            "Romania",
            "Rwanda",
            "Sao Tome and Principe",
            "Saudi Arabia",
            "Senegal",
            "Serbia",
            "Sierra Leone",
            "Singapore",
            "Slovak Republic",
            "Slovenia",
            "Somalia",
            "South Africa",
            "Spain",
            "Sri Lanka",
            "Sudan",
            "Swaziland",
            "Sweden",
            "Switzerland",
            "Syria",
            "Taiwan",
            "Tanzania",
            "Thailand",
            "Togo",
            "Trinidad and Tobago",
            "Tunisia",
            "Turkey",
            "Uganda",
            "United Kingdom",
            "United States",
            "Uruguay",
            "Venezuela",
            "Vietnam",
            "West Bank and Gaza",
            "Yemen, Rep.",
            "Zambia",
            "Zimbabwe"
           ],
           "locations": [
            "AFG",
            "ALB",
            "DZA",
            "AGO",
            "ARG",
            "AUS",
            "AUT",
            "BHR",
            "BGD",
            "BEL",
            "BEN",
            "BOL",
            "BIH",
            "BWA",
            "BRA",
            "BGR",
            "BFA",
            "BDI",
            "KHM",
            "CMR",
            "CAN",
            "CAF",
            "TCD",
            "CHL",
            "CHN",
            "COL",
            "COM",
            "COD",
            "COG",
            "CRI",
            "CIV",
            "HRV",
            "CUB",
            "CZE",
            "DNK",
            "DJI",
            "DOM",
            "ECU",
            "EGY",
            "SLV",
            "GNQ",
            "ERI",
            "ETH",
            "FIN",
            "FRA",
            "GAB",
            "GMB",
            "DEU",
            "GHA",
            "GRC",
            "GTM",
            "GIN",
            "GNB",
            "HTI",
            "HND",
            "HKG",
            "HUN",
            "ISL",
            "IND",
            "IDN",
            "IRN",
            "IRQ",
            "IRL",
            "ISR",
            "ITA",
            "JAM",
            "JPN",
            "JOR",
            "KEN",
            "KOR",
            "KOR",
            "KWT",
            "LBN",
            "LSO",
            "LBR",
            "LBY",
            "MDG",
            "MWI",
            "MYS",
            "MLI",
            "MRT",
            "MUS",
            "MEX",
            "MNG",
            "MNE",
            "MAR",
            "MOZ",
            "MMR",
            "NAM",
            "NPL",
            "NLD",
            "NZL",
            "NIC",
            "NER",
            "NGA",
            "NOR",
            "OMN",
            "PAK",
            "PAN",
            "PRY",
            "PER",
            "PHL",
            "POL",
            "PRT",
            "PRI",
            "REU",
            "ROU",
            "RWA",
            "STP",
            "SAU",
            "SEN",
            "SRB",
            "SLE",
            "SGP",
            "SVK",
            "SVN",
            "SOM",
            "ZAF",
            "ESP",
            "LKA",
            "SDN",
            "SWZ",
            "SWE",
            "CHE",
            "SYR",
            "TWN",
            "TZA",
            "THA",
            "TGO",
            "TTO",
            "TUN",
            "TUR",
            "UGA",
            "GBR",
            "USA",
            "URY",
            "VEN",
            "VNM",
            "PSE",
            "YEM",
            "ZMB",
            "ZWE"
           ],
           "name": "",
           "type": "choropleth",
           "z": [
            39.854,
            70.42,
            61.368,
            39.942,
            69.942,
            74.74,
            73.18,
            69.05199999999999,
            50.00899999999999,
            73.93,
            50.903999999999996,
            53.858999999999995,
            70.69,
            61.483999999999995,
            63.336000000000006,
            71.08,
            48.122,
            47.471000000000004,
            50.957,
            52.961000000000006,
            75.76,
            48.295,
            49.516999999999996,
            70.565,
            65.525,
            66.653,
            52.933,
            47.784,
            56.695,
            73.45,
            53.983000000000004,
            70.46,
            73.717,
            70.96,
            74.63,
            48.812,
            63.727,
            64.342,
            56.006,
            56.604,
            43.662,
            43.89,
            44.916000000000004,
            74.55,
            74.89,
            56.56399999999999,
            45.58,
            73.8,
            53.744,
            75.24,
            58.137,
            42.891000000000005,
            39.327,
            51.461000000000006,
            60.909,
            75.45,
            69.39,
            76.99,
            56.596000000000004,
            56.159,
            59.62,
            62.038000000000004,
            73.1,
            74.45,
            74.98,
            71.21,
            77.11,
            63.739,
            58.766000000000005,
            69.1,
            67.123,
            71.309,
            66.983,
            55.078,
            44.852,
            62.155,
            48.968999999999994,
            45.641999999999996,
            68,
            43.916000000000004,
            53.599,
            66.711,
            67.405,
            57.489,
            74.101,
            59.65,
            42.795,
            58.056000000000004,
            58.968,
            49.593999999999994,
            76.05,
            73.84,
            59.298,
            42.598,
            45.826,
            75.97,
            62.728,
            56.158,
            70.472,
            66.874,
            61.406000000000006,
            62.082,
            71.32,
            72.77,
            73.75,
            69.885,
            69.66,
            46.218,
            60.351000000000006,
            63.012,
            52.379,
            70.16199999999999,
            38.445,
            71.76,
            70.8,
            71.063,
            42.955,
            58.161,
            76.3,
            68.757,
            50.338,
            55.56100000000001,
            76.42,
            76.21,
            64.59,
            72.16,
            50.608000000000004,
            64.597,
            55.471000000000004,
            68.832,
            64.048,
            61.036,
            49.849,
            74.04,
            74.65,
            70.805,
            68.557,
            58.816,
            64.406,
            49.113,
            51.821000000000005,
            60.363
           ]
          }
         ],
         "name": "1982"
        },
        {
         "data": [
          {
           "coloraxis": "coloraxis",
           "geo": "geo",
           "hovertemplate": "<b>%{hovertext}</b><br><br>year=1987<br>iso_alpha=%{location}<br>lifeExp=%{z}<extra></extra>",
           "hovertext": [
            "Afghanistan",
            "Albania",
            "Algeria",
            "Angola",
            "Argentina",
            "Australia",
            "Austria",
            "Bahrain",
            "Bangladesh",
            "Belgium",
            "Benin",
            "Bolivia",
            "Bosnia and Herzegovina",
            "Botswana",
            "Brazil",
            "Bulgaria",
            "Burkina Faso",
            "Burundi",
            "Cambodia",
            "Cameroon",
            "Canada",
            "Central African Republic",
            "Chad",
            "Chile",
            "China",
            "Colombia",
            "Comoros",
            "Congo, Dem. Rep.",
            "Congo, Rep.",
            "Costa Rica",
            "Cote d'Ivoire",
            "Croatia",
            "Cuba",
            "Czech Republic",
            "Denmark",
            "Djibouti",
            "Dominican Republic",
            "Ecuador",
            "Egypt",
            "El Salvador",
            "Equatorial Guinea",
            "Eritrea",
            "Ethiopia",
            "Finland",
            "France",
            "Gabon",
            "Gambia",
            "Germany",
            "Ghana",
            "Greece",
            "Guatemala",
            "Guinea",
            "Guinea-Bissau",
            "Haiti",
            "Honduras",
            "Hong Kong, China",
            "Hungary",
            "Iceland",
            "India",
            "Indonesia",
            "Iran",
            "Iraq",
            "Ireland",
            "Israel",
            "Italy",
            "Jamaica",
            "Japan",
            "Jordan",
            "Kenya",
            "Korea, Dem. Rep.",
            "Korea, Rep.",
            "Kuwait",
            "Lebanon",
            "Lesotho",
            "Liberia",
            "Libya",
            "Madagascar",
            "Malawi",
            "Malaysia",
            "Mali",
            "Mauritania",
            "Mauritius",
            "Mexico",
            "Mongolia",
            "Montenegro",
            "Morocco",
            "Mozambique",
            "Myanmar",
            "Namibia",
            "Nepal",
            "Netherlands",
            "New Zealand",
            "Nicaragua",
            "Niger",
            "Nigeria",
            "Norway",
            "Oman",
            "Pakistan",
            "Panama",
            "Paraguay",
            "Peru",
            "Philippines",
            "Poland",
            "Portugal",
            "Puerto Rico",
            "Reunion",
            "Romania",
            "Rwanda",
            "Sao Tome and Principe",
            "Saudi Arabia",
            "Senegal",
            "Serbia",
            "Sierra Leone",
            "Singapore",
            "Slovak Republic",
            "Slovenia",
            "Somalia",
            "South Africa",
            "Spain",
            "Sri Lanka",
            "Sudan",
            "Swaziland",
            "Sweden",
            "Switzerland",
            "Syria",
            "Taiwan",
            "Tanzania",
            "Thailand",
            "Togo",
            "Trinidad and Tobago",
            "Tunisia",
            "Turkey",
            "Uganda",
            "United Kingdom",
            "United States",
            "Uruguay",
            "Venezuela",
            "Vietnam",
            "West Bank and Gaza",
            "Yemen, Rep.",
            "Zambia",
            "Zimbabwe"
           ],
           "locations": [
            "AFG",
            "ALB",
            "DZA",
            "AGO",
            "ARG",
            "AUS",
            "AUT",
            "BHR",
            "BGD",
            "BEL",
            "BEN",
            "BOL",
            "BIH",
            "BWA",
            "BRA",
            "BGR",
            "BFA",
            "BDI",
            "KHM",
            "CMR",
            "CAN",
            "CAF",
            "TCD",
            "CHL",
            "CHN",
            "COL",
            "COM",
            "COD",
            "COG",
            "CRI",
            "CIV",
            "HRV",
            "CUB",
            "CZE",
            "DNK",
            "DJI",
            "DOM",
            "ECU",
            "EGY",
            "SLV",
            "GNQ",
            "ERI",
            "ETH",
            "FIN",
            "FRA",
            "GAB",
            "GMB",
            "DEU",
            "GHA",
            "GRC",
            "GTM",
            "GIN",
            "GNB",
            "HTI",
            "HND",
            "HKG",
            "HUN",
            "ISL",
            "IND",
            "IDN",
            "IRN",
            "IRQ",
            "IRL",
            "ISR",
            "ITA",
            "JAM",
            "JPN",
            "JOR",
            "KEN",
            "KOR",
            "KOR",
            "KWT",
            "LBN",
            "LSO",
            "LBR",
            "LBY",
            "MDG",
            "MWI",
            "MYS",
            "MLI",
            "MRT",
            "MUS",
            "MEX",
            "MNG",
            "MNE",
            "MAR",
            "MOZ",
            "MMR",
            "NAM",
            "NPL",
            "NLD",
            "NZL",
            "NIC",
            "NER",
            "NGA",
            "NOR",
            "OMN",
            "PAK",
            "PAN",
            "PRY",
            "PER",
            "PHL",
            "POL",
            "PRT",
            "PRI",
            "REU",
            "ROU",
            "RWA",
            "STP",
            "SAU",
            "SEN",
            "SRB",
            "SLE",
            "SGP",
            "SVK",
            "SVN",
            "SOM",
            "ZAF",
            "ESP",
            "LKA",
            "SDN",
            "SWZ",
            "SWE",
            "CHE",
            "SYR",
            "TWN",
            "TZA",
            "THA",
            "TGO",
            "TTO",
            "TUN",
            "TUR",
            "UGA",
            "GBR",
            "USA",
            "URY",
            "VEN",
            "VNM",
            "PSE",
            "YEM",
            "ZMB",
            "ZWE"
           ],
           "name": "",
           "type": "choropleth",
           "z": [
            40.821999999999996,
            72,
            65.79899999999999,
            39.906,
            70.774,
            76.32,
            74.94,
            70.75,
            52.818999999999996,
            75.35,
            52.336999999999996,
            57.251000000000005,
            71.14,
            63.622,
            65.205,
            71.34,
            49.556999999999995,
            48.211000000000006,
            53.913999999999994,
            54.985,
            76.86,
            50.485,
            51.051,
            72.492,
            67.274,
            67.768,
            54.926,
            47.412,
            57.47,
            74.752,
            54.655,
            71.52,
            74.17399999999999,
            71.58,
            74.8,
            50.04,
            66.046,
            67.23100000000001,
            59.797,
            63.153999999999996,
            45.663999999999994,
            46.453,
            46.684,
            74.83,
            76.34,
            60.19,
            49.265,
            74.847,
            55.729,
            76.67,
            60.782,
            45.552,
            41.245,
            53.636,
            64.492,
            76.2,
            69.58,
            77.23,
            58.553000000000004,
            60.137,
            63.04,
            65.044,
            74.36,
            75.6,
            76.42,
            71.77,
            78.67,
            65.869,
            59.339,
            70.64699999999999,
            69.81,
            74.17399999999999,
            67.926,
            57.18,
            46.027,
            66.234,
            49.35,
            47.457,
            69.5,
            46.364,
            56.145,
            68.74,
            69.498,
            60.222,
            74.865,
            62.677,
            42.861000000000004,
            58.339,
            60.835,
            52.537,
            76.83,
            74.32,
            62.008,
            44.555,
            46.886,
            75.89,
            67.734,
            58.245,
            71.523,
            67.378,
            64.134,
            64.15100000000001,
            70.98,
            74.06,
            74.63,
            71.913,
            69.53,
            44.02,
            61.728,
            66.295,
            55.769,
            71.218,
            40.006,
            73.56,
            71.08,
            72.25,
            44.501000000000005,
            60.833999999999996,
            76.9,
            69.01100000000001,
            51.744,
            57.678000000000004,
            77.19,
            77.41,
            66.97399999999999,
            73.4,
            51.535,
            66.084,
            56.941,
            69.582,
            66.89399999999999,
            63.108000000000004,
            51.50899999999999,
            75.007,
            75.02,
            71.918,
            70.19,
            62.82,
            67.046,
            52.922,
            50.821000000000005,
            62.351000000000006
           ]
          }
         ],
         "name": "1987"
        },
        {
         "data": [
          {
           "coloraxis": "coloraxis",
           "geo": "geo",
           "hovertemplate": "<b>%{hovertext}</b><br><br>year=1992<br>iso_alpha=%{location}<br>lifeExp=%{z}<extra></extra>",
           "hovertext": [
            "Afghanistan",
            "Albania",
            "Algeria",
            "Angola",
            "Argentina",
            "Australia",
            "Austria",
            "Bahrain",
            "Bangladesh",
            "Belgium",
            "Benin",
            "Bolivia",
            "Bosnia and Herzegovina",
            "Botswana",
            "Brazil",
            "Bulgaria",
            "Burkina Faso",
            "Burundi",
            "Cambodia",
            "Cameroon",
            "Canada",
            "Central African Republic",
            "Chad",
            "Chile",
            "China",
            "Colombia",
            "Comoros",
            "Congo, Dem. Rep.",
            "Congo, Rep.",
            "Costa Rica",
            "Cote d'Ivoire",
            "Croatia",
            "Cuba",
            "Czech Republic",
            "Denmark",
            "Djibouti",
            "Dominican Republic",
            "Ecuador",
            "Egypt",
            "El Salvador",
            "Equatorial Guinea",
            "Eritrea",
            "Ethiopia",
            "Finland",
            "France",
            "Gabon",
            "Gambia",
            "Germany",
            "Ghana",
            "Greece",
            "Guatemala",
            "Guinea",
            "Guinea-Bissau",
            "Haiti",
            "Honduras",
            "Hong Kong, China",
            "Hungary",
            "Iceland",
            "India",
            "Indonesia",
            "Iran",
            "Iraq",
            "Ireland",
            "Israel",
            "Italy",
            "Jamaica",
            "Japan",
            "Jordan",
            "Kenya",
            "Korea, Dem. Rep.",
            "Korea, Rep.",
            "Kuwait",
            "Lebanon",
            "Lesotho",
            "Liberia",
            "Libya",
            "Madagascar",
            "Malawi",
            "Malaysia",
            "Mali",
            "Mauritania",
            "Mauritius",
            "Mexico",
            "Mongolia",
            "Montenegro",
            "Morocco",
            "Mozambique",
            "Myanmar",
            "Namibia",
            "Nepal",
            "Netherlands",
            "New Zealand",
            "Nicaragua",
            "Niger",
            "Nigeria",
            "Norway",
            "Oman",
            "Pakistan",
            "Panama",
            "Paraguay",
            "Peru",
            "Philippines",
            "Poland",
            "Portugal",
            "Puerto Rico",
            "Reunion",
            "Romania",
            "Rwanda",
            "Sao Tome and Principe",
            "Saudi Arabia",
            "Senegal",
            "Serbia",
            "Sierra Leone",
            "Singapore",
            "Slovak Republic",
            "Slovenia",
            "Somalia",
            "South Africa",
            "Spain",
            "Sri Lanka",
            "Sudan",
            "Swaziland",
            "Sweden",
            "Switzerland",
            "Syria",
            "Taiwan",
            "Tanzania",
            "Thailand",
            "Togo",
            "Trinidad and Tobago",
            "Tunisia",
            "Turkey",
            "Uganda",
            "United Kingdom",
            "United States",
            "Uruguay",
            "Venezuela",
            "Vietnam",
            "West Bank and Gaza",
            "Yemen, Rep.",
            "Zambia",
            "Zimbabwe"
           ],
           "locations": [
            "AFG",
            "ALB",
            "DZA",
            "AGO",
            "ARG",
            "AUS",
            "AUT",
            "BHR",
            "BGD",
            "BEL",
            "BEN",
            "BOL",
            "BIH",
            "BWA",
            "BRA",
            "BGR",
            "BFA",
            "BDI",
            "KHM",
            "CMR",
            "CAN",
            "CAF",
            "TCD",
            "CHL",
            "CHN",
            "COL",
            "COM",
            "COD",
            "COG",
            "CRI",
            "CIV",
            "HRV",
            "CUB",
            "CZE",
            "DNK",
            "DJI",
            "DOM",
            "ECU",
            "EGY",
            "SLV",
            "GNQ",
            "ERI",
            "ETH",
            "FIN",
            "FRA",
            "GAB",
            "GMB",
            "DEU",
            "GHA",
            "GRC",
            "GTM",
            "GIN",
            "GNB",
            "HTI",
            "HND",
            "HKG",
            "HUN",
            "ISL",
            "IND",
            "IDN",
            "IRN",
            "IRQ",
            "IRL",
            "ISR",
            "ITA",
            "JAM",
            "JPN",
            "JOR",
            "KEN",
            "KOR",
            "KOR",
            "KWT",
            "LBN",
            "LSO",
            "LBR",
            "LBY",
            "MDG",
            "MWI",
            "MYS",
            "MLI",
            "MRT",
            "MUS",
            "MEX",
            "MNG",
            "MNE",
            "MAR",
            "MOZ",
            "MMR",
            "NAM",
            "NPL",
            "NLD",
            "NZL",
            "NIC",
            "NER",
            "NGA",
            "NOR",
            "OMN",
            "PAK",
            "PAN",
            "PRY",
            "PER",
            "PHL",
            "POL",
            "PRT",
            "PRI",
            "REU",
            "ROU",
            "RWA",
            "STP",
            "SAU",
            "SEN",
            "SRB",
            "SLE",
            "SGP",
            "SVK",
            "SVN",
            "SOM",
            "ZAF",
            "ESP",
            "LKA",
            "SDN",
            "SWZ",
            "SWE",
            "CHE",
            "SYR",
            "TWN",
            "TZA",
            "THA",
            "TGO",
            "TTO",
            "TUN",
            "TUR",
            "UGA",
            "GBR",
            "USA",
            "URY",
            "VEN",
            "VNM",
            "PSE",
            "YEM",
            "ZMB",
            "ZWE"
           ],
           "name": "",
           "type": "choropleth",
           "z": [
            41.674,
            71.581,
            67.744,
            40.647,
            71.868,
            77.56,
            76.04,
            72.601,
            56.018,
            76.46,
            53.919,
            59.957,
            72.178,
            62.745,
            67.057,
            71.19,
            50.26,
            44.736000000000004,
            55.803000000000004,
            54.31399999999999,
            77.95,
            49.396,
            51.724,
            74.126,
            68.69,
            68.421,
            57.93899999999999,
            45.548,
            56.433,
            75.71300000000001,
            52.044,
            72.527,
            74.414,
            72.4,
            75.33,
            51.604,
            68.457,
            69.613,
            63.674,
            66.798,
            47.545,
            49.99100000000001,
            48.091,
            75.7,
            77.46,
            61.36600000000001,
            52.644,
            76.07,
            57.501000000000005,
            77.03,
            63.373000000000005,
            48.576,
            43.266000000000005,
            55.089,
            66.399,
            77.601,
            69.17,
            78.77,
            60.223,
            62.681000000000004,
            65.742,
            59.461000000000006,
            75.467,
            76.93,
            77.44,
            71.766,
            79.36,
            68.015,
            59.285,
            69.97800000000001,
            72.244,
            75.19,
            69.292,
            59.685,
            40.802,
            68.755,
            52.214,
            49.42,
            70.693,
            48.388000000000005,
            58.333,
            69.745,
            71.455,
            61.271,
            75.435,
            65.393,
            44.284,
            59.32,
            61.998999999999995,
            55.727,
            77.42,
            76.33,
            65.843,
            47.391000000000005,
            47.472,
            77.32,
            71.197,
            60.838,
            72.462,
            68.225,
            66.458,
            66.458,
            70.99,
            74.86,
            73.911,
            73.615,
            69.36,
            23.599,
            62.742,
            68.768,
            58.196000000000005,
            71.65899999999999,
            38.333,
            75.788,
            71.38,
            73.64,
            39.658,
            61.888000000000005,
            77.57,
            70.37899999999999,
            53.556000000000004,
            58.474,
            78.16,
            78.03,
            69.249,
            74.26,
            50.44,
            67.298,
            58.06100000000001,
            69.862,
            70.001,
            66.146,
            48.825,
            76.42,
            76.09,
            72.752,
            71.15,
            67.66199999999999,
            69.718,
            55.599,
            46.1,
            60.376999999999995
           ]
          }
         ],
         "name": "1992"
        },
        {
         "data": [
          {
           "coloraxis": "coloraxis",
           "geo": "geo",
           "hovertemplate": "<b>%{hovertext}</b><br><br>year=1997<br>iso_alpha=%{location}<br>lifeExp=%{z}<extra></extra>",
           "hovertext": [
            "Afghanistan",
            "Albania",
            "Algeria",
            "Angola",
            "Argentina",
            "Australia",
            "Austria",
            "Bahrain",
            "Bangladesh",
            "Belgium",
            "Benin",
            "Bolivia",
            "Bosnia and Herzegovina",
            "Botswana",
            "Brazil",
            "Bulgaria",
            "Burkina Faso",
            "Burundi",
            "Cambodia",
            "Cameroon",
            "Canada",
            "Central African Republic",
            "Chad",
            "Chile",
            "China",
            "Colombia",
            "Comoros",
            "Congo, Dem. Rep.",
            "Congo, Rep.",
            "Costa Rica",
            "Cote d'Ivoire",
            "Croatia",
            "Cuba",
            "Czech Republic",
            "Denmark",
            "Djibouti",
            "Dominican Republic",
            "Ecuador",
            "Egypt",
            "El Salvador",
            "Equatorial Guinea",
            "Eritrea",
            "Ethiopia",
            "Finland",
            "France",
            "Gabon",
            "Gambia",
            "Germany",
            "Ghana",
            "Greece",
            "Guatemala",
            "Guinea",
            "Guinea-Bissau",
            "Haiti",
            "Honduras",
            "Hong Kong, China",
            "Hungary",
            "Iceland",
            "India",
            "Indonesia",
            "Iran",
            "Iraq",
            "Ireland",
            "Israel",
            "Italy",
            "Jamaica",
            "Japan",
            "Jordan",
            "Kenya",
            "Korea, Dem. Rep.",
            "Korea, Rep.",
            "Kuwait",
            "Lebanon",
            "Lesotho",
            "Liberia",
            "Libya",
            "Madagascar",
            "Malawi",
            "Malaysia",
            "Mali",
            "Mauritania",
            "Mauritius",
            "Mexico",
            "Mongolia",
            "Montenegro",
            "Morocco",
            "Mozambique",
            "Myanmar",
            "Namibia",
            "Nepal",
            "Netherlands",
            "New Zealand",
            "Nicaragua",
            "Niger",
            "Nigeria",
            "Norway",
            "Oman",
            "Pakistan",
            "Panama",
            "Paraguay",
            "Peru",
            "Philippines",
            "Poland",
            "Portugal",
            "Puerto Rico",
            "Reunion",
            "Romania",
            "Rwanda",
            "Sao Tome and Principe",
            "Saudi Arabia",
            "Senegal",
            "Serbia",
            "Sierra Leone",
            "Singapore",
            "Slovak Republic",
            "Slovenia",
            "Somalia",
            "South Africa",
            "Spain",
            "Sri Lanka",
            "Sudan",
            "Swaziland",
            "Sweden",
            "Switzerland",
            "Syria",
            "Taiwan",
            "Tanzania",
            "Thailand",
            "Togo",
            "Trinidad and Tobago",
            "Tunisia",
            "Turkey",
            "Uganda",
            "United Kingdom",
            "United States",
            "Uruguay",
            "Venezuela",
            "Vietnam",
            "West Bank and Gaza",
            "Yemen, Rep.",
            "Zambia",
            "Zimbabwe"
           ],
           "locations": [
            "AFG",
            "ALB",
            "DZA",
            "AGO",
            "ARG",
            "AUS",
            "AUT",
            "BHR",
            "BGD",
            "BEL",
            "BEN",
            "BOL",
            "BIH",
            "BWA",
            "BRA",
            "BGR",
            "BFA",
            "BDI",
            "KHM",
            "CMR",
            "CAN",
            "CAF",
            "TCD",
            "CHL",
            "CHN",
            "COL",
            "COM",
            "COD",
            "COG",
            "CRI",
            "CIV",
            "HRV",
            "CUB",
            "CZE",
            "DNK",
            "DJI",
            "DOM",
            "ECU",
            "EGY",
            "SLV",
            "GNQ",
            "ERI",
            "ETH",
            "FIN",
            "FRA",
            "GAB",
            "GMB",
            "DEU",
            "GHA",
            "GRC",
            "GTM",
            "GIN",
            "GNB",
            "HTI",
            "HND",
            "HKG",
            "HUN",
            "ISL",
            "IND",
            "IDN",
            "IRN",
            "IRQ",
            "IRL",
            "ISR",
            "ITA",
            "JAM",
            "JPN",
            "JOR",
            "KEN",
            "KOR",
            "KOR",
            "KWT",
            "LBN",
            "LSO",
            "LBR",
            "LBY",
            "MDG",
            "MWI",
            "MYS",
            "MLI",
            "MRT",
            "MUS",
            "MEX",
            "MNG",
            "MNE",
            "MAR",
            "MOZ",
            "MMR",
            "NAM",
            "NPL",
            "NLD",
            "NZL",
            "NIC",
            "NER",
            "NGA",
            "NOR",
            "OMN",
            "PAK",
            "PAN",
            "PRY",
            "PER",
            "PHL",
            "POL",
            "PRT",
            "PRI",
            "REU",
            "ROU",
            "RWA",
            "STP",
            "SAU",
            "SEN",
            "SRB",
            "SLE",
            "SGP",
            "SVK",
            "SVN",
            "SOM",
            "ZAF",
            "ESP",
            "LKA",
            "SDN",
            "SWZ",
            "SWE",
            "CHE",
            "SYR",
            "TWN",
            "TZA",
            "THA",
            "TGO",
            "TTO",
            "TUN",
            "TUR",
            "UGA",
            "GBR",
            "USA",
            "URY",
            "VEN",
            "VNM",
            "PSE",
            "YEM",
            "ZMB",
            "ZWE"
           ],
           "name": "",
           "type": "choropleth",
           "z": [
            41.763000000000005,
            72.95,
            69.152,
            40.963,
            73.275,
            78.83,
            77.51,
            73.925,
            59.412,
            77.53,
            54.777,
            62.05,
            73.244,
            52.556000000000004,
            69.388,
            70.32,
            50.324,
            45.326,
            56.534,
            52.199,
            78.61,
            46.066,
            51.573,
            75.816,
            70.426,
            70.313,
            60.66,
            42.586999999999996,
            52.961999999999996,
            77.26,
            47.99100000000001,
            73.68,
            76.15100000000001,
            74.01,
            76.11,
            53.157,
            69.957,
            72.312,
            67.217,
            69.535,
            48.245,
            53.378,
            49.402,
            77.13,
            78.64,
            60.461000000000006,
            55.861000000000004,
            77.34,
            58.556000000000004,
            77.869,
            66.322,
            51.455,
            44.873000000000005,
            56.67100000000001,
            67.65899999999999,
            80,
            71.04,
            78.95,
            61.765,
            66.041,
            68.042,
            58.81100000000001,
            76.122,
            78.26899999999999,
            78.82,
            72.262,
            80.69,
            69.77199999999999,
            54.407,
            67.727,
            74.64699999999999,
            76.156,
            70.265,
            55.558,
            42.221000000000004,
            71.555,
            54.978,
            47.495,
            71.938,
            49.903,
            60.43,
            70.736,
            73.67,
            63.625,
            75.445,
            67.66,
            46.343999999999994,
            60.328,
            58.909,
            59.426,
            78.03,
            77.55,
            68.426,
            51.313,
            47.464,
            78.32,
            72.499,
            61.818000000000005,
            73.738,
            69.4,
            68.38600000000001,
            68.564,
            72.75,
            75.97,
            74.917,
            74.77199999999999,
            69.72,
            36.086999999999996,
            63.306000000000004,
            70.533,
            60.187,
            72.232,
            39.897,
            77.158,
            72.71,
            75.13,
            43.795,
            60.236000000000004,
            78.77,
            70.457,
            55.373000000000005,
            54.288999999999994,
            79.39,
            79.37,
            71.527,
            75.25,
            48.466,
            67.521,
            58.39,
            69.465,
            71.973,
            68.835,
            44.578,
            77.218,
            76.81,
            74.223,
            72.146,
            70.672,
            71.096,
            58.02,
            40.238,
            46.809
           ]
          }
         ],
         "name": "1997"
        },
        {
         "data": [
          {
           "coloraxis": "coloraxis",
           "geo": "geo",
           "hovertemplate": "<b>%{hovertext}</b><br><br>year=2002<br>iso_alpha=%{location}<br>lifeExp=%{z}<extra></extra>",
           "hovertext": [
            "Afghanistan",
            "Albania",
            "Algeria",
            "Angola",
            "Argentina",
            "Australia",
            "Austria",
            "Bahrain",
            "Bangladesh",
            "Belgium",
            "Benin",
            "Bolivia",
            "Bosnia and Herzegovina",
            "Botswana",
            "Brazil",
            "Bulgaria",
            "Burkina Faso",
            "Burundi",
            "Cambodia",
            "Cameroon",
            "Canada",
            "Central African Republic",
            "Chad",
            "Chile",
            "China",
            "Colombia",
            "Comoros",
            "Congo, Dem. Rep.",
            "Congo, Rep.",
            "Costa Rica",
            "Cote d'Ivoire",
            "Croatia",
            "Cuba",
            "Czech Republic",
            "Denmark",
            "Djibouti",
            "Dominican Republic",
            "Ecuador",
            "Egypt",
            "El Salvador",
            "Equatorial Guinea",
            "Eritrea",
            "Ethiopia",
            "Finland",
            "France",
            "Gabon",
            "Gambia",
            "Germany",
            "Ghana",
            "Greece",
            "Guatemala",
            "Guinea",
            "Guinea-Bissau",
            "Haiti",
            "Honduras",
            "Hong Kong, China",
            "Hungary",
            "Iceland",
            "India",
            "Indonesia",
            "Iran",
            "Iraq",
            "Ireland",
            "Israel",
            "Italy",
            "Jamaica",
            "Japan",
            "Jordan",
            "Kenya",
            "Korea, Dem. Rep.",
            "Korea, Rep.",
            "Kuwait",
            "Lebanon",
            "Lesotho",
            "Liberia",
            "Libya",
            "Madagascar",
            "Malawi",
            "Malaysia",
            "Mali",
            "Mauritania",
            "Mauritius",
            "Mexico",
            "Mongolia",
            "Montenegro",
            "Morocco",
            "Mozambique",
            "Myanmar",
            "Namibia",
            "Nepal",
            "Netherlands",
            "New Zealand",
            "Nicaragua",
            "Niger",
            "Nigeria",
            "Norway",
            "Oman",
            "Pakistan",
            "Panama",
            "Paraguay",
            "Peru",
            "Philippines",
            "Poland",
            "Portugal",
            "Puerto Rico",
            "Reunion",
            "Romania",
            "Rwanda",
            "Sao Tome and Principe",
            "Saudi Arabia",
            "Senegal",
            "Serbia",
            "Sierra Leone",
            "Singapore",
            "Slovak Republic",
            "Slovenia",
            "Somalia",
            "South Africa",
            "Spain",
            "Sri Lanka",
            "Sudan",
            "Swaziland",
            "Sweden",
            "Switzerland",
            "Syria",
            "Taiwan",
            "Tanzania",
            "Thailand",
            "Togo",
            "Trinidad and Tobago",
            "Tunisia",
            "Turkey",
            "Uganda",
            "United Kingdom",
            "United States",
            "Uruguay",
            "Venezuela",
            "Vietnam",
            "West Bank and Gaza",
            "Yemen, Rep.",
            "Zambia",
            "Zimbabwe"
           ],
           "locations": [
            "AFG",
            "ALB",
            "DZA",
            "AGO",
            "ARG",
            "AUS",
            "AUT",
            "BHR",
            "BGD",
            "BEL",
            "BEN",
            "BOL",
            "BIH",
            "BWA",
            "BRA",
            "BGR",
            "BFA",
            "BDI",
            "KHM",
            "CMR",
            "CAN",
            "CAF",
            "TCD",
            "CHL",
            "CHN",
            "COL",
            "COM",
            "COD",
            "COG",
            "CRI",
            "CIV",
            "HRV",
            "CUB",
            "CZE",
            "DNK",
            "DJI",
            "DOM",
            "ECU",
            "EGY",
            "SLV",
            "GNQ",
            "ERI",
            "ETH",
            "FIN",
            "FRA",
            "GAB",
            "GMB",
            "DEU",
            "GHA",
            "GRC",
            "GTM",
            "GIN",
            "GNB",
            "HTI",
            "HND",
            "HKG",
            "HUN",
            "ISL",
            "IND",
            "IDN",
            "IRN",
            "IRQ",
            "IRL",
            "ISR",
            "ITA",
            "JAM",
            "JPN",
            "JOR",
            "KEN",
            "KOR",
            "KOR",
            "KWT",
            "LBN",
            "LSO",
            "LBR",
            "LBY",
            "MDG",
            "MWI",
            "MYS",
            "MLI",
            "MRT",
            "MUS",
            "MEX",
            "MNG",
            "MNE",
            "MAR",
            "MOZ",
            "MMR",
            "NAM",
            "NPL",
            "NLD",
            "NZL",
            "NIC",
            "NER",
            "NGA",
            "NOR",
            "OMN",
            "PAK",
            "PAN",
            "PRY",
            "PER",
            "PHL",
            "POL",
            "PRT",
            "PRI",
            "REU",
            "ROU",
            "RWA",
            "STP",
            "SAU",
            "SEN",
            "SRB",
            "SLE",
            "SGP",
            "SVK",
            "SVN",
            "SOM",
            "ZAF",
            "ESP",
            "LKA",
            "SDN",
            "SWZ",
            "SWE",
            "CHE",
            "SYR",
            "TWN",
            "TZA",
            "THA",
            "TGO",
            "TTO",
            "TUN",
            "TUR",
            "UGA",
            "GBR",
            "USA",
            "URY",
            "VEN",
            "VNM",
            "PSE",
            "YEM",
            "ZMB",
            "ZWE"
           ],
           "name": "",
           "type": "choropleth",
           "z": [
            42.129,
            75.65100000000001,
            70.994,
            41.003,
            74.34,
            80.37,
            78.98,
            74.795,
            62.013000000000005,
            78.32,
            54.406000000000006,
            63.883,
            74.09,
            46.63399999999999,
            71.006,
            72.14,
            50.65,
            47.36,
            56.751999999999995,
            49.856,
            79.77,
            43.308,
            50.525,
            77.86,
            72.028,
            71.682,
            62.974,
            44.966,
            52.97,
            78.123,
            46.832,
            74.876,
            77.158,
            75.51,
            77.18,
            53.373000000000005,
            70.847,
            74.173,
            69.806,
            70.734,
            49.348,
            55.24,
            50.725,
            78.37,
            79.59,
            56.761,
            58.041000000000004,
            78.67,
            58.453,
            78.256,
            68.97800000000001,
            53.676,
            45.504,
            58.137,
            68.565,
            81.495,
            72.59,
            80.5,
            62.879,
            68.58800000000001,
            69.45100000000001,
            57.04600000000001,
            77.783,
            79.696,
            80.24,
            72.047,
            82,
            71.263,
            50.992,
            66.66199999999999,
            77.045,
            76.904,
            71.028,
            44.593,
            43.753,
            72.737,
            57.286,
            45.00899999999999,
            73.044,
            51.818000000000005,
            62.247,
            71.954,
            74.902,
            65.033,
            73.98100000000001,
            69.615,
            44.026,
            59.908,
            51.479,
            61.34,
            78.53,
            79.11,
            70.836,
            54.496,
            46.608000000000004,
            79.05,
            74.193,
            63.61,
            74.712,
            70.755,
            69.906,
            70.303,
            74.67,
            77.29,
            77.778,
            75.744,
            71.322,
            43.413000000000004,
            64.337,
            71.626,
            61.6,
            73.21300000000001,
            41.012,
            78.77,
            73.8,
            76.66,
            45.93600000000001,
            53.365,
            79.78,
            70.815,
            56.369,
            43.869,
            80.04,
            80.62,
            73.053,
            76.99,
            49.651,
            68.564,
            57.56100000000001,
            68.976,
            73.042,
            70.845,
            47.813,
            78.471,
            77.31,
            75.307,
            72.766,
            73.017,
            72.37,
            60.308,
            39.193000000000005,
            39.989000000000004
           ]
          }
         ],
         "name": "2002"
        },
        {
         "data": [
          {
           "coloraxis": "coloraxis",
           "geo": "geo",
           "hovertemplate": "<b>%{hovertext}</b><br><br>year=2007<br>iso_alpha=%{location}<br>lifeExp=%{z}<extra></extra>",
           "hovertext": [
            "Afghanistan",
            "Albania",
            "Algeria",
            "Angola",
            "Argentina",
            "Australia",
            "Austria",
            "Bahrain",
            "Bangladesh",
            "Belgium",
            "Benin",
            "Bolivia",
            "Bosnia and Herzegovina",
            "Botswana",
            "Brazil",
            "Bulgaria",
            "Burkina Faso",
            "Burundi",
            "Cambodia",
            "Cameroon",
            "Canada",
            "Central African Republic",
            "Chad",
            "Chile",
            "China",
            "Colombia",
            "Comoros",
            "Congo, Dem. Rep.",
            "Congo, Rep.",
            "Costa Rica",
            "Cote d'Ivoire",
            "Croatia",
            "Cuba",
            "Czech Republic",
            "Denmark",
            "Djibouti",
            "Dominican Republic",
            "Ecuador",
            "Egypt",
            "El Salvador",
            "Equatorial Guinea",
            "Eritrea",
            "Ethiopia",
            "Finland",
            "France",
            "Gabon",
            "Gambia",
            "Germany",
            "Ghana",
            "Greece",
            "Guatemala",
            "Guinea",
            "Guinea-Bissau",
            "Haiti",
            "Honduras",
            "Hong Kong, China",
            "Hungary",
            "Iceland",
            "India",
            "Indonesia",
            "Iran",
            "Iraq",
            "Ireland",
            "Israel",
            "Italy",
            "Jamaica",
            "Japan",
            "Jordan",
            "Kenya",
            "Korea, Dem. Rep.",
            "Korea, Rep.",
            "Kuwait",
            "Lebanon",
            "Lesotho",
            "Liberia",
            "Libya",
            "Madagascar",
            "Malawi",
            "Malaysia",
            "Mali",
            "Mauritania",
            "Mauritius",
            "Mexico",
            "Mongolia",
            "Montenegro",
            "Morocco",
            "Mozambique",
            "Myanmar",
            "Namibia",
            "Nepal",
            "Netherlands",
            "New Zealand",
            "Nicaragua",
            "Niger",
            "Nigeria",
            "Norway",
            "Oman",
            "Pakistan",
            "Panama",
            "Paraguay",
            "Peru",
            "Philippines",
            "Poland",
            "Portugal",
            "Puerto Rico",
            "Reunion",
            "Romania",
            "Rwanda",
            "Sao Tome and Principe",
            "Saudi Arabia",
            "Senegal",
            "Serbia",
            "Sierra Leone",
            "Singapore",
            "Slovak Republic",
            "Slovenia",
            "Somalia",
            "South Africa",
            "Spain",
            "Sri Lanka",
            "Sudan",
            "Swaziland",
            "Sweden",
            "Switzerland",
            "Syria",
            "Taiwan",
            "Tanzania",
            "Thailand",
            "Togo",
            "Trinidad and Tobago",
            "Tunisia",
            "Turkey",
            "Uganda",
            "United Kingdom",
            "United States",
            "Uruguay",
            "Venezuela",
            "Vietnam",
            "West Bank and Gaza",
            "Yemen, Rep.",
            "Zambia",
            "Zimbabwe"
           ],
           "locations": [
            "AFG",
            "ALB",
            "DZA",
            "AGO",
            "ARG",
            "AUS",
            "AUT",
            "BHR",
            "BGD",
            "BEL",
            "BEN",
            "BOL",
            "BIH",
            "BWA",
            "BRA",
            "BGR",
            "BFA",
            "BDI",
            "KHM",
            "CMR",
            "CAN",
            "CAF",
            "TCD",
            "CHL",
            "CHN",
            "COL",
            "COM",
            "COD",
            "COG",
            "CRI",
            "CIV",
            "HRV",
            "CUB",
            "CZE",
            "DNK",
            "DJI",
            "DOM",
            "ECU",
            "EGY",
            "SLV",
            "GNQ",
            "ERI",
            "ETH",
            "FIN",
            "FRA",
            "GAB",
            "GMB",
            "DEU",
            "GHA",
            "GRC",
            "GTM",
            "GIN",
            "GNB",
            "HTI",
            "HND",
            "HKG",
            "HUN",
            "ISL",
            "IND",
            "IDN",
            "IRN",
            "IRQ",
            "IRL",
            "ISR",
            "ITA",
            "JAM",
            "JPN",
            "JOR",
            "KEN",
            "KOR",
            "KOR",
            "KWT",
            "LBN",
            "LSO",
            "LBR",
            "LBY",
            "MDG",
            "MWI",
            "MYS",
            "MLI",
            "MRT",
            "MUS",
            "MEX",
            "MNG",
            "MNE",
            "MAR",
            "MOZ",
            "MMR",
            "NAM",
            "NPL",
            "NLD",
            "NZL",
            "NIC",
            "NER",
            "NGA",
            "NOR",
            "OMN",
            "PAK",
            "PAN",
            "PRY",
            "PER",
            "PHL",
            "POL",
            "PRT",
            "PRI",
            "REU",
            "ROU",
            "RWA",
            "STP",
            "SAU",
            "SEN",
            "SRB",
            "SLE",
            "SGP",
            "SVK",
            "SVN",
            "SOM",
            "ZAF",
            "ESP",
            "LKA",
            "SDN",
            "SWZ",
            "SWE",
            "CHE",
            "SYR",
            "TWN",
            "TZA",
            "THA",
            "TGO",
            "TTO",
            "TUN",
            "TUR",
            "UGA",
            "GBR",
            "USA",
            "URY",
            "VEN",
            "VNM",
            "PSE",
            "YEM",
            "ZMB",
            "ZWE"
           ],
           "name": "",
           "type": "choropleth",
           "z": [
            43.828,
            76.423,
            72.301,
            42.731,
            75.32,
            81.235,
            79.829,
            75.635,
            64.062,
            79.441,
            56.728,
            65.554,
            74.852,
            50.728,
            72.39,
            73.005,
            52.295,
            49.58,
            59.723,
            50.43,
            80.653,
            44.74100000000001,
            50.651,
            78.553,
            72.961,
            72.889,
            65.152,
            46.461999999999996,
            55.321999999999996,
            78.782,
            48.328,
            75.748,
            78.273,
            76.486,
            78.332,
            54.791000000000004,
            72.235,
            74.994,
            71.33800000000001,
            71.878,
            51.57899999999999,
            58.04,
            52.946999999999996,
            79.313,
            80.657,
            56.735,
            59.448,
            79.406,
            60.022,
            79.483,
            70.259,
            56.007,
            46.388000000000005,
            60.916000000000004,
            70.19800000000001,
            82.208,
            73.33800000000001,
            81.757,
            64.69800000000001,
            70.65,
            70.964,
            59.545,
            78.885,
            80.745,
            80.546,
            72.567,
            82.603,
            72.535,
            54.11,
            67.297,
            78.623,
            77.58800000000001,
            71.993,
            42.592,
            45.678000000000004,
            73.952,
            59.443000000000005,
            48.303000000000004,
            74.241,
            54.467,
            64.164,
            72.801,
            76.195,
            66.803,
            74.543,
            71.164,
            42.082,
            62.068999999999996,
            52.906000000000006,
            63.785,
            79.762,
            80.204,
            72.899,
            56.867,
            46.858999999999995,
            80.196,
            75.64,
            65.483,
            75.53699999999999,
            71.752,
            71.421,
            71.688,
            75.563,
            78.098,
            78.74600000000001,
            76.442,
            72.476,
            46.242,
            65.528,
            72.777,
            63.062,
            74.002,
            42.568000000000005,
            79.972,
            74.663,
            77.926,
            48.159,
            49.339,
            80.941,
            72.396,
            58.556000000000004,
            39.613,
            80.884,
            81.70100000000001,
            74.143,
            78.4,
            52.516999999999996,
            70.616,
            58.42,
            69.819,
            73.923,
            71.777,
            51.542,
            79.425,
            78.242,
            76.384,
            73.747,
            74.249,
            73.422,
            62.698,
            42.38399999999999,
            43.486999999999995
           ]
          }
         ],
         "name": "2007"
        }
       ],
       "layout": {
        "coloraxis": {
         "cmax": 80,
         "cmin": 20,
         "colorbar": {
          "title": {
           "text": "lifeExp"
          }
         },
         "colorscale": [
          [
           0,
           "#0d0887"
          ],
          [
           0.1111111111111111,
           "#46039f"
          ],
          [
           0.2222222222222222,
           "#7201a8"
          ],
          [
           0.3333333333333333,
           "#9c179e"
          ],
          [
           0.4444444444444444,
           "#bd3786"
          ],
          [
           0.5555555555555556,
           "#d8576b"
          ],
          [
           0.6666666666666666,
           "#ed7953"
          ],
          [
           0.7777777777777778,
           "#fb9f3a"
          ],
          [
           0.8888888888888888,
           "#fdca26"
          ],
          [
           1,
           "#f0f921"
          ]
         ]
        },
        "geo": {
         "center": {},
         "domain": {
          "x": [
           0,
           1
          ],
          "y": [
           0,
           1
          ]
         }
        },
        "legend": {
         "tracegroupgap": 0
        },
        "margin": {
         "t": 60
        },
        "sliders": [
         {
          "active": 0,
          "currentvalue": {
           "prefix": "year="
          },
          "len": 0.9,
          "pad": {
           "b": 10,
           "t": 60
          },
          "steps": [
           {
            "args": [
             [
              "1952"
             ],
             {
              "frame": {
               "duration": 0,
               "redraw": true
              },
              "fromcurrent": true,
              "mode": "immediate",
              "transition": {
               "duration": 0,
               "easing": "linear"
              }
             }
            ],
            "label": "1952",
            "method": "animate"
           },
           {
            "args": [
             [
              "1957"
             ],
             {
              "frame": {
               "duration": 0,
               "redraw": true
              },
              "fromcurrent": true,
              "mode": "immediate",
              "transition": {
               "duration": 0,
               "easing": "linear"
              }
             }
            ],
            "label": "1957",
            "method": "animate"
           },
           {
            "args": [
             [
              "1962"
             ],
             {
              "frame": {
               "duration": 0,
               "redraw": true
              },
              "fromcurrent": true,
              "mode": "immediate",
              "transition": {
               "duration": 0,
               "easing": "linear"
              }
             }
            ],
            "label": "1962",
            "method": "animate"
           },
           {
            "args": [
             [
              "1967"
             ],
             {
              "frame": {
               "duration": 0,
               "redraw": true
              },
              "fromcurrent": true,
              "mode": "immediate",
              "transition": {
               "duration": 0,
               "easing": "linear"
              }
             }
            ],
            "label": "1967",
            "method": "animate"
           },
           {
            "args": [
             [
              "1972"
             ],
             {
              "frame": {
               "duration": 0,
               "redraw": true
              },
              "fromcurrent": true,
              "mode": "immediate",
              "transition": {
               "duration": 0,
               "easing": "linear"
              }
             }
            ],
            "label": "1972",
            "method": "animate"
           },
           {
            "args": [
             [
              "1977"
             ],
             {
              "frame": {
               "duration": 0,
               "redraw": true
              },
              "fromcurrent": true,
              "mode": "immediate",
              "transition": {
               "duration": 0,
               "easing": "linear"
              }
             }
            ],
            "label": "1977",
            "method": "animate"
           },
           {
            "args": [
             [
              "1982"
             ],
             {
              "frame": {
               "duration": 0,
               "redraw": true
              },
              "fromcurrent": true,
              "mode": "immediate",
              "transition": {
               "duration": 0,
               "easing": "linear"
              }
             }
            ],
            "label": "1982",
            "method": "animate"
           },
           {
            "args": [
             [
              "1987"
             ],
             {
              "frame": {
               "duration": 0,
               "redraw": true
              },
              "fromcurrent": true,
              "mode": "immediate",
              "transition": {
               "duration": 0,
               "easing": "linear"
              }
             }
            ],
            "label": "1987",
            "method": "animate"
           },
           {
            "args": [
             [
              "1992"
             ],
             {
              "frame": {
               "duration": 0,
               "redraw": true
              },
              "fromcurrent": true,
              "mode": "immediate",
              "transition": {
               "duration": 0,
               "easing": "linear"
              }
             }
            ],
            "label": "1992",
            "method": "animate"
           },
           {
            "args": [
             [
              "1997"
             ],
             {
              "frame": {
               "duration": 0,
               "redraw": true
              },
              "fromcurrent": true,
              "mode": "immediate",
              "transition": {
               "duration": 0,
               "easing": "linear"
              }
             }
            ],
            "label": "1997",
            "method": "animate"
           },
           {
            "args": [
             [
              "2002"
             ],
             {
              "frame": {
               "duration": 0,
               "redraw": true
              },
              "fromcurrent": true,
              "mode": "immediate",
              "transition": {
               "duration": 0,
               "easing": "linear"
              }
             }
            ],
            "label": "2002",
            "method": "animate"
           },
           {
            "args": [
             [
              "2007"
             ],
             {
              "frame": {
               "duration": 0,
               "redraw": true
              },
              "fromcurrent": true,
              "mode": "immediate",
              "transition": {
               "duration": 0,
               "easing": "linear"
              }
             }
            ],
            "label": "2007",
            "method": "animate"
           }
          ],
          "x": 0.1,
          "xanchor": "left",
          "y": 0,
          "yanchor": "top"
         }
        ],
        "template": {
         "data": {
          "bar": [
           {
            "error_x": {
             "color": "#2a3f5f"
            },
            "error_y": {
             "color": "#2a3f5f"
            },
            "marker": {
             "line": {
              "color": "#E5ECF6",
              "width": 0.5
             }
            },
            "type": "bar"
           }
          ],
          "barpolar": [
           {
            "marker": {
             "line": {
              "color": "#E5ECF6",
              "width": 0.5
             }
            },
            "type": "barpolar"
           }
          ],
          "carpet": [
           {
            "aaxis": {
             "endlinecolor": "#2a3f5f",
             "gridcolor": "white",
             "linecolor": "white",
             "minorgridcolor": "white",
             "startlinecolor": "#2a3f5f"
            },
            "baxis": {
             "endlinecolor": "#2a3f5f",
             "gridcolor": "white",
             "linecolor": "white",
             "minorgridcolor": "white",
             "startlinecolor": "#2a3f5f"
            },
            "type": "carpet"
           }
          ],
          "choropleth": [
           {
            "colorbar": {
             "outlinewidth": 0,
             "ticks": ""
            },
            "type": "choropleth"
           }
          ],
          "contour": [
           {
            "colorbar": {
             "outlinewidth": 0,
             "ticks": ""
            },
            "colorscale": [
             [
              0,
              "#0d0887"
             ],
             [
              0.1111111111111111,
              "#46039f"
             ],
             [
              0.2222222222222222,
              "#7201a8"
             ],
             [
              0.3333333333333333,
              "#9c179e"
             ],
             [
              0.4444444444444444,
              "#bd3786"
             ],
             [
              0.5555555555555556,
              "#d8576b"
             ],
             [
              0.6666666666666666,
              "#ed7953"
             ],
             [
              0.7777777777777778,
              "#fb9f3a"
             ],
             [
              0.8888888888888888,
              "#fdca26"
             ],
             [
              1,
              "#f0f921"
             ]
            ],
            "type": "contour"
           }
          ],
          "contourcarpet": [
           {
            "colorbar": {
             "outlinewidth": 0,
             "ticks": ""
            },
            "type": "contourcarpet"
           }
          ],
          "heatmap": [
           {
            "colorbar": {
             "outlinewidth": 0,
             "ticks": ""
            },
            "colorscale": [
             [
              0,
              "#0d0887"
             ],
             [
              0.1111111111111111,
              "#46039f"
             ],
             [
              0.2222222222222222,
              "#7201a8"
             ],
             [
              0.3333333333333333,
              "#9c179e"
             ],
             [
              0.4444444444444444,
              "#bd3786"
             ],
             [
              0.5555555555555556,
              "#d8576b"
             ],
             [
              0.6666666666666666,
              "#ed7953"
             ],
             [
              0.7777777777777778,
              "#fb9f3a"
             ],
             [
              0.8888888888888888,
              "#fdca26"
             ],
             [
              1,
              "#f0f921"
             ]
            ],
            "type": "heatmap"
           }
          ],
          "heatmapgl": [
           {
            "colorbar": {
             "outlinewidth": 0,
             "ticks": ""
            },
            "colorscale": [
             [
              0,
              "#0d0887"
             ],
             [
              0.1111111111111111,
              "#46039f"
             ],
             [
              0.2222222222222222,
              "#7201a8"
             ],
             [
              0.3333333333333333,
              "#9c179e"
             ],
             [
              0.4444444444444444,
              "#bd3786"
             ],
             [
              0.5555555555555556,
              "#d8576b"
             ],
             [
              0.6666666666666666,
              "#ed7953"
             ],
             [
              0.7777777777777778,
              "#fb9f3a"
             ],
             [
              0.8888888888888888,
              "#fdca26"
             ],
             [
              1,
              "#f0f921"
             ]
            ],
            "type": "heatmapgl"
           }
          ],
          "histogram": [
           {
            "marker": {
             "colorbar": {
              "outlinewidth": 0,
              "ticks": ""
             }
            },
            "type": "histogram"
           }
          ],
          "histogram2d": [
           {
            "colorbar": {
             "outlinewidth": 0,
             "ticks": ""
            },
            "colorscale": [
             [
              0,
              "#0d0887"
             ],
             [
              0.1111111111111111,
              "#46039f"
             ],
             [
              0.2222222222222222,
              "#7201a8"
             ],
             [
              0.3333333333333333,
              "#9c179e"
             ],
             [
              0.4444444444444444,
              "#bd3786"
             ],
             [
              0.5555555555555556,
              "#d8576b"
             ],
             [
              0.6666666666666666,
              "#ed7953"
             ],
             [
              0.7777777777777778,
              "#fb9f3a"
             ],
             [
              0.8888888888888888,
              "#fdca26"
             ],
             [
              1,
              "#f0f921"
             ]
            ],
            "type": "histogram2d"
           }
          ],
          "histogram2dcontour": [
           {
            "colorbar": {
             "outlinewidth": 0,
             "ticks": ""
            },
            "colorscale": [
             [
              0,
              "#0d0887"
             ],
             [
              0.1111111111111111,
              "#46039f"
             ],
             [
              0.2222222222222222,
              "#7201a8"
             ],
             [
              0.3333333333333333,
              "#9c179e"
             ],
             [
              0.4444444444444444,
              "#bd3786"
             ],
             [
              0.5555555555555556,
              "#d8576b"
             ],
             [
              0.6666666666666666,
              "#ed7953"
             ],
             [
              0.7777777777777778,
              "#fb9f3a"
             ],
             [
              0.8888888888888888,
              "#fdca26"
             ],
             [
              1,
              "#f0f921"
             ]
            ],
            "type": "histogram2dcontour"
           }
          ],
          "mesh3d": [
           {
            "colorbar": {
             "outlinewidth": 0,
             "ticks": ""
            },
            "type": "mesh3d"
           }
          ],
          "parcoords": [
           {
            "line": {
             "colorbar": {
              "outlinewidth": 0,
              "ticks": ""
             }
            },
            "type": "parcoords"
           }
          ],
          "pie": [
           {
            "automargin": true,
            "type": "pie"
           }
          ],
          "scatter": [
           {
            "marker": {
             "colorbar": {
              "outlinewidth": 0,
              "ticks": ""
             }
            },
            "type": "scatter"
           }
          ],
          "scatter3d": [
           {
            "line": {
             "colorbar": {
              "outlinewidth": 0,
              "ticks": ""
             }
            },
            "marker": {
             "colorbar": {
              "outlinewidth": 0,
              "ticks": ""
             }
            },
            "type": "scatter3d"
           }
          ],
          "scattercarpet": [
           {
            "marker": {
             "colorbar": {
              "outlinewidth": 0,
              "ticks": ""
             }
            },
            "type": "scattercarpet"
           }
          ],
          "scattergeo": [
           {
            "marker": {
             "colorbar": {
              "outlinewidth": 0,
              "ticks": ""
             }
            },
            "type": "scattergeo"
           }
          ],
          "scattergl": [
           {
            "marker": {
             "colorbar": {
              "outlinewidth": 0,
              "ticks": ""
             }
            },
            "type": "scattergl"
           }
          ],
          "scattermapbox": [
           {
            "marker": {
             "colorbar": {
              "outlinewidth": 0,
              "ticks": ""
             }
            },
            "type": "scattermapbox"
           }
          ],
          "scatterpolar": [
           {
            "marker": {
             "colorbar": {
              "outlinewidth": 0,
              "ticks": ""
             }
            },
            "type": "scatterpolar"
           }
          ],
          "scatterpolargl": [
           {
            "marker": {
             "colorbar": {
              "outlinewidth": 0,
              "ticks": ""
             }
            },
            "type": "scatterpolargl"
           }
          ],
          "scatterternary": [
           {
            "marker": {
             "colorbar": {
              "outlinewidth": 0,
              "ticks": ""
             }
            },
            "type": "scatterternary"
           }
          ],
          "surface": [
           {
            "colorbar": {
             "outlinewidth": 0,
             "ticks": ""
            },
            "colorscale": [
             [
              0,
              "#0d0887"
             ],
             [
              0.1111111111111111,
              "#46039f"
             ],
             [
              0.2222222222222222,
              "#7201a8"
             ],
             [
              0.3333333333333333,
              "#9c179e"
             ],
             [
              0.4444444444444444,
              "#bd3786"
             ],
             [
              0.5555555555555556,
              "#d8576b"
             ],
             [
              0.6666666666666666,
              "#ed7953"
             ],
             [
              0.7777777777777778,
              "#fb9f3a"
             ],
             [
              0.8888888888888888,
              "#fdca26"
             ],
             [
              1,
              "#f0f921"
             ]
            ],
            "type": "surface"
           }
          ],
          "table": [
           {
            "cells": {
             "fill": {
              "color": "#EBF0F8"
             },
             "line": {
              "color": "white"
             }
            },
            "header": {
             "fill": {
              "color": "#C8D4E3"
             },
             "line": {
              "color": "white"
             }
            },
            "type": "table"
           }
          ]
         },
         "layout": {
          "annotationdefaults": {
           "arrowcolor": "#2a3f5f",
           "arrowhead": 0,
           "arrowwidth": 1
          },
          "autotypenumbers": "strict",
          "coloraxis": {
           "colorbar": {
            "outlinewidth": 0,
            "ticks": ""
           }
          },
          "colorscale": {
           "diverging": [
            [
             0,
             "#8e0152"
            ],
            [
             0.1,
             "#c51b7d"
            ],
            [
             0.2,
             "#de77ae"
            ],
            [
             0.3,
             "#f1b6da"
            ],
            [
             0.4,
             "#fde0ef"
            ],
            [
             0.5,
             "#f7f7f7"
            ],
            [
             0.6,
             "#e6f5d0"
            ],
            [
             0.7,
             "#b8e186"
            ],
            [
             0.8,
             "#7fbc41"
            ],
            [
             0.9,
             "#4d9221"
            ],
            [
             1,
             "#276419"
            ]
           ],
           "sequential": [
            [
             0,
             "#0d0887"
            ],
            [
             0.1111111111111111,
             "#46039f"
            ],
            [
             0.2222222222222222,
             "#7201a8"
            ],
            [
             0.3333333333333333,
             "#9c179e"
            ],
            [
             0.4444444444444444,
             "#bd3786"
            ],
            [
             0.5555555555555556,
             "#d8576b"
            ],
            [
             0.6666666666666666,
             "#ed7953"
            ],
            [
             0.7777777777777778,
             "#fb9f3a"
            ],
            [
             0.8888888888888888,
             "#fdca26"
            ],
            [
             1,
             "#f0f921"
            ]
           ],
           "sequentialminus": [
            [
             0,
             "#0d0887"
            ],
            [
             0.1111111111111111,
             "#46039f"
            ],
            [
             0.2222222222222222,
             "#7201a8"
            ],
            [
             0.3333333333333333,
             "#9c179e"
            ],
            [
             0.4444444444444444,
             "#bd3786"
            ],
            [
             0.5555555555555556,
             "#d8576b"
            ],
            [
             0.6666666666666666,
             "#ed7953"
            ],
            [
             0.7777777777777778,
             "#fb9f3a"
            ],
            [
             0.8888888888888888,
             "#fdca26"
            ],
            [
             1,
             "#f0f921"
            ]
           ]
          },
          "colorway": [
           "#636efa",
           "#EF553B",
           "#00cc96",
           "#ab63fa",
           "#FFA15A",
           "#19d3f3",
           "#FF6692",
           "#B6E880",
           "#FF97FF",
           "#FECB52"
          ],
          "font": {
           "color": "#2a3f5f"
          },
          "geo": {
           "bgcolor": "white",
           "lakecolor": "white",
           "landcolor": "#E5ECF6",
           "showlakes": true,
           "showland": true,
           "subunitcolor": "white"
          },
          "hoverlabel": {
           "align": "left"
          },
          "hovermode": "closest",
          "mapbox": {
           "style": "light"
          },
          "paper_bgcolor": "white",
          "plot_bgcolor": "#E5ECF6",
          "polar": {
           "angularaxis": {
            "gridcolor": "white",
            "linecolor": "white",
            "ticks": ""
           },
           "bgcolor": "#E5ECF6",
           "radialaxis": {
            "gridcolor": "white",
            "linecolor": "white",
            "ticks": ""
           }
          },
          "scene": {
           "xaxis": {
            "backgroundcolor": "#E5ECF6",
            "gridcolor": "white",
            "gridwidth": 2,
            "linecolor": "white",
            "showbackground": true,
            "ticks": "",
            "zerolinecolor": "white"
           },
           "yaxis": {
            "backgroundcolor": "#E5ECF6",
            "gridcolor": "white",
            "gridwidth": 2,
            "linecolor": "white",
            "showbackground": true,
            "ticks": "",
            "zerolinecolor": "white"
           },
           "zaxis": {
            "backgroundcolor": "#E5ECF6",
            "gridcolor": "white",
            "gridwidth": 2,
            "linecolor": "white",
            "showbackground": true,
            "ticks": "",
            "zerolinecolor": "white"
           }
          },
          "shapedefaults": {
           "line": {
            "color": "#2a3f5f"
           }
          },
          "ternary": {
           "aaxis": {
            "gridcolor": "white",
            "linecolor": "white",
            "ticks": ""
           },
           "baxis": {
            "gridcolor": "white",
            "linecolor": "white",
            "ticks": ""
           },
           "bgcolor": "#E5ECF6",
           "caxis": {
            "gridcolor": "white",
            "linecolor": "white",
            "ticks": ""
           }
          },
          "title": {
           "x": 0.05
          },
          "xaxis": {
           "automargin": true,
           "gridcolor": "white",
           "linecolor": "white",
           "ticks": "",
           "title": {
            "standoff": 15
           },
           "zerolinecolor": "white",
           "zerolinewidth": 2
          },
          "yaxis": {
           "automargin": true,
           "gridcolor": "white",
           "linecolor": "white",
           "ticks": "",
           "title": {
            "standoff": 15
           },
           "zerolinecolor": "white",
           "zerolinewidth": 2
          }
         }
        },
        "updatemenus": [
         {
          "buttons": [
           {
            "args": [
             null,
             {
              "frame": {
               "duration": 500,
               "redraw": true
              },
              "fromcurrent": true,
              "mode": "immediate",
              "transition": {
               "duration": 500,
               "easing": "linear"
              }
             }
            ],
            "label": "&#9654;",
            "method": "animate"
           },
           {
            "args": [
             [
              null
             ],
             {
              "frame": {
               "duration": 0,
               "redraw": true
              },
              "fromcurrent": true,
              "mode": "immediate",
              "transition": {
               "duration": 0,
               "easing": "linear"
              }
             }
            ],
            "label": "&#9724;",
            "method": "animate"
           }
          ],
          "direction": "left",
          "pad": {
           "r": 10,
           "t": 70
          },
          "showactive": false,
          "type": "buttons",
          "x": 0.1,
          "xanchor": "right",
          "y": 0,
          "yanchor": "top"
         }
        ]
       }
      }
     },
     "metadata": {}
    }
   ],
   "metadata": {}
  },
  {
   "cell_type": "code",
   "execution_count": 71,
   "source": [
    "covid_df[['Lat', 'Long', 'Country', sidebar]].dropna()"
   ],
   "outputs": [
    {
     "output_type": "execute_result",
     "data": {
      "text/html": [
       "<div>\n",
       "<style scoped>\n",
       "    .dataframe tbody tr th:only-of-type {\n",
       "        vertical-align: middle;\n",
       "    }\n",
       "\n",
       "    .dataframe tbody tr th {\n",
       "        vertical-align: top;\n",
       "    }\n",
       "\n",
       "    .dataframe thead th {\n",
       "        text-align: right;\n",
       "    }\n",
       "</style>\n",
       "<table border=\"1\" class=\"dataframe\">\n",
       "  <thead>\n",
       "    <tr style=\"text-align: right;\">\n",
       "      <th></th>\n",
       "      <th>Lat</th>\n",
       "      <th>Long</th>\n",
       "      <th>Country</th>\n",
       "      <th>Confirmed</th>\n",
       "    </tr>\n",
       "  </thead>\n",
       "  <tbody>\n",
       "    <tr>\n",
       "      <th>0</th>\n",
       "      <td>33.939110</td>\n",
       "      <td>67.709953</td>\n",
       "      <td>Afghanistan</td>\n",
       "      <td>155093</td>\n",
       "    </tr>\n",
       "    <tr>\n",
       "      <th>1</th>\n",
       "      <td>41.153300</td>\n",
       "      <td>20.168300</td>\n",
       "      <td>Albania</td>\n",
       "      <td>168188</td>\n",
       "    </tr>\n",
       "    <tr>\n",
       "      <th>2</th>\n",
       "      <td>28.033900</td>\n",
       "      <td>1.659600</td>\n",
       "      <td>Algeria</td>\n",
       "      <td>202877</td>\n",
       "    </tr>\n",
       "    <tr>\n",
       "      <th>3</th>\n",
       "      <td>42.506300</td>\n",
       "      <td>1.521800</td>\n",
       "      <td>Andorra</td>\n",
       "      <td>15189</td>\n",
       "    </tr>\n",
       "    <tr>\n",
       "      <th>4</th>\n",
       "      <td>-11.202700</td>\n",
       "      <td>17.873900</td>\n",
       "      <td>Angola</td>\n",
       "      <td>55583</td>\n",
       "    </tr>\n",
       "    <tr>\n",
       "      <th>...</th>\n",
       "      <td>...</td>\n",
       "      <td>...</td>\n",
       "      <td>...</td>\n",
       "      <td>...</td>\n",
       "    </tr>\n",
       "    <tr>\n",
       "      <th>190</th>\n",
       "      <td>14.058324</td>\n",
       "      <td>108.277199</td>\n",
       "      <td>Vietnam</td>\n",
       "      <td>770640</td>\n",
       "    </tr>\n",
       "    <tr>\n",
       "      <th>191</th>\n",
       "      <td>31.952200</td>\n",
       "      <td>35.233200</td>\n",
       "      <td>West Bank and Gaza</td>\n",
       "      <td>398946</td>\n",
       "    </tr>\n",
       "    <tr>\n",
       "      <th>192</th>\n",
       "      <td>15.552727</td>\n",
       "      <td>48.516388</td>\n",
       "      <td>Yemen</td>\n",
       "      <td>8988</td>\n",
       "    </tr>\n",
       "    <tr>\n",
       "      <th>193</th>\n",
       "      <td>-13.133897</td>\n",
       "      <td>27.849332</td>\n",
       "      <td>Zambia</td>\n",
       "      <td>208912</td>\n",
       "    </tr>\n",
       "    <tr>\n",
       "      <th>194</th>\n",
       "      <td>-19.015438</td>\n",
       "      <td>29.154857</td>\n",
       "      <td>Zimbabwe</td>\n",
       "      <td>129919</td>\n",
       "    </tr>\n",
       "  </tbody>\n",
       "</table>\n",
       "<p>193 rows × 4 columns</p>\n",
       "</div>"
      ],
      "text/plain": [
       "           Lat        Long             Country  Confirmed\n",
       "0    33.939110   67.709953         Afghanistan     155093\n",
       "1    41.153300   20.168300             Albania     168188\n",
       "2    28.033900    1.659600             Algeria     202877\n",
       "3    42.506300    1.521800             Andorra      15189\n",
       "4   -11.202700   17.873900              Angola      55583\n",
       "..         ...         ...                 ...        ...\n",
       "190  14.058324  108.277199             Vietnam     770640\n",
       "191  31.952200   35.233200  West Bank and Gaza     398946\n",
       "192  15.552727   48.516388               Yemen       8988\n",
       "193 -13.133897   27.849332              Zambia     208912\n",
       "194 -19.015438   29.154857            Zimbabwe     129919\n",
       "\n",
       "[193 rows x 4 columns]"
      ]
     },
     "metadata": {},
     "execution_count": 71
    }
   ],
   "metadata": {}
  },
  {
   "cell_type": "code",
   "execution_count": 79,
   "source": [
    "sidebar='Confirmed'\r\n",
    "fig = px.scatter_mapbox(covid_df[['Lat', 'Long', 'Country', sidebar]].dropna(),\r\n",
    "    lat='Lat',\r\n",
    "    lon='Long',\r\n",
    "    hover_name='Country',\r\n",
    "    color=sidebar,\r\n",
    "    mapbox_style=\"carto-positron\",\r\n",
    "    size=sidebar,\r\n",
    "    size_max=50,\r\n",
    "    color_continuous_scale = ['deepskyblue','red'],\r\n",
    "    zoom=.5\r\n",
    ")\r\n",
    "\r\n",
    "fig.show()"
   ],
   "outputs": [
    {
     "output_type": "display_data",
     "data": {
      "application/vnd.plotly.v1+json": {
       "config": {
        "plotlyServerURL": "https://plot.ly"
       },
       "data": [
        {
         "hovertemplate": "<b>%{hovertext}</b><br><br>Confirmed=%{marker.color}<br>Lat=%{lat}<br>Long=%{lon}<extra></extra>",
         "hovertext": [
          "Afghanistan",
          "Albania",
          "Algeria",
          "Andorra",
          "Angola",
          "Antigua and Barbuda",
          "Argentina",
          "Armenia",
          "Australia",
          "Austria",
          "Azerbaijan",
          "Bahamas",
          "Bahrain",
          "Bangladesh",
          "Barbados",
          "Belarus",
          "Belgium",
          "Belize",
          "Benin",
          "Bhutan",
          "Bolivia",
          "Bosnia and Herzegovina",
          "Botswana",
          "Brazil",
          "Brunei",
          "Bulgaria",
          "Burkina Faso",
          "Burma",
          "Burundi",
          "Cabo Verde",
          "Cambodia",
          "Cameroon",
          "Canada",
          "Central African Republic",
          "Chad",
          "Chile",
          "China",
          "Colombia",
          "Comoros",
          "Congo (Brazzaville)",
          "Congo (Kinshasa)",
          "Costa Rica",
          "Cote d'Ivoire",
          "Croatia",
          "Cuba",
          "Cyprus",
          "Czechia",
          "Denmark",
          "Djibouti",
          "Dominica",
          "Dominican Republic",
          "Ecuador",
          "Egypt",
          "El Salvador",
          "Equatorial Guinea",
          "Eritrea",
          "Estonia",
          "Eswatini",
          "Ethiopia",
          "Fiji",
          "Finland",
          "France",
          "Gabon",
          "Gambia",
          "Georgia",
          "Germany",
          "Ghana",
          "Greece",
          "Grenada",
          "Guatemala",
          "Guinea",
          "Guinea-Bissau",
          "Guyana",
          "Haiti",
          "Holy See",
          "Honduras",
          "Hungary",
          "Iceland",
          "India",
          "Indonesia",
          "Iran",
          "Iraq",
          "Ireland",
          "Israel",
          "Italy",
          "Jamaica",
          "Japan",
          "Jordan",
          "Kazakhstan",
          "Kenya",
          "Kiribati",
          "Korea, South",
          "Kosovo",
          "Kuwait",
          "Kyrgyzstan",
          "Laos",
          "Latvia",
          "Lebanon",
          "Lesotho",
          "Liberia",
          "Libya",
          "Liechtenstein",
          "Lithuania",
          "Luxembourg",
          "Madagascar",
          "Malawi",
          "Malaysia",
          "Maldives",
          "Mali",
          "Malta",
          "Marshall Islands",
          "Mauritania",
          "Mauritius",
          "Mexico",
          "Micronesia",
          "Moldova",
          "Monaco",
          "Mongolia",
          "Montenegro",
          "Morocco",
          "Mozambique",
          "Namibia",
          "Nepal",
          "Netherlands",
          "New Zealand",
          "Nicaragua",
          "Niger",
          "Nigeria",
          "North Macedonia",
          "Norway",
          "Oman",
          "Pakistan",
          "Palau",
          "Panama",
          "Papua New Guinea",
          "Paraguay",
          "Peru",
          "Philippines",
          "Poland",
          "Portugal",
          "Qatar",
          "Romania",
          "Russia",
          "Rwanda",
          "Saint Kitts and Nevis",
          "Saint Lucia",
          "Saint Vincent and the Grenadines",
          "Samoa",
          "San Marino",
          "Sao Tome and Principe",
          "Saudi Arabia",
          "Senegal",
          "Serbia",
          "Seychelles",
          "Sierra Leone",
          "Singapore",
          "Slovakia",
          "Slovenia",
          "Solomon Islands",
          "Somalia",
          "South Africa",
          "South Sudan",
          "Spain",
          "Sri Lanka",
          "Sudan",
          "Summer Olympics 2020",
          "Suriname",
          "Sweden",
          "Switzerland",
          "Syria",
          "Taiwan*",
          "Tajikistan",
          "Tanzania",
          "Thailand",
          "Timor-Leste",
          "Togo",
          "Trinidad and Tobago",
          "Tunisia",
          "Turkey",
          "US",
          "Uganda",
          "Ukraine",
          "United Arab Emirates",
          "United Kingdom",
          "Uruguay",
          "Uzbekistan",
          "Vanuatu",
          "Venezuela",
          "Vietnam",
          "West Bank and Gaza",
          "Yemen",
          "Zambia",
          "Zimbabwe"
         ],
         "lat": [
          33.93911,
          41.1533,
          28.0339,
          42.5063,
          -11.2027,
          17.0608,
          -38.4161,
          40.0691,
          -25,
          47.5162,
          40.1431,
          25.025885,
          26.0275,
          23.685,
          13.1939,
          53.7098,
          50.8333,
          17.1899,
          9.3077,
          27.5142,
          -16.2902,
          43.9159,
          -22.3285,
          -14.235,
          4.5353,
          42.7339,
          12.2383,
          21.9162,
          -3.3731,
          16.5388,
          11.55,
          3.8480000000000003,
          60.00100000000001,
          6.6111,
          15.4542,
          -35.6751,
          30.5928,
          4.5709,
          -11.6455,
          -0.228,
          -4.0383,
          9.7489,
          7.54,
          45.1,
          21.521757,
          35.1264,
          49.8175,
          56.2639,
          11.8251,
          15.415,
          18.7357,
          -1.8312,
          26.820553000000004,
          13.7942,
          1.6508,
          15.1794,
          58.5953,
          -26.5225,
          9.145,
          -17.7134,
          61.9241,
          46.2276,
          -0.8037,
          13.4432,
          42.3154,
          51.165690999999995,
          7.9465,
          39.0742,
          12.1165,
          15.7835,
          9.9456,
          11.8037,
          4.860416000000002,
          18.9712,
          41.9029,
          15.2,
          47.1625,
          64.9631,
          20.593684,
          -0.7893,
          32.427908,
          33.223191,
          53.1424,
          31.046051000000002,
          41.8719,
          18.1096,
          36.204824,
          31.24,
          48.0196,
          -0.0236,
          -3.3704,
          35.90775700000001,
          42.602636,
          29.311659999999996,
          41.20438,
          19.856270000000002,
          56.8796,
          33.8547,
          -29.61,
          6.4280550000000005,
          26.3351,
          47.14,
          55.1694,
          49.8153,
          -18.766947000000002,
          -13.2543,
          4.210483999999999,
          3.2028,
          17.570692,
          35.9375,
          7.1315,
          21.0079,
          -20.348404000000002,
          23.6345,
          7.4256,
          47.4116,
          43.7333,
          46.8625,
          42.708678000000006,
          31.7917,
          -18.665695,
          -22.9576,
          28.1667,
          52.3167,
          -40.9006,
          12.865416,
          17.607789,
          9.082,
          41.6086,
          60.472,
          21.512583,
          30.3753,
          7.515,
          8.538,
          -6.314993,
          -23.4425,
          -9.19,
          12.879721,
          51.9194,
          39.3999,
          25.3548,
          45.9432,
          61.523999999999994,
          -1.9403,
          17.357822,
          13.9094,
          12.9843,
          -13.759,
          43.9424,
          0.1864,
          23.885942,
          14.4974,
          44.0165,
          -4.6796,
          8.460555000000001,
          1.2833,
          48.669,
          46.1512,
          -9.6457,
          5.152149,
          -30.5595,
          6.8770000000000024,
          40.463667,
          7.873054,
          12.8628,
          35.6491,
          3.9193,
          60.1282,
          46.8182,
          34.802075,
          23.7,
          38.861,
          -6.369028,
          15.870032,
          -8.874217,
          8.6195,
          10.6918,
          33.886917,
          38.9637,
          40,
          1.373333,
          48.3794,
          23.424076,
          55,
          -32.5228,
          41.377491,
          -15.3767,
          6.4238,
          14.058323999999999,
          31.9522,
          15.552726999999999,
          -13.133897,
          -19.015438
         ],
         "legendgroup": "",
         "lon": [
          67.709953,
          20.1683,
          1.6596,
          1.5218,
          17.8739,
          -61.7964,
          -63.6167,
          45.0382,
          133,
          14.5501,
          47.5769,
          -78.035889,
          50.55,
          90.3563,
          -59.5432,
          27.9534,
          4.469936,
          -88.4976,
          2.3158,
          90.4336,
          -63.5887,
          17.6791,
          24.6849,
          -51.9253,
          114.7277,
          25.4858,
          -1.5616,
          95.956,
          29.9189,
          -23.0418,
          104.9167,
          11.5021,
          -95.001,
          20.9394,
          18.7322,
          -71.543,
          114.3055,
          -74.2973,
          43.3333,
          15.8277,
          21.7587,
          -83.7534,
          -5.5471,
          15.2,
          -77.78116700000002,
          33.4299,
          15.472999999999999,
          9.5018,
          42.5903,
          -61.371,
          -70.1627,
          -78.1834,
          30.802497999999996,
          -88.8965,
          10.2679,
          39.7823,
          25.0136,
          31.4659,
          40.4897,
          178.065,
          25.7482,
          2.2137,
          11.6094,
          -15.3101,
          43.3569,
          10.451526,
          -1.0232,
          21.8243,
          -61.678999999999995,
          -90.2308,
          -9.6966,
          -15.1804,
          -58.93018000000001,
          -72.2852,
          12.4534,
          -86.2419,
          19.5033,
          -19.0208,
          78.96288,
          113.9213,
          53.68804599999999,
          43.679291,
          -7.6921,
          34.851612,
          12.5674,
          -77.2975,
          138.252924,
          36.51,
          66.9237,
          37.9062,
          -168.734,
          127.766922,
          20.902977,
          47.481766,
          74.766098,
          102.495496,
          24.6032,
          35.8623,
          28.2336,
          -9.429499,
          17.228331,
          9.55,
          23.8813,
          6.1296,
          46.869107,
          34.3015,
          101.975766,
          73.2207,
          -3.996166000000001,
          14.3754,
          171.1845,
          -10.9408,
          57.552152,
          -102.5528,
          150.5508,
          28.3699,
          7.4167,
          103.8467,
          19.37439,
          -7.0926,
          35.529562,
          18.4904,
          84.25,
          5.55,
          174.886,
          -85.207229,
          8.081666,
          8.6753,
          21.7453,
          8.4689,
          55.92325500000001,
          69.3451,
          134.5825,
          -80.7821,
          143.95555,
          -58.4438,
          -75.0152,
          121.77401699999999,
          19.1451,
          -8.2245,
          51.1839,
          24.9668,
          105.3188,
          29.8739,
          -62.782998,
          -60.9789,
          -61.2872,
          -172.1046,
          12.4578,
          6.6131,
          45.079162,
          -14.4524,
          21.0059,
          55.492,
          -11.779889,
          103.8333,
          19.699,
          14.9955,
          160.1562,
          46.199616,
          22.9375,
          31.307,
          -3.7492199999999998,
          80.77179699999998,
          30.2176,
          139.7737,
          -56.0278,
          18.6435,
          8.2275,
          38.99681500000001,
          121,
          71.2761,
          34.888822,
          100.992541,
          125.727539,
          0.8248,
          -61.2225,
          9.537499,
          35.2433,
          -100,
          32.290275,
          31.1656,
          53.847818000000004,
          -3,
          -55.7658,
          64.585262,
          166.9592,
          -66.5897,
          108.277199,
          35.2332,
          48.516388,
          27.849332,
          29.154857
         ],
         "marker": {
          "color": [
           155093,
           168188,
           202877,
           15189,
           55583,
           2923,
           5251940,
           259779,
           100912,
           738763,
           481401,
           20775,
           274877,
           1553873,
           7764,
           534104,
           1238358,
           19945,
           22958,
           2600,
           499202,
           233121,
           178050,
           21366395,
           6813,
           495397,
           14199,
           461066,
           17505,
           37472,
           110792,
           85414,
           1620765,
           11371,
           5034,
           1652795,
           108360,
           4952690,
           4128,
           14244,
           56862,
           525999,
           59977,
           401169,
           866808,
           118181,
           1690288,
           359532,
           12253,
           3293,
           357517,
           508655,
           302327,
           104348,
           11806,
           6694,
           154722,
           45812,
           342305,
           50872,
           140087,
           7087717,
           29515,
           9930,
           609340,
           4211406,
           127016,
           651378,
           5005,
           550333,
           30364,
           6099,
           31236,
           21647,
           27,
           364605,
           821526,
           11760,
           33697581,
           4211460,
           5559691,
           1998615,
           385721,
           1270230,
           4665049,
           83342,
           1698693,
           820798,
           956025,
           248515,
           2,
           305842,
           159961,
           411533,
           178375,
           22441,
           155880,
           622440,
           14395,
           5794,
           337890,
           3445,
           327896,
           77998,
           42898,
           61517,
           2209194,
           84484,
           15165,
           37119,
           4,
           35889,
           15391,
           3635807,
           1,
           290043,
           3303,
           298919,
           130500,
           930891,
           150540,
           127373,
           793271,
           2037687,
           4205,
           13730,
           5990,
           204752,
           189999,
           187941,
           303705,
           1241825,
           5,
           466357,
           19523,
           459855,
           2173354,
           2509177,
           2904631,
           1067775,
           236482,
           1210810,
           7355883,
           96982,
           1872,
           11231,
           3359,
           3,
           5436,
           3349,
           547035,
           73757,
           926269,
           21374,
           6393,
           89539,
           409621,
           290994,
           20,
           19980,
           2897521,
           11954,
           4951640,
           514592,
           38217,
           865,
           40476,
           1151173,
           837769,
           33323,
           16205,
           17484,
           1367,
           1581415,
           19445,
           25252,
           50055,
           705474,
           7066658,
           43139578,
           123245,
           2510781,
           735457,
           7772476,
           388572,
           172899,
           4,
           364758,
           770640,
           398946,
           8988,
           208912,
           129919
          ],
          "coloraxis": "coloraxis",
          "size": [
           155093,
           168188,
           202877,
           15189,
           55583,
           2923,
           5251940,
           259779,
           100912,
           738763,
           481401,
           20775,
           274877,
           1553873,
           7764,
           534104,
           1238358,
           19945,
           22958,
           2600,
           499202,
           233121,
           178050,
           21366395,
           6813,
           495397,
           14199,
           461066,
           17505,
           37472,
           110792,
           85414,
           1620765,
           11371,
           5034,
           1652795,
           108360,
           4952690,
           4128,
           14244,
           56862,
           525999,
           59977,
           401169,
           866808,
           118181,
           1690288,
           359532,
           12253,
           3293,
           357517,
           508655,
           302327,
           104348,
           11806,
           6694,
           154722,
           45812,
           342305,
           50872,
           140087,
           7087717,
           29515,
           9930,
           609340,
           4211406,
           127016,
           651378,
           5005,
           550333,
           30364,
           6099,
           31236,
           21647,
           27,
           364605,
           821526,
           11760,
           33697581,
           4211460,
           5559691,
           1998615,
           385721,
           1270230,
           4665049,
           83342,
           1698693,
           820798,
           956025,
           248515,
           2,
           305842,
           159961,
           411533,
           178375,
           22441,
           155880,
           622440,
           14395,
           5794,
           337890,
           3445,
           327896,
           77998,
           42898,
           61517,
           2209194,
           84484,
           15165,
           37119,
           4,
           35889,
           15391,
           3635807,
           1,
           290043,
           3303,
           298919,
           130500,
           930891,
           150540,
           127373,
           793271,
           2037687,
           4205,
           13730,
           5990,
           204752,
           189999,
           187941,
           303705,
           1241825,
           5,
           466357,
           19523,
           459855,
           2173354,
           2509177,
           2904631,
           1067775,
           236482,
           1210810,
           7355883,
           96982,
           1872,
           11231,
           3359,
           3,
           5436,
           3349,
           547035,
           73757,
           926269,
           21374,
           6393,
           89539,
           409621,
           290994,
           20,
           19980,
           2897521,
           11954,
           4951640,
           514592,
           38217,
           865,
           40476,
           1151173,
           837769,
           33323,
           16205,
           17484,
           1367,
           1581415,
           19445,
           25252,
           50055,
           705474,
           7066658,
           43139578,
           123245,
           2510781,
           735457,
           7772476,
           388572,
           172899,
           4,
           364758,
           770640,
           398946,
           8988,
           208912,
           129919
          ],
          "sizemode": "area",
          "sizeref": 17255.8312
         },
         "mode": "markers",
         "name": "",
         "showlegend": false,
         "subplot": "mapbox",
         "type": "scattermapbox"
        }
       ],
       "layout": {
        "coloraxis": {
         "colorbar": {
          "title": {
           "text": "Confirmed"
          }
         },
         "colorscale": [
          [
           0,
           "deepskyblue"
          ],
          [
           1,
           "red"
          ]
         ]
        },
        "legend": {
         "itemsizing": "constant",
         "tracegroupgap": 0
        },
        "mapbox": {
         "center": {
          "lat": 19.418679461139895,
          "lon": 20.010479305699487
         },
         "domain": {
          "x": [
           0,
           1
          ],
          "y": [
           0,
           1
          ]
         },
         "style": "carto-positron",
         "zoom": 0.5
        },
        "margin": {
         "t": 60
        },
        "template": {
         "data": {
          "bar": [
           {
            "error_x": {
             "color": "#2a3f5f"
            },
            "error_y": {
             "color": "#2a3f5f"
            },
            "marker": {
             "line": {
              "color": "#E5ECF6",
              "width": 0.5
             }
            },
            "type": "bar"
           }
          ],
          "barpolar": [
           {
            "marker": {
             "line": {
              "color": "#E5ECF6",
              "width": 0.5
             }
            },
            "type": "barpolar"
           }
          ],
          "carpet": [
           {
            "aaxis": {
             "endlinecolor": "#2a3f5f",
             "gridcolor": "white",
             "linecolor": "white",
             "minorgridcolor": "white",
             "startlinecolor": "#2a3f5f"
            },
            "baxis": {
             "endlinecolor": "#2a3f5f",
             "gridcolor": "white",
             "linecolor": "white",
             "minorgridcolor": "white",
             "startlinecolor": "#2a3f5f"
            },
            "type": "carpet"
           }
          ],
          "choropleth": [
           {
            "colorbar": {
             "outlinewidth": 0,
             "ticks": ""
            },
            "type": "choropleth"
           }
          ],
          "contour": [
           {
            "colorbar": {
             "outlinewidth": 0,
             "ticks": ""
            },
            "colorscale": [
             [
              0,
              "#0d0887"
             ],
             [
              0.1111111111111111,
              "#46039f"
             ],
             [
              0.2222222222222222,
              "#7201a8"
             ],
             [
              0.3333333333333333,
              "#9c179e"
             ],
             [
              0.4444444444444444,
              "#bd3786"
             ],
             [
              0.5555555555555556,
              "#d8576b"
             ],
             [
              0.6666666666666666,
              "#ed7953"
             ],
             [
              0.7777777777777778,
              "#fb9f3a"
             ],
             [
              0.8888888888888888,
              "#fdca26"
             ],
             [
              1,
              "#f0f921"
             ]
            ],
            "type": "contour"
           }
          ],
          "contourcarpet": [
           {
            "colorbar": {
             "outlinewidth": 0,
             "ticks": ""
            },
            "type": "contourcarpet"
           }
          ],
          "heatmap": [
           {
            "colorbar": {
             "outlinewidth": 0,
             "ticks": ""
            },
            "colorscale": [
             [
              0,
              "#0d0887"
             ],
             [
              0.1111111111111111,
              "#46039f"
             ],
             [
              0.2222222222222222,
              "#7201a8"
             ],
             [
              0.3333333333333333,
              "#9c179e"
             ],
             [
              0.4444444444444444,
              "#bd3786"
             ],
             [
              0.5555555555555556,
              "#d8576b"
             ],
             [
              0.6666666666666666,
              "#ed7953"
             ],
             [
              0.7777777777777778,
              "#fb9f3a"
             ],
             [
              0.8888888888888888,
              "#fdca26"
             ],
             [
              1,
              "#f0f921"
             ]
            ],
            "type": "heatmap"
           }
          ],
          "heatmapgl": [
           {
            "colorbar": {
             "outlinewidth": 0,
             "ticks": ""
            },
            "colorscale": [
             [
              0,
              "#0d0887"
             ],
             [
              0.1111111111111111,
              "#46039f"
             ],
             [
              0.2222222222222222,
              "#7201a8"
             ],
             [
              0.3333333333333333,
              "#9c179e"
             ],
             [
              0.4444444444444444,
              "#bd3786"
             ],
             [
              0.5555555555555556,
              "#d8576b"
             ],
             [
              0.6666666666666666,
              "#ed7953"
             ],
             [
              0.7777777777777778,
              "#fb9f3a"
             ],
             [
              0.8888888888888888,
              "#fdca26"
             ],
             [
              1,
              "#f0f921"
             ]
            ],
            "type": "heatmapgl"
           }
          ],
          "histogram": [
           {
            "marker": {
             "colorbar": {
              "outlinewidth": 0,
              "ticks": ""
             }
            },
            "type": "histogram"
           }
          ],
          "histogram2d": [
           {
            "colorbar": {
             "outlinewidth": 0,
             "ticks": ""
            },
            "colorscale": [
             [
              0,
              "#0d0887"
             ],
             [
              0.1111111111111111,
              "#46039f"
             ],
             [
              0.2222222222222222,
              "#7201a8"
             ],
             [
              0.3333333333333333,
              "#9c179e"
             ],
             [
              0.4444444444444444,
              "#bd3786"
             ],
             [
              0.5555555555555556,
              "#d8576b"
             ],
             [
              0.6666666666666666,
              "#ed7953"
             ],
             [
              0.7777777777777778,
              "#fb9f3a"
             ],
             [
              0.8888888888888888,
              "#fdca26"
             ],
             [
              1,
              "#f0f921"
             ]
            ],
            "type": "histogram2d"
           }
          ],
          "histogram2dcontour": [
           {
            "colorbar": {
             "outlinewidth": 0,
             "ticks": ""
            },
            "colorscale": [
             [
              0,
              "#0d0887"
             ],
             [
              0.1111111111111111,
              "#46039f"
             ],
             [
              0.2222222222222222,
              "#7201a8"
             ],
             [
              0.3333333333333333,
              "#9c179e"
             ],
             [
              0.4444444444444444,
              "#bd3786"
             ],
             [
              0.5555555555555556,
              "#d8576b"
             ],
             [
              0.6666666666666666,
              "#ed7953"
             ],
             [
              0.7777777777777778,
              "#fb9f3a"
             ],
             [
              0.8888888888888888,
              "#fdca26"
             ],
             [
              1,
              "#f0f921"
             ]
            ],
            "type": "histogram2dcontour"
           }
          ],
          "mesh3d": [
           {
            "colorbar": {
             "outlinewidth": 0,
             "ticks": ""
            },
            "type": "mesh3d"
           }
          ],
          "parcoords": [
           {
            "line": {
             "colorbar": {
              "outlinewidth": 0,
              "ticks": ""
             }
            },
            "type": "parcoords"
           }
          ],
          "pie": [
           {
            "automargin": true,
            "type": "pie"
           }
          ],
          "scatter": [
           {
            "marker": {
             "colorbar": {
              "outlinewidth": 0,
              "ticks": ""
             }
            },
            "type": "scatter"
           }
          ],
          "scatter3d": [
           {
            "line": {
             "colorbar": {
              "outlinewidth": 0,
              "ticks": ""
             }
            },
            "marker": {
             "colorbar": {
              "outlinewidth": 0,
              "ticks": ""
             }
            },
            "type": "scatter3d"
           }
          ],
          "scattercarpet": [
           {
            "marker": {
             "colorbar": {
              "outlinewidth": 0,
              "ticks": ""
             }
            },
            "type": "scattercarpet"
           }
          ],
          "scattergeo": [
           {
            "marker": {
             "colorbar": {
              "outlinewidth": 0,
              "ticks": ""
             }
            },
            "type": "scattergeo"
           }
          ],
          "scattergl": [
           {
            "marker": {
             "colorbar": {
              "outlinewidth": 0,
              "ticks": ""
             }
            },
            "type": "scattergl"
           }
          ],
          "scattermapbox": [
           {
            "marker": {
             "colorbar": {
              "outlinewidth": 0,
              "ticks": ""
             }
            },
            "type": "scattermapbox"
           }
          ],
          "scatterpolar": [
           {
            "marker": {
             "colorbar": {
              "outlinewidth": 0,
              "ticks": ""
             }
            },
            "type": "scatterpolar"
           }
          ],
          "scatterpolargl": [
           {
            "marker": {
             "colorbar": {
              "outlinewidth": 0,
              "ticks": ""
             }
            },
            "type": "scatterpolargl"
           }
          ],
          "scatterternary": [
           {
            "marker": {
             "colorbar": {
              "outlinewidth": 0,
              "ticks": ""
             }
            },
            "type": "scatterternary"
           }
          ],
          "surface": [
           {
            "colorbar": {
             "outlinewidth": 0,
             "ticks": ""
            },
            "colorscale": [
             [
              0,
              "#0d0887"
             ],
             [
              0.1111111111111111,
              "#46039f"
             ],
             [
              0.2222222222222222,
              "#7201a8"
             ],
             [
              0.3333333333333333,
              "#9c179e"
             ],
             [
              0.4444444444444444,
              "#bd3786"
             ],
             [
              0.5555555555555556,
              "#d8576b"
             ],
             [
              0.6666666666666666,
              "#ed7953"
             ],
             [
              0.7777777777777778,
              "#fb9f3a"
             ],
             [
              0.8888888888888888,
              "#fdca26"
             ],
             [
              1,
              "#f0f921"
             ]
            ],
            "type": "surface"
           }
          ],
          "table": [
           {
            "cells": {
             "fill": {
              "color": "#EBF0F8"
             },
             "line": {
              "color": "white"
             }
            },
            "header": {
             "fill": {
              "color": "#C8D4E3"
             },
             "line": {
              "color": "white"
             }
            },
            "type": "table"
           }
          ]
         },
         "layout": {
          "annotationdefaults": {
           "arrowcolor": "#2a3f5f",
           "arrowhead": 0,
           "arrowwidth": 1
          },
          "autotypenumbers": "strict",
          "coloraxis": {
           "colorbar": {
            "outlinewidth": 0,
            "ticks": ""
           }
          },
          "colorscale": {
           "diverging": [
            [
             0,
             "#8e0152"
            ],
            [
             0.1,
             "#c51b7d"
            ],
            [
             0.2,
             "#de77ae"
            ],
            [
             0.3,
             "#f1b6da"
            ],
            [
             0.4,
             "#fde0ef"
            ],
            [
             0.5,
             "#f7f7f7"
            ],
            [
             0.6,
             "#e6f5d0"
            ],
            [
             0.7,
             "#b8e186"
            ],
            [
             0.8,
             "#7fbc41"
            ],
            [
             0.9,
             "#4d9221"
            ],
            [
             1,
             "#276419"
            ]
           ],
           "sequential": [
            [
             0,
             "#0d0887"
            ],
            [
             0.1111111111111111,
             "#46039f"
            ],
            [
             0.2222222222222222,
             "#7201a8"
            ],
            [
             0.3333333333333333,
             "#9c179e"
            ],
            [
             0.4444444444444444,
             "#bd3786"
            ],
            [
             0.5555555555555556,
             "#d8576b"
            ],
            [
             0.6666666666666666,
             "#ed7953"
            ],
            [
             0.7777777777777778,
             "#fb9f3a"
            ],
            [
             0.8888888888888888,
             "#fdca26"
            ],
            [
             1,
             "#f0f921"
            ]
           ],
           "sequentialminus": [
            [
             0,
             "#0d0887"
            ],
            [
             0.1111111111111111,
             "#46039f"
            ],
            [
             0.2222222222222222,
             "#7201a8"
            ],
            [
             0.3333333333333333,
             "#9c179e"
            ],
            [
             0.4444444444444444,
             "#bd3786"
            ],
            [
             0.5555555555555556,
             "#d8576b"
            ],
            [
             0.6666666666666666,
             "#ed7953"
            ],
            [
             0.7777777777777778,
             "#fb9f3a"
            ],
            [
             0.8888888888888888,
             "#fdca26"
            ],
            [
             1,
             "#f0f921"
            ]
           ]
          },
          "colorway": [
           "#636efa",
           "#EF553B",
           "#00cc96",
           "#ab63fa",
           "#FFA15A",
           "#19d3f3",
           "#FF6692",
           "#B6E880",
           "#FF97FF",
           "#FECB52"
          ],
          "font": {
           "color": "#2a3f5f"
          },
          "geo": {
           "bgcolor": "white",
           "lakecolor": "white",
           "landcolor": "#E5ECF6",
           "showlakes": true,
           "showland": true,
           "subunitcolor": "white"
          },
          "hoverlabel": {
           "align": "left"
          },
          "hovermode": "closest",
          "mapbox": {
           "style": "light"
          },
          "paper_bgcolor": "white",
          "plot_bgcolor": "#E5ECF6",
          "polar": {
           "angularaxis": {
            "gridcolor": "white",
            "linecolor": "white",
            "ticks": ""
           },
           "bgcolor": "#E5ECF6",
           "radialaxis": {
            "gridcolor": "white",
            "linecolor": "white",
            "ticks": ""
           }
          },
          "scene": {
           "xaxis": {
            "backgroundcolor": "#E5ECF6",
            "gridcolor": "white",
            "gridwidth": 2,
            "linecolor": "white",
            "showbackground": true,
            "ticks": "",
            "zerolinecolor": "white"
           },
           "yaxis": {
            "backgroundcolor": "#E5ECF6",
            "gridcolor": "white",
            "gridwidth": 2,
            "linecolor": "white",
            "showbackground": true,
            "ticks": "",
            "zerolinecolor": "white"
           },
           "zaxis": {
            "backgroundcolor": "#E5ECF6",
            "gridcolor": "white",
            "gridwidth": 2,
            "linecolor": "white",
            "showbackground": true,
            "ticks": "",
            "zerolinecolor": "white"
           }
          },
          "shapedefaults": {
           "line": {
            "color": "#2a3f5f"
           }
          },
          "ternary": {
           "aaxis": {
            "gridcolor": "white",
            "linecolor": "white",
            "ticks": ""
           },
           "baxis": {
            "gridcolor": "white",
            "linecolor": "white",
            "ticks": ""
           },
           "bgcolor": "#E5ECF6",
           "caxis": {
            "gridcolor": "white",
            "linecolor": "white",
            "ticks": ""
           }
          },
          "title": {
           "x": 0.05
          },
          "xaxis": {
           "automargin": true,
           "gridcolor": "white",
           "linecolor": "white",
           "ticks": "",
           "title": {
            "standoff": 15
           },
           "zerolinecolor": "white",
           "zerolinewidth": 2
          },
          "yaxis": {
           "automargin": true,
           "gridcolor": "white",
           "linecolor": "white",
           "ticks": "",
           "title": {
            "standoff": 15
           },
           "zerolinecolor": "white",
           "zerolinewidth": 2
          }
         }
        }
       }
      }
     },
     "metadata": {}
    }
   ],
   "metadata": {}
  },
  {
   "cell_type": "code",
   "execution_count": 47,
   "source": [
    "sidebar='Confirmed'\r\n",
    "\r\n",
    "bubble_map = px.scatter_geo(data_frame=covid_df[['Lat', 'Long', 'Country', sidebar]].dropna(),\r\n",
    "    lat='Lat',\r\n",
    "    lon='Long',\r\n",
    "    hover_name='Country', \r\n",
    "    locations='Country',\r\n",
    "    size=sidebar,\r\n",
    "    projection='robinson',\r\n",
    "    color=sidebar,\r\n",
    "    size_max=50,\r\n",
    "    color_continuous_scale = ['deepskyblue','red']\r\n",
    ")\r\n",
    "\r\n",
    "bubble_map.show()"
   ],
   "outputs": [
    {
     "output_type": "display_data",
     "data": {
      "application/vnd.plotly.v1+json": {
       "config": {
        "plotlyServerURL": "https://plot.ly"
       },
       "data": [
        {
         "geo": "geo",
         "hovertemplate": "<b>%{hovertext}</b><br><br>Confirmed=%{marker.color}<br>Lat=%{lat}<br>Long=%{lon}<br>Country=%{location}<extra></extra>",
         "hovertext": [
          "Afghanistan",
          "Albania",
          "Algeria",
          "Andorra",
          "Angola",
          "Antigua and Barbuda",
          "Argentina",
          "Armenia",
          "Australia",
          "Austria",
          "Azerbaijan",
          "Bahamas",
          "Bahrain",
          "Bangladesh",
          "Barbados",
          "Belarus",
          "Belgium",
          "Belize",
          "Benin",
          "Bhutan",
          "Bolivia",
          "Bosnia and Herzegovina",
          "Botswana",
          "Brazil",
          "Brunei",
          "Bulgaria",
          "Burkina Faso",
          "Burma",
          "Burundi",
          "Cabo Verde",
          "Cambodia",
          "Cameroon",
          "Canada",
          "Central African Republic",
          "Chad",
          "Chile",
          "China",
          "Colombia",
          "Comoros",
          "Congo (Brazzaville)",
          "Congo (Kinshasa)",
          "Costa Rica",
          "Cote d'Ivoire",
          "Croatia",
          "Cuba",
          "Cyprus",
          "Czechia",
          "Denmark",
          "Djibouti",
          "Dominica",
          "Dominican Republic",
          "Ecuador",
          "Egypt",
          "El Salvador",
          "Equatorial Guinea",
          "Eritrea",
          "Estonia",
          "Eswatini",
          "Ethiopia",
          "Fiji",
          "Finland",
          "France",
          "Gabon",
          "Gambia",
          "Georgia",
          "Germany",
          "Ghana",
          "Greece",
          "Grenada",
          "Guatemala",
          "Guinea",
          "Guinea-Bissau",
          "Guyana",
          "Haiti",
          "Holy See",
          "Honduras",
          "Hungary",
          "Iceland",
          "India",
          "Indonesia",
          "Iran",
          "Iraq",
          "Ireland",
          "Israel",
          "Italy",
          "Jamaica",
          "Japan",
          "Jordan",
          "Kazakhstan",
          "Kenya",
          "Kiribati",
          "Korea, South",
          "Kosovo",
          "Kuwait",
          "Kyrgyzstan",
          "Laos",
          "Latvia",
          "Lebanon",
          "Lesotho",
          "Liberia",
          "Libya",
          "Liechtenstein",
          "Lithuania",
          "Luxembourg",
          "Madagascar",
          "Malawi",
          "Malaysia",
          "Maldives",
          "Mali",
          "Malta",
          "Marshall Islands",
          "Mauritania",
          "Mauritius",
          "Mexico",
          "Micronesia",
          "Moldova",
          "Monaco",
          "Mongolia",
          "Montenegro",
          "Morocco",
          "Mozambique",
          "Namibia",
          "Nepal",
          "Netherlands",
          "New Zealand",
          "Nicaragua",
          "Niger",
          "Nigeria",
          "North Macedonia",
          "Norway",
          "Oman",
          "Pakistan",
          "Palau",
          "Panama",
          "Papua New Guinea",
          "Paraguay",
          "Peru",
          "Philippines",
          "Poland",
          "Portugal",
          "Qatar",
          "Romania",
          "Russia",
          "Rwanda",
          "Saint Kitts and Nevis",
          "Saint Lucia",
          "Saint Vincent and the Grenadines",
          "Samoa",
          "San Marino",
          "Sao Tome and Principe",
          "Saudi Arabia",
          "Senegal",
          "Serbia",
          "Seychelles",
          "Sierra Leone",
          "Singapore",
          "Slovakia",
          "Slovenia",
          "Solomon Islands",
          "Somalia",
          "South Africa",
          "South Sudan",
          "Spain",
          "Sri Lanka",
          "Sudan",
          "Summer Olympics 2020",
          "Suriname",
          "Sweden",
          "Switzerland",
          "Syria",
          "Taiwan*",
          "Tajikistan",
          "Tanzania",
          "Thailand",
          "Timor-Leste",
          "Togo",
          "Trinidad and Tobago",
          "Tunisia",
          "Turkey",
          "US",
          "Uganda",
          "Ukraine",
          "United Arab Emirates",
          "United Kingdom",
          "Uruguay",
          "Uzbekistan",
          "Vanuatu",
          "Venezuela",
          "Vietnam",
          "West Bank and Gaza",
          "Yemen",
          "Zambia",
          "Zimbabwe"
         ],
         "lat": [
          33.93911,
          41.1533,
          28.0339,
          42.5063,
          -11.2027,
          17.0608,
          -38.4161,
          40.0691,
          -25,
          47.5162,
          40.1431,
          25.025885,
          26.0275,
          23.685,
          13.1939,
          53.7098,
          50.8333,
          17.1899,
          9.3077,
          27.5142,
          -16.2902,
          43.9159,
          -22.3285,
          -14.235,
          4.5353,
          42.7339,
          12.2383,
          21.9162,
          -3.3731,
          16.5388,
          11.55,
          3.8480000000000003,
          60.00100000000001,
          6.6111,
          15.4542,
          -35.6751,
          30.5928,
          4.5709,
          -11.6455,
          -0.228,
          -4.0383,
          9.7489,
          7.54,
          45.1,
          21.521757,
          35.1264,
          49.8175,
          56.2639,
          11.8251,
          15.415,
          18.7357,
          -1.8312,
          26.820553000000004,
          13.7942,
          1.6508,
          15.1794,
          58.5953,
          -26.5225,
          9.145,
          -17.7134,
          61.9241,
          46.2276,
          -0.8037,
          13.4432,
          42.3154,
          51.165690999999995,
          7.9465,
          39.0742,
          12.1165,
          15.7835,
          9.9456,
          11.8037,
          4.860416000000002,
          18.9712,
          41.9029,
          15.2,
          47.1625,
          64.9631,
          20.593684,
          -0.7893,
          32.427908,
          33.223191,
          53.1424,
          31.046051000000002,
          41.8719,
          18.1096,
          36.204824,
          31.24,
          48.0196,
          -0.0236,
          -3.3704,
          35.90775700000001,
          42.602636,
          29.311659999999996,
          41.20438,
          19.856270000000002,
          56.8796,
          33.8547,
          -29.61,
          6.4280550000000005,
          26.3351,
          47.14,
          55.1694,
          49.8153,
          -18.766947000000002,
          -13.2543,
          4.210483999999999,
          3.2028,
          17.570692,
          35.9375,
          7.1315,
          21.0079,
          -20.348404000000002,
          23.6345,
          7.4256,
          47.4116,
          43.7333,
          46.8625,
          42.708678000000006,
          31.7917,
          -18.665695,
          -22.9576,
          28.1667,
          52.3167,
          -40.9006,
          12.865416,
          17.607789,
          9.082,
          41.6086,
          60.472,
          21.512583,
          30.3753,
          7.515,
          8.538,
          -6.314993,
          -23.4425,
          -9.19,
          12.879721,
          51.9194,
          39.3999,
          25.3548,
          45.9432,
          61.523999999999994,
          -1.9403,
          17.357822,
          13.9094,
          12.9843,
          -13.759,
          43.9424,
          0.1864,
          23.885942,
          14.4974,
          44.0165,
          -4.6796,
          8.460555000000001,
          1.2833,
          48.669,
          46.1512,
          -9.6457,
          5.152149,
          -30.5595,
          6.8770000000000024,
          40.463667,
          7.873054,
          12.8628,
          35.6491,
          3.9193,
          60.1282,
          46.8182,
          34.802075,
          23.7,
          38.861,
          -6.369028,
          15.870032,
          -8.874217,
          8.6195,
          10.6918,
          33.886917,
          38.9637,
          40,
          1.373333,
          48.3794,
          23.424076,
          55,
          -32.5228,
          41.377491,
          -15.3767,
          6.4238,
          14.058323999999999,
          31.9522,
          15.552726999999999,
          -13.133897,
          -19.015438
         ],
         "legendgroup": "",
         "locations": [
          "Afghanistan",
          "Albania",
          "Algeria",
          "Andorra",
          "Angola",
          "Antigua and Barbuda",
          "Argentina",
          "Armenia",
          "Australia",
          "Austria",
          "Azerbaijan",
          "Bahamas",
          "Bahrain",
          "Bangladesh",
          "Barbados",
          "Belarus",
          "Belgium",
          "Belize",
          "Benin",
          "Bhutan",
          "Bolivia",
          "Bosnia and Herzegovina",
          "Botswana",
          "Brazil",
          "Brunei",
          "Bulgaria",
          "Burkina Faso",
          "Burma",
          "Burundi",
          "Cabo Verde",
          "Cambodia",
          "Cameroon",
          "Canada",
          "Central African Republic",
          "Chad",
          "Chile",
          "China",
          "Colombia",
          "Comoros",
          "Congo (Brazzaville)",
          "Congo (Kinshasa)",
          "Costa Rica",
          "Cote d'Ivoire",
          "Croatia",
          "Cuba",
          "Cyprus",
          "Czechia",
          "Denmark",
          "Djibouti",
          "Dominica",
          "Dominican Republic",
          "Ecuador",
          "Egypt",
          "El Salvador",
          "Equatorial Guinea",
          "Eritrea",
          "Estonia",
          "Eswatini",
          "Ethiopia",
          "Fiji",
          "Finland",
          "France",
          "Gabon",
          "Gambia",
          "Georgia",
          "Germany",
          "Ghana",
          "Greece",
          "Grenada",
          "Guatemala",
          "Guinea",
          "Guinea-Bissau",
          "Guyana",
          "Haiti",
          "Holy See",
          "Honduras",
          "Hungary",
          "Iceland",
          "India",
          "Indonesia",
          "Iran",
          "Iraq",
          "Ireland",
          "Israel",
          "Italy",
          "Jamaica",
          "Japan",
          "Jordan",
          "Kazakhstan",
          "Kenya",
          "Kiribati",
          "Korea, South",
          "Kosovo",
          "Kuwait",
          "Kyrgyzstan",
          "Laos",
          "Latvia",
          "Lebanon",
          "Lesotho",
          "Liberia",
          "Libya",
          "Liechtenstein",
          "Lithuania",
          "Luxembourg",
          "Madagascar",
          "Malawi",
          "Malaysia",
          "Maldives",
          "Mali",
          "Malta",
          "Marshall Islands",
          "Mauritania",
          "Mauritius",
          "Mexico",
          "Micronesia",
          "Moldova",
          "Monaco",
          "Mongolia",
          "Montenegro",
          "Morocco",
          "Mozambique",
          "Namibia",
          "Nepal",
          "Netherlands",
          "New Zealand",
          "Nicaragua",
          "Niger",
          "Nigeria",
          "North Macedonia",
          "Norway",
          "Oman",
          "Pakistan",
          "Palau",
          "Panama",
          "Papua New Guinea",
          "Paraguay",
          "Peru",
          "Philippines",
          "Poland",
          "Portugal",
          "Qatar",
          "Romania",
          "Russia",
          "Rwanda",
          "Saint Kitts and Nevis",
          "Saint Lucia",
          "Saint Vincent and the Grenadines",
          "Samoa",
          "San Marino",
          "Sao Tome and Principe",
          "Saudi Arabia",
          "Senegal",
          "Serbia",
          "Seychelles",
          "Sierra Leone",
          "Singapore",
          "Slovakia",
          "Slovenia",
          "Solomon Islands",
          "Somalia",
          "South Africa",
          "South Sudan",
          "Spain",
          "Sri Lanka",
          "Sudan",
          "Summer Olympics 2020",
          "Suriname",
          "Sweden",
          "Switzerland",
          "Syria",
          "Taiwan*",
          "Tajikistan",
          "Tanzania",
          "Thailand",
          "Timor-Leste",
          "Togo",
          "Trinidad and Tobago",
          "Tunisia",
          "Turkey",
          "US",
          "Uganda",
          "Ukraine",
          "United Arab Emirates",
          "United Kingdom",
          "Uruguay",
          "Uzbekistan",
          "Vanuatu",
          "Venezuela",
          "Vietnam",
          "West Bank and Gaza",
          "Yemen",
          "Zambia",
          "Zimbabwe"
         ],
         "lon": [
          67.709953,
          20.1683,
          1.6596,
          1.5218,
          17.8739,
          -61.7964,
          -63.6167,
          45.0382,
          133,
          14.5501,
          47.5769,
          -78.035889,
          50.55,
          90.3563,
          -59.5432,
          27.9534,
          4.469936,
          -88.4976,
          2.3158,
          90.4336,
          -63.5887,
          17.6791,
          24.6849,
          -51.9253,
          114.7277,
          25.4858,
          -1.5616,
          95.956,
          29.9189,
          -23.0418,
          104.9167,
          11.5021,
          -95.001,
          20.9394,
          18.7322,
          -71.543,
          114.3055,
          -74.2973,
          43.3333,
          15.8277,
          21.7587,
          -83.7534,
          -5.5471,
          15.2,
          -77.78116700000002,
          33.4299,
          15.472999999999999,
          9.5018,
          42.5903,
          -61.371,
          -70.1627,
          -78.1834,
          30.802497999999996,
          -88.8965,
          10.2679,
          39.7823,
          25.0136,
          31.4659,
          40.4897,
          178.065,
          25.7482,
          2.2137,
          11.6094,
          -15.3101,
          43.3569,
          10.451526,
          -1.0232,
          21.8243,
          -61.678999999999995,
          -90.2308,
          -9.6966,
          -15.1804,
          -58.93018000000001,
          -72.2852,
          12.4534,
          -86.2419,
          19.5033,
          -19.0208,
          78.96288,
          113.9213,
          53.68804599999999,
          43.679291,
          -7.6921,
          34.851612,
          12.5674,
          -77.2975,
          138.252924,
          36.51,
          66.9237,
          37.9062,
          -168.734,
          127.766922,
          20.902977,
          47.481766,
          74.766098,
          102.495496,
          24.6032,
          35.8623,
          28.2336,
          -9.429499,
          17.228331,
          9.55,
          23.8813,
          6.1296,
          46.869107,
          34.3015,
          101.975766,
          73.2207,
          -3.996166000000001,
          14.3754,
          171.1845,
          -10.9408,
          57.552152,
          -102.5528,
          150.5508,
          28.3699,
          7.4167,
          103.8467,
          19.37439,
          -7.0926,
          35.529562,
          18.4904,
          84.25,
          5.55,
          174.886,
          -85.207229,
          8.081666,
          8.6753,
          21.7453,
          8.4689,
          55.92325500000001,
          69.3451,
          134.5825,
          -80.7821,
          143.95555,
          -58.4438,
          -75.0152,
          121.77401699999999,
          19.1451,
          -8.2245,
          51.1839,
          24.9668,
          105.3188,
          29.8739,
          -62.782998,
          -60.9789,
          -61.2872,
          -172.1046,
          12.4578,
          6.6131,
          45.079162,
          -14.4524,
          21.0059,
          55.492,
          -11.779889,
          103.8333,
          19.699,
          14.9955,
          160.1562,
          46.199616,
          22.9375,
          31.307,
          -3.7492199999999998,
          80.77179699999998,
          30.2176,
          139.7737,
          -56.0278,
          18.6435,
          8.2275,
          38.99681500000001,
          121,
          71.2761,
          34.888822,
          100.992541,
          125.727539,
          0.8248,
          -61.2225,
          9.537499,
          35.2433,
          -100,
          32.290275,
          31.1656,
          53.847818000000004,
          -3,
          -55.7658,
          64.585262,
          166.9592,
          -66.5897,
          108.277199,
          35.2332,
          48.516388,
          27.849332,
          29.154857
         ],
         "marker": {
          "color": [
           155093,
           168188,
           202877,
           15189,
           55583,
           2923,
           5251940,
           259779,
           100912,
           738763,
           481401,
           20775,
           274877,
           1553873,
           7764,
           534104,
           1238358,
           19945,
           22958,
           2600,
           499202,
           233121,
           178050,
           21366395,
           6813,
           495397,
           14199,
           461066,
           17505,
           37472,
           110792,
           85414,
           1620765,
           11371,
           5034,
           1652795,
           108360,
           4952690,
           4128,
           14244,
           56862,
           525999,
           59977,
           401169,
           866808,
           118181,
           1690288,
           359532,
           12253,
           3293,
           357517,
           508655,
           302327,
           104348,
           11806,
           6694,
           154722,
           45812,
           342305,
           50872,
           140087,
           7087717,
           29515,
           9930,
           609340,
           4211406,
           127016,
           651378,
           5005,
           550333,
           30364,
           6099,
           31236,
           21647,
           27,
           364605,
           821526,
           11760,
           33697581,
           4211460,
           5559691,
           1998615,
           385721,
           1270230,
           4665049,
           83342,
           1698693,
           820798,
           956025,
           248515,
           2,
           305842,
           159961,
           411533,
           178375,
           22441,
           155880,
           622440,
           14395,
           5794,
           337890,
           3445,
           327896,
           77998,
           42898,
           61517,
           2209194,
           84484,
           15165,
           37119,
           4,
           35889,
           15391,
           3635807,
           1,
           290043,
           3303,
           298919,
           130500,
           930891,
           150540,
           127373,
           793271,
           2037687,
           4205,
           13730,
           5990,
           204752,
           189999,
           187941,
           303705,
           1241825,
           5,
           466357,
           19523,
           459855,
           2173354,
           2509177,
           2904631,
           1067775,
           236482,
           1210810,
           7355883,
           96982,
           1872,
           11231,
           3359,
           3,
           5436,
           3349,
           547035,
           73757,
           926269,
           21374,
           6393,
           89539,
           409621,
           290994,
           20,
           19980,
           2897521,
           11954,
           4951640,
           514592,
           38217,
           865,
           40476,
           1151173,
           837769,
           33323,
           16205,
           17484,
           1367,
           1581415,
           19445,
           25252,
           50055,
           705474,
           7066658,
           43139578,
           123245,
           2510781,
           735457,
           7772476,
           388572,
           172899,
           4,
           364758,
           770640,
           398946,
           8988,
           208912,
           129919
          ],
          "coloraxis": "coloraxis",
          "size": [
           155093,
           168188,
           202877,
           15189,
           55583,
           2923,
           5251940,
           259779,
           100912,
           738763,
           481401,
           20775,
           274877,
           1553873,
           7764,
           534104,
           1238358,
           19945,
           22958,
           2600,
           499202,
           233121,
           178050,
           21366395,
           6813,
           495397,
           14199,
           461066,
           17505,
           37472,
           110792,
           85414,
           1620765,
           11371,
           5034,
           1652795,
           108360,
           4952690,
           4128,
           14244,
           56862,
           525999,
           59977,
           401169,
           866808,
           118181,
           1690288,
           359532,
           12253,
           3293,
           357517,
           508655,
           302327,
           104348,
           11806,
           6694,
           154722,
           45812,
           342305,
           50872,
           140087,
           7087717,
           29515,
           9930,
           609340,
           4211406,
           127016,
           651378,
           5005,
           550333,
           30364,
           6099,
           31236,
           21647,
           27,
           364605,
           821526,
           11760,
           33697581,
           4211460,
           5559691,
           1998615,
           385721,
           1270230,
           4665049,
           83342,
           1698693,
           820798,
           956025,
           248515,
           2,
           305842,
           159961,
           411533,
           178375,
           22441,
           155880,
           622440,
           14395,
           5794,
           337890,
           3445,
           327896,
           77998,
           42898,
           61517,
           2209194,
           84484,
           15165,
           37119,
           4,
           35889,
           15391,
           3635807,
           1,
           290043,
           3303,
           298919,
           130500,
           930891,
           150540,
           127373,
           793271,
           2037687,
           4205,
           13730,
           5990,
           204752,
           189999,
           187941,
           303705,
           1241825,
           5,
           466357,
           19523,
           459855,
           2173354,
           2509177,
           2904631,
           1067775,
           236482,
           1210810,
           7355883,
           96982,
           1872,
           11231,
           3359,
           3,
           5436,
           3349,
           547035,
           73757,
           926269,
           21374,
           6393,
           89539,
           409621,
           290994,
           20,
           19980,
           2897521,
           11954,
           4951640,
           514592,
           38217,
           865,
           40476,
           1151173,
           837769,
           33323,
           16205,
           17484,
           1367,
           1581415,
           19445,
           25252,
           50055,
           705474,
           7066658,
           43139578,
           123245,
           2510781,
           735457,
           7772476,
           388572,
           172899,
           4,
           364758,
           770640,
           398946,
           8988,
           208912,
           129919
          ],
          "sizemode": "area",
          "sizeref": 17255.8312,
          "symbol": "circle"
         },
         "mode": "markers",
         "name": "",
         "showlegend": false,
         "type": "scattergeo"
        }
       ],
       "layout": {
        "coloraxis": {
         "colorbar": {
          "title": {
           "text": "Confirmed"
          }
         },
         "colorscale": [
          [
           0,
           "deepskyblue"
          ],
          [
           1,
           "red"
          ]
         ]
        },
        "geo": {
         "center": {},
         "domain": {
          "x": [
           0,
           1
          ],
          "y": [
           0,
           1
          ]
         },
         "projection": {
          "type": "robinson"
         }
        },
        "legend": {
         "itemsizing": "constant",
         "tracegroupgap": 0
        },
        "margin": {
         "t": 60
        },
        "template": {
         "data": {
          "bar": [
           {
            "error_x": {
             "color": "#2a3f5f"
            },
            "error_y": {
             "color": "#2a3f5f"
            },
            "marker": {
             "line": {
              "color": "#E5ECF6",
              "width": 0.5
             }
            },
            "type": "bar"
           }
          ],
          "barpolar": [
           {
            "marker": {
             "line": {
              "color": "#E5ECF6",
              "width": 0.5
             }
            },
            "type": "barpolar"
           }
          ],
          "carpet": [
           {
            "aaxis": {
             "endlinecolor": "#2a3f5f",
             "gridcolor": "white",
             "linecolor": "white",
             "minorgridcolor": "white",
             "startlinecolor": "#2a3f5f"
            },
            "baxis": {
             "endlinecolor": "#2a3f5f",
             "gridcolor": "white",
             "linecolor": "white",
             "minorgridcolor": "white",
             "startlinecolor": "#2a3f5f"
            },
            "type": "carpet"
           }
          ],
          "choropleth": [
           {
            "colorbar": {
             "outlinewidth": 0,
             "ticks": ""
            },
            "type": "choropleth"
           }
          ],
          "contour": [
           {
            "colorbar": {
             "outlinewidth": 0,
             "ticks": ""
            },
            "colorscale": [
             [
              0,
              "#0d0887"
             ],
             [
              0.1111111111111111,
              "#46039f"
             ],
             [
              0.2222222222222222,
              "#7201a8"
             ],
             [
              0.3333333333333333,
              "#9c179e"
             ],
             [
              0.4444444444444444,
              "#bd3786"
             ],
             [
              0.5555555555555556,
              "#d8576b"
             ],
             [
              0.6666666666666666,
              "#ed7953"
             ],
             [
              0.7777777777777778,
              "#fb9f3a"
             ],
             [
              0.8888888888888888,
              "#fdca26"
             ],
             [
              1,
              "#f0f921"
             ]
            ],
            "type": "contour"
           }
          ],
          "contourcarpet": [
           {
            "colorbar": {
             "outlinewidth": 0,
             "ticks": ""
            },
            "type": "contourcarpet"
           }
          ],
          "heatmap": [
           {
            "colorbar": {
             "outlinewidth": 0,
             "ticks": ""
            },
            "colorscale": [
             [
              0,
              "#0d0887"
             ],
             [
              0.1111111111111111,
              "#46039f"
             ],
             [
              0.2222222222222222,
              "#7201a8"
             ],
             [
              0.3333333333333333,
              "#9c179e"
             ],
             [
              0.4444444444444444,
              "#bd3786"
             ],
             [
              0.5555555555555556,
              "#d8576b"
             ],
             [
              0.6666666666666666,
              "#ed7953"
             ],
             [
              0.7777777777777778,
              "#fb9f3a"
             ],
             [
              0.8888888888888888,
              "#fdca26"
             ],
             [
              1,
              "#f0f921"
             ]
            ],
            "type": "heatmap"
           }
          ],
          "heatmapgl": [
           {
            "colorbar": {
             "outlinewidth": 0,
             "ticks": ""
            },
            "colorscale": [
             [
              0,
              "#0d0887"
             ],
             [
              0.1111111111111111,
              "#46039f"
             ],
             [
              0.2222222222222222,
              "#7201a8"
             ],
             [
              0.3333333333333333,
              "#9c179e"
             ],
             [
              0.4444444444444444,
              "#bd3786"
             ],
             [
              0.5555555555555556,
              "#d8576b"
             ],
             [
              0.6666666666666666,
              "#ed7953"
             ],
             [
              0.7777777777777778,
              "#fb9f3a"
             ],
             [
              0.8888888888888888,
              "#fdca26"
             ],
             [
              1,
              "#f0f921"
             ]
            ],
            "type": "heatmapgl"
           }
          ],
          "histogram": [
           {
            "marker": {
             "colorbar": {
              "outlinewidth": 0,
              "ticks": ""
             }
            },
            "type": "histogram"
           }
          ],
          "histogram2d": [
           {
            "colorbar": {
             "outlinewidth": 0,
             "ticks": ""
            },
            "colorscale": [
             [
              0,
              "#0d0887"
             ],
             [
              0.1111111111111111,
              "#46039f"
             ],
             [
              0.2222222222222222,
              "#7201a8"
             ],
             [
              0.3333333333333333,
              "#9c179e"
             ],
             [
              0.4444444444444444,
              "#bd3786"
             ],
             [
              0.5555555555555556,
              "#d8576b"
             ],
             [
              0.6666666666666666,
              "#ed7953"
             ],
             [
              0.7777777777777778,
              "#fb9f3a"
             ],
             [
              0.8888888888888888,
              "#fdca26"
             ],
             [
              1,
              "#f0f921"
             ]
            ],
            "type": "histogram2d"
           }
          ],
          "histogram2dcontour": [
           {
            "colorbar": {
             "outlinewidth": 0,
             "ticks": ""
            },
            "colorscale": [
             [
              0,
              "#0d0887"
             ],
             [
              0.1111111111111111,
              "#46039f"
             ],
             [
              0.2222222222222222,
              "#7201a8"
             ],
             [
              0.3333333333333333,
              "#9c179e"
             ],
             [
              0.4444444444444444,
              "#bd3786"
             ],
             [
              0.5555555555555556,
              "#d8576b"
             ],
             [
              0.6666666666666666,
              "#ed7953"
             ],
             [
              0.7777777777777778,
              "#fb9f3a"
             ],
             [
              0.8888888888888888,
              "#fdca26"
             ],
             [
              1,
              "#f0f921"
             ]
            ],
            "type": "histogram2dcontour"
           }
          ],
          "mesh3d": [
           {
            "colorbar": {
             "outlinewidth": 0,
             "ticks": ""
            },
            "type": "mesh3d"
           }
          ],
          "parcoords": [
           {
            "line": {
             "colorbar": {
              "outlinewidth": 0,
              "ticks": ""
             }
            },
            "type": "parcoords"
           }
          ],
          "pie": [
           {
            "automargin": true,
            "type": "pie"
           }
          ],
          "scatter": [
           {
            "marker": {
             "colorbar": {
              "outlinewidth": 0,
              "ticks": ""
             }
            },
            "type": "scatter"
           }
          ],
          "scatter3d": [
           {
            "line": {
             "colorbar": {
              "outlinewidth": 0,
              "ticks": ""
             }
            },
            "marker": {
             "colorbar": {
              "outlinewidth": 0,
              "ticks": ""
             }
            },
            "type": "scatter3d"
           }
          ],
          "scattercarpet": [
           {
            "marker": {
             "colorbar": {
              "outlinewidth": 0,
              "ticks": ""
             }
            },
            "type": "scattercarpet"
           }
          ],
          "scattergeo": [
           {
            "marker": {
             "colorbar": {
              "outlinewidth": 0,
              "ticks": ""
             }
            },
            "type": "scattergeo"
           }
          ],
          "scattergl": [
           {
            "marker": {
             "colorbar": {
              "outlinewidth": 0,
              "ticks": ""
             }
            },
            "type": "scattergl"
           }
          ],
          "scattermapbox": [
           {
            "marker": {
             "colorbar": {
              "outlinewidth": 0,
              "ticks": ""
             }
            },
            "type": "scattermapbox"
           }
          ],
          "scatterpolar": [
           {
            "marker": {
             "colorbar": {
              "outlinewidth": 0,
              "ticks": ""
             }
            },
            "type": "scatterpolar"
           }
          ],
          "scatterpolargl": [
           {
            "marker": {
             "colorbar": {
              "outlinewidth": 0,
              "ticks": ""
             }
            },
            "type": "scatterpolargl"
           }
          ],
          "scatterternary": [
           {
            "marker": {
             "colorbar": {
              "outlinewidth": 0,
              "ticks": ""
             }
            },
            "type": "scatterternary"
           }
          ],
          "surface": [
           {
            "colorbar": {
             "outlinewidth": 0,
             "ticks": ""
            },
            "colorscale": [
             [
              0,
              "#0d0887"
             ],
             [
              0.1111111111111111,
              "#46039f"
             ],
             [
              0.2222222222222222,
              "#7201a8"
             ],
             [
              0.3333333333333333,
              "#9c179e"
             ],
             [
              0.4444444444444444,
              "#bd3786"
             ],
             [
              0.5555555555555556,
              "#d8576b"
             ],
             [
              0.6666666666666666,
              "#ed7953"
             ],
             [
              0.7777777777777778,
              "#fb9f3a"
             ],
             [
              0.8888888888888888,
              "#fdca26"
             ],
             [
              1,
              "#f0f921"
             ]
            ],
            "type": "surface"
           }
          ],
          "table": [
           {
            "cells": {
             "fill": {
              "color": "#EBF0F8"
             },
             "line": {
              "color": "white"
             }
            },
            "header": {
             "fill": {
              "color": "#C8D4E3"
             },
             "line": {
              "color": "white"
             }
            },
            "type": "table"
           }
          ]
         },
         "layout": {
          "annotationdefaults": {
           "arrowcolor": "#2a3f5f",
           "arrowhead": 0,
           "arrowwidth": 1
          },
          "autotypenumbers": "strict",
          "coloraxis": {
           "colorbar": {
            "outlinewidth": 0,
            "ticks": ""
           }
          },
          "colorscale": {
           "diverging": [
            [
             0,
             "#8e0152"
            ],
            [
             0.1,
             "#c51b7d"
            ],
            [
             0.2,
             "#de77ae"
            ],
            [
             0.3,
             "#f1b6da"
            ],
            [
             0.4,
             "#fde0ef"
            ],
            [
             0.5,
             "#f7f7f7"
            ],
            [
             0.6,
             "#e6f5d0"
            ],
            [
             0.7,
             "#b8e186"
            ],
            [
             0.8,
             "#7fbc41"
            ],
            [
             0.9,
             "#4d9221"
            ],
            [
             1,
             "#276419"
            ]
           ],
           "sequential": [
            [
             0,
             "#0d0887"
            ],
            [
             0.1111111111111111,
             "#46039f"
            ],
            [
             0.2222222222222222,
             "#7201a8"
            ],
            [
             0.3333333333333333,
             "#9c179e"
            ],
            [
             0.4444444444444444,
             "#bd3786"
            ],
            [
             0.5555555555555556,
             "#d8576b"
            ],
            [
             0.6666666666666666,
             "#ed7953"
            ],
            [
             0.7777777777777778,
             "#fb9f3a"
            ],
            [
             0.8888888888888888,
             "#fdca26"
            ],
            [
             1,
             "#f0f921"
            ]
           ],
           "sequentialminus": [
            [
             0,
             "#0d0887"
            ],
            [
             0.1111111111111111,
             "#46039f"
            ],
            [
             0.2222222222222222,
             "#7201a8"
            ],
            [
             0.3333333333333333,
             "#9c179e"
            ],
            [
             0.4444444444444444,
             "#bd3786"
            ],
            [
             0.5555555555555556,
             "#d8576b"
            ],
            [
             0.6666666666666666,
             "#ed7953"
            ],
            [
             0.7777777777777778,
             "#fb9f3a"
            ],
            [
             0.8888888888888888,
             "#fdca26"
            ],
            [
             1,
             "#f0f921"
            ]
           ]
          },
          "colorway": [
           "#636efa",
           "#EF553B",
           "#00cc96",
           "#ab63fa",
           "#FFA15A",
           "#19d3f3",
           "#FF6692",
           "#B6E880",
           "#FF97FF",
           "#FECB52"
          ],
          "font": {
           "color": "#2a3f5f"
          },
          "geo": {
           "bgcolor": "white",
           "lakecolor": "white",
           "landcolor": "#E5ECF6",
           "showlakes": true,
           "showland": true,
           "subunitcolor": "white"
          },
          "hoverlabel": {
           "align": "left"
          },
          "hovermode": "closest",
          "mapbox": {
           "style": "light"
          },
          "paper_bgcolor": "white",
          "plot_bgcolor": "#E5ECF6",
          "polar": {
           "angularaxis": {
            "gridcolor": "white",
            "linecolor": "white",
            "ticks": ""
           },
           "bgcolor": "#E5ECF6",
           "radialaxis": {
            "gridcolor": "white",
            "linecolor": "white",
            "ticks": ""
           }
          },
          "scene": {
           "xaxis": {
            "backgroundcolor": "#E5ECF6",
            "gridcolor": "white",
            "gridwidth": 2,
            "linecolor": "white",
            "showbackground": true,
            "ticks": "",
            "zerolinecolor": "white"
           },
           "yaxis": {
            "backgroundcolor": "#E5ECF6",
            "gridcolor": "white",
            "gridwidth": 2,
            "linecolor": "white",
            "showbackground": true,
            "ticks": "",
            "zerolinecolor": "white"
           },
           "zaxis": {
            "backgroundcolor": "#E5ECF6",
            "gridcolor": "white",
            "gridwidth": 2,
            "linecolor": "white",
            "showbackground": true,
            "ticks": "",
            "zerolinecolor": "white"
           }
          },
          "shapedefaults": {
           "line": {
            "color": "#2a3f5f"
           }
          },
          "ternary": {
           "aaxis": {
            "gridcolor": "white",
            "linecolor": "white",
            "ticks": ""
           },
           "baxis": {
            "gridcolor": "white",
            "linecolor": "white",
            "ticks": ""
           },
           "bgcolor": "#E5ECF6",
           "caxis": {
            "gridcolor": "white",
            "linecolor": "white",
            "ticks": ""
           }
          },
          "title": {
           "x": 0.05
          },
          "xaxis": {
           "automargin": true,
           "gridcolor": "white",
           "linecolor": "white",
           "ticks": "",
           "title": {
            "standoff": 15
           },
           "zerolinecolor": "white",
           "zerolinewidth": 2
          },
          "yaxis": {
           "automargin": true,
           "gridcolor": "white",
           "linecolor": "white",
           "ticks": "",
           "title": {
            "standoff": 15
           },
           "zerolinecolor": "white",
           "zerolinewidth": 2
          }
         }
        }
       }
      }
     },
     "metadata": {}
    }
   ],
   "metadata": {}
  },
  {
   "cell_type": "code",
   "execution_count": 25,
   "source": [
    "sidebar='Confirmed'\r\n",
    "\r\n",
    "bubble_map = px.scatter_geo(covid_df[['Lat', 'Long', 'Country', sidebar]].dropna(),\r\n",
    "    lat='Lat',\r\n",
    "    lon='Long',\r\n",
    "    hover_name='Country', \r\n",
    "    size=sidebar, \r\n",
    "    # projection='robinson',\r\n",
    "    color=sidebar,\r\n",
    "    # size_max=50,\r\n",
    "    # color_continuous_scale = ['deepskyblue','red']\r\n",
    ")\r\n",
    "# bubble_map.update_geos(\r\n",
    "#     resolution=110,\r\n",
    "#     showcoastlines=True, coastlinecolor=\"RebeccaPurple\",\r\n",
    "#     showland=True, landcolor=\"LightGreen\",\r\n",
    "#     showocean=True, oceancolor=\"LightBlue\",\r\n",
    "#     showlakes=True, lakecolor=\"Blue\",\r\n",
    "#     showrivers=True, rivercolor=\"Blue\"\r\n",
    "# )\r\n",
    "# bubble_map.update_layout(\r\n",
    "#     height=350, \r\n",
    "#     margin={\"r\":15,\"t\":15,\"l\":15,\"b\":15}, \r\n",
    "#     paper_bgcolor='white'\r\n",
    "# )\r\n",
    "\r\n",
    "bubble_map.show()"
   ],
   "outputs": [
    {
     "output_type": "display_data",
     "data": {
      "application/vnd.plotly.v1+json": {
       "config": {
        "plotlyServerURL": "https://plot.ly"
       },
       "data": [
        {
         "geo": "geo",
         "hovertemplate": "<b>%{hovertext}</b><br><br>Confirmed=%{marker.color}<br>Lat=%{lat}<br>Long=%{lon}<extra></extra>",
         "hovertext": [
          "Afghanistan",
          "Albania",
          "Algeria",
          "Andorra",
          "Angola",
          "Antigua and Barbuda",
          "Argentina",
          "Armenia",
          "Australia",
          "Austria",
          "Azerbaijan",
          "Bahamas",
          "Bahrain",
          "Bangladesh",
          "Barbados",
          "Belarus",
          "Belgium",
          "Belize",
          "Benin",
          "Bhutan",
          "Bolivia",
          "Bosnia and Herzegovina",
          "Botswana",
          "Brazil",
          "Brunei",
          "Bulgaria",
          "Burkina Faso",
          "Burma",
          "Burundi",
          "Cabo Verde",
          "Cambodia",
          "Cameroon",
          "Canada",
          "Central African Republic",
          "Chad",
          "Chile",
          "China",
          "Colombia",
          "Comoros",
          "Congo (Brazzaville)",
          "Congo (Kinshasa)",
          "Costa Rica",
          "Cote d'Ivoire",
          "Croatia",
          "Cuba",
          "Cyprus",
          "Czechia",
          "Denmark",
          "Djibouti",
          "Dominica",
          "Dominican Republic",
          "Ecuador",
          "Egypt",
          "El Salvador",
          "Equatorial Guinea",
          "Eritrea",
          "Estonia",
          "Eswatini",
          "Ethiopia",
          "Fiji",
          "Finland",
          "France",
          "Gabon",
          "Gambia",
          "Georgia",
          "Germany",
          "Ghana",
          "Greece",
          "Grenada",
          "Guatemala",
          "Guinea",
          "Guinea-Bissau",
          "Guyana",
          "Haiti",
          "Holy See",
          "Honduras",
          "Hungary",
          "Iceland",
          "India",
          "Indonesia",
          "Iran",
          "Iraq",
          "Ireland",
          "Israel",
          "Italy",
          "Jamaica",
          "Japan",
          "Jordan",
          "Kazakhstan",
          "Kenya",
          "Kiribati",
          "Korea, South",
          "Kosovo",
          "Kuwait",
          "Kyrgyzstan",
          "Laos",
          "Latvia",
          "Lebanon",
          "Lesotho",
          "Liberia",
          "Libya",
          "Liechtenstein",
          "Lithuania",
          "Luxembourg",
          "Madagascar",
          "Malawi",
          "Malaysia",
          "Maldives",
          "Mali",
          "Malta",
          "Marshall Islands",
          "Mauritania",
          "Mauritius",
          "Mexico",
          "Micronesia",
          "Moldova",
          "Monaco",
          "Mongolia",
          "Montenegro",
          "Morocco",
          "Mozambique",
          "Namibia",
          "Nepal",
          "Netherlands",
          "New Zealand",
          "Nicaragua",
          "Niger",
          "Nigeria",
          "North Macedonia",
          "Norway",
          "Oman",
          "Pakistan",
          "Palau",
          "Panama",
          "Papua New Guinea",
          "Paraguay",
          "Peru",
          "Philippines",
          "Poland",
          "Portugal",
          "Qatar",
          "Romania",
          "Russia",
          "Rwanda",
          "Saint Kitts and Nevis",
          "Saint Lucia",
          "Saint Vincent and the Grenadines",
          "Samoa",
          "San Marino",
          "Sao Tome and Principe",
          "Saudi Arabia",
          "Senegal",
          "Serbia",
          "Seychelles",
          "Sierra Leone",
          "Singapore",
          "Slovakia",
          "Slovenia",
          "Solomon Islands",
          "Somalia",
          "South Africa",
          "South Sudan",
          "Spain",
          "Sri Lanka",
          "Sudan",
          "Summer Olympics 2020",
          "Suriname",
          "Sweden",
          "Switzerland",
          "Syria",
          "Taiwan*",
          "Tajikistan",
          "Tanzania",
          "Thailand",
          "Timor-Leste",
          "Togo",
          "Trinidad and Tobago",
          "Tunisia",
          "Turkey",
          "US",
          "Uganda",
          "Ukraine",
          "United Arab Emirates",
          "United Kingdom",
          "Uruguay",
          "Uzbekistan",
          "Vanuatu",
          "Venezuela",
          "Vietnam",
          "West Bank and Gaza",
          "Yemen",
          "Zambia",
          "Zimbabwe"
         ],
         "lat": [
          33.93911,
          41.1533,
          28.0339,
          42.5063,
          -11.2027,
          17.0608,
          -38.4161,
          40.0691,
          -25,
          47.5162,
          40.1431,
          25.025885,
          26.0275,
          23.685,
          13.1939,
          53.7098,
          50.8333,
          17.1899,
          9.3077,
          27.5142,
          -16.2902,
          43.9159,
          -22.3285,
          -14.235,
          4.5353,
          42.7339,
          12.2383,
          21.9162,
          -3.3731,
          16.5388,
          11.55,
          3.8480000000000003,
          60.00100000000001,
          6.6111,
          15.4542,
          -35.6751,
          30.5928,
          4.5709,
          -11.6455,
          -0.228,
          -4.0383,
          9.7489,
          7.54,
          45.1,
          21.521757,
          35.1264,
          49.8175,
          56.2639,
          11.8251,
          15.415,
          18.7357,
          -1.8312,
          26.820553000000004,
          13.7942,
          1.6508,
          15.1794,
          58.5953,
          -26.5225,
          9.145,
          -17.7134,
          61.9241,
          46.2276,
          -0.8037,
          13.4432,
          42.3154,
          51.165690999999995,
          7.9465,
          39.0742,
          12.1165,
          15.7835,
          9.9456,
          11.8037,
          4.860416000000002,
          18.9712,
          41.9029,
          15.2,
          47.1625,
          64.9631,
          20.593684,
          -0.7893,
          32.427908,
          33.223191,
          53.1424,
          31.046051000000002,
          41.8719,
          18.1096,
          36.204824,
          31.24,
          48.0196,
          -0.0236,
          -3.3704,
          35.90775700000001,
          42.602636,
          29.311659999999996,
          41.20438,
          19.856270000000002,
          56.8796,
          33.8547,
          -29.61,
          6.4280550000000005,
          26.3351,
          47.14,
          55.1694,
          49.8153,
          -18.766947000000002,
          -13.2543,
          4.210483999999999,
          3.2028,
          17.570692,
          35.9375,
          7.1315,
          21.0079,
          -20.348404000000002,
          23.6345,
          7.4256,
          47.4116,
          43.7333,
          46.8625,
          42.708678000000006,
          31.7917,
          -18.665695,
          -22.9576,
          28.1667,
          52.3167,
          -40.9006,
          12.865416,
          17.607789,
          9.082,
          41.6086,
          60.472,
          21.512583,
          30.3753,
          7.515,
          8.538,
          -6.314993,
          -23.4425,
          -9.19,
          12.879721,
          51.9194,
          39.3999,
          25.3548,
          45.9432,
          61.523999999999994,
          -1.9403,
          17.357822,
          13.9094,
          12.9843,
          -13.759,
          43.9424,
          0.1864,
          23.885942,
          14.4974,
          44.0165,
          -4.6796,
          8.460555000000001,
          1.2833,
          48.669,
          46.1512,
          -9.6457,
          5.152149,
          -30.5595,
          6.8770000000000024,
          40.463667,
          7.873054,
          12.8628,
          35.6491,
          3.9193,
          60.1282,
          46.8182,
          34.802075,
          23.7,
          38.861,
          -6.369028,
          15.870032,
          -8.874217,
          8.6195,
          10.6918,
          33.886917,
          38.9637,
          40,
          1.373333,
          48.3794,
          23.424076,
          55,
          -32.5228,
          41.377491,
          -15.3767,
          6.4238,
          14.058323999999999,
          31.9522,
          15.552726999999999,
          -13.133897,
          -19.015438
         ],
         "legendgroup": "",
         "lon": [
          67.709953,
          20.1683,
          1.6596,
          1.5218,
          17.8739,
          -61.7964,
          -63.6167,
          45.0382,
          133,
          14.5501,
          47.5769,
          -78.035889,
          50.55,
          90.3563,
          -59.5432,
          27.9534,
          4.469936,
          -88.4976,
          2.3158,
          90.4336,
          -63.5887,
          17.6791,
          24.6849,
          -51.9253,
          114.7277,
          25.4858,
          -1.5616,
          95.956,
          29.9189,
          -23.0418,
          104.9167,
          11.5021,
          -95.001,
          20.9394,
          18.7322,
          -71.543,
          114.3055,
          -74.2973,
          43.3333,
          15.8277,
          21.7587,
          -83.7534,
          -5.5471,
          15.2,
          -77.78116700000002,
          33.4299,
          15.472999999999999,
          9.5018,
          42.5903,
          -61.371,
          -70.1627,
          -78.1834,
          30.802497999999996,
          -88.8965,
          10.2679,
          39.7823,
          25.0136,
          31.4659,
          40.4897,
          178.065,
          25.7482,
          2.2137,
          11.6094,
          -15.3101,
          43.3569,
          10.451526,
          -1.0232,
          21.8243,
          -61.678999999999995,
          -90.2308,
          -9.6966,
          -15.1804,
          -58.93018000000001,
          -72.2852,
          12.4534,
          -86.2419,
          19.5033,
          -19.0208,
          78.96288,
          113.9213,
          53.68804599999999,
          43.679291,
          -7.6921,
          34.851612,
          12.5674,
          -77.2975,
          138.252924,
          36.51,
          66.9237,
          37.9062,
          -168.734,
          127.766922,
          20.902977,
          47.481766,
          74.766098,
          102.495496,
          24.6032,
          35.8623,
          28.2336,
          -9.429499,
          17.228331,
          9.55,
          23.8813,
          6.1296,
          46.869107,
          34.3015,
          101.975766,
          73.2207,
          -3.996166000000001,
          14.3754,
          171.1845,
          -10.9408,
          57.552152,
          -102.5528,
          150.5508,
          28.3699,
          7.4167,
          103.8467,
          19.37439,
          -7.0926,
          35.529562,
          18.4904,
          84.25,
          5.55,
          174.886,
          -85.207229,
          8.081666,
          8.6753,
          21.7453,
          8.4689,
          55.92325500000001,
          69.3451,
          134.5825,
          -80.7821,
          143.95555,
          -58.4438,
          -75.0152,
          121.77401699999999,
          19.1451,
          -8.2245,
          51.1839,
          24.9668,
          105.3188,
          29.8739,
          -62.782998,
          -60.9789,
          -61.2872,
          -172.1046,
          12.4578,
          6.6131,
          45.079162,
          -14.4524,
          21.0059,
          55.492,
          -11.779889,
          103.8333,
          19.699,
          14.9955,
          160.1562,
          46.199616,
          22.9375,
          31.307,
          -3.7492199999999998,
          80.77179699999998,
          30.2176,
          139.7737,
          -56.0278,
          18.6435,
          8.2275,
          38.99681500000001,
          121,
          71.2761,
          34.888822,
          100.992541,
          125.727539,
          0.8248,
          -61.2225,
          9.537499,
          35.2433,
          -100,
          32.290275,
          31.1656,
          53.847818000000004,
          -3,
          -55.7658,
          64.585262,
          166.9592,
          -66.5897,
          108.277199,
          35.2332,
          48.516388,
          27.849332,
          29.154857
         ],
         "marker": {
          "color": [
           155093,
           168188,
           202877,
           15189,
           55583,
           2923,
           5251940,
           259779,
           100912,
           738763,
           481401,
           20775,
           274877,
           1553873,
           7764,
           534104,
           1238358,
           19945,
           22958,
           2600,
           499202,
           233121,
           178050,
           21366395,
           6813,
           495397,
           14199,
           461066,
           17505,
           37472,
           110792,
           85414,
           1620765,
           11371,
           5034,
           1652795,
           108360,
           4952690,
           4128,
           14244,
           56862,
           525999,
           59977,
           401169,
           866808,
           118181,
           1690288,
           359532,
           12253,
           3293,
           357517,
           508655,
           302327,
           104348,
           11806,
           6694,
           154722,
           45812,
           342305,
           50872,
           140087,
           7087717,
           29515,
           9930,
           609340,
           4211406,
           127016,
           651378,
           5005,
           550333,
           30364,
           6099,
           31236,
           21647,
           27,
           364605,
           821526,
           11760,
           33697581,
           4211460,
           5559691,
           1998615,
           385721,
           1270230,
           4665049,
           83342,
           1698693,
           820798,
           956025,
           248515,
           2,
           305842,
           159961,
           411533,
           178375,
           22441,
           155880,
           622440,
           14395,
           5794,
           337890,
           3445,
           327896,
           77998,
           42898,
           61517,
           2209194,
           84484,
           15165,
           37119,
           4,
           35889,
           15391,
           3635807,
           1,
           290043,
           3303,
           298919,
           130500,
           930891,
           150540,
           127373,
           793271,
           2037687,
           4205,
           13730,
           5990,
           204752,
           189999,
           187941,
           303705,
           1241825,
           5,
           466357,
           19523,
           459855,
           2173354,
           2509177,
           2904631,
           1067775,
           236482,
           1210810,
           7355883,
           96982,
           1872,
           11231,
           3359,
           3,
           5436,
           3349,
           547035,
           73757,
           926269,
           21374,
           6393,
           89539,
           409621,
           290994,
           20,
           19980,
           2897521,
           11954,
           4951640,
           514592,
           38217,
           865,
           40476,
           1151173,
           837769,
           33323,
           16205,
           17484,
           1367,
           1581415,
           19445,
           25252,
           50055,
           705474,
           7066658,
           43139578,
           123245,
           2510781,
           735457,
           7772476,
           388572,
           172899,
           4,
           364758,
           770640,
           398946,
           8988,
           208912,
           129919
          ],
          "coloraxis": "coloraxis",
          "size": [
           155093,
           168188,
           202877,
           15189,
           55583,
           2923,
           5251940,
           259779,
           100912,
           738763,
           481401,
           20775,
           274877,
           1553873,
           7764,
           534104,
           1238358,
           19945,
           22958,
           2600,
           499202,
           233121,
           178050,
           21366395,
           6813,
           495397,
           14199,
           461066,
           17505,
           37472,
           110792,
           85414,
           1620765,
           11371,
           5034,
           1652795,
           108360,
           4952690,
           4128,
           14244,
           56862,
           525999,
           59977,
           401169,
           866808,
           118181,
           1690288,
           359532,
           12253,
           3293,
           357517,
           508655,
           302327,
           104348,
           11806,
           6694,
           154722,
           45812,
           342305,
           50872,
           140087,
           7087717,
           29515,
           9930,
           609340,
           4211406,
           127016,
           651378,
           5005,
           550333,
           30364,
           6099,
           31236,
           21647,
           27,
           364605,
           821526,
           11760,
           33697581,
           4211460,
           5559691,
           1998615,
           385721,
           1270230,
           4665049,
           83342,
           1698693,
           820798,
           956025,
           248515,
           2,
           305842,
           159961,
           411533,
           178375,
           22441,
           155880,
           622440,
           14395,
           5794,
           337890,
           3445,
           327896,
           77998,
           42898,
           61517,
           2209194,
           84484,
           15165,
           37119,
           4,
           35889,
           15391,
           3635807,
           1,
           290043,
           3303,
           298919,
           130500,
           930891,
           150540,
           127373,
           793271,
           2037687,
           4205,
           13730,
           5990,
           204752,
           189999,
           187941,
           303705,
           1241825,
           5,
           466357,
           19523,
           459855,
           2173354,
           2509177,
           2904631,
           1067775,
           236482,
           1210810,
           7355883,
           96982,
           1872,
           11231,
           3359,
           3,
           5436,
           3349,
           547035,
           73757,
           926269,
           21374,
           6393,
           89539,
           409621,
           290994,
           20,
           19980,
           2897521,
           11954,
           4951640,
           514592,
           38217,
           865,
           40476,
           1151173,
           837769,
           33323,
           16205,
           17484,
           1367,
           1581415,
           19445,
           25252,
           50055,
           705474,
           7066658,
           43139578,
           123245,
           2510781,
           735457,
           7772476,
           388572,
           172899,
           4,
           364758,
           770640,
           398946,
           8988,
           208912,
           129919
          ],
          "sizemode": "area",
          "sizeref": 107848.945,
          "symbol": "circle"
         },
         "mode": "markers",
         "name": "",
         "showlegend": false,
         "type": "scattergeo"
        }
       ],
       "layout": {
        "coloraxis": {
         "colorbar": {
          "title": {
           "text": "Confirmed"
          }
         },
         "colorscale": [
          [
           0,
           "#0d0887"
          ],
          [
           0.1111111111111111,
           "#46039f"
          ],
          [
           0.2222222222222222,
           "#7201a8"
          ],
          [
           0.3333333333333333,
           "#9c179e"
          ],
          [
           0.4444444444444444,
           "#bd3786"
          ],
          [
           0.5555555555555556,
           "#d8576b"
          ],
          [
           0.6666666666666666,
           "#ed7953"
          ],
          [
           0.7777777777777778,
           "#fb9f3a"
          ],
          [
           0.8888888888888888,
           "#fdca26"
          ],
          [
           1,
           "#f0f921"
          ]
         ]
        },
        "geo": {
         "center": {},
         "domain": {
          "x": [
           0,
           1
          ],
          "y": [
           0,
           1
          ]
         }
        },
        "legend": {
         "itemsizing": "constant",
         "tracegroupgap": 0
        },
        "margin": {
         "t": 60
        },
        "template": {
         "data": {
          "bar": [
           {
            "error_x": {
             "color": "#2a3f5f"
            },
            "error_y": {
             "color": "#2a3f5f"
            },
            "marker": {
             "line": {
              "color": "#E5ECF6",
              "width": 0.5
             }
            },
            "type": "bar"
           }
          ],
          "barpolar": [
           {
            "marker": {
             "line": {
              "color": "#E5ECF6",
              "width": 0.5
             }
            },
            "type": "barpolar"
           }
          ],
          "carpet": [
           {
            "aaxis": {
             "endlinecolor": "#2a3f5f",
             "gridcolor": "white",
             "linecolor": "white",
             "minorgridcolor": "white",
             "startlinecolor": "#2a3f5f"
            },
            "baxis": {
             "endlinecolor": "#2a3f5f",
             "gridcolor": "white",
             "linecolor": "white",
             "minorgridcolor": "white",
             "startlinecolor": "#2a3f5f"
            },
            "type": "carpet"
           }
          ],
          "choropleth": [
           {
            "colorbar": {
             "outlinewidth": 0,
             "ticks": ""
            },
            "type": "choropleth"
           }
          ],
          "contour": [
           {
            "colorbar": {
             "outlinewidth": 0,
             "ticks": ""
            },
            "colorscale": [
             [
              0,
              "#0d0887"
             ],
             [
              0.1111111111111111,
              "#46039f"
             ],
             [
              0.2222222222222222,
              "#7201a8"
             ],
             [
              0.3333333333333333,
              "#9c179e"
             ],
             [
              0.4444444444444444,
              "#bd3786"
             ],
             [
              0.5555555555555556,
              "#d8576b"
             ],
             [
              0.6666666666666666,
              "#ed7953"
             ],
             [
              0.7777777777777778,
              "#fb9f3a"
             ],
             [
              0.8888888888888888,
              "#fdca26"
             ],
             [
              1,
              "#f0f921"
             ]
            ],
            "type": "contour"
           }
          ],
          "contourcarpet": [
           {
            "colorbar": {
             "outlinewidth": 0,
             "ticks": ""
            },
            "type": "contourcarpet"
           }
          ],
          "heatmap": [
           {
            "colorbar": {
             "outlinewidth": 0,
             "ticks": ""
            },
            "colorscale": [
             [
              0,
              "#0d0887"
             ],
             [
              0.1111111111111111,
              "#46039f"
             ],
             [
              0.2222222222222222,
              "#7201a8"
             ],
             [
              0.3333333333333333,
              "#9c179e"
             ],
             [
              0.4444444444444444,
              "#bd3786"
             ],
             [
              0.5555555555555556,
              "#d8576b"
             ],
             [
              0.6666666666666666,
              "#ed7953"
             ],
             [
              0.7777777777777778,
              "#fb9f3a"
             ],
             [
              0.8888888888888888,
              "#fdca26"
             ],
             [
              1,
              "#f0f921"
             ]
            ],
            "type": "heatmap"
           }
          ],
          "heatmapgl": [
           {
            "colorbar": {
             "outlinewidth": 0,
             "ticks": ""
            },
            "colorscale": [
             [
              0,
              "#0d0887"
             ],
             [
              0.1111111111111111,
              "#46039f"
             ],
             [
              0.2222222222222222,
              "#7201a8"
             ],
             [
              0.3333333333333333,
              "#9c179e"
             ],
             [
              0.4444444444444444,
              "#bd3786"
             ],
             [
              0.5555555555555556,
              "#d8576b"
             ],
             [
              0.6666666666666666,
              "#ed7953"
             ],
             [
              0.7777777777777778,
              "#fb9f3a"
             ],
             [
              0.8888888888888888,
              "#fdca26"
             ],
             [
              1,
              "#f0f921"
             ]
            ],
            "type": "heatmapgl"
           }
          ],
          "histogram": [
           {
            "marker": {
             "colorbar": {
              "outlinewidth": 0,
              "ticks": ""
             }
            },
            "type": "histogram"
           }
          ],
          "histogram2d": [
           {
            "colorbar": {
             "outlinewidth": 0,
             "ticks": ""
            },
            "colorscale": [
             [
              0,
              "#0d0887"
             ],
             [
              0.1111111111111111,
              "#46039f"
             ],
             [
              0.2222222222222222,
              "#7201a8"
             ],
             [
              0.3333333333333333,
              "#9c179e"
             ],
             [
              0.4444444444444444,
              "#bd3786"
             ],
             [
              0.5555555555555556,
              "#d8576b"
             ],
             [
              0.6666666666666666,
              "#ed7953"
             ],
             [
              0.7777777777777778,
              "#fb9f3a"
             ],
             [
              0.8888888888888888,
              "#fdca26"
             ],
             [
              1,
              "#f0f921"
             ]
            ],
            "type": "histogram2d"
           }
          ],
          "histogram2dcontour": [
           {
            "colorbar": {
             "outlinewidth": 0,
             "ticks": ""
            },
            "colorscale": [
             [
              0,
              "#0d0887"
             ],
             [
              0.1111111111111111,
              "#46039f"
             ],
             [
              0.2222222222222222,
              "#7201a8"
             ],
             [
              0.3333333333333333,
              "#9c179e"
             ],
             [
              0.4444444444444444,
              "#bd3786"
             ],
             [
              0.5555555555555556,
              "#d8576b"
             ],
             [
              0.6666666666666666,
              "#ed7953"
             ],
             [
              0.7777777777777778,
              "#fb9f3a"
             ],
             [
              0.8888888888888888,
              "#fdca26"
             ],
             [
              1,
              "#f0f921"
             ]
            ],
            "type": "histogram2dcontour"
           }
          ],
          "mesh3d": [
           {
            "colorbar": {
             "outlinewidth": 0,
             "ticks": ""
            },
            "type": "mesh3d"
           }
          ],
          "parcoords": [
           {
            "line": {
             "colorbar": {
              "outlinewidth": 0,
              "ticks": ""
             }
            },
            "type": "parcoords"
           }
          ],
          "pie": [
           {
            "automargin": true,
            "type": "pie"
           }
          ],
          "scatter": [
           {
            "marker": {
             "colorbar": {
              "outlinewidth": 0,
              "ticks": ""
             }
            },
            "type": "scatter"
           }
          ],
          "scatter3d": [
           {
            "line": {
             "colorbar": {
              "outlinewidth": 0,
              "ticks": ""
             }
            },
            "marker": {
             "colorbar": {
              "outlinewidth": 0,
              "ticks": ""
             }
            },
            "type": "scatter3d"
           }
          ],
          "scattercarpet": [
           {
            "marker": {
             "colorbar": {
              "outlinewidth": 0,
              "ticks": ""
             }
            },
            "type": "scattercarpet"
           }
          ],
          "scattergeo": [
           {
            "marker": {
             "colorbar": {
              "outlinewidth": 0,
              "ticks": ""
             }
            },
            "type": "scattergeo"
           }
          ],
          "scattergl": [
           {
            "marker": {
             "colorbar": {
              "outlinewidth": 0,
              "ticks": ""
             }
            },
            "type": "scattergl"
           }
          ],
          "scattermapbox": [
           {
            "marker": {
             "colorbar": {
              "outlinewidth": 0,
              "ticks": ""
             }
            },
            "type": "scattermapbox"
           }
          ],
          "scatterpolar": [
           {
            "marker": {
             "colorbar": {
              "outlinewidth": 0,
              "ticks": ""
             }
            },
            "type": "scatterpolar"
           }
          ],
          "scatterpolargl": [
           {
            "marker": {
             "colorbar": {
              "outlinewidth": 0,
              "ticks": ""
             }
            },
            "type": "scatterpolargl"
           }
          ],
          "scatterternary": [
           {
            "marker": {
             "colorbar": {
              "outlinewidth": 0,
              "ticks": ""
             }
            },
            "type": "scatterternary"
           }
          ],
          "surface": [
           {
            "colorbar": {
             "outlinewidth": 0,
             "ticks": ""
            },
            "colorscale": [
             [
              0,
              "#0d0887"
             ],
             [
              0.1111111111111111,
              "#46039f"
             ],
             [
              0.2222222222222222,
              "#7201a8"
             ],
             [
              0.3333333333333333,
              "#9c179e"
             ],
             [
              0.4444444444444444,
              "#bd3786"
             ],
             [
              0.5555555555555556,
              "#d8576b"
             ],
             [
              0.6666666666666666,
              "#ed7953"
             ],
             [
              0.7777777777777778,
              "#fb9f3a"
             ],
             [
              0.8888888888888888,
              "#fdca26"
             ],
             [
              1,
              "#f0f921"
             ]
            ],
            "type": "surface"
           }
          ],
          "table": [
           {
            "cells": {
             "fill": {
              "color": "#EBF0F8"
             },
             "line": {
              "color": "white"
             }
            },
            "header": {
             "fill": {
              "color": "#C8D4E3"
             },
             "line": {
              "color": "white"
             }
            },
            "type": "table"
           }
          ]
         },
         "layout": {
          "annotationdefaults": {
           "arrowcolor": "#2a3f5f",
           "arrowhead": 0,
           "arrowwidth": 1
          },
          "autotypenumbers": "strict",
          "coloraxis": {
           "colorbar": {
            "outlinewidth": 0,
            "ticks": ""
           }
          },
          "colorscale": {
           "diverging": [
            [
             0,
             "#8e0152"
            ],
            [
             0.1,
             "#c51b7d"
            ],
            [
             0.2,
             "#de77ae"
            ],
            [
             0.3,
             "#f1b6da"
            ],
            [
             0.4,
             "#fde0ef"
            ],
            [
             0.5,
             "#f7f7f7"
            ],
            [
             0.6,
             "#e6f5d0"
            ],
            [
             0.7,
             "#b8e186"
            ],
            [
             0.8,
             "#7fbc41"
            ],
            [
             0.9,
             "#4d9221"
            ],
            [
             1,
             "#276419"
            ]
           ],
           "sequential": [
            [
             0,
             "#0d0887"
            ],
            [
             0.1111111111111111,
             "#46039f"
            ],
            [
             0.2222222222222222,
             "#7201a8"
            ],
            [
             0.3333333333333333,
             "#9c179e"
            ],
            [
             0.4444444444444444,
             "#bd3786"
            ],
            [
             0.5555555555555556,
             "#d8576b"
            ],
            [
             0.6666666666666666,
             "#ed7953"
            ],
            [
             0.7777777777777778,
             "#fb9f3a"
            ],
            [
             0.8888888888888888,
             "#fdca26"
            ],
            [
             1,
             "#f0f921"
            ]
           ],
           "sequentialminus": [
            [
             0,
             "#0d0887"
            ],
            [
             0.1111111111111111,
             "#46039f"
            ],
            [
             0.2222222222222222,
             "#7201a8"
            ],
            [
             0.3333333333333333,
             "#9c179e"
            ],
            [
             0.4444444444444444,
             "#bd3786"
            ],
            [
             0.5555555555555556,
             "#d8576b"
            ],
            [
             0.6666666666666666,
             "#ed7953"
            ],
            [
             0.7777777777777778,
             "#fb9f3a"
            ],
            [
             0.8888888888888888,
             "#fdca26"
            ],
            [
             1,
             "#f0f921"
            ]
           ]
          },
          "colorway": [
           "#636efa",
           "#EF553B",
           "#00cc96",
           "#ab63fa",
           "#FFA15A",
           "#19d3f3",
           "#FF6692",
           "#B6E880",
           "#FF97FF",
           "#FECB52"
          ],
          "font": {
           "color": "#2a3f5f"
          },
          "geo": {
           "bgcolor": "white",
           "lakecolor": "white",
           "landcolor": "#E5ECF6",
           "showlakes": true,
           "showland": true,
           "subunitcolor": "white"
          },
          "hoverlabel": {
           "align": "left"
          },
          "hovermode": "closest",
          "mapbox": {
           "style": "light"
          },
          "paper_bgcolor": "white",
          "plot_bgcolor": "#E5ECF6",
          "polar": {
           "angularaxis": {
            "gridcolor": "white",
            "linecolor": "white",
            "ticks": ""
           },
           "bgcolor": "#E5ECF6",
           "radialaxis": {
            "gridcolor": "white",
            "linecolor": "white",
            "ticks": ""
           }
          },
          "scene": {
           "xaxis": {
            "backgroundcolor": "#E5ECF6",
            "gridcolor": "white",
            "gridwidth": 2,
            "linecolor": "white",
            "showbackground": true,
            "ticks": "",
            "zerolinecolor": "white"
           },
           "yaxis": {
            "backgroundcolor": "#E5ECF6",
            "gridcolor": "white",
            "gridwidth": 2,
            "linecolor": "white",
            "showbackground": true,
            "ticks": "",
            "zerolinecolor": "white"
           },
           "zaxis": {
            "backgroundcolor": "#E5ECF6",
            "gridcolor": "white",
            "gridwidth": 2,
            "linecolor": "white",
            "showbackground": true,
            "ticks": "",
            "zerolinecolor": "white"
           }
          },
          "shapedefaults": {
           "line": {
            "color": "#2a3f5f"
           }
          },
          "ternary": {
           "aaxis": {
            "gridcolor": "white",
            "linecolor": "white",
            "ticks": ""
           },
           "baxis": {
            "gridcolor": "white",
            "linecolor": "white",
            "ticks": ""
           },
           "bgcolor": "#E5ECF6",
           "caxis": {
            "gridcolor": "white",
            "linecolor": "white",
            "ticks": ""
           }
          },
          "title": {
           "x": 0.05
          },
          "xaxis": {
           "automargin": true,
           "gridcolor": "white",
           "linecolor": "white",
           "ticks": "",
           "title": {
            "standoff": 15
           },
           "zerolinecolor": "white",
           "zerolinewidth": 2
          },
          "yaxis": {
           "automargin": true,
           "gridcolor": "white",
           "linecolor": "white",
           "ticks": "",
           "title": {
            "standoff": 15
           },
           "zerolinecolor": "white",
           "zerolinewidth": 2
          }
         }
        }
       }
      }
     },
     "metadata": {}
    }
   ],
   "metadata": {}
  },
  {
   "cell_type": "code",
   "execution_count": 11,
   "source": [
    "threshold = 10\r\n",
    "bar = px.bar(covid_df[['Country', sidebar]].dropna().sort_values(sidebar, ascending=False)[:threshold], \r\n",
    "    y=sidebar,\r\n",
    "    x='Country', \r\n",
    "    color=sidebar,\r\n",
    "    color_continuous_scale=px.colors.sequential.Viridis\r\n",
    ")\r\n",
    "bar.update_layout(\r\n",
    "    height=400, \r\n",
    "    margin={\"r\":15,\"t\":15,\"l\":15,\"b\":15},\r\n",
    "    paper_bgcolor='white'\r\n",
    ")\r\n",
    "bar.show()"
   ],
   "outputs": [
    {
     "output_type": "display_data",
     "data": {
      "application/vnd.plotly.v1+json": {
       "config": {
        "plotlyServerURL": "https://plot.ly"
       },
       "data": [
        {
         "alignmentgroup": "True",
         "hovertemplate": "Country=%{x}<br>Confirmed=%{marker.color}<extra></extra>",
         "legendgroup": "",
         "marker": {
          "color": [
           43139578,
           33697581,
           21366395,
           7772476,
           7355883,
           7087717,
           7066658,
           5559691,
           5251940,
           4952690
          ],
          "coloraxis": "coloraxis"
         },
         "name": "",
         "offsetgroup": "",
         "orientation": "v",
         "showlegend": false,
         "textposition": "auto",
         "type": "bar",
         "x": [
          "US",
          "India",
          "Brazil",
          "United Kingdom",
          "Russia",
          "France",
          "Turkey",
          "Iran",
          "Argentina",
          "Colombia"
         ],
         "xaxis": "x",
         "y": [
          43139578,
          33697581,
          21366395,
          7772476,
          7355883,
          7087717,
          7066658,
          5559691,
          5251940,
          4952690
         ],
         "yaxis": "y"
        }
       ],
       "layout": {
        "barmode": "relative",
        "coloraxis": {
         "colorbar": {
          "title": {
           "text": "Confirmed"
          }
         },
         "colorscale": [
          [
           0,
           "#440154"
          ],
          [
           0.1111111111111111,
           "#482878"
          ],
          [
           0.2222222222222222,
           "#3e4989"
          ],
          [
           0.3333333333333333,
           "#31688e"
          ],
          [
           0.4444444444444444,
           "#26828e"
          ],
          [
           0.5555555555555556,
           "#1f9e89"
          ],
          [
           0.6666666666666666,
           "#35b779"
          ],
          [
           0.7777777777777778,
           "#6ece58"
          ],
          [
           0.8888888888888888,
           "#b5de2b"
          ],
          [
           1,
           "#fde725"
          ]
         ]
        },
        "height": 400,
        "legend": {
         "tracegroupgap": 0
        },
        "margin": {
         "b": 15,
         "l": 15,
         "r": 15,
         "t": 15
        },
        "paper_bgcolor": "white",
        "template": {
         "data": {
          "bar": [
           {
            "error_x": {
             "color": "#2a3f5f"
            },
            "error_y": {
             "color": "#2a3f5f"
            },
            "marker": {
             "line": {
              "color": "#E5ECF6",
              "width": 0.5
             }
            },
            "type": "bar"
           }
          ],
          "barpolar": [
           {
            "marker": {
             "line": {
              "color": "#E5ECF6",
              "width": 0.5
             }
            },
            "type": "barpolar"
           }
          ],
          "carpet": [
           {
            "aaxis": {
             "endlinecolor": "#2a3f5f",
             "gridcolor": "white",
             "linecolor": "white",
             "minorgridcolor": "white",
             "startlinecolor": "#2a3f5f"
            },
            "baxis": {
             "endlinecolor": "#2a3f5f",
             "gridcolor": "white",
             "linecolor": "white",
             "minorgridcolor": "white",
             "startlinecolor": "#2a3f5f"
            },
            "type": "carpet"
           }
          ],
          "choropleth": [
           {
            "colorbar": {
             "outlinewidth": 0,
             "ticks": ""
            },
            "type": "choropleth"
           }
          ],
          "contour": [
           {
            "colorbar": {
             "outlinewidth": 0,
             "ticks": ""
            },
            "colorscale": [
             [
              0,
              "#0d0887"
             ],
             [
              0.1111111111111111,
              "#46039f"
             ],
             [
              0.2222222222222222,
              "#7201a8"
             ],
             [
              0.3333333333333333,
              "#9c179e"
             ],
             [
              0.4444444444444444,
              "#bd3786"
             ],
             [
              0.5555555555555556,
              "#d8576b"
             ],
             [
              0.6666666666666666,
              "#ed7953"
             ],
             [
              0.7777777777777778,
              "#fb9f3a"
             ],
             [
              0.8888888888888888,
              "#fdca26"
             ],
             [
              1,
              "#f0f921"
             ]
            ],
            "type": "contour"
           }
          ],
          "contourcarpet": [
           {
            "colorbar": {
             "outlinewidth": 0,
             "ticks": ""
            },
            "type": "contourcarpet"
           }
          ],
          "heatmap": [
           {
            "colorbar": {
             "outlinewidth": 0,
             "ticks": ""
            },
            "colorscale": [
             [
              0,
              "#0d0887"
             ],
             [
              0.1111111111111111,
              "#46039f"
             ],
             [
              0.2222222222222222,
              "#7201a8"
             ],
             [
              0.3333333333333333,
              "#9c179e"
             ],
             [
              0.4444444444444444,
              "#bd3786"
             ],
             [
              0.5555555555555556,
              "#d8576b"
             ],
             [
              0.6666666666666666,
              "#ed7953"
             ],
             [
              0.7777777777777778,
              "#fb9f3a"
             ],
             [
              0.8888888888888888,
              "#fdca26"
             ],
             [
              1,
              "#f0f921"
             ]
            ],
            "type": "heatmap"
           }
          ],
          "heatmapgl": [
           {
            "colorbar": {
             "outlinewidth": 0,
             "ticks": ""
            },
            "colorscale": [
             [
              0,
              "#0d0887"
             ],
             [
              0.1111111111111111,
              "#46039f"
             ],
             [
              0.2222222222222222,
              "#7201a8"
             ],
             [
              0.3333333333333333,
              "#9c179e"
             ],
             [
              0.4444444444444444,
              "#bd3786"
             ],
             [
              0.5555555555555556,
              "#d8576b"
             ],
             [
              0.6666666666666666,
              "#ed7953"
             ],
             [
              0.7777777777777778,
              "#fb9f3a"
             ],
             [
              0.8888888888888888,
              "#fdca26"
             ],
             [
              1,
              "#f0f921"
             ]
            ],
            "type": "heatmapgl"
           }
          ],
          "histogram": [
           {
            "marker": {
             "colorbar": {
              "outlinewidth": 0,
              "ticks": ""
             }
            },
            "type": "histogram"
           }
          ],
          "histogram2d": [
           {
            "colorbar": {
             "outlinewidth": 0,
             "ticks": ""
            },
            "colorscale": [
             [
              0,
              "#0d0887"
             ],
             [
              0.1111111111111111,
              "#46039f"
             ],
             [
              0.2222222222222222,
              "#7201a8"
             ],
             [
              0.3333333333333333,
              "#9c179e"
             ],
             [
              0.4444444444444444,
              "#bd3786"
             ],
             [
              0.5555555555555556,
              "#d8576b"
             ],
             [
              0.6666666666666666,
              "#ed7953"
             ],
             [
              0.7777777777777778,
              "#fb9f3a"
             ],
             [
              0.8888888888888888,
              "#fdca26"
             ],
             [
              1,
              "#f0f921"
             ]
            ],
            "type": "histogram2d"
           }
          ],
          "histogram2dcontour": [
           {
            "colorbar": {
             "outlinewidth": 0,
             "ticks": ""
            },
            "colorscale": [
             [
              0,
              "#0d0887"
             ],
             [
              0.1111111111111111,
              "#46039f"
             ],
             [
              0.2222222222222222,
              "#7201a8"
             ],
             [
              0.3333333333333333,
              "#9c179e"
             ],
             [
              0.4444444444444444,
              "#bd3786"
             ],
             [
              0.5555555555555556,
              "#d8576b"
             ],
             [
              0.6666666666666666,
              "#ed7953"
             ],
             [
              0.7777777777777778,
              "#fb9f3a"
             ],
             [
              0.8888888888888888,
              "#fdca26"
             ],
             [
              1,
              "#f0f921"
             ]
            ],
            "type": "histogram2dcontour"
           }
          ],
          "mesh3d": [
           {
            "colorbar": {
             "outlinewidth": 0,
             "ticks": ""
            },
            "type": "mesh3d"
           }
          ],
          "parcoords": [
           {
            "line": {
             "colorbar": {
              "outlinewidth": 0,
              "ticks": ""
             }
            },
            "type": "parcoords"
           }
          ],
          "pie": [
           {
            "automargin": true,
            "type": "pie"
           }
          ],
          "scatter": [
           {
            "marker": {
             "colorbar": {
              "outlinewidth": 0,
              "ticks": ""
             }
            },
            "type": "scatter"
           }
          ],
          "scatter3d": [
           {
            "line": {
             "colorbar": {
              "outlinewidth": 0,
              "ticks": ""
             }
            },
            "marker": {
             "colorbar": {
              "outlinewidth": 0,
              "ticks": ""
             }
            },
            "type": "scatter3d"
           }
          ],
          "scattercarpet": [
           {
            "marker": {
             "colorbar": {
              "outlinewidth": 0,
              "ticks": ""
             }
            },
            "type": "scattercarpet"
           }
          ],
          "scattergeo": [
           {
            "marker": {
             "colorbar": {
              "outlinewidth": 0,
              "ticks": ""
             }
            },
            "type": "scattergeo"
           }
          ],
          "scattergl": [
           {
            "marker": {
             "colorbar": {
              "outlinewidth": 0,
              "ticks": ""
             }
            },
            "type": "scattergl"
           }
          ],
          "scattermapbox": [
           {
            "marker": {
             "colorbar": {
              "outlinewidth": 0,
              "ticks": ""
             }
            },
            "type": "scattermapbox"
           }
          ],
          "scatterpolar": [
           {
            "marker": {
             "colorbar": {
              "outlinewidth": 0,
              "ticks": ""
             }
            },
            "type": "scatterpolar"
           }
          ],
          "scatterpolargl": [
           {
            "marker": {
             "colorbar": {
              "outlinewidth": 0,
              "ticks": ""
             }
            },
            "type": "scatterpolargl"
           }
          ],
          "scatterternary": [
           {
            "marker": {
             "colorbar": {
              "outlinewidth": 0,
              "ticks": ""
             }
            },
            "type": "scatterternary"
           }
          ],
          "surface": [
           {
            "colorbar": {
             "outlinewidth": 0,
             "ticks": ""
            },
            "colorscale": [
             [
              0,
              "#0d0887"
             ],
             [
              0.1111111111111111,
              "#46039f"
             ],
             [
              0.2222222222222222,
              "#7201a8"
             ],
             [
              0.3333333333333333,
              "#9c179e"
             ],
             [
              0.4444444444444444,
              "#bd3786"
             ],
             [
              0.5555555555555556,
              "#d8576b"
             ],
             [
              0.6666666666666666,
              "#ed7953"
             ],
             [
              0.7777777777777778,
              "#fb9f3a"
             ],
             [
              0.8888888888888888,
              "#fdca26"
             ],
             [
              1,
              "#f0f921"
             ]
            ],
            "type": "surface"
           }
          ],
          "table": [
           {
            "cells": {
             "fill": {
              "color": "#EBF0F8"
             },
             "line": {
              "color": "white"
             }
            },
            "header": {
             "fill": {
              "color": "#C8D4E3"
             },
             "line": {
              "color": "white"
             }
            },
            "type": "table"
           }
          ]
         },
         "layout": {
          "annotationdefaults": {
           "arrowcolor": "#2a3f5f",
           "arrowhead": 0,
           "arrowwidth": 1
          },
          "autotypenumbers": "strict",
          "coloraxis": {
           "colorbar": {
            "outlinewidth": 0,
            "ticks": ""
           }
          },
          "colorscale": {
           "diverging": [
            [
             0,
             "#8e0152"
            ],
            [
             0.1,
             "#c51b7d"
            ],
            [
             0.2,
             "#de77ae"
            ],
            [
             0.3,
             "#f1b6da"
            ],
            [
             0.4,
             "#fde0ef"
            ],
            [
             0.5,
             "#f7f7f7"
            ],
            [
             0.6,
             "#e6f5d0"
            ],
            [
             0.7,
             "#b8e186"
            ],
            [
             0.8,
             "#7fbc41"
            ],
            [
             0.9,
             "#4d9221"
            ],
            [
             1,
             "#276419"
            ]
           ],
           "sequential": [
            [
             0,
             "#0d0887"
            ],
            [
             0.1111111111111111,
             "#46039f"
            ],
            [
             0.2222222222222222,
             "#7201a8"
            ],
            [
             0.3333333333333333,
             "#9c179e"
            ],
            [
             0.4444444444444444,
             "#bd3786"
            ],
            [
             0.5555555555555556,
             "#d8576b"
            ],
            [
             0.6666666666666666,
             "#ed7953"
            ],
            [
             0.7777777777777778,
             "#fb9f3a"
            ],
            [
             0.8888888888888888,
             "#fdca26"
            ],
            [
             1,
             "#f0f921"
            ]
           ],
           "sequentialminus": [
            [
             0,
             "#0d0887"
            ],
            [
             0.1111111111111111,
             "#46039f"
            ],
            [
             0.2222222222222222,
             "#7201a8"
            ],
            [
             0.3333333333333333,
             "#9c179e"
            ],
            [
             0.4444444444444444,
             "#bd3786"
            ],
            [
             0.5555555555555556,
             "#d8576b"
            ],
            [
             0.6666666666666666,
             "#ed7953"
            ],
            [
             0.7777777777777778,
             "#fb9f3a"
            ],
            [
             0.8888888888888888,
             "#fdca26"
            ],
            [
             1,
             "#f0f921"
            ]
           ]
          },
          "colorway": [
           "#636efa",
           "#EF553B",
           "#00cc96",
           "#ab63fa",
           "#FFA15A",
           "#19d3f3",
           "#FF6692",
           "#B6E880",
           "#FF97FF",
           "#FECB52"
          ],
          "font": {
           "color": "#2a3f5f"
          },
          "geo": {
           "bgcolor": "white",
           "lakecolor": "white",
           "landcolor": "#E5ECF6",
           "showlakes": true,
           "showland": true,
           "subunitcolor": "white"
          },
          "hoverlabel": {
           "align": "left"
          },
          "hovermode": "closest",
          "mapbox": {
           "style": "light"
          },
          "paper_bgcolor": "white",
          "plot_bgcolor": "#E5ECF6",
          "polar": {
           "angularaxis": {
            "gridcolor": "white",
            "linecolor": "white",
            "ticks": ""
           },
           "bgcolor": "#E5ECF6",
           "radialaxis": {
            "gridcolor": "white",
            "linecolor": "white",
            "ticks": ""
           }
          },
          "scene": {
           "xaxis": {
            "backgroundcolor": "#E5ECF6",
            "gridcolor": "white",
            "gridwidth": 2,
            "linecolor": "white",
            "showbackground": true,
            "ticks": "",
            "zerolinecolor": "white"
           },
           "yaxis": {
            "backgroundcolor": "#E5ECF6",
            "gridcolor": "white",
            "gridwidth": 2,
            "linecolor": "white",
            "showbackground": true,
            "ticks": "",
            "zerolinecolor": "white"
           },
           "zaxis": {
            "backgroundcolor": "#E5ECF6",
            "gridcolor": "white",
            "gridwidth": 2,
            "linecolor": "white",
            "showbackground": true,
            "ticks": "",
            "zerolinecolor": "white"
           }
          },
          "shapedefaults": {
           "line": {
            "color": "#2a3f5f"
           }
          },
          "ternary": {
           "aaxis": {
            "gridcolor": "white",
            "linecolor": "white",
            "ticks": ""
           },
           "baxis": {
            "gridcolor": "white",
            "linecolor": "white",
            "ticks": ""
           },
           "bgcolor": "#E5ECF6",
           "caxis": {
            "gridcolor": "white",
            "linecolor": "white",
            "ticks": ""
           }
          },
          "title": {
           "x": 0.05
          },
          "xaxis": {
           "automargin": true,
           "gridcolor": "white",
           "linecolor": "white",
           "ticks": "",
           "title": {
            "standoff": 15
           },
           "zerolinecolor": "white",
           "zerolinewidth": 2
          },
          "yaxis": {
           "automargin": true,
           "gridcolor": "white",
           "linecolor": "white",
           "ticks": "",
           "title": {
            "standoff": 15
           },
           "zerolinecolor": "white",
           "zerolinewidth": 2
          }
         }
        },
        "xaxis": {
         "anchor": "y",
         "domain": [
          0,
          1
         ],
         "title": {
          "text": "Country"
         }
        },
        "yaxis": {
         "anchor": "x",
         "domain": [
          0,
          1
         ],
         "title": {
          "text": "Confirmed"
         }
        }
       }
      }
     },
     "metadata": {}
    }
   ],
   "metadata": {}
  },
  {
   "cell_type": "code",
   "execution_count": 12,
   "source": [
    "covid_df[['Confirmed', 'Country']].sort_values(by='Confirmed')[:25].plot.bar(x='Country', y='Confirmed')"
   ],
   "outputs": [
    {
     "output_type": "execute_result",
     "data": {
      "text/plain": [
       "<AxesSubplot:xlabel='Country'>"
      ]
     },
     "metadata": {},
     "execution_count": 12
    },
    {
     "output_type": "display_data",
     "data": {
      "image/png": "[encoded data removed]",
      "text/plain": [
       "<Figure size 432x288 with 1 Axes>"
      ]
     },
     "metadata": {
      "needs_background": "light"
     }
    }
   ],
   "metadata": {}
  },
  {
   "cell_type": "code",
   "execution_count": null,
   "source": [],
   "outputs": [],
   "metadata": {}
  }
 ]
}